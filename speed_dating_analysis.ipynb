{
 "cells": [
  {
   "cell_type": "markdown",
   "id": "ef92627b",
   "metadata": {},
   "source": [
    "# Beauty and the Beholder: Exploring the Impact of Attractiveness Perception on Second Date Success\n",
    "\n",
    "This project is a Python analysis of this speed dating dataset: https://data.world/annavmontoya/speed-dating-experiment. An explanation of all the column meanings and the background of the experiment can be found in the speed dating data key document.\n",
    "\n",
    "- This data comes from a speed dating experiment in which many different people participated in dates.\n",
    "- The study concerned five main attributes: **attractiveness, sincerity, intelligence, fun and ambition**.\n",
    "- Each row in the table concerned a particular date. The column **iid** represents a particular individual. The column **pid** represents the iid of the other individual on the date (e.g. iid's partner).\n",
    "- Each participant would rate themselves on these five attributes (scale 1 - 10, represented by columns **attr3_1**, **sinc3_1**, **intel3_1**, **fun3_1** and **amb3_1**) before dating begins. (For a particular row/date these are the self-ratings as stated by **iid**).\n",
    "- Each participant allocates 100 points across these five attributes in what they look for in a date i.e. which attributes are most important. These are represented by **pf_o_att**, **pf_o_sin**, **pf_o_int**, **pf_o_fun** and **pf_o_amb**. (For a particular row/date these are the preferences as stated by individual **pid**, **not iid**).\n",
    "- After each date, each participant would rate their partner on a scale of 1 - 10 for these five attributes (represented by columns **attr_o**, **sinc_o**, **intel_o**, **fun_o** and **amb_o**).\n",
    "- Each row contains the **gender** of the person (**iid**) where 1 is male and 0 is female.\n",
    "- For each row, we have many values but for this study the most relevant are the columns representing the five attributes that an individual rated themselves on, the values that their date (**pid**) rated an individual (**iid**) on a particular date across these five attributes and the initial preference allocation.\n",
    "- We have a **dec_o** column representing the decision of the partner (**pid**). If the value is 1, they agreed for a second date. If the value is 0 they did not.\n",
    "\n",
    "This study explores:\n",
    "- The average allocation of preference initially by gender (pf_o_att, pf_o_sinc etc.).\n",
    "- The actual most important preference/feature through a random forest analysis of ratings received (attr_o, sinc_o etc.) and second date success (dec_o).\n",
    "- The influence of average attractiveness rating received (attr_o) on second date success (dec_o).\n",
    "- How each level (2, 3, 4, ..., 10) of self rating of attractiveness effects second date success i.e. does an individual's confidence in their attractiveness alone increase second date potential.\n",
    "- The impact of self-perceived attractiveness (comparing the difference between an indivdual's self rating of attractiveness with their average attractiveness rating received on their dates and how this drives second date potential)."
   ]
  },
  {
   "cell_type": "code",
   "execution_count": 237,
   "id": "f429de0b",
   "metadata": {},
   "outputs": [],
   "source": [
    "import pandas as pd\n",
    "import sqlite3\n",
    "import time\n",
    "from sklearn.impute import KNNImputer\n",
    "import os\n",
    "import plotly.graph_objects as go\n",
    "import numpy as np\n",
    "from sklearn.ensemble import RandomForestRegressor\n",
    "from sklearn.model_selection import train_test_split\n",
    "from sklearn.metrics import mean_squared_error, accuracy_score"
   ]
  },
  {
   "cell_type": "markdown",
   "id": "bd3262c3",
   "metadata": {},
   "source": [
    "## .CSV to .DB\n",
    "\n",
    "The below code imports the relevant columns from the .csv file to the .db file.\n",
    "\n",
    "The relevant columns are:\n",
    "- **iid**: the id of an individual\n",
    "- **gender**: the gender of the iid\n",
    "- **pid**: the id of an individual's date\n",
    "- **match**: whether both individuals agreed on a second date (1 = yes, 0 = no)\n",
    "- **dec_o**: the decision of the partner (pid) whether or not to go on a second date with the individual (iid) (1 = yes, 0 = no)\n",
    "- **\\_o** attributes: the ratings an individual received from their partner on five attributs\n",
    "- **3_1** attributes: the ratings an individual gave themselves\n",
    "- **pf_o** attributes: the allocation of 100 points across the five attributes in what they look for an ideal date partner (given by pid)"
   ]
  },
  {
   "cell_type": "code",
   "execution_count": 238,
   "id": "0df7e2f9",
   "metadata": {},
   "outputs": [],
   "source": [
    "# Converts the .csv to .db\n",
    "# pf_o columns will be mapped so their names are consistent with 3_1 and _o\n",
    "\n",
    "# Parameters:\n",
    "#   - csv_file (str): the name of the .csv\n",
    "#   - encoding_type (str_): the encoding of the csv\n",
    "#   - database_path (str): the path of the .db\n",
    "#   - csv_columns (list): the columns to include from the original database\n",
    "\n",
    "def create_db(csv_file : str, encoding_type : str,\n",
    "              database_path : str, csv_columns : list):\n",
    "    \n",
    "    # Connect to database\n",
    "    conn = sqlite3.connect(database_path)\n",
    "    # Create cursor object\n",
    "    cursor = conn.cursor()\n",
    "\n",
    "    # Read the CSV as a dataframe\n",
    "    df = pd.read_csv(csv_file, encoding=encoding_type)\n",
    "\n",
    "    # Filter the dataframe to only include the selected columns\n",
    "    # Use .copy() to create a copy of the DataFrame\n",
    "    df_selected = df[csv_columns].copy()\n",
    "    \n",
    "    # Mapping between original and desired column names\n",
    "    column_mapping = {\n",
    "        'pf_o_att': 'pf_o_attr',\n",
    "        'pf_o_sin': 'pf_o_sinc',\n",
    "        'pf_o_int': 'pf_o_intel'\n",
    "    }\n",
    "    \n",
    "    # Rename columns using the mapping \n",
    "    df_selected.rename(columns=column_mapping, inplace=True)\n",
    "    \n",
    "    # Use Pandas to_sql to insert the DataFrame into the SQLite table\n",
    "    df_selected.to_sql('speed_dating', conn, \n",
    "                       index=False, if_exists='replace')\n",
    "\n",
    "    # Create indexes\n",
    "    cursor.execute('CREATE INDEX idx_iid ON speed_dating(iid);')\n",
    "    cursor.execute('CREATE INDEX idx_pid ON speed_dating(pid);')\n",
    "\n",
    "    # Commit changes to the database\n",
    "    conn.commit()\n",
    "\n",
    "    # Close the database\n",
    "    conn.close()"
   ]
  },
  {
   "cell_type": "code",
   "execution_count": 239,
   "id": "22190bc7",
   "metadata": {},
   "outputs": [
    {
     "name": "stdout",
     "output_type": "stream",
     "text": [
      ".csv to .db conversion complete. It took 0.2523 seconds.\n"
     ]
    }
   ],
   "source": [
    "# Running database creation with timing\n",
    "start_time = time.time()\n",
    "\n",
    "csv_file = 'speed_dating.csv'\n",
    "encoding_type = 'latin'\n",
    "database_path = 'speed_dating.db'\n",
    "csv_columns = ['iid', 'gender', 'pid', 'match', 'dec_o',\n",
    "               'attr_o','sinc_o', 'intel_o', 'fun_o', 'amb_o',\n",
    "               'attr3_1', 'sinc3_1', 'fun3_1', 'intel3_1', 'amb3_1',\n",
    "               'pf_o_att', 'pf_o_sin', 'pf_o_int', 'pf_o_fun', 'pf_o_amb']\n",
    "\n",
    "create_db(csv_file, encoding_type, database_path, csv_columns)\n",
    "\n",
    "end_time = round(time.time() - start_time, 4)\n",
    "\n",
    "print(f'.csv to .db conversion complete. It took {end_time} seconds.')"
   ]
  },
  {
   "cell_type": "markdown",
   "id": "78edbe3e",
   "metadata": {},
   "source": [
    "## Data Pre-Processing\n",
    "\n",
    "This involves several steps.\n",
    "1) Deleting rows with several NULL values\n",
    "\n",
    "2) Deleting missing (iid, pid), (pid, iid) pairs\n",
    "\n",
    "3) Performing data imputation on missing values"
   ]
  },
  {
   "cell_type": "markdown",
   "id": "aced0efe",
   "metadata": {},
   "source": [
    "### Deleting Rows with Several NULL Values\n",
    "\n",
    "For this analysis we will be comparing the importance on each of the aforementioned set of attributes on second date success. This means we need all attributes per individual, per date. Data imputation can fill in NULL values if there are only one or two attributes missing per set (the \\_o set, the 3_1 set or the pf_o set). However, if several values are missing per set data imputation can be unreliable. \n",
    "\n",
    "For this dataset, I have chosen three or more missing values as being too unreliable. This is so analysis is focused on more quality data. Additionally, there are many rows with one missing attribute, some with two and the rest have all five missing attributes so three felt like an appropriate number.\n",
    "\n",
    "INCLUDE TESTS HERE.\n",
    "\n",
    "The argument for amount of NULL values can be changed when you call the function argument in case you would like to include more data or alternatively more attributes are included in the analysis."
   ]
  },
  {
   "cell_type": "code",
   "execution_count": 240,
   "id": "ffee7dcb",
   "metadata": {},
   "outputs": [],
   "source": [
    "# Deletes rows with a specified number of NULL values based on a threshold.\n",
    "\n",
    "# Parameters:\n",
    "#   - database_path (str): the path to the SQLite database.\n",
    "#   - columns_o (list): list of attributes ending in _o (ratings received).\n",
    "#   - columns_3_1 (list): list of attributes ending in 3_1 (self ratings given).\n",
    "#   - columns_pf_o (list): list of attributes in the form\n",
    "#                          pf_o_{attribute} (attribute preferences).\n",
    "#   - null_no (int): the threshold number of NULL values for row deletion.\n",
    "\n",
    "def delete_null_values(database_path : str, columns_o : list,\n",
    "                       columns_3_1 : list, columns_pf_o : list, null_no : int):\n",
    "    # Connect to database\n",
    "    conn = sqlite3.connect(database_path)\n",
    "\n",
    "    # Create a cursor object\n",
    "    cursor = conn.cursor()\n",
    "    \n",
    "    # Construct the conditions for NULL values in o_columns\n",
    "    conditions_o = [f\"({column} IS NULL)\" for column in columns_o]\n",
    "\n",
    "    # Construct the conditions for NULL values in 3_1 columns\n",
    "    conditions_3_1 = [f\"({column} IS NULL)\" for column in columns_3_1]\n",
    "    \n",
    "    # Construct the conditions for NULL values in pf_o columns\n",
    "    conditions_pf_o = [f\"({column} IS NULL)\" for column in columns_pf_o]\n",
    "        \n",
    "    # Combine the conditions using AND\n",
    "    # If there are NULL values these will evaluate to 1\n",
    "    # These will add up to 3 or more if there are 3 or \n",
    "    # NULL values in a particular column\n",
    "    condition_query_o = f\"({' + '.join(conditions_o)}) >= {null_no}\"\n",
    "    condition_query_3_1 = f\"({' + '.join(conditions_3_1)}) >= {null_no}\"\n",
    "    condition_query_pf_o = f\"({' + '.join(conditions_pf_o)}) >= {null_no}\"\n",
    "\n",
    "    # Construct the delete query\n",
    "    delete_query = (\n",
    "        f\"DELETE FROM speed_dating \"\n",
    "        f\"WHERE ({condition_query_o}) OR \"\n",
    "        f\"({condition_query_3_1}) OR \"\n",
    "        f\"({condition_query_pf_o})\"\n",
    "    )\n",
    "    \n",
    "    # Execute the query to find rows to be deleted\n",
    "    cursor.execute(delete_query)\n",
    "\n",
    "    # Get the count of deleted rows\n",
    "    deleted_rows = cursor.rowcount\n",
    "\n",
    "    # Commit the changes\n",
    "    conn.commit()\n",
    "\n",
    "    # Close the connection\n",
    "    conn.close()\n",
    "\n",
    "    # Print the number of rows deleted\n",
    "    print(f\"Deleted {deleted_rows} rows with three or more NULL values.\")"
   ]
  },
  {
   "cell_type": "markdown",
   "id": "a60a3a2a",
   "metadata": {},
   "source": [
    "### Deleting Missing Pairs\n",
    "\n",
    "For each date we have an iid and a pid. For each date there are two rows. One is from the perspective of iid (so iid = iid and pid = pid) and the other is from the perspective of pid (so iid = pid and pid = iid). So on the first row (perspective of iid) we see how pid rated iid on these five attributes. On the second row (perspective of pid) we see how iid rated pid on these five attributes. To ensure information is relevant, accurate and complete we must have both perspectives on a particular date."
   ]
  },
  {
   "cell_type": "code",
   "execution_count": 241,
   "id": "c1c1160f",
   "metadata": {},
   "outputs": [],
   "source": [
    "# Deletes missing (iid, pid) pairs\n",
    "\n",
    "# Parameters:\n",
    "#   - database_path (str): the path to your .db\n",
    "\n",
    "def delete_missing_pairs(database_path : str):\n",
    "    # Connect to the database\n",
    "    conn = sqlite3.connect(database_path)\n",
    "    # Create a cursor object\n",
    "    cursor = conn.cursor()\n",
    "    \n",
    "    # Construct the delete query where there is corresponding\n",
    "    # pid to iid and vice-versa\n",
    "    delete_query = '''\n",
    "    DELETE FROM speed_dating\n",
    "    WHERE NOT EXISTS (\n",
    "        SELECT 1\n",
    "        FROM speed_dating AS s2\n",
    "        WHERE speed_dating.iid = s2.pid AND speed_dating.pid = s2.iid)\n",
    "    '''\n",
    "    \n",
    "    # Execute the delete query\n",
    "    cursor.execute(delete_query)\n",
    "    \n",
    "    # Get the count of deleted rows with missing pairs\n",
    "    deleted_missing_pairs = cursor.rowcount\n",
    "    \n",
    "    # Commit the changes\n",
    "    conn.commit()\n",
    "    \n",
    "    # Close the connection\n",
    "    conn.close()\n",
    "    \n",
    "    # Print the number of rows with missing pairs deleted\n",
    "    print(f\"Deleted {deleted_missing_pairs} rows with missing pairs.\")"
   ]
  },
  {
   "cell_type": "markdown",
   "id": "f449adef",
   "metadata": {},
   "source": [
    "### Data Imputation\n",
    "\n",
    "We now still have rows with one or two missing NULL values for a particular attribute set. For this we will use KNN imputation. Averaging across other attributes would not be appropriate as just because someone is rated highly in attractiveness does not necessarily mean they would be rated highly in intelligence.\n",
    "\n",
    "INCLUDE CROSS-VALIDATION HERE"
   ]
  },
  {
   "cell_type": "code",
   "execution_count": 242,
   "id": "1b7b1a7f",
   "metadata": {},
   "outputs": [],
   "source": [
    "# CROSS-VALIDATE\n",
    "# TAKE NUMBER OF NEIGHBOURS AS INPUT\n",
    "\n",
    "# Performs KNN imputation on missing values\n",
    "\n",
    "# Parameters:\n",
    "#   - database_path (str): the path to your database\n",
    "#   - columns_to_impute (list): the set of columns to perform data imputation on\n",
    "\n",
    "def data_imputation(database_path : str, columns_to_impute : list):\n",
    "    # Connect to database\n",
    "    conn = sqlite3.connect(database_path)\n",
    "    \n",
    "    # Import data into dataframe\n",
    "    df = pd.read_sql_query('SELECT * FROM speed_dating', conn)\n",
    "    \n",
    "    # Close connection\n",
    "    conn.close()\n",
    "    \n",
    "    # Perform KNN imputation\n",
    "    knn_imputer = KNNImputer()\n",
    "    df_imputed = pd.DataFrame(knn_imputer.fit_transform(df[columns_to_impute]), \n",
    "                             columns = columns_to_impute)\n",
    "    \n",
    "    # Update the original DataFrame with the imputed values\n",
    "    df[columns_to_impute] = df_imputed\n",
    "    \n",
    "    # Save the updated data back to the database\n",
    "    conn = sqlite3.connect(database_path)\n",
    "    df.to_sql('speed_dating', conn,\n",
    "              if_exists = 'replace', index = False)\n",
    "    print('Remaining NULL values have had data imputation performed on them.')\n",
    "    conn.close()"
   ]
  },
  {
   "cell_type": "code",
   "execution_count": 243,
   "id": "45a62020",
   "metadata": {},
   "outputs": [
    {
     "name": "stdout",
     "output_type": "stream",
     "text": [
      "Deleted 421 rows with three or more NULL values.\n",
      "Deleted 131 rows with missing pairs.\n",
      "Remaining NULL values have had data imputation performed on them.\n",
      "Data pre-processing complete. It took 0.5324 seconds.\n"
     ]
    }
   ],
   "source": [
    "# Running all the data preprocessing functions with timing.\n",
    "start_time = time.time()\n",
    "\n",
    "# Define the base names\n",
    "# Add more if needed\n",
    "columns_base = ['attr', 'sinc', 'intel', 'fun', 'amb']\n",
    "\n",
    "# Define the full names for plots\n",
    "# Add more if needed\n",
    "columns_full = ['Attractive', 'Sincere', 'Intelligent', 'Fun', 'Ambitious']\n",
    "\n",
    "# Define the _o columns\n",
    "columns_o = [attribute + '_o' for attribute in columns_base]\n",
    "\n",
    "# Define the 3_1 columns\n",
    "columns_3_1 = [attribute + '3_1' for attribute in columns_base]\n",
    "    \n",
    "# Define the pf columns\n",
    "columns_pf_o = [f'pf_o_{attribute}' for attribute in columns_base]\n",
    "\n",
    "# Define the threshold for null value row deletion\n",
    "null_no = 3\n",
    "\n",
    "delete_null_values(database_path, columns_o, columns_3_1, columns_pf_o, null_no)\n",
    "delete_missing_pairs(database_path)\n",
    "\n",
    "# Currently only _o has missing values. Repeat call for further column sets\n",
    "# if necessary\n",
    "data_imputation(database_path, columns_o)\n",
    "\n",
    "end_time = round(time.time() - start_time, 4)\n",
    "\n",
    "print(f'Data pre-processing complete. It took {end_time} seconds.')"
   ]
  },
  {
   "cell_type": "markdown",
   "id": "4b17fedc",
   "metadata": {},
   "source": [
    "## Table Creation\n",
    "\n",
    "The below functions create the various tables needed for analysis. These also defined foreign keys and primary keys (i.e. the relation between tables).\n",
    "\n",
    "For a full description of these tables, their schema, what the columns represent, justification of datatypes and how they link together please see the database schema .pdf.\n"
   ]
  },
  {
   "cell_type": "code",
   "execution_count": 244,
   "id": "fcc6aab6",
   "metadata": {},
   "outputs": [],
   "source": [
    "# Creates the participants table\n",
    "\n",
    "# Parameters:\n",
    "#   - database_path (str): the path to your database\n",
    "#   - columns_3_1 (list): list of attributes ending in 3_1 (self ratings given)\n",
    "#   - columns_pf_o (list): list of attributes in the form\n",
    "#                          pf_o_{attribute} (attribute preferences)\n",
    "\n",
    "def create_participants_table(database_path, columns_3_1, columns_pf_o):\n",
    "    # Connect to the database\n",
    "    conn = sqlite3.connect(database_path)\n",
    "    \n",
    "    # Creator cursor object\n",
    "    cursor = conn.cursor()\n",
    "    \n",
    "    # Drop the participants table if it exists\n",
    "    cursor.execute(\"DROP TABLE IF EXISTS participants\")\n",
    "    \n",
    "    # Create the participants table\n",
    "    participants_table_query = f'''\n",
    "       CREATE TABLE participants(\n",
    "           iid SMALLINT UNSIGNED PRIMARY KEY,\n",
    "           gender TINYINT,\n",
    "           {', '.join(f'{attr} TINYINT UNSIGNED' for attr in columns_3_1)},\n",
    "           {', '.join(f'{attr} TINYINT UNSIGNED' for attr in columns_pf_o)}\n",
    "           )\n",
    "       '''\n",
    "    \n",
    "    # Execute query\n",
    "    cursor.execute(participants_table_query)\n",
    "    \n",
    "    # Create indexes on iid column in the participants table\n",
    "    cursor.execute('CREATE INDEX idx_participants_iid ON participants (iid)')\n",
    "    \n",
    "    # Insert data into participants table\n",
    "    participants_insert_query = f'''\n",
    "        INSERT INTO participants(iid, gender, {', '.join(columns_3_1)})\n",
    "        SELECT DISTINCT iid, gender, {', '.join(columns_3_1)}\n",
    "        FROM speed_dating;\n",
    "    '''\n",
    "        \n",
    "    # Execute query\n",
    "    cursor.execute(participants_insert_query)\n",
    "        \n",
    "    # Update data in participants table\n",
    "    participants_update_query = f'''\n",
    "        UPDATE participants\n",
    "        SET {', '.join(f'{attr} = s.{attr}' for attr in columns_pf_o)}\n",
    "        FROM\n",
    "            speed_dating AS s\n",
    "        WHERE\n",
    "            participants.iid = s.pid;\n",
    "    '''\n",
    "\n",
    "    # Execute query\n",
    "    cursor.execute(participants_update_query)\n",
    "    \n",
    "    # Commit changes\n",
    "    conn.commit()\n",
    "    \n",
    "    # Close the connection\n",
    "    conn.close()"
   ]
  },
  {
   "cell_type": "code",
   "execution_count": 245,
   "id": "9c86e769",
   "metadata": {},
   "outputs": [],
   "source": [
    "# Creates the dates table\n",
    "\n",
    "# Parameters:\n",
    "#   - database_path (str): the path to your database\n",
    "#   - columns_o (list): list of attributes ending in _o (ratings given)\n",
    "\n",
    "def create_dates_table(database_path, columns_o):\n",
    "    # Connect to the database\n",
    "    conn = sqlite3.connect(database_path)\n",
    "    \n",
    "    # Create cursor object\n",
    "    cursor = conn.cursor()\n",
    "    \n",
    "    # Drop the dates table if it exists\n",
    "    cursor.execute(\"DROP TABLE IF EXISTS dates\")\n",
    "    \n",
    "    # Create the dates table\n",
    "    dates_table_query = f'''\n",
    "        CREATE TABLE dates(\n",
    "            date_id INTEGER PRIMARY KEY AUTOINCREMENT,\n",
    "            iid SMALLINT UNSIGNED,\n",
    "            pid SMALLINT UNSIGNED,\n",
    "            match TINYINT,\n",
    "            dec_o TINYINT,\n",
    "            {', '.join(f'{attr} TINYINT UNSIGNED' for attr in columns_o)},\n",
    "            FOREIGN KEY (iid) REFERENCES participants (iid),\n",
    "            FOREIGN KEY (pid) REFERENCES participants (pid)\n",
    "            )\n",
    "    '''\n",
    "    \n",
    "    # Execute query\n",
    "    cursor.execute(dates_table_query)\n",
    "    \n",
    "    # Create indexes on date_id column in dates table\n",
    "    cursor.execute(\"CREATE INDEX idx_dates_date_id ON dates (date_id)\")\n",
    "    \n",
    "    # Insert data into dates table\n",
    "    dates_insert_query = f'''\n",
    "        INSERT INTO dates (iid, pid, match, dec_o, {', '.join(columns_o)})\n",
    "        SELECT iid, pid, match, dec_o, {', '.join(columns_o)}\n",
    "        FROM speed_dating\n",
    "    '''\n",
    "    \n",
    "    # Execute query\n",
    "    cursor.execute(dates_insert_query)\n",
    "    \n",
    "    # Commit changes\n",
    "    conn.commit()\n",
    "    \n",
    "    # Close connection\n",
    "    conn.close()"
   ]
  },
  {
   "cell_type": "code",
   "execution_count": 246,
   "id": "de1f89fa",
   "metadata": {},
   "outputs": [
    {
     "name": "stdout",
     "output_type": "stream",
     "text": [
      "Table creation complete. It took 0.1529 seconds.\n"
     ]
    }
   ],
   "source": [
    "# Running all the data preprocessing functions with timing.\n",
    "start_time = time.time()\n",
    "\n",
    "create_participants_table(database_path, columns_3_1, columns_pf_o)\n",
    "create_dates_table(database_path, columns_o)\n",
    "\n",
    "end_time = round(time.time() - start_time, 4)\n",
    "\n",
    "print(f'Table creation complete. It took {end_time} seconds.')"
   ]
  },
  {
   "cell_type": "markdown",
   "id": "3f02f86e",
   "metadata": {},
   "source": [
    "## Unveiling the Mismatch: Initial Preferences versus Real-World Dynamics\n",
    "\n",
    "In this section we first examine and plot the average allocation of preference across the five attributes, sorted by gender.\n",
    "We then train a Random Forest model, based on ratings received on dates and their influence on second date success.\n",
    "\n",
    "The overall goal of this section is to compare how people initially placed their preference compared to which attributes actually drove second-date success.\n",
    "Additionally, it will examine which attribute is the most important in driving second date potential."
   ]
  },
  {
   "cell_type": "markdown",
   "id": "429d2d83",
   "metadata": {},
   "source": [
    "### Initial Preference Allocation\n",
    "\n",
    "As mentioned earlier, before dating began each participant would allocate 100 points across the five attributes representing what they look for in an ideal partner.\n",
    "\n",
    "The below code retrieves the average allocation for each attribute separated by gender and plots the results."
   ]
  },
  {
   "cell_type": "code",
   "execution_count": 247,
   "id": "04de5017",
   "metadata": {},
   "outputs": [],
   "source": [
    "# Fetches the average allocation of each attribute by gender\n",
    "\n",
    "# Parameters:\n",
    "#   - database_path (str): the path to your database\n",
    "#   - columns_pf_o (list): list of attributes in the form\n",
    "#                          pf_o_{attribute} (attribute preferences)\n",
    "#   - gender_labels (list): the genders to be included \n",
    "\n",
    "def fetch_pref_data(database_path, columns_pf_o, gender_labels):\n",
    "    # Connect to the database\n",
    "    conn = sqlite3.connect(database_path)\n",
    "\n",
    "    # Creator cursor object\n",
    "    cursor = conn.cursor()\n",
    "    \n",
    "    # Generate the SELECT statement dynamically\n",
    "    pref_columns = ', '.join([f'AVG({column})' for column in columns_pf_o])\n",
    "    pref_query = f'''\n",
    "        SELECT gender, {pref_columns}\n",
    "        FROM participants\n",
    "        GROUP BY gender\n",
    "        ORDER BY gender\n",
    "    '''\n",
    "    \n",
    "    # Execute query to retrieve the average allocation for each attribute\n",
    "    # by gender\n",
    "    cursor.execute(pref_query)\n",
    "    \n",
    "    rows = cursor.fetchall()\n",
    "\n",
    "    # Commit changes\n",
    "    conn.commit()\n",
    "    \n",
    "    # Close the connection\n",
    "    conn.close()\n",
    "    \n",
    "    pref_data = {}\n",
    "\n",
    "    for i, row in enumerate(rows):\n",
    "        gender = gender_labels[i]\n",
    "        average_pref = row[1:]  # Exclude the first element (gender) from the row\n",
    "        pref_data[gender] = average_pref\n",
    "\n",
    "    return(pref_data)"
   ]
  },
  {
   "cell_type": "code",
   "execution_count": 248,
   "id": "3c96eb8b",
   "metadata": {},
   "outputs": [],
   "source": [
    "# Creates the traces for the plotly bar chart\n",
    "\n",
    "# Parameters:\n",
    "#   - data (dict): the data to be used containing x and y data\n",
    "#                  for each gender\n",
    "#   - x_axis (list): the values to use for x-axis labels\n",
    "#   - colors (list): the colors to use for the male and female bar chart\n",
    "\n",
    "def create_bar_traces(data, x_axis, colors):\n",
    "    \n",
    "    # Create traces for each gender\n",
    "    traces = []\n",
    "    \n",
    "    # Set counter for colors list\n",
    "    i = 0\n",
    "    \n",
    "    for gender, y_data in data.items():\n",
    "        trace = go.Bar(\n",
    "            # The x-axis labels to be used\n",
    "            x=x_axis,\n",
    "            # The y data to be used\n",
    "            y=y_data,\n",
    "            name=gender,\n",
    "            marker_color=colors[i]\n",
    "        )\n",
    "        traces.append(trace)\n",
    "        i = i + 1\n",
    "\n",
    "    return traces"
   ]
  },
  {
   "cell_type": "code",
   "execution_count": 249,
   "id": "5affc848",
   "metadata": {
    "scrolled": true
   },
   "outputs": [
    {
     "data": {
      "application/vnd.plotly.v1+json": {
       "config": {
        "plotlyServerURL": "https://plot.ly"
       },
       "data": [
        {
         "marker": {
          "color": "#ff6361"
         },
         "name": "Female",
         "type": "bar",
         "x": [
          "Attractive",
          "Sincere",
          "Intelligent",
          "Fun",
          "Ambitious"
         ],
         "y": [
          18.031641791044777,
          18.215597014925372,
          20.93731343283582,
          17.28902985074627,
          12.847649253731342
         ]
        },
        {
         "marker": {
          "color": "#003f5c"
         },
         "name": "Male",
         "type": "bar",
         "x": [
          "Attractive",
          "Sincere",
          "Intelligent",
          "Fun",
          "Ambitious"
         ],
         "y": [
          27.027179487179495,
          16.422673992673996,
          19.45252747252747,
          17.653051470588238,
          8.811586715867158
         ]
        }
       ],
       "layout": {
        "barmode": "group",
        "paper_bgcolor": "#dadfe1",
        "plot_bgcolor": "#dadfe1",
        "template": {
         "data": {
          "bar": [
           {
            "error_x": {
             "color": "#2a3f5f"
            },
            "error_y": {
             "color": "#2a3f5f"
            },
            "marker": {
             "line": {
              "color": "#E5ECF6",
              "width": 0.5
             },
             "pattern": {
              "fillmode": "overlay",
              "size": 10,
              "solidity": 0.2
             }
            },
            "type": "bar"
           }
          ],
          "barpolar": [
           {
            "marker": {
             "line": {
              "color": "#E5ECF6",
              "width": 0.5
             },
             "pattern": {
              "fillmode": "overlay",
              "size": 10,
              "solidity": 0.2
             }
            },
            "type": "barpolar"
           }
          ],
          "carpet": [
           {
            "aaxis": {
             "endlinecolor": "#2a3f5f",
             "gridcolor": "white",
             "linecolor": "white",
             "minorgridcolor": "white",
             "startlinecolor": "#2a3f5f"
            },
            "baxis": {
             "endlinecolor": "#2a3f5f",
             "gridcolor": "white",
             "linecolor": "white",
             "minorgridcolor": "white",
             "startlinecolor": "#2a3f5f"
            },
            "type": "carpet"
           }
          ],
          "choropleth": [
           {
            "colorbar": {
             "outlinewidth": 0,
             "ticks": ""
            },
            "type": "choropleth"
           }
          ],
          "contour": [
           {
            "colorbar": {
             "outlinewidth": 0,
             "ticks": ""
            },
            "colorscale": [
             [
              0,
              "#0d0887"
             ],
             [
              0.1111111111111111,
              "#46039f"
             ],
             [
              0.2222222222222222,
              "#7201a8"
             ],
             [
              0.3333333333333333,
              "#9c179e"
             ],
             [
              0.4444444444444444,
              "#bd3786"
             ],
             [
              0.5555555555555556,
              "#d8576b"
             ],
             [
              0.6666666666666666,
              "#ed7953"
             ],
             [
              0.7777777777777778,
              "#fb9f3a"
             ],
             [
              0.8888888888888888,
              "#fdca26"
             ],
             [
              1,
              "#f0f921"
             ]
            ],
            "type": "contour"
           }
          ],
          "contourcarpet": [
           {
            "colorbar": {
             "outlinewidth": 0,
             "ticks": ""
            },
            "type": "contourcarpet"
           }
          ],
          "heatmap": [
           {
            "colorbar": {
             "outlinewidth": 0,
             "ticks": ""
            },
            "colorscale": [
             [
              0,
              "#0d0887"
             ],
             [
              0.1111111111111111,
              "#46039f"
             ],
             [
              0.2222222222222222,
              "#7201a8"
             ],
             [
              0.3333333333333333,
              "#9c179e"
             ],
             [
              0.4444444444444444,
              "#bd3786"
             ],
             [
              0.5555555555555556,
              "#d8576b"
             ],
             [
              0.6666666666666666,
              "#ed7953"
             ],
             [
              0.7777777777777778,
              "#fb9f3a"
             ],
             [
              0.8888888888888888,
              "#fdca26"
             ],
             [
              1,
              "#f0f921"
             ]
            ],
            "type": "heatmap"
           }
          ],
          "heatmapgl": [
           {
            "colorbar": {
             "outlinewidth": 0,
             "ticks": ""
            },
            "colorscale": [
             [
              0,
              "#0d0887"
             ],
             [
              0.1111111111111111,
              "#46039f"
             ],
             [
              0.2222222222222222,
              "#7201a8"
             ],
             [
              0.3333333333333333,
              "#9c179e"
             ],
             [
              0.4444444444444444,
              "#bd3786"
             ],
             [
              0.5555555555555556,
              "#d8576b"
             ],
             [
              0.6666666666666666,
              "#ed7953"
             ],
             [
              0.7777777777777778,
              "#fb9f3a"
             ],
             [
              0.8888888888888888,
              "#fdca26"
             ],
             [
              1,
              "#f0f921"
             ]
            ],
            "type": "heatmapgl"
           }
          ],
          "histogram": [
           {
            "marker": {
             "pattern": {
              "fillmode": "overlay",
              "size": 10,
              "solidity": 0.2
             }
            },
            "type": "histogram"
           }
          ],
          "histogram2d": [
           {
            "colorbar": {
             "outlinewidth": 0,
             "ticks": ""
            },
            "colorscale": [
             [
              0,
              "#0d0887"
             ],
             [
              0.1111111111111111,
              "#46039f"
             ],
             [
              0.2222222222222222,
              "#7201a8"
             ],
             [
              0.3333333333333333,
              "#9c179e"
             ],
             [
              0.4444444444444444,
              "#bd3786"
             ],
             [
              0.5555555555555556,
              "#d8576b"
             ],
             [
              0.6666666666666666,
              "#ed7953"
             ],
             [
              0.7777777777777778,
              "#fb9f3a"
             ],
             [
              0.8888888888888888,
              "#fdca26"
             ],
             [
              1,
              "#f0f921"
             ]
            ],
            "type": "histogram2d"
           }
          ],
          "histogram2dcontour": [
           {
            "colorbar": {
             "outlinewidth": 0,
             "ticks": ""
            },
            "colorscale": [
             [
              0,
              "#0d0887"
             ],
             [
              0.1111111111111111,
              "#46039f"
             ],
             [
              0.2222222222222222,
              "#7201a8"
             ],
             [
              0.3333333333333333,
              "#9c179e"
             ],
             [
              0.4444444444444444,
              "#bd3786"
             ],
             [
              0.5555555555555556,
              "#d8576b"
             ],
             [
              0.6666666666666666,
              "#ed7953"
             ],
             [
              0.7777777777777778,
              "#fb9f3a"
             ],
             [
              0.8888888888888888,
              "#fdca26"
             ],
             [
              1,
              "#f0f921"
             ]
            ],
            "type": "histogram2dcontour"
           }
          ],
          "mesh3d": [
           {
            "colorbar": {
             "outlinewidth": 0,
             "ticks": ""
            },
            "type": "mesh3d"
           }
          ],
          "parcoords": [
           {
            "line": {
             "colorbar": {
              "outlinewidth": 0,
              "ticks": ""
             }
            },
            "type": "parcoords"
           }
          ],
          "pie": [
           {
            "automargin": true,
            "type": "pie"
           }
          ],
          "scatter": [
           {
            "fillpattern": {
             "fillmode": "overlay",
             "size": 10,
             "solidity": 0.2
            },
            "type": "scatter"
           }
          ],
          "scatter3d": [
           {
            "line": {
             "colorbar": {
              "outlinewidth": 0,
              "ticks": ""
             }
            },
            "marker": {
             "colorbar": {
              "outlinewidth": 0,
              "ticks": ""
             }
            },
            "type": "scatter3d"
           }
          ],
          "scattercarpet": [
           {
            "marker": {
             "colorbar": {
              "outlinewidth": 0,
              "ticks": ""
             }
            },
            "type": "scattercarpet"
           }
          ],
          "scattergeo": [
           {
            "marker": {
             "colorbar": {
              "outlinewidth": 0,
              "ticks": ""
             }
            },
            "type": "scattergeo"
           }
          ],
          "scattergl": [
           {
            "marker": {
             "colorbar": {
              "outlinewidth": 0,
              "ticks": ""
             }
            },
            "type": "scattergl"
           }
          ],
          "scattermapbox": [
           {
            "marker": {
             "colorbar": {
              "outlinewidth": 0,
              "ticks": ""
             }
            },
            "type": "scattermapbox"
           }
          ],
          "scatterpolar": [
           {
            "marker": {
             "colorbar": {
              "outlinewidth": 0,
              "ticks": ""
             }
            },
            "type": "scatterpolar"
           }
          ],
          "scatterpolargl": [
           {
            "marker": {
             "colorbar": {
              "outlinewidth": 0,
              "ticks": ""
             }
            },
            "type": "scatterpolargl"
           }
          ],
          "scatterternary": [
           {
            "marker": {
             "colorbar": {
              "outlinewidth": 0,
              "ticks": ""
             }
            },
            "type": "scatterternary"
           }
          ],
          "surface": [
           {
            "colorbar": {
             "outlinewidth": 0,
             "ticks": ""
            },
            "colorscale": [
             [
              0,
              "#0d0887"
             ],
             [
              0.1111111111111111,
              "#46039f"
             ],
             [
              0.2222222222222222,
              "#7201a8"
             ],
             [
              0.3333333333333333,
              "#9c179e"
             ],
             [
              0.4444444444444444,
              "#bd3786"
             ],
             [
              0.5555555555555556,
              "#d8576b"
             ],
             [
              0.6666666666666666,
              "#ed7953"
             ],
             [
              0.7777777777777778,
              "#fb9f3a"
             ],
             [
              0.8888888888888888,
              "#fdca26"
             ],
             [
              1,
              "#f0f921"
             ]
            ],
            "type": "surface"
           }
          ],
          "table": [
           {
            "cells": {
             "fill": {
              "color": "#EBF0F8"
             },
             "line": {
              "color": "white"
             }
            },
            "header": {
             "fill": {
              "color": "#C8D4E3"
             },
             "line": {
              "color": "white"
             }
            },
            "type": "table"
           }
          ]
         },
         "layout": {
          "annotationdefaults": {
           "arrowcolor": "#2a3f5f",
           "arrowhead": 0,
           "arrowwidth": 1
          },
          "autotypenumbers": "strict",
          "coloraxis": {
           "colorbar": {
            "outlinewidth": 0,
            "ticks": ""
           }
          },
          "colorscale": {
           "diverging": [
            [
             0,
             "#8e0152"
            ],
            [
             0.1,
             "#c51b7d"
            ],
            [
             0.2,
             "#de77ae"
            ],
            [
             0.3,
             "#f1b6da"
            ],
            [
             0.4,
             "#fde0ef"
            ],
            [
             0.5,
             "#f7f7f7"
            ],
            [
             0.6,
             "#e6f5d0"
            ],
            [
             0.7,
             "#b8e186"
            ],
            [
             0.8,
             "#7fbc41"
            ],
            [
             0.9,
             "#4d9221"
            ],
            [
             1,
             "#276419"
            ]
           ],
           "sequential": [
            [
             0,
             "#0d0887"
            ],
            [
             0.1111111111111111,
             "#46039f"
            ],
            [
             0.2222222222222222,
             "#7201a8"
            ],
            [
             0.3333333333333333,
             "#9c179e"
            ],
            [
             0.4444444444444444,
             "#bd3786"
            ],
            [
             0.5555555555555556,
             "#d8576b"
            ],
            [
             0.6666666666666666,
             "#ed7953"
            ],
            [
             0.7777777777777778,
             "#fb9f3a"
            ],
            [
             0.8888888888888888,
             "#fdca26"
            ],
            [
             1,
             "#f0f921"
            ]
           ],
           "sequentialminus": [
            [
             0,
             "#0d0887"
            ],
            [
             0.1111111111111111,
             "#46039f"
            ],
            [
             0.2222222222222222,
             "#7201a8"
            ],
            [
             0.3333333333333333,
             "#9c179e"
            ],
            [
             0.4444444444444444,
             "#bd3786"
            ],
            [
             0.5555555555555556,
             "#d8576b"
            ],
            [
             0.6666666666666666,
             "#ed7953"
            ],
            [
             0.7777777777777778,
             "#fb9f3a"
            ],
            [
             0.8888888888888888,
             "#fdca26"
            ],
            [
             1,
             "#f0f921"
            ]
           ]
          },
          "colorway": [
           "#636efa",
           "#EF553B",
           "#00cc96",
           "#ab63fa",
           "#FFA15A",
           "#19d3f3",
           "#FF6692",
           "#B6E880",
           "#FF97FF",
           "#FECB52"
          ],
          "font": {
           "color": "#2a3f5f"
          },
          "geo": {
           "bgcolor": "white",
           "lakecolor": "white",
           "landcolor": "#E5ECF6",
           "showlakes": true,
           "showland": true,
           "subunitcolor": "white"
          },
          "hoverlabel": {
           "align": "left"
          },
          "hovermode": "closest",
          "mapbox": {
           "style": "light"
          },
          "paper_bgcolor": "white",
          "plot_bgcolor": "#E5ECF6",
          "polar": {
           "angularaxis": {
            "gridcolor": "white",
            "linecolor": "white",
            "ticks": ""
           },
           "bgcolor": "#E5ECF6",
           "radialaxis": {
            "gridcolor": "white",
            "linecolor": "white",
            "ticks": ""
           }
          },
          "scene": {
           "xaxis": {
            "backgroundcolor": "#E5ECF6",
            "gridcolor": "white",
            "gridwidth": 2,
            "linecolor": "white",
            "showbackground": true,
            "ticks": "",
            "zerolinecolor": "white"
           },
           "yaxis": {
            "backgroundcolor": "#E5ECF6",
            "gridcolor": "white",
            "gridwidth": 2,
            "linecolor": "white",
            "showbackground": true,
            "ticks": "",
            "zerolinecolor": "white"
           },
           "zaxis": {
            "backgroundcolor": "#E5ECF6",
            "gridcolor": "white",
            "gridwidth": 2,
            "linecolor": "white",
            "showbackground": true,
            "ticks": "",
            "zerolinecolor": "white"
           }
          },
          "shapedefaults": {
           "line": {
            "color": "#2a3f5f"
           }
          },
          "ternary": {
           "aaxis": {
            "gridcolor": "white",
            "linecolor": "white",
            "ticks": ""
           },
           "baxis": {
            "gridcolor": "white",
            "linecolor": "white",
            "ticks": ""
           },
           "bgcolor": "#E5ECF6",
           "caxis": {
            "gridcolor": "white",
            "linecolor": "white",
            "ticks": ""
           }
          },
          "title": {
           "x": 0.05
          },
          "xaxis": {
           "automargin": true,
           "gridcolor": "white",
           "linecolor": "white",
           "ticks": "",
           "title": {
            "standoff": 15
           },
           "zerolinecolor": "white",
           "zerolinewidth": 2
          },
          "yaxis": {
           "automargin": true,
           "gridcolor": "white",
           "linecolor": "white",
           "ticks": "",
           "title": {
            "standoff": 15
           },
           "zerolinecolor": "white",
           "zerolinewidth": 2
          }
         }
        },
        "title": {
         "text": "Average Allocation for Attributes by Gender"
        },
        "xaxis": {
         "title": {
          "text": "Attributes"
         }
        },
        "yaxis": {
         "title": {
          "text": "Average Allocation"
         }
        }
       }
      },
      "text/html": [
       "<div>                            <div id=\"7ad8b704-52f1-4bc1-8024-a89c5caf2741\" class=\"plotly-graph-div\" style=\"height:525px; width:100%;\"></div>            <script type=\"text/javascript\">                require([\"plotly\"], function(Plotly) {                    window.PLOTLYENV=window.PLOTLYENV || {};                                    if (document.getElementById(\"7ad8b704-52f1-4bc1-8024-a89c5caf2741\")) {                    Plotly.newPlot(                        \"7ad8b704-52f1-4bc1-8024-a89c5caf2741\",                        [{\"marker\":{\"color\":\"#ff6361\"},\"name\":\"Female\",\"x\":[\"Attractive\",\"Sincere\",\"Intelligent\",\"Fun\",\"Ambitious\"],\"y\":[18.031641791044777,18.215597014925372,20.93731343283582,17.28902985074627,12.847649253731342],\"type\":\"bar\"},{\"marker\":{\"color\":\"#003f5c\"},\"name\":\"Male\",\"x\":[\"Attractive\",\"Sincere\",\"Intelligent\",\"Fun\",\"Ambitious\"],\"y\":[27.027179487179495,16.422673992673996,19.45252747252747,17.653051470588238,8.811586715867158],\"type\":\"bar\"}],                        {\"barmode\":\"group\",\"paper_bgcolor\":\"#dadfe1\",\"plot_bgcolor\":\"#dadfe1\",\"title\":{\"text\":\"Average Allocation for Attributes by Gender\"},\"xaxis\":{\"title\":{\"text\":\"Attributes\"}},\"yaxis\":{\"title\":{\"text\":\"Average Allocation\"}},\"template\":{\"data\":{\"histogram2dcontour\":[{\"type\":\"histogram2dcontour\",\"colorbar\":{\"outlinewidth\":0,\"ticks\":\"\"},\"colorscale\":[[0.0,\"#0d0887\"],[0.1111111111111111,\"#46039f\"],[0.2222222222222222,\"#7201a8\"],[0.3333333333333333,\"#9c179e\"],[0.4444444444444444,\"#bd3786\"],[0.5555555555555556,\"#d8576b\"],[0.6666666666666666,\"#ed7953\"],[0.7777777777777778,\"#fb9f3a\"],[0.8888888888888888,\"#fdca26\"],[1.0,\"#f0f921\"]]}],\"choropleth\":[{\"type\":\"choropleth\",\"colorbar\":{\"outlinewidth\":0,\"ticks\":\"\"}}],\"histogram2d\":[{\"type\":\"histogram2d\",\"colorbar\":{\"outlinewidth\":0,\"ticks\":\"\"},\"colorscale\":[[0.0,\"#0d0887\"],[0.1111111111111111,\"#46039f\"],[0.2222222222222222,\"#7201a8\"],[0.3333333333333333,\"#9c179e\"],[0.4444444444444444,\"#bd3786\"],[0.5555555555555556,\"#d8576b\"],[0.6666666666666666,\"#ed7953\"],[0.7777777777777778,\"#fb9f3a\"],[0.8888888888888888,\"#fdca26\"],[1.0,\"#f0f921\"]]}],\"heatmap\":[{\"type\":\"heatmap\",\"colorbar\":{\"outlinewidth\":0,\"ticks\":\"\"},\"colorscale\":[[0.0,\"#0d0887\"],[0.1111111111111111,\"#46039f\"],[0.2222222222222222,\"#7201a8\"],[0.3333333333333333,\"#9c179e\"],[0.4444444444444444,\"#bd3786\"],[0.5555555555555556,\"#d8576b\"],[0.6666666666666666,\"#ed7953\"],[0.7777777777777778,\"#fb9f3a\"],[0.8888888888888888,\"#fdca26\"],[1.0,\"#f0f921\"]]}],\"heatmapgl\":[{\"type\":\"heatmapgl\",\"colorbar\":{\"outlinewidth\":0,\"ticks\":\"\"},\"colorscale\":[[0.0,\"#0d0887\"],[0.1111111111111111,\"#46039f\"],[0.2222222222222222,\"#7201a8\"],[0.3333333333333333,\"#9c179e\"],[0.4444444444444444,\"#bd3786\"],[0.5555555555555556,\"#d8576b\"],[0.6666666666666666,\"#ed7953\"],[0.7777777777777778,\"#fb9f3a\"],[0.8888888888888888,\"#fdca26\"],[1.0,\"#f0f921\"]]}],\"contourcarpet\":[{\"type\":\"contourcarpet\",\"colorbar\":{\"outlinewidth\":0,\"ticks\":\"\"}}],\"contour\":[{\"type\":\"contour\",\"colorbar\":{\"outlinewidth\":0,\"ticks\":\"\"},\"colorscale\":[[0.0,\"#0d0887\"],[0.1111111111111111,\"#46039f\"],[0.2222222222222222,\"#7201a8\"],[0.3333333333333333,\"#9c179e\"],[0.4444444444444444,\"#bd3786\"],[0.5555555555555556,\"#d8576b\"],[0.6666666666666666,\"#ed7953\"],[0.7777777777777778,\"#fb9f3a\"],[0.8888888888888888,\"#fdca26\"],[1.0,\"#f0f921\"]]}],\"surface\":[{\"type\":\"surface\",\"colorbar\":{\"outlinewidth\":0,\"ticks\":\"\"},\"colorscale\":[[0.0,\"#0d0887\"],[0.1111111111111111,\"#46039f\"],[0.2222222222222222,\"#7201a8\"],[0.3333333333333333,\"#9c179e\"],[0.4444444444444444,\"#bd3786\"],[0.5555555555555556,\"#d8576b\"],[0.6666666666666666,\"#ed7953\"],[0.7777777777777778,\"#fb9f3a\"],[0.8888888888888888,\"#fdca26\"],[1.0,\"#f0f921\"]]}],\"mesh3d\":[{\"type\":\"mesh3d\",\"colorbar\":{\"outlinewidth\":0,\"ticks\":\"\"}}],\"scatter\":[{\"fillpattern\":{\"fillmode\":\"overlay\",\"size\":10,\"solidity\":0.2},\"type\":\"scatter\"}],\"parcoords\":[{\"type\":\"parcoords\",\"line\":{\"colorbar\":{\"outlinewidth\":0,\"ticks\":\"\"}}}],\"scatterpolargl\":[{\"type\":\"scatterpolargl\",\"marker\":{\"colorbar\":{\"outlinewidth\":0,\"ticks\":\"\"}}}],\"bar\":[{\"error_x\":{\"color\":\"#2a3f5f\"},\"error_y\":{\"color\":\"#2a3f5f\"},\"marker\":{\"line\":{\"color\":\"#E5ECF6\",\"width\":0.5},\"pattern\":{\"fillmode\":\"overlay\",\"size\":10,\"solidity\":0.2}},\"type\":\"bar\"}],\"scattergeo\":[{\"type\":\"scattergeo\",\"marker\":{\"colorbar\":{\"outlinewidth\":0,\"ticks\":\"\"}}}],\"scatterpolar\":[{\"type\":\"scatterpolar\",\"marker\":{\"colorbar\":{\"outlinewidth\":0,\"ticks\":\"\"}}}],\"histogram\":[{\"marker\":{\"pattern\":{\"fillmode\":\"overlay\",\"size\":10,\"solidity\":0.2}},\"type\":\"histogram\"}],\"scattergl\":[{\"type\":\"scattergl\",\"marker\":{\"colorbar\":{\"outlinewidth\":0,\"ticks\":\"\"}}}],\"scatter3d\":[{\"type\":\"scatter3d\",\"line\":{\"colorbar\":{\"outlinewidth\":0,\"ticks\":\"\"}},\"marker\":{\"colorbar\":{\"outlinewidth\":0,\"ticks\":\"\"}}}],\"scattermapbox\":[{\"type\":\"scattermapbox\",\"marker\":{\"colorbar\":{\"outlinewidth\":0,\"ticks\":\"\"}}}],\"scatterternary\":[{\"type\":\"scatterternary\",\"marker\":{\"colorbar\":{\"outlinewidth\":0,\"ticks\":\"\"}}}],\"scattercarpet\":[{\"type\":\"scattercarpet\",\"marker\":{\"colorbar\":{\"outlinewidth\":0,\"ticks\":\"\"}}}],\"carpet\":[{\"aaxis\":{\"endlinecolor\":\"#2a3f5f\",\"gridcolor\":\"white\",\"linecolor\":\"white\",\"minorgridcolor\":\"white\",\"startlinecolor\":\"#2a3f5f\"},\"baxis\":{\"endlinecolor\":\"#2a3f5f\",\"gridcolor\":\"white\",\"linecolor\":\"white\",\"minorgridcolor\":\"white\",\"startlinecolor\":\"#2a3f5f\"},\"type\":\"carpet\"}],\"table\":[{\"cells\":{\"fill\":{\"color\":\"#EBF0F8\"},\"line\":{\"color\":\"white\"}},\"header\":{\"fill\":{\"color\":\"#C8D4E3\"},\"line\":{\"color\":\"white\"}},\"type\":\"table\"}],\"barpolar\":[{\"marker\":{\"line\":{\"color\":\"#E5ECF6\",\"width\":0.5},\"pattern\":{\"fillmode\":\"overlay\",\"size\":10,\"solidity\":0.2}},\"type\":\"barpolar\"}],\"pie\":[{\"automargin\":true,\"type\":\"pie\"}]},\"layout\":{\"autotypenumbers\":\"strict\",\"colorway\":[\"#636efa\",\"#EF553B\",\"#00cc96\",\"#ab63fa\",\"#FFA15A\",\"#19d3f3\",\"#FF6692\",\"#B6E880\",\"#FF97FF\",\"#FECB52\"],\"font\":{\"color\":\"#2a3f5f\"},\"hovermode\":\"closest\",\"hoverlabel\":{\"align\":\"left\"},\"paper_bgcolor\":\"white\",\"plot_bgcolor\":\"#E5ECF6\",\"polar\":{\"bgcolor\":\"#E5ECF6\",\"angularaxis\":{\"gridcolor\":\"white\",\"linecolor\":\"white\",\"ticks\":\"\"},\"radialaxis\":{\"gridcolor\":\"white\",\"linecolor\":\"white\",\"ticks\":\"\"}},\"ternary\":{\"bgcolor\":\"#E5ECF6\",\"aaxis\":{\"gridcolor\":\"white\",\"linecolor\":\"white\",\"ticks\":\"\"},\"baxis\":{\"gridcolor\":\"white\",\"linecolor\":\"white\",\"ticks\":\"\"},\"caxis\":{\"gridcolor\":\"white\",\"linecolor\":\"white\",\"ticks\":\"\"}},\"coloraxis\":{\"colorbar\":{\"outlinewidth\":0,\"ticks\":\"\"}},\"colorscale\":{\"sequential\":[[0.0,\"#0d0887\"],[0.1111111111111111,\"#46039f\"],[0.2222222222222222,\"#7201a8\"],[0.3333333333333333,\"#9c179e\"],[0.4444444444444444,\"#bd3786\"],[0.5555555555555556,\"#d8576b\"],[0.6666666666666666,\"#ed7953\"],[0.7777777777777778,\"#fb9f3a\"],[0.8888888888888888,\"#fdca26\"],[1.0,\"#f0f921\"]],\"sequentialminus\":[[0.0,\"#0d0887\"],[0.1111111111111111,\"#46039f\"],[0.2222222222222222,\"#7201a8\"],[0.3333333333333333,\"#9c179e\"],[0.4444444444444444,\"#bd3786\"],[0.5555555555555556,\"#d8576b\"],[0.6666666666666666,\"#ed7953\"],[0.7777777777777778,\"#fb9f3a\"],[0.8888888888888888,\"#fdca26\"],[1.0,\"#f0f921\"]],\"diverging\":[[0,\"#8e0152\"],[0.1,\"#c51b7d\"],[0.2,\"#de77ae\"],[0.3,\"#f1b6da\"],[0.4,\"#fde0ef\"],[0.5,\"#f7f7f7\"],[0.6,\"#e6f5d0\"],[0.7,\"#b8e186\"],[0.8,\"#7fbc41\"],[0.9,\"#4d9221\"],[1,\"#276419\"]]},\"xaxis\":{\"gridcolor\":\"white\",\"linecolor\":\"white\",\"ticks\":\"\",\"title\":{\"standoff\":15},\"zerolinecolor\":\"white\",\"automargin\":true,\"zerolinewidth\":2},\"yaxis\":{\"gridcolor\":\"white\",\"linecolor\":\"white\",\"ticks\":\"\",\"title\":{\"standoff\":15},\"zerolinecolor\":\"white\",\"automargin\":true,\"zerolinewidth\":2},\"scene\":{\"xaxis\":{\"backgroundcolor\":\"#E5ECF6\",\"gridcolor\":\"white\",\"linecolor\":\"white\",\"showbackground\":true,\"ticks\":\"\",\"zerolinecolor\":\"white\",\"gridwidth\":2},\"yaxis\":{\"backgroundcolor\":\"#E5ECF6\",\"gridcolor\":\"white\",\"linecolor\":\"white\",\"showbackground\":true,\"ticks\":\"\",\"zerolinecolor\":\"white\",\"gridwidth\":2},\"zaxis\":{\"backgroundcolor\":\"#E5ECF6\",\"gridcolor\":\"white\",\"linecolor\":\"white\",\"showbackground\":true,\"ticks\":\"\",\"zerolinecolor\":\"white\",\"gridwidth\":2}},\"shapedefaults\":{\"line\":{\"color\":\"#2a3f5f\"}},\"annotationdefaults\":{\"arrowcolor\":\"#2a3f5f\",\"arrowhead\":0,\"arrowwidth\":1},\"geo\":{\"bgcolor\":\"white\",\"landcolor\":\"#E5ECF6\",\"subunitcolor\":\"white\",\"showland\":true,\"showlakes\":true,\"lakecolor\":\"white\"},\"title\":{\"x\":0.05},\"mapbox\":{\"style\":\"light\"}}}},                        {\"responsive\": true}                    ).then(function(){\n",
       "                            \n",
       "var gd = document.getElementById('7ad8b704-52f1-4bc1-8024-a89c5caf2741');\n",
       "var x = new MutationObserver(function (mutations, observer) {{\n",
       "        var display = window.getComputedStyle(gd).display;\n",
       "        if (!display || display === 'none') {{\n",
       "            console.log([gd, 'removed!']);\n",
       "            Plotly.purge(gd);\n",
       "            observer.disconnect();\n",
       "        }}\n",
       "}});\n",
       "\n",
       "// Listen for the removal of the full notebook cells\n",
       "var notebookContainer = gd.closest('#notebook-container');\n",
       "if (notebookContainer) {{\n",
       "    x.observe(notebookContainer, {childList: true});\n",
       "}}\n",
       "\n",
       "// Listen for the clearing of the current output cell\n",
       "var outputEl = gd.closest('.output');\n",
       "if (outputEl) {{\n",
       "    x.observe(outputEl, {childList: true});\n",
       "}}\n",
       "\n",
       "                        })                };                });            </script>        </div>"
      ]
     },
     "metadata": {},
     "output_type": "display_data"
    },
    {
     "name": "stdout",
     "output_type": "stream",
     "text": [
      "Initial preference allocation plot completed. It took 0.01 seconds.\n"
     ]
    }
   ],
   "source": [
    "# Running the average initial preference allocation functions with timings\n",
    "start_time = time.time()\n",
    "\n",
    "# Set the plot colours for each gender\n",
    "colors = ['#ff6361', '#003f5c']\n",
    "\n",
    "# Replace 0 and 1 with the corresponding gender\n",
    "gender_labels = ['Female', 'Male']\n",
    "\n",
    "pref_data = fetch_pref_data(database_path, columns_pf_o, gender_labels)\n",
    "traces = create_bar_traces(pref_data, columns_full, colors)\n",
    "\n",
    "# Structuring the layout with titles and colours\n",
    "layout = go.Layout(\n",
    "    title='Average Allocation for Attributes by Gender',\n",
    "    xaxis=dict(title='Attributes'),\n",
    "    yaxis=dict(title='Average Allocation'),\n",
    "    barmode='group',\n",
    "    plot_bgcolor='#dadfe1',\n",
    "    paper_bgcolor='#dadfe1'\n",
    ")\n",
    "\n",
    "# Create figure\n",
    "fig = go.Figure(data=traces, layout=layout)\n",
    "\n",
    "# Show the plot\n",
    "fig.show()\n",
    "\n",
    "end_time = round(time.time() - start_time, 4)\n",
    "\n",
    "print(f'Initial preference allocation plot completed. It took {end_time} seconds.')"
   ]
  },
  {
   "cell_type": "markdown",
   "id": "fd9792db",
   "metadata": {},
   "source": [
    "From this we see that men prioritize attractiveness the most whereas women place a higher importance on intelligence.\n",
    "\n",
    "Sincerity, intelligence and fun hold similar significance whereas ambitions is the least influential of the five attributes"
   ]
  },
  {
   "cell_type": "markdown",
   "id": "ac147112",
   "metadata": {},
   "source": [
    "### Actual Attribute Importance for Second Date Success\n",
    "\n",
    "The below functions fetches the ratings received on a date and whether or not that date was a match (separated by gender). A Random Forest classifier is then trained to determine which attribute was actually most important in driving second date success."
   ]
  },
  {
   "cell_type": "code",
   "execution_count": 250,
   "id": "9391b907",
   "metadata": {},
   "outputs": [],
   "source": [
    "# Fetches the ratings received on each date\n",
    "\n",
    "# Parameters:\n",
    "#   - database_path (str): the path to your database\n",
    "#   - columns_o (list): list of attributes ending in _o (ratings given)\n",
    "\n",
    "def fetch_rating_data(database_path, columns_o):\n",
    "\n",
    "    # Connect to database\n",
    "    conn = sqlite3.connect(database_path)\n",
    "\n",
    "    # Creator cursor object\n",
    "    cursor = conn.cursor()\n",
    "\n",
    "    # Construct the SELECT query\n",
    "    rating_query = f'''\n",
    "        SELECT gender, dec_o, {', '.join(columns_o)}\n",
    "        FROM participants AS p\n",
    "        JOIN dates AS d on p.iid = d.iid\n",
    "        ORDER BY gender\n",
    "    '''\n",
    "\n",
    "    # Execute query to retrieve the ratings received by iid\n",
    "    # on each date\n",
    "    cursor.execute(rating_query)\n",
    "\n",
    "    rows = cursor.fetchall()\n",
    "\n",
    "    # Commit changes\n",
    "    conn.commit()\n",
    "\n",
    "    # Close the connection\n",
    "    conn.close()\n",
    "\n",
    "    # Initialize a dictionary for organizing data separated by gender\n",
    "    rating_data = {0: [[], []], 1: [[], []]}  # Use 0 for Female, 1 for Male\n",
    "\n",
    "    # Separate data for men and women\n",
    "    for row in rows:\n",
    "        gender, dec_o, *attributes = row\n",
    "        # Use gender directly as the key\n",
    "        rating_data[gender][0].append(attributes)\n",
    "        rating_data[gender][1].append(dec_o)\n",
    "            \n",
    "    return rating_data"
   ]
  },
  {
   "cell_type": "code",
   "execution_count": 251,
   "id": "c829c882",
   "metadata": {},
   "outputs": [],
   "source": [
    "# Returns the feature importances on second date success bsaed on rating data\n",
    "\n",
    "# Parameters:\n",
    "#   - rating_data (dict): ratings per date created by fetch_rating_data\n",
    "#   - gender_labels (list): the genders to be included\n",
    "\n",
    "def train_and_evaluate(rating_data, gender_labels):\n",
    "    # Create mean squared error for each gender\n",
    "    mse = []\n",
    "    # Create accuracy for each gender\n",
    "    accuracies = []\n",
    "    # Create feature importance for each gender\n",
    "    feature_importances = {}\n",
    "\n",
    "    for i, gender in enumerate(gender_labels):\n",
    "        # Split data into training and test data\n",
    "        X_train, X_test, y_train, y_test = train_test_split(rating_data[i][0], rating_data[i][1], test_size=0.2, random_state=42)\n",
    "\n",
    "        # Create a random forest regressor model\n",
    "        # 200 gives slightly better accuracy than 100, increasing decreases accuracy\n",
    "        # Naturally random_state is 42\n",
    "        model = RandomForestRegressor(n_estimators=200, random_state=42)\n",
    "\n",
    "        # Fit the model to the training data\n",
    "        model.fit(X_train, y_train)\n",
    "\n",
    "        # Predict on the test data\n",
    "        y_pred = model.predict(X_test)\n",
    "\n",
    "        # Calculate the mean squared error\n",
    "        error = mean_squared_error(y_test, y_pred)\n",
    "        mse.append(error)\n",
    "\n",
    "        # Get the feature importances from the random forest model\n",
    "        feature_importance = model.feature_importances_\n",
    "        feature_importances[gender] = feature_importance.tolist()\n",
    "\n",
    "        # Convert the continuous predictions to binary class labels\n",
    "        y_pred_binary = (y_pred > 0.5).astype(int)\n",
    "\n",
    "        # Calculate accuracy\n",
    "        accuracy = accuracy_score(y_test, y_pred_binary)\n",
    "        accuracies.append(accuracy)\n",
    "        \n",
    "    return mse, accuracies, feature_importances"
   ]
  },
  {
   "cell_type": "code",
   "execution_count": 252,
   "id": "8c44a7bc",
   "metadata": {},
   "outputs": [
    {
     "data": {
      "application/vnd.plotly.v1+json": {
       "config": {
        "plotlyServerURL": "https://plot.ly"
       },
       "data": [
        {
         "marker": {
          "color": "#ff6361"
         },
         "name": "Female",
         "type": "bar",
         "x": [
          "Attractive",
          "Sincere",
          "Intelligent",
          "Fun",
          "Ambitious"
         ],
         "y": [
          0.38813601939699616,
          0.14384564962090382,
          0.13927755715190673,
          0.1587334891767883,
          0.17000728465340503
         ]
        },
        {
         "marker": {
          "color": "#003f5c"
         },
         "name": "Male",
         "type": "bar",
         "x": [
          "Attractive",
          "Sincere",
          "Intelligent",
          "Fun",
          "Ambitious"
         ],
         "y": [
          0.31494102914060845,
          0.1704323478145484,
          0.14961940527107456,
          0.1860334660300803,
          0.17897375174368804
         ]
        }
       ],
       "layout": {
        "barmode": "group",
        "paper_bgcolor": "#dadfe1",
        "plot_bgcolor": "#dadfe1",
        "template": {
         "data": {
          "bar": [
           {
            "error_x": {
             "color": "#2a3f5f"
            },
            "error_y": {
             "color": "#2a3f5f"
            },
            "marker": {
             "line": {
              "color": "#E5ECF6",
              "width": 0.5
             },
             "pattern": {
              "fillmode": "overlay",
              "size": 10,
              "solidity": 0.2
             }
            },
            "type": "bar"
           }
          ],
          "barpolar": [
           {
            "marker": {
             "line": {
              "color": "#E5ECF6",
              "width": 0.5
             },
             "pattern": {
              "fillmode": "overlay",
              "size": 10,
              "solidity": 0.2
             }
            },
            "type": "barpolar"
           }
          ],
          "carpet": [
           {
            "aaxis": {
             "endlinecolor": "#2a3f5f",
             "gridcolor": "white",
             "linecolor": "white",
             "minorgridcolor": "white",
             "startlinecolor": "#2a3f5f"
            },
            "baxis": {
             "endlinecolor": "#2a3f5f",
             "gridcolor": "white",
             "linecolor": "white",
             "minorgridcolor": "white",
             "startlinecolor": "#2a3f5f"
            },
            "type": "carpet"
           }
          ],
          "choropleth": [
           {
            "colorbar": {
             "outlinewidth": 0,
             "ticks": ""
            },
            "type": "choropleth"
           }
          ],
          "contour": [
           {
            "colorbar": {
             "outlinewidth": 0,
             "ticks": ""
            },
            "colorscale": [
             [
              0,
              "#0d0887"
             ],
             [
              0.1111111111111111,
              "#46039f"
             ],
             [
              0.2222222222222222,
              "#7201a8"
             ],
             [
              0.3333333333333333,
              "#9c179e"
             ],
             [
              0.4444444444444444,
              "#bd3786"
             ],
             [
              0.5555555555555556,
              "#d8576b"
             ],
             [
              0.6666666666666666,
              "#ed7953"
             ],
             [
              0.7777777777777778,
              "#fb9f3a"
             ],
             [
              0.8888888888888888,
              "#fdca26"
             ],
             [
              1,
              "#f0f921"
             ]
            ],
            "type": "contour"
           }
          ],
          "contourcarpet": [
           {
            "colorbar": {
             "outlinewidth": 0,
             "ticks": ""
            },
            "type": "contourcarpet"
           }
          ],
          "heatmap": [
           {
            "colorbar": {
             "outlinewidth": 0,
             "ticks": ""
            },
            "colorscale": [
             [
              0,
              "#0d0887"
             ],
             [
              0.1111111111111111,
              "#46039f"
             ],
             [
              0.2222222222222222,
              "#7201a8"
             ],
             [
              0.3333333333333333,
              "#9c179e"
             ],
             [
              0.4444444444444444,
              "#bd3786"
             ],
             [
              0.5555555555555556,
              "#d8576b"
             ],
             [
              0.6666666666666666,
              "#ed7953"
             ],
             [
              0.7777777777777778,
              "#fb9f3a"
             ],
             [
              0.8888888888888888,
              "#fdca26"
             ],
             [
              1,
              "#f0f921"
             ]
            ],
            "type": "heatmap"
           }
          ],
          "heatmapgl": [
           {
            "colorbar": {
             "outlinewidth": 0,
             "ticks": ""
            },
            "colorscale": [
             [
              0,
              "#0d0887"
             ],
             [
              0.1111111111111111,
              "#46039f"
             ],
             [
              0.2222222222222222,
              "#7201a8"
             ],
             [
              0.3333333333333333,
              "#9c179e"
             ],
             [
              0.4444444444444444,
              "#bd3786"
             ],
             [
              0.5555555555555556,
              "#d8576b"
             ],
             [
              0.6666666666666666,
              "#ed7953"
             ],
             [
              0.7777777777777778,
              "#fb9f3a"
             ],
             [
              0.8888888888888888,
              "#fdca26"
             ],
             [
              1,
              "#f0f921"
             ]
            ],
            "type": "heatmapgl"
           }
          ],
          "histogram": [
           {
            "marker": {
             "pattern": {
              "fillmode": "overlay",
              "size": 10,
              "solidity": 0.2
             }
            },
            "type": "histogram"
           }
          ],
          "histogram2d": [
           {
            "colorbar": {
             "outlinewidth": 0,
             "ticks": ""
            },
            "colorscale": [
             [
              0,
              "#0d0887"
             ],
             [
              0.1111111111111111,
              "#46039f"
             ],
             [
              0.2222222222222222,
              "#7201a8"
             ],
             [
              0.3333333333333333,
              "#9c179e"
             ],
             [
              0.4444444444444444,
              "#bd3786"
             ],
             [
              0.5555555555555556,
              "#d8576b"
             ],
             [
              0.6666666666666666,
              "#ed7953"
             ],
             [
              0.7777777777777778,
              "#fb9f3a"
             ],
             [
              0.8888888888888888,
              "#fdca26"
             ],
             [
              1,
              "#f0f921"
             ]
            ],
            "type": "histogram2d"
           }
          ],
          "histogram2dcontour": [
           {
            "colorbar": {
             "outlinewidth": 0,
             "ticks": ""
            },
            "colorscale": [
             [
              0,
              "#0d0887"
             ],
             [
              0.1111111111111111,
              "#46039f"
             ],
             [
              0.2222222222222222,
              "#7201a8"
             ],
             [
              0.3333333333333333,
              "#9c179e"
             ],
             [
              0.4444444444444444,
              "#bd3786"
             ],
             [
              0.5555555555555556,
              "#d8576b"
             ],
             [
              0.6666666666666666,
              "#ed7953"
             ],
             [
              0.7777777777777778,
              "#fb9f3a"
             ],
             [
              0.8888888888888888,
              "#fdca26"
             ],
             [
              1,
              "#f0f921"
             ]
            ],
            "type": "histogram2dcontour"
           }
          ],
          "mesh3d": [
           {
            "colorbar": {
             "outlinewidth": 0,
             "ticks": ""
            },
            "type": "mesh3d"
           }
          ],
          "parcoords": [
           {
            "line": {
             "colorbar": {
              "outlinewidth": 0,
              "ticks": ""
             }
            },
            "type": "parcoords"
           }
          ],
          "pie": [
           {
            "automargin": true,
            "type": "pie"
           }
          ],
          "scatter": [
           {
            "fillpattern": {
             "fillmode": "overlay",
             "size": 10,
             "solidity": 0.2
            },
            "type": "scatter"
           }
          ],
          "scatter3d": [
           {
            "line": {
             "colorbar": {
              "outlinewidth": 0,
              "ticks": ""
             }
            },
            "marker": {
             "colorbar": {
              "outlinewidth": 0,
              "ticks": ""
             }
            },
            "type": "scatter3d"
           }
          ],
          "scattercarpet": [
           {
            "marker": {
             "colorbar": {
              "outlinewidth": 0,
              "ticks": ""
             }
            },
            "type": "scattercarpet"
           }
          ],
          "scattergeo": [
           {
            "marker": {
             "colorbar": {
              "outlinewidth": 0,
              "ticks": ""
             }
            },
            "type": "scattergeo"
           }
          ],
          "scattergl": [
           {
            "marker": {
             "colorbar": {
              "outlinewidth": 0,
              "ticks": ""
             }
            },
            "type": "scattergl"
           }
          ],
          "scattermapbox": [
           {
            "marker": {
             "colorbar": {
              "outlinewidth": 0,
              "ticks": ""
             }
            },
            "type": "scattermapbox"
           }
          ],
          "scatterpolar": [
           {
            "marker": {
             "colorbar": {
              "outlinewidth": 0,
              "ticks": ""
             }
            },
            "type": "scatterpolar"
           }
          ],
          "scatterpolargl": [
           {
            "marker": {
             "colorbar": {
              "outlinewidth": 0,
              "ticks": ""
             }
            },
            "type": "scatterpolargl"
           }
          ],
          "scatterternary": [
           {
            "marker": {
             "colorbar": {
              "outlinewidth": 0,
              "ticks": ""
             }
            },
            "type": "scatterternary"
           }
          ],
          "surface": [
           {
            "colorbar": {
             "outlinewidth": 0,
             "ticks": ""
            },
            "colorscale": [
             [
              0,
              "#0d0887"
             ],
             [
              0.1111111111111111,
              "#46039f"
             ],
             [
              0.2222222222222222,
              "#7201a8"
             ],
             [
              0.3333333333333333,
              "#9c179e"
             ],
             [
              0.4444444444444444,
              "#bd3786"
             ],
             [
              0.5555555555555556,
              "#d8576b"
             ],
             [
              0.6666666666666666,
              "#ed7953"
             ],
             [
              0.7777777777777778,
              "#fb9f3a"
             ],
             [
              0.8888888888888888,
              "#fdca26"
             ],
             [
              1,
              "#f0f921"
             ]
            ],
            "type": "surface"
           }
          ],
          "table": [
           {
            "cells": {
             "fill": {
              "color": "#EBF0F8"
             },
             "line": {
              "color": "white"
             }
            },
            "header": {
             "fill": {
              "color": "#C8D4E3"
             },
             "line": {
              "color": "white"
             }
            },
            "type": "table"
           }
          ]
         },
         "layout": {
          "annotationdefaults": {
           "arrowcolor": "#2a3f5f",
           "arrowhead": 0,
           "arrowwidth": 1
          },
          "autotypenumbers": "strict",
          "coloraxis": {
           "colorbar": {
            "outlinewidth": 0,
            "ticks": ""
           }
          },
          "colorscale": {
           "diverging": [
            [
             0,
             "#8e0152"
            ],
            [
             0.1,
             "#c51b7d"
            ],
            [
             0.2,
             "#de77ae"
            ],
            [
             0.3,
             "#f1b6da"
            ],
            [
             0.4,
             "#fde0ef"
            ],
            [
             0.5,
             "#f7f7f7"
            ],
            [
             0.6,
             "#e6f5d0"
            ],
            [
             0.7,
             "#b8e186"
            ],
            [
             0.8,
             "#7fbc41"
            ],
            [
             0.9,
             "#4d9221"
            ],
            [
             1,
             "#276419"
            ]
           ],
           "sequential": [
            [
             0,
             "#0d0887"
            ],
            [
             0.1111111111111111,
             "#46039f"
            ],
            [
             0.2222222222222222,
             "#7201a8"
            ],
            [
             0.3333333333333333,
             "#9c179e"
            ],
            [
             0.4444444444444444,
             "#bd3786"
            ],
            [
             0.5555555555555556,
             "#d8576b"
            ],
            [
             0.6666666666666666,
             "#ed7953"
            ],
            [
             0.7777777777777778,
             "#fb9f3a"
            ],
            [
             0.8888888888888888,
             "#fdca26"
            ],
            [
             1,
             "#f0f921"
            ]
           ],
           "sequentialminus": [
            [
             0,
             "#0d0887"
            ],
            [
             0.1111111111111111,
             "#46039f"
            ],
            [
             0.2222222222222222,
             "#7201a8"
            ],
            [
             0.3333333333333333,
             "#9c179e"
            ],
            [
             0.4444444444444444,
             "#bd3786"
            ],
            [
             0.5555555555555556,
             "#d8576b"
            ],
            [
             0.6666666666666666,
             "#ed7953"
            ],
            [
             0.7777777777777778,
             "#fb9f3a"
            ],
            [
             0.8888888888888888,
             "#fdca26"
            ],
            [
             1,
             "#f0f921"
            ]
           ]
          },
          "colorway": [
           "#636efa",
           "#EF553B",
           "#00cc96",
           "#ab63fa",
           "#FFA15A",
           "#19d3f3",
           "#FF6692",
           "#B6E880",
           "#FF97FF",
           "#FECB52"
          ],
          "font": {
           "color": "#2a3f5f"
          },
          "geo": {
           "bgcolor": "white",
           "lakecolor": "white",
           "landcolor": "#E5ECF6",
           "showlakes": true,
           "showland": true,
           "subunitcolor": "white"
          },
          "hoverlabel": {
           "align": "left"
          },
          "hovermode": "closest",
          "mapbox": {
           "style": "light"
          },
          "paper_bgcolor": "white",
          "plot_bgcolor": "#E5ECF6",
          "polar": {
           "angularaxis": {
            "gridcolor": "white",
            "linecolor": "white",
            "ticks": ""
           },
           "bgcolor": "#E5ECF6",
           "radialaxis": {
            "gridcolor": "white",
            "linecolor": "white",
            "ticks": ""
           }
          },
          "scene": {
           "xaxis": {
            "backgroundcolor": "#E5ECF6",
            "gridcolor": "white",
            "gridwidth": 2,
            "linecolor": "white",
            "showbackground": true,
            "ticks": "",
            "zerolinecolor": "white"
           },
           "yaxis": {
            "backgroundcolor": "#E5ECF6",
            "gridcolor": "white",
            "gridwidth": 2,
            "linecolor": "white",
            "showbackground": true,
            "ticks": "",
            "zerolinecolor": "white"
           },
           "zaxis": {
            "backgroundcolor": "#E5ECF6",
            "gridcolor": "white",
            "gridwidth": 2,
            "linecolor": "white",
            "showbackground": true,
            "ticks": "",
            "zerolinecolor": "white"
           }
          },
          "shapedefaults": {
           "line": {
            "color": "#2a3f5f"
           }
          },
          "ternary": {
           "aaxis": {
            "gridcolor": "white",
            "linecolor": "white",
            "ticks": ""
           },
           "baxis": {
            "gridcolor": "white",
            "linecolor": "white",
            "ticks": ""
           },
           "bgcolor": "#E5ECF6",
           "caxis": {
            "gridcolor": "white",
            "linecolor": "white",
            "ticks": ""
           }
          },
          "title": {
           "x": 0.05
          },
          "xaxis": {
           "automargin": true,
           "gridcolor": "white",
           "linecolor": "white",
           "ticks": "",
           "title": {
            "standoff": 15
           },
           "zerolinecolor": "white",
           "zerolinewidth": 2
          },
          "yaxis": {
           "automargin": true,
           "gridcolor": "white",
           "linecolor": "white",
           "ticks": "",
           "title": {
            "standoff": 15
           },
           "zerolinecolor": "white",
           "zerolinewidth": 2
          }
         }
        },
        "title": {
         "text": "Feature Importance for Successful Second Date Prediction"
        },
        "xaxis": {
         "title": {
          "text": "Attributes"
         }
        },
        "yaxis": {
         "title": {
          "text": "Relative Feature Importance"
         }
        }
       }
      },
      "text/html": [
       "<div>                            <div id=\"08ee53d0-599c-4a0a-88ac-1498056544bd\" class=\"plotly-graph-div\" style=\"height:525px; width:100%;\"></div>            <script type=\"text/javascript\">                require([\"plotly\"], function(Plotly) {                    window.PLOTLYENV=window.PLOTLYENV || {};                                    if (document.getElementById(\"08ee53d0-599c-4a0a-88ac-1498056544bd\")) {                    Plotly.newPlot(                        \"08ee53d0-599c-4a0a-88ac-1498056544bd\",                        [{\"marker\":{\"color\":\"#ff6361\"},\"name\":\"Female\",\"x\":[\"Attractive\",\"Sincere\",\"Intelligent\",\"Fun\",\"Ambitious\"],\"y\":[0.38813601939699616,0.14384564962090382,0.13927755715190673,0.1587334891767883,0.17000728465340503],\"type\":\"bar\"},{\"marker\":{\"color\":\"#003f5c\"},\"name\":\"Male\",\"x\":[\"Attractive\",\"Sincere\",\"Intelligent\",\"Fun\",\"Ambitious\"],\"y\":[0.31494102914060845,0.1704323478145484,0.14961940527107456,0.1860334660300803,0.17897375174368804],\"type\":\"bar\"}],                        {\"barmode\":\"group\",\"paper_bgcolor\":\"#dadfe1\",\"plot_bgcolor\":\"#dadfe1\",\"title\":{\"text\":\"Feature Importance for Successful Second Date Prediction\"},\"xaxis\":{\"title\":{\"text\":\"Attributes\"}},\"yaxis\":{\"title\":{\"text\":\"Relative Feature Importance\"}},\"template\":{\"data\":{\"histogram2dcontour\":[{\"type\":\"histogram2dcontour\",\"colorbar\":{\"outlinewidth\":0,\"ticks\":\"\"},\"colorscale\":[[0.0,\"#0d0887\"],[0.1111111111111111,\"#46039f\"],[0.2222222222222222,\"#7201a8\"],[0.3333333333333333,\"#9c179e\"],[0.4444444444444444,\"#bd3786\"],[0.5555555555555556,\"#d8576b\"],[0.6666666666666666,\"#ed7953\"],[0.7777777777777778,\"#fb9f3a\"],[0.8888888888888888,\"#fdca26\"],[1.0,\"#f0f921\"]]}],\"choropleth\":[{\"type\":\"choropleth\",\"colorbar\":{\"outlinewidth\":0,\"ticks\":\"\"}}],\"histogram2d\":[{\"type\":\"histogram2d\",\"colorbar\":{\"outlinewidth\":0,\"ticks\":\"\"},\"colorscale\":[[0.0,\"#0d0887\"],[0.1111111111111111,\"#46039f\"],[0.2222222222222222,\"#7201a8\"],[0.3333333333333333,\"#9c179e\"],[0.4444444444444444,\"#bd3786\"],[0.5555555555555556,\"#d8576b\"],[0.6666666666666666,\"#ed7953\"],[0.7777777777777778,\"#fb9f3a\"],[0.8888888888888888,\"#fdca26\"],[1.0,\"#f0f921\"]]}],\"heatmap\":[{\"type\":\"heatmap\",\"colorbar\":{\"outlinewidth\":0,\"ticks\":\"\"},\"colorscale\":[[0.0,\"#0d0887\"],[0.1111111111111111,\"#46039f\"],[0.2222222222222222,\"#7201a8\"],[0.3333333333333333,\"#9c179e\"],[0.4444444444444444,\"#bd3786\"],[0.5555555555555556,\"#d8576b\"],[0.6666666666666666,\"#ed7953\"],[0.7777777777777778,\"#fb9f3a\"],[0.8888888888888888,\"#fdca26\"],[1.0,\"#f0f921\"]]}],\"heatmapgl\":[{\"type\":\"heatmapgl\",\"colorbar\":{\"outlinewidth\":0,\"ticks\":\"\"},\"colorscale\":[[0.0,\"#0d0887\"],[0.1111111111111111,\"#46039f\"],[0.2222222222222222,\"#7201a8\"],[0.3333333333333333,\"#9c179e\"],[0.4444444444444444,\"#bd3786\"],[0.5555555555555556,\"#d8576b\"],[0.6666666666666666,\"#ed7953\"],[0.7777777777777778,\"#fb9f3a\"],[0.8888888888888888,\"#fdca26\"],[1.0,\"#f0f921\"]]}],\"contourcarpet\":[{\"type\":\"contourcarpet\",\"colorbar\":{\"outlinewidth\":0,\"ticks\":\"\"}}],\"contour\":[{\"type\":\"contour\",\"colorbar\":{\"outlinewidth\":0,\"ticks\":\"\"},\"colorscale\":[[0.0,\"#0d0887\"],[0.1111111111111111,\"#46039f\"],[0.2222222222222222,\"#7201a8\"],[0.3333333333333333,\"#9c179e\"],[0.4444444444444444,\"#bd3786\"],[0.5555555555555556,\"#d8576b\"],[0.6666666666666666,\"#ed7953\"],[0.7777777777777778,\"#fb9f3a\"],[0.8888888888888888,\"#fdca26\"],[1.0,\"#f0f921\"]]}],\"surface\":[{\"type\":\"surface\",\"colorbar\":{\"outlinewidth\":0,\"ticks\":\"\"},\"colorscale\":[[0.0,\"#0d0887\"],[0.1111111111111111,\"#46039f\"],[0.2222222222222222,\"#7201a8\"],[0.3333333333333333,\"#9c179e\"],[0.4444444444444444,\"#bd3786\"],[0.5555555555555556,\"#d8576b\"],[0.6666666666666666,\"#ed7953\"],[0.7777777777777778,\"#fb9f3a\"],[0.8888888888888888,\"#fdca26\"],[1.0,\"#f0f921\"]]}],\"mesh3d\":[{\"type\":\"mesh3d\",\"colorbar\":{\"outlinewidth\":0,\"ticks\":\"\"}}],\"scatter\":[{\"fillpattern\":{\"fillmode\":\"overlay\",\"size\":10,\"solidity\":0.2},\"type\":\"scatter\"}],\"parcoords\":[{\"type\":\"parcoords\",\"line\":{\"colorbar\":{\"outlinewidth\":0,\"ticks\":\"\"}}}],\"scatterpolargl\":[{\"type\":\"scatterpolargl\",\"marker\":{\"colorbar\":{\"outlinewidth\":0,\"ticks\":\"\"}}}],\"bar\":[{\"error_x\":{\"color\":\"#2a3f5f\"},\"error_y\":{\"color\":\"#2a3f5f\"},\"marker\":{\"line\":{\"color\":\"#E5ECF6\",\"width\":0.5},\"pattern\":{\"fillmode\":\"overlay\",\"size\":10,\"solidity\":0.2}},\"type\":\"bar\"}],\"scattergeo\":[{\"type\":\"scattergeo\",\"marker\":{\"colorbar\":{\"outlinewidth\":0,\"ticks\":\"\"}}}],\"scatterpolar\":[{\"type\":\"scatterpolar\",\"marker\":{\"colorbar\":{\"outlinewidth\":0,\"ticks\":\"\"}}}],\"histogram\":[{\"marker\":{\"pattern\":{\"fillmode\":\"overlay\",\"size\":10,\"solidity\":0.2}},\"type\":\"histogram\"}],\"scattergl\":[{\"type\":\"scattergl\",\"marker\":{\"colorbar\":{\"outlinewidth\":0,\"ticks\":\"\"}}}],\"scatter3d\":[{\"type\":\"scatter3d\",\"line\":{\"colorbar\":{\"outlinewidth\":0,\"ticks\":\"\"}},\"marker\":{\"colorbar\":{\"outlinewidth\":0,\"ticks\":\"\"}}}],\"scattermapbox\":[{\"type\":\"scattermapbox\",\"marker\":{\"colorbar\":{\"outlinewidth\":0,\"ticks\":\"\"}}}],\"scatterternary\":[{\"type\":\"scatterternary\",\"marker\":{\"colorbar\":{\"outlinewidth\":0,\"ticks\":\"\"}}}],\"scattercarpet\":[{\"type\":\"scattercarpet\",\"marker\":{\"colorbar\":{\"outlinewidth\":0,\"ticks\":\"\"}}}],\"carpet\":[{\"aaxis\":{\"endlinecolor\":\"#2a3f5f\",\"gridcolor\":\"white\",\"linecolor\":\"white\",\"minorgridcolor\":\"white\",\"startlinecolor\":\"#2a3f5f\"},\"baxis\":{\"endlinecolor\":\"#2a3f5f\",\"gridcolor\":\"white\",\"linecolor\":\"white\",\"minorgridcolor\":\"white\",\"startlinecolor\":\"#2a3f5f\"},\"type\":\"carpet\"}],\"table\":[{\"cells\":{\"fill\":{\"color\":\"#EBF0F8\"},\"line\":{\"color\":\"white\"}},\"header\":{\"fill\":{\"color\":\"#C8D4E3\"},\"line\":{\"color\":\"white\"}},\"type\":\"table\"}],\"barpolar\":[{\"marker\":{\"line\":{\"color\":\"#E5ECF6\",\"width\":0.5},\"pattern\":{\"fillmode\":\"overlay\",\"size\":10,\"solidity\":0.2}},\"type\":\"barpolar\"}],\"pie\":[{\"automargin\":true,\"type\":\"pie\"}]},\"layout\":{\"autotypenumbers\":\"strict\",\"colorway\":[\"#636efa\",\"#EF553B\",\"#00cc96\",\"#ab63fa\",\"#FFA15A\",\"#19d3f3\",\"#FF6692\",\"#B6E880\",\"#FF97FF\",\"#FECB52\"],\"font\":{\"color\":\"#2a3f5f\"},\"hovermode\":\"closest\",\"hoverlabel\":{\"align\":\"left\"},\"paper_bgcolor\":\"white\",\"plot_bgcolor\":\"#E5ECF6\",\"polar\":{\"bgcolor\":\"#E5ECF6\",\"angularaxis\":{\"gridcolor\":\"white\",\"linecolor\":\"white\",\"ticks\":\"\"},\"radialaxis\":{\"gridcolor\":\"white\",\"linecolor\":\"white\",\"ticks\":\"\"}},\"ternary\":{\"bgcolor\":\"#E5ECF6\",\"aaxis\":{\"gridcolor\":\"white\",\"linecolor\":\"white\",\"ticks\":\"\"},\"baxis\":{\"gridcolor\":\"white\",\"linecolor\":\"white\",\"ticks\":\"\"},\"caxis\":{\"gridcolor\":\"white\",\"linecolor\":\"white\",\"ticks\":\"\"}},\"coloraxis\":{\"colorbar\":{\"outlinewidth\":0,\"ticks\":\"\"}},\"colorscale\":{\"sequential\":[[0.0,\"#0d0887\"],[0.1111111111111111,\"#46039f\"],[0.2222222222222222,\"#7201a8\"],[0.3333333333333333,\"#9c179e\"],[0.4444444444444444,\"#bd3786\"],[0.5555555555555556,\"#d8576b\"],[0.6666666666666666,\"#ed7953\"],[0.7777777777777778,\"#fb9f3a\"],[0.8888888888888888,\"#fdca26\"],[1.0,\"#f0f921\"]],\"sequentialminus\":[[0.0,\"#0d0887\"],[0.1111111111111111,\"#46039f\"],[0.2222222222222222,\"#7201a8\"],[0.3333333333333333,\"#9c179e\"],[0.4444444444444444,\"#bd3786\"],[0.5555555555555556,\"#d8576b\"],[0.6666666666666666,\"#ed7953\"],[0.7777777777777778,\"#fb9f3a\"],[0.8888888888888888,\"#fdca26\"],[1.0,\"#f0f921\"]],\"diverging\":[[0,\"#8e0152\"],[0.1,\"#c51b7d\"],[0.2,\"#de77ae\"],[0.3,\"#f1b6da\"],[0.4,\"#fde0ef\"],[0.5,\"#f7f7f7\"],[0.6,\"#e6f5d0\"],[0.7,\"#b8e186\"],[0.8,\"#7fbc41\"],[0.9,\"#4d9221\"],[1,\"#276419\"]]},\"xaxis\":{\"gridcolor\":\"white\",\"linecolor\":\"white\",\"ticks\":\"\",\"title\":{\"standoff\":15},\"zerolinecolor\":\"white\",\"automargin\":true,\"zerolinewidth\":2},\"yaxis\":{\"gridcolor\":\"white\",\"linecolor\":\"white\",\"ticks\":\"\",\"title\":{\"standoff\":15},\"zerolinecolor\":\"white\",\"automargin\":true,\"zerolinewidth\":2},\"scene\":{\"xaxis\":{\"backgroundcolor\":\"#E5ECF6\",\"gridcolor\":\"white\",\"linecolor\":\"white\",\"showbackground\":true,\"ticks\":\"\",\"zerolinecolor\":\"white\",\"gridwidth\":2},\"yaxis\":{\"backgroundcolor\":\"#E5ECF6\",\"gridcolor\":\"white\",\"linecolor\":\"white\",\"showbackground\":true,\"ticks\":\"\",\"zerolinecolor\":\"white\",\"gridwidth\":2},\"zaxis\":{\"backgroundcolor\":\"#E5ECF6\",\"gridcolor\":\"white\",\"linecolor\":\"white\",\"showbackground\":true,\"ticks\":\"\",\"zerolinecolor\":\"white\",\"gridwidth\":2}},\"shapedefaults\":{\"line\":{\"color\":\"#2a3f5f\"}},\"annotationdefaults\":{\"arrowcolor\":\"#2a3f5f\",\"arrowhead\":0,\"arrowwidth\":1},\"geo\":{\"bgcolor\":\"white\",\"landcolor\":\"#E5ECF6\",\"subunitcolor\":\"white\",\"showland\":true,\"showlakes\":true,\"lakecolor\":\"white\"},\"title\":{\"x\":0.05},\"mapbox\":{\"style\":\"light\"}}}},                        {\"responsive\": true}                    ).then(function(){\n",
       "                            \n",
       "var gd = document.getElementById('08ee53d0-599c-4a0a-88ac-1498056544bd');\n",
       "var x = new MutationObserver(function (mutations, observer) {{\n",
       "        var display = window.getComputedStyle(gd).display;\n",
       "        if (!display || display === 'none') {{\n",
       "            console.log([gd, 'removed!']);\n",
       "            Plotly.purge(gd);\n",
       "            observer.disconnect();\n",
       "        }}\n",
       "}});\n",
       "\n",
       "// Listen for the removal of the full notebook cells\n",
       "var notebookContainer = gd.closest('#notebook-container');\n",
       "if (notebookContainer) {{\n",
       "    x.observe(notebookContainer, {childList: true});\n",
       "}}\n",
       "\n",
       "// Listen for the clearing of the current output cell\n",
       "var outputEl = gd.closest('.output');\n",
       "if (outputEl) {{\n",
       "    x.observe(outputEl, {childList: true});\n",
       "}}\n",
       "\n",
       "                        })                };                });            </script>        </div>"
      ]
     },
     "metadata": {},
     "output_type": "display_data"
    },
    {
     "name": "stdout",
     "output_type": "stream",
     "text": [
      "Female accuracy: 0.7%\n",
      "Female mean squared error: 0.21\n",
      "\n",
      "Male accuracy: 0.71%\n",
      "Male mean squared error: 0.2\n",
      "\n",
      "Feature importance plot completed. It took 1.3694 seconds.\n"
     ]
    }
   ],
   "source": [
    "# Running the feature importance of attributes on second date success with timings\n",
    "start_time = time.time()\n",
    "\n",
    "rating_data = fetch_rating_data(database_path, columns_o)\n",
    "mse, accuracies, feature_importances = train_and_evaluate(rating_data, gender_labels)\n",
    "traces = create_bar_traces(feature_importances, columns_full, colors)\n",
    "\n",
    "# Structuring the layout with titles and colours\n",
    "layout = go.Layout(\n",
    "    title='Feature Importance for Successful Second Date Prediction',\n",
    "    xaxis=dict(title='Attributes'),\n",
    "    yaxis=dict(title='Relative Feature Importance'),\n",
    "    barmode='group',\n",
    "    plot_bgcolor='#dadfe1',\n",
    "    paper_bgcolor='#dadfe1'\n",
    ")\n",
    "\n",
    "# Create figure\n",
    "fig = go.Figure(data=traces, layout=layout)\n",
    "\n",
    "# Show the plot\n",
    "fig.show()\n",
    "\n",
    "for i, gender in enumerate(gender_labels):\n",
    "    print(f\"{gender} accuracy: {round(accuracies[i], 2)}%\")\n",
    "    print(f\"{gender} mean squared error: {round(mse[i], 2)}\\n\")\n",
    "          \n",
    "end_time = round(time.time() - start_time, 4)\n",
    "\n",
    "print(f'Feature importance plot completed. It took {end_time} seconds.')"
   ]
  },
  {
   "cell_type": "markdown",
   "id": "0bd80f22",
   "metadata": {},
   "source": [
    "From this plot, we unveil the mistmatch between initial preferences and real-world dynamics.In reality, attractiveness far outweights all the other attributes and is the most important attribute in driving second date success.\n",
    "\n",
    "Here we observe the interplay between perceived preferences, societal influences and the unpredictable nature of human connections."
   ]
  },
  {
   "cell_type": "markdown",
   "id": "526ad375",
   "metadata": {},
   "source": [
    "## The Power of Attractiveness: Unveiling the Link between Attractiveness Ratings and Second Date Success\n",
    "\n",
    "In this section we explore how a participant's average attractiveness rating received effects their second date success.\n",
    "\n",
    "For each participant we retrieve their percentage of successful second dates based on the **dec_o** column as well as the average attractiveness rating they received. We then compare these two values on a scatter plot for each participant, separated by gender."
   ]
  },
  {
   "cell_type": "code",
   "execution_count": 253,
   "id": "b088a61c",
   "metadata": {},
   "outputs": [],
   "source": [
    "# Fetches the ratings received on each date\n",
    "\n",
    "# Parameters:\n",
    "#   - database_path (str): the path to your database\n",
    "\n",
    "def fetch_avg_attr_data(database_path):\n",
    "\n",
    "    # Connect to database\n",
    "    conn = sqlite3.connect(database_path)\n",
    "\n",
    "    # Creator cursor object\n",
    "    cursor = conn.cursor()\n",
    "\n",
    "    # Construct the SELECT query\n",
    "    avg_attr_query = f'''\n",
    "        SELECT gender, AVG(attr_o), ((SUM(dec_o) * 1.0)/COUNT(*)) * 100\n",
    "        FROM dates AS d\n",
    "        JOIN participants AS p on d.iid = p.iid\n",
    "        GROUP BY d.iid\n",
    "        ORDER BY gender\n",
    "    '''\n",
    "\n",
    "    # Execute query to retrieve the average attractiveness rating and\n",
    "    # second date success percentage per participant\n",
    "    cursor.execute(avg_attr_query)\n",
    "\n",
    "    rows = cursor.fetchall()\n",
    "\n",
    "    # Commit changes\n",
    "    conn.commit()\n",
    "\n",
    "    # Close the connection\n",
    "    conn.close()\n",
    "\n",
    "    # Initialize a dictionary for organizing data separated by gender\n",
    "    avg_attr_data = {'Female': [[], []], 'Male': [[], []]}  # Use 0 for Female, 1 for Male\n",
    "\n",
    "    # Separate data for men and women\n",
    "    for row in rows:\n",
    "        gender, avg_attr_o, dec_o_ratio = row\n",
    "        # Map numeric gender to string labels\n",
    "        gender_str = 'Female' if gender == 0 else 'Male'\n",
    "        avg_attr_data[gender_str][0].append(avg_attr_o)\n",
    "        avg_attr_data[gender_str][1].append(dec_o_ratio)\n",
    "            \n",
    "    return avg_attr_data"
   ]
  },
  {
   "cell_type": "code",
   "execution_count": 254,
   "id": "e26e6710",
   "metadata": {},
   "outputs": [],
   "source": [
    "# Creates the traces for the plotly scatter chart\n",
    "\n",
    "# Parameters:\n",
    "#   - data (dict): the dictionary containing the x and y data\n",
    "#                  for each gender\n",
    "#   - colors (list): the colors to use for the male and female markers\n",
    "#   - line_plot (Boolean): The option if the plot should be scatter or \n",
    "#                          line plot. Set to False as default.\n",
    "\n",
    "def create_scatter_traces(data, colors, line_plot = False):\n",
    "    \n",
    "    # Create traces for each gender\n",
    "    traces = []\n",
    "    \n",
    "    # Set counter for colors list\n",
    "    i = 0\n",
    "    \n",
    "    for gender, (x_data, y_data) in data.items():\n",
    "        if line_plot:\n",
    "            trace = go.Scatter(\n",
    "                # The x-axis data to be used\n",
    "                x=x_data,\n",
    "                # The y-axis data to be used\n",
    "                y=y_data,\n",
    "                mode='lines+markers',\n",
    "                name=gender,\n",
    "                marker_color=colors[i]\n",
    "            )\n",
    "        else:\n",
    "            trace = go.Scatter(\n",
    "                # The x-axis data to be used\n",
    "                x=x_data,\n",
    "                # The y-axis data to be used\n",
    "                y=y_data,\n",
    "                mode='markers',\n",
    "                name=gender,\n",
    "                marker_color=colors[i]\n",
    "            )\n",
    "        traces.append(trace)\n",
    "        i = i + 1\n",
    "    \n",
    "    return traces"
   ]
  },
  {
   "cell_type": "code",
   "execution_count": 255,
   "id": "32368aee",
   "metadata": {},
   "outputs": [
    {
     "data": {
      "application/vnd.plotly.v1+json": {
       "config": {
        "plotlyServerURL": "https://plot.ly"
       },
       "data": [
        {
         "marker": {
          "color": "#ff6361"
         },
         "mode": "markers",
         "name": "Female",
         "type": "scatter",
         "x": [
          6.7,
          7.7,
          6.5,
          7,
          5.3,
          6.8,
          7.9,
          8.2,
          7,
          6.36,
          5.0625,
          4.7875,
          5.866666666666666,
          6.428571428571429,
          7.733333333333333,
          7.6,
          8.2,
          5.733333333333333,
          6.066666666666666,
          7.875,
          6.933333333333334,
          6,
          7.1875,
          7.333333333333333,
          6.2,
          4.8533333333333335,
          6.533333333333333,
          4.333333333333333,
          7.5,
          5.3,
          4.8,
          3.9,
          8.3,
          4.4,
          5.3,
          6.5,
          6.352941176470588,
          6.833333333333333,
          6.472222222222222,
          5.888888888888889,
          6.388888888888889,
          7.888888888888889,
          6.611111111111111,
          7.333333333333333,
          6.777777777777778,
          6.388888888888889,
          7.333333333333333,
          7.5,
          7,
          6.944444444444445,
          5.888888888888889,
          8.38888888888889,
          7.888888888888889,
          7.138888888888889,
          7.9,
          6.4,
          5,
          7.222222222222222,
          6.7,
          7.777777777777778,
          7.777777777777778,
          7.8,
          4.8,
          7.8,
          5.2,
          6.5,
          6.125,
          7.3125,
          4.725,
          6.866666666666666,
          5.4375,
          5.5,
          6.75,
          7.0625,
          7.3125,
          7.25,
          8.6875,
          7.125,
          6.3125,
          7.75,
          7.1875,
          7,
          7.625,
          4.777777777777778,
          5.8,
          7.111111111111111,
          5,
          4.555555555555555,
          8,
          7.625,
          7.333333333333333,
          5.222222222222222,
          6.333333333333333,
          4.55,
          6.65,
          6.35,
          6.85,
          4.6,
          7.3,
          7.526315789473684,
          6.684210526315789,
          5.75,
          6.95,
          5.75,
          6.25,
          5.95,
          8.45,
          7.7,
          5.666666666666667,
          6.2105263157894735,
          7.2,
          6.95,
          7.1,
          5.888888888888889,
          7.888888888888889,
          5.555555555555555,
          5.333333333333333,
          6.666666666666667,
          5.777777777777778,
          6.777777777777778,
          6.666666666666667,
          8,
          6.833333333333333,
          3.75,
          5.809523809523809,
          5.714285714285714,
          6.571428571428571,
          6.85,
          6.85,
          6.55,
          5.55,
          5.25,
          5.380952380952381,
          5.95,
          6,
          4.75,
          7.375,
          5.95,
          8.425,
          7.476190476190476,
          6.142857142857143,
          6.523809523809524,
          7.571428571428571,
          7.857142857142857,
          5.571428571428571,
          5.214285714285714,
          7.214285714285714,
          5.785714285714286,
          5.785714285714286,
          5.642857142857143,
          6.142857142857143,
          5.090909090909091,
          7.214285714285714,
          6.428571428571429,
          6.571428571428571,
          6.928571428571429,
          7.214285714285714,
          6.428571428571429,
          7.666666666666667,
          6.714285714285714,
          6,
          5.142857142857143,
          8.285714285714286,
          7.285714285714286,
          4.857142857142857,
          7.857142857142857,
          4.428571428571429,
          7.0625,
          5.9375,
          5.25,
          6.9375,
          6,
          3.076923076923077,
          4.705882352941177,
          8.176470588235293,
          7.666666666666667,
          7,
          5.888888888888889,
          4.9375,
          6.882352941176471,
          7.2,
          7.98888888888889,
          7.588235294117647,
          7.411764705882353,
          6.233333333333333,
          5.933333333333334,
          6.0625,
          5.705882352941177,
          6.176470588235294,
          6,
          6.384615384615385,
          6.833333333333333,
          6.888888888888889,
          5.388888888888889,
          8.029411764705882,
          6.805555555555555,
          7.470588235294118,
          3.4375,
          6.444444444444445,
          5.777777777777778,
          4.8125,
          5.352941176470588,
          5.611111111111111,
          5.125,
          5.25,
          6.75,
          6.285714285714286,
          7.5,
          6.875,
          6.142857142857143,
          5.785714285714286,
          6.571428571428571,
          5.142857142857143,
          7.142857142857143,
          5.769230769230769,
          7.285714285714286,
          5.928571428571429,
          6.5,
          7.428571428571429,
          5.8,
          5.8,
          7.4,
          5.8,
          6.4,
          7,
          7.733333333333333,
          8.333333333333334,
          8.333333333333334,
          8,
          8.066666666666666,
          6.266666666666667,
          7.2,
          5.933333333333334,
          7.933333333333334,
          7.066666666666666,
          7.153846153846154,
          6.333333333333333,
          7.857142857142857,
          7.666666666666667,
          7.6923076923076925,
          7,
          6.428571428571429,
          6.857142857142857,
          5.714285714285714,
          5.857142857142857,
          6.714285714285714,
          5.2631578947368425,
          7.65,
          6.095238095238095,
          7.9411764705882355,
          7.85,
          4.666666666666667,
          7,
          7.238095238095238,
          6.25,
          7.045454545454546,
          6.111111111111111,
          5.052631578947368,
          6.15,
          6.409090909090909,
          4.090909090909091,
          7,
          4.523809523809524,
          4.6952380952380945,
          4.904761904761905,
          5.45,
          4.095238095238095,
          4.142857142857143
         ],
         "y": [
          50,
          60,
          50,
          60,
          30,
          50,
          70,
          80,
          70,
          40,
          18.75,
          18.75,
          33.33333333333333,
          42.857142857142854,
          86.66666666666667,
          93.33333333333333,
          93.33333333333333,
          20,
          26.666666666666668,
          81.25,
          53.333333333333336,
          25,
          68.75,
          66.66666666666666,
          53.333333333333336,
          20,
          40,
          13.333333333333334,
          70,
          20,
          20,
          20,
          80,
          10,
          20,
          40,
          52.94117647058824,
          44.44444444444444,
          27.77777777777778,
          50,
          27.77777777777778,
          77.77777777777779,
          55.55555555555556,
          72.22222222222221,
          50,
          38.88888888888889,
          77.77777777777779,
          55.55555555555556,
          33.33333333333333,
          44.44444444444444,
          16.666666666666664,
          88.88888888888889,
          61.111111111111114,
          77.77777777777779,
          80,
          40,
          20,
          55.55555555555556,
          60,
          55.55555555555556,
          77.77777777777779,
          70,
          20,
          100,
          40,
          60,
          50,
          56.25,
          6.25,
          40,
          31.25,
          31.25,
          50,
          68.75,
          75,
          68.75,
          87.5,
          43.75,
          31.25,
          81.25,
          56.25,
          62.5,
          75,
          11.11111111111111,
          40,
          44.44444444444444,
          0,
          33.33333333333333,
          80,
          87.5,
          66.66666666666666,
          22.22222222222222,
          22.22222222222222,
          15,
          80,
          40,
          80,
          15,
          75,
          84.21052631578947,
          36.84210526315789,
          55.00000000000001,
          75,
          40,
          65,
          45,
          95,
          100,
          26.666666666666668,
          68.42105263157895,
          70,
          75,
          75,
          44.44444444444444,
          88.88888888888889,
          11.11111111111111,
          33.33333333333333,
          55.55555555555556,
          33.33333333333333,
          66.66666666666666,
          88.88888888888889,
          77.77777777777779,
          52.38095238095239,
          25,
          42.857142857142854,
          33.33333333333333,
          76.19047619047619,
          55.00000000000001,
          65,
          35,
          50,
          40,
          42.857142857142854,
          70,
          65,
          30,
          80,
          25,
          95,
          76.19047619047619,
          57.14285714285714,
          47.61904761904761,
          52.38095238095239,
          64.28571428571429,
          14.285714285714285,
          35.714285714285715,
          57.14285714285714,
          21.428571428571427,
          35.714285714285715,
          21.428571428571427,
          28.57142857142857,
          0,
          57.14285714285714,
          28.57142857142857,
          21.428571428571427,
          14.285714285714285,
          64.28571428571429,
          14.285714285714285,
          50,
          42.857142857142854,
          28.57142857142857,
          28.57142857142857,
          100,
          57.14285714285714,
          28.57142857142857,
          71.42857142857143,
          14.285714285714285,
          43.75,
          18.75,
          18.75,
          43.75,
          37.5,
          0,
          5.88235294117647,
          70.58823529411765,
          72.22222222222221,
          37.5,
          22.22222222222222,
          6.25,
          52.94117647058824,
          53.333333333333336,
          44.44444444444444,
          64.70588235294117,
          58.82352941176471,
          33.33333333333333,
          26.666666666666668,
          56.25,
          23.52941176470588,
          41.17647058823529,
          41.17647058823529,
          53.84615384615385,
          66.66666666666666,
          50,
          27.77777777777778,
          70.58823529411765,
          44.44444444444444,
          94.11764705882352,
          12.5,
          50,
          44.44444444444444,
          25,
          23.52941176470588,
          22.22222222222222,
          25,
          12.5,
          62.5,
          14.285714285714285,
          87.5,
          50,
          64.28571428571429,
          50,
          50,
          42.857142857142854,
          78.57142857142857,
          30.76923076923077,
          50,
          28.57142857142857,
          71.42857142857143,
          64.28571428571429,
          40,
          0,
          100,
          20,
          40,
          60,
          66.66666666666666,
          66.66666666666666,
          66.66666666666666,
          73.33333333333333,
          73.33333333333333,
          46.666666666666664,
          46.666666666666664,
          6.666666666666667,
          80,
          53.333333333333336,
          30.76923076923077,
          26.666666666666668,
          71.42857142857143,
          53.333333333333336,
          53.84615384615385,
          85.71428571428571,
          42.857142857142854,
          71.42857142857143,
          42.857142857142854,
          85.71428571428571,
          57.14285714285714,
          47.368421052631575,
          70,
          19.047619047619047,
          52.94117647058824,
          75,
          19.047619047619047,
          42.857142857142854,
          57.14285714285714,
          37.5,
          63.63636363636363,
          38.88888888888889,
          21.052631578947366,
          45,
          54.54545454545454,
          9.090909090909092,
          66.66666666666666,
          0,
          14.285714285714285,
          14.285714285714285,
          25,
          14.285714285714285,
          14.285714285714285
         ]
        },
        {
         "marker": {
          "color": "#003f5c"
         },
         "mode": "markers",
         "name": "Male",
         "type": "scatter",
         "x": [
          5.6,
          7.1,
          4.8,
          8.2,
          5.7,
          5.6,
          6.7,
          5.1,
          7.7,
          7.5,
          4.166666666666667,
          3.7777777777777777,
          5.055555555555555,
          4.277777777777778,
          4.944444444444445,
          5.277777777777778,
          7.666666666666667,
          4.055555555555555,
          6.777777777777778,
          6.529411764705882,
          6,
          5.388888888888889,
          3.8333333333333335,
          6.9411764705882355,
          4.444444444444445,
          6.333333333333333,
          5.625,
          6.5,
          5.75,
          7.375,
          6.125,
          4.875,
          6.625,
          6.375,
          5.875,
          5.25,
          3.6666666666666665,
          4.666666666666667,
          4.388888888888889,
          7.166666666666667,
          5.611111111111111,
          7.833333333333333,
          4.764705882352941,
          4,
          4.111111111111111,
          6.222222222222222,
          6.877777777777777,
          6.277777777777778,
          5.111111111111111,
          6.888888888888889,
          7.166666666666667,
          5.833333333333333,
          5.5,
          4.777777777777778,
          7.777777777777778,
          6.266666666666667,
          3.7777777777777777,
          8,
          6.111111111111111,
          7.333333333333333,
          7.875,
          6.222222222222222,
          7.333333333333333,
          4.428571428571429,
          7.333333333333333,
          7.5,
          6.25,
          8,
          5.75,
          4.5625,
          4.125,
          7.375,
          7.75,
          5.75,
          6.875,
          6.6875,
          7.375,
          6.875,
          5.9375,
          4.875,
          8.0625,
          4.4,
          5.8125,
          6.9375,
          6.125,
          6.2,
          5,
          5.222222222222222,
          4,
          4.4,
          5.4,
          6.7,
          6.5,
          6.5,
          6.1,
          5.7,
          6.9,
          3.6,
          7.8,
          5.388888888888889,
          7.5,
          5.25,
          6.05,
          3.2,
          5.35,
          5.95,
          6.1,
          8.6,
          6.95,
          5.55,
          7.2631578947368425,
          5.7,
          5.95,
          5,
          5.611111111111111,
          5.666666666666667,
          6.333333333333333,
          4.777777777777778,
          4.111111111111111,
          4,
          7,
          4.222222222222222,
          6.777777777777778,
          4.777777777777778,
          5.857142857142857,
          5.619047619047619,
          6.25,
          5.809523809523809,
          6.523809523809524,
          4.476190476190476,
          7.023809523809524,
          4.857142857142857,
          5.523809523809524,
          6.476190476190476,
          5.1,
          5.809523809523809,
          4.571428571428571,
          5.25,
          4.35,
          6,
          6.095238095238095,
          6.571428571428571,
          5.095238095238095,
          7.333333333333333,
          5.619047619047619,
          5.071428571428571,
          6.642857142857143,
          6.3076923076923075,
          7.392857142857143,
          6.785714285714286,
          7.076923076923077,
          5.571428571428571,
          6.392857142857143,
          7.471428571428571,
          7.928571428571429,
          5.071428571428571,
          4.428571428571429,
          5.5,
          6,
          5.1,
          7.8,
          7.3,
          6.222222222222222,
          6.1,
          5.9,
          4.8,
          4.1875,
          5.352941176470588,
          5.111111111111111,
          6.421052631578948,
          6.8125,
          7.555555555555555,
          6.411764705882353,
          6.2,
          6.357142857142857,
          7.875,
          7.555555555555555,
          6.6,
          8.466666666666667,
          5.625,
          8.333333333333334,
          6.5,
          5.529411764705882,
          6.411764705882353,
          5.722222222222222,
          7.117647058823529,
          6.888888888888889,
          7.111111111111111,
          6.333333333333333,
          5.111111111111111,
          5,
          8.305555555555555,
          5.4375,
          6.0588235294117645,
          7.111111111111111,
          6.722222222222222,
          7.125,
          7.222222222222222,
          7.027777777777778,
          5.722222222222222,
          6.888888888888889,
          3.9375,
          6.6,
          6,
          5,
          3.5,
          3.2,
          5.8,
          6.2,
          7.5,
          8.4,
          6.6,
          6.1,
          6.3,
          8.4,
          6.5,
          6.1,
          7.1,
          7.9,
          7.7,
          5.6,
          2.8,
          4.2,
          3.888888888888889,
          7,
          4.5,
          4.166666666666667,
          5.833333333333333,
          7,
          6.4,
          5.285714285714286,
          5.866666666666666,
          4.285714285714286,
          4.266666666666667,
          5.533333333333333,
          3.6666666666666665,
          4.857142857142857,
          7.466666666666667,
          3.8428571428571425,
          7.666666666666667,
          7.333333333333333,
          7.285714285714286,
          5.733333333333333,
          4.8,
          3.8333333333333335,
          2.3333333333333335,
          6.5,
          6.5,
          4.666666666666667,
          6,
          5.833333333333333,
          4.454545454545454,
          3.8,
          5.714285714285714,
          5.454545454545454,
          5.9,
          6.6,
          6.2,
          5.842105263157895,
          5,
          4.2,
          4.5,
          5.0476190476190474,
          5.15,
          4.9,
          6,
          7.380952380952381,
          6.318181818181818,
          6.857142857142857,
          6.35,
          5.136363636363637,
          6.2,
          7.3
         ],
         "y": [
          40,
          40,
          40,
          80,
          30,
          30,
          80,
          30,
          90,
          90,
          22.22222222222222,
          0,
          22.22222222222222,
          16.666666666666664,
          22.22222222222222,
          22.22222222222222,
          44.44444444444444,
          5.555555555555555,
          44.44444444444444,
          47.05882352941176,
          66.66666666666666,
          22.22222222222222,
          22.22222222222222,
          47.05882352941176,
          0,
          33.33333333333333,
          37.5,
          37.5,
          12.5,
          75,
          37.5,
          37.5,
          25,
          50,
          25,
          25,
          16.666666666666664,
          11.11111111111111,
          0,
          55.55555555555556,
          11.11111111111111,
          94.44444444444444,
          29.411764705882355,
          0,
          11.11111111111111,
          27.77777777777778,
          50,
          55.55555555555556,
          27.77777777777778,
          66.66666666666666,
          55.55555555555556,
          44.44444444444444,
          27.77777777777778,
          11.11111111111111,
          77.77777777777779,
          44.44444444444444,
          0,
          88.88888888888889,
          33.33333333333333,
          55.55555555555556,
          75,
          33.33333333333333,
          77.77777777777779,
          14.285714285714285,
          33.33333333333333,
          50,
          25,
          75,
          25,
          0,
          12.5,
          25,
          68.75,
          25,
          50,
          37.5,
          25,
          25,
          25,
          18.75,
          81.25,
          0,
          31.25,
          50,
          37.5,
          80,
          20,
          44.44444444444444,
          0,
          20,
          40,
          60,
          80,
          60,
          50,
          15,
          40,
          5,
          65,
          16.666666666666664,
          50,
          15,
          25,
          5,
          5,
          30,
          25,
          65,
          35,
          5,
          42.10526315789473,
          20,
          25,
          10.526315789473683,
          27.77777777777778,
          77.77777777777779,
          66.66666666666666,
          33.33333333333333,
          11.11111111111111,
          0,
          77.77777777777779,
          0,
          88.88888888888889,
          22.22222222222222,
          33.33333333333333,
          28.57142857142857,
          5,
          33.33333333333333,
          57.14285714285714,
          0,
          57.14285714285714,
          28.57142857142857,
          19.047619047619047,
          38.095238095238095,
          15,
          33.33333333333333,
          9.523809523809524,
          0,
          0,
          47.61904761904761,
          57.14285714285714,
          33.33333333333333,
          23.809523809523807,
          38.095238095238095,
          28.57142857142857,
          7.142857142857142,
          50,
          23.076923076923077,
          57.14285714285714,
          50,
          69.23076923076923,
          7.142857142857142,
          35.714285714285715,
          64.28571428571429,
          64.28571428571429,
          7.142857142857142,
          21.428571428571427,
          0,
          38.46153846153847,
          40,
          80,
          50,
          66.66666666666666,
          40,
          40,
          30,
          25,
          47.05882352941176,
          27.77777777777778,
          47.368421052631575,
          50,
          94.44444444444444,
          64.70588235294117,
          66.66666666666666,
          71.42857142857143,
          81.25,
          55.55555555555556,
          60,
          80,
          37.5,
          61.111111111111114,
          55.55555555555556,
          17.647058823529413,
          35.294117647058826,
          33.33333333333333,
          70.58823529411765,
          55.55555555555556,
          77.77777777777779,
          50,
          11.11111111111111,
          18.75,
          61.111111111111114,
          25,
          35.294117647058826,
          72.22222222222221,
          50,
          62.5,
          72.22222222222221,
          50,
          33.33333333333333,
          61.111111111111114,
          6.25,
          80,
          20,
          40,
          0,
          0,
          20,
          60,
          25,
          50,
          50,
          40,
          20,
          50,
          40,
          50,
          30,
          60,
          30,
          30,
          0,
          10,
          11.11111111111111,
          83.33333333333334,
          16.666666666666664,
          16.666666666666664,
          50,
          66.66666666666666,
          13.333333333333334,
          57.14285714285714,
          33.33333333333333,
          14.285714285714285,
          13.333333333333334,
          40,
          6.666666666666667,
          28.57142857142857,
          73.33333333333333,
          14.285714285714285,
          80,
          66.66666666666666,
          64.28571428571429,
          46.666666666666664,
          20,
          0,
          0,
          33.33333333333333,
          16.666666666666664,
          0,
          66.66666666666666,
          16.666666666666664,
          31.818181818181817,
          20,
          33.33333333333333,
          31.818181818181817,
          65,
          50,
          60,
          63.1578947368421,
          38.095238095238095,
          25,
          30,
          28.57142857142857,
          30,
          40,
          46.15384615384615,
          57.14285714285714,
          50,
          47.61904761904761,
          50,
          27.27272727272727,
          50,
          75
         ]
        }
       ],
       "layout": {
        "barmode": "group",
        "paper_bgcolor": "#dadfe1",
        "plot_bgcolor": "#dadfe1",
        "template": {
         "data": {
          "bar": [
           {
            "error_x": {
             "color": "#2a3f5f"
            },
            "error_y": {
             "color": "#2a3f5f"
            },
            "marker": {
             "line": {
              "color": "#E5ECF6",
              "width": 0.5
             },
             "pattern": {
              "fillmode": "overlay",
              "size": 10,
              "solidity": 0.2
             }
            },
            "type": "bar"
           }
          ],
          "barpolar": [
           {
            "marker": {
             "line": {
              "color": "#E5ECF6",
              "width": 0.5
             },
             "pattern": {
              "fillmode": "overlay",
              "size": 10,
              "solidity": 0.2
             }
            },
            "type": "barpolar"
           }
          ],
          "carpet": [
           {
            "aaxis": {
             "endlinecolor": "#2a3f5f",
             "gridcolor": "white",
             "linecolor": "white",
             "minorgridcolor": "white",
             "startlinecolor": "#2a3f5f"
            },
            "baxis": {
             "endlinecolor": "#2a3f5f",
             "gridcolor": "white",
             "linecolor": "white",
             "minorgridcolor": "white",
             "startlinecolor": "#2a3f5f"
            },
            "type": "carpet"
           }
          ],
          "choropleth": [
           {
            "colorbar": {
             "outlinewidth": 0,
             "ticks": ""
            },
            "type": "choropleth"
           }
          ],
          "contour": [
           {
            "colorbar": {
             "outlinewidth": 0,
             "ticks": ""
            },
            "colorscale": [
             [
              0,
              "#0d0887"
             ],
             [
              0.1111111111111111,
              "#46039f"
             ],
             [
              0.2222222222222222,
              "#7201a8"
             ],
             [
              0.3333333333333333,
              "#9c179e"
             ],
             [
              0.4444444444444444,
              "#bd3786"
             ],
             [
              0.5555555555555556,
              "#d8576b"
             ],
             [
              0.6666666666666666,
              "#ed7953"
             ],
             [
              0.7777777777777778,
              "#fb9f3a"
             ],
             [
              0.8888888888888888,
              "#fdca26"
             ],
             [
              1,
              "#f0f921"
             ]
            ],
            "type": "contour"
           }
          ],
          "contourcarpet": [
           {
            "colorbar": {
             "outlinewidth": 0,
             "ticks": ""
            },
            "type": "contourcarpet"
           }
          ],
          "heatmap": [
           {
            "colorbar": {
             "outlinewidth": 0,
             "ticks": ""
            },
            "colorscale": [
             [
              0,
              "#0d0887"
             ],
             [
              0.1111111111111111,
              "#46039f"
             ],
             [
              0.2222222222222222,
              "#7201a8"
             ],
             [
              0.3333333333333333,
              "#9c179e"
             ],
             [
              0.4444444444444444,
              "#bd3786"
             ],
             [
              0.5555555555555556,
              "#d8576b"
             ],
             [
              0.6666666666666666,
              "#ed7953"
             ],
             [
              0.7777777777777778,
              "#fb9f3a"
             ],
             [
              0.8888888888888888,
              "#fdca26"
             ],
             [
              1,
              "#f0f921"
             ]
            ],
            "type": "heatmap"
           }
          ],
          "heatmapgl": [
           {
            "colorbar": {
             "outlinewidth": 0,
             "ticks": ""
            },
            "colorscale": [
             [
              0,
              "#0d0887"
             ],
             [
              0.1111111111111111,
              "#46039f"
             ],
             [
              0.2222222222222222,
              "#7201a8"
             ],
             [
              0.3333333333333333,
              "#9c179e"
             ],
             [
              0.4444444444444444,
              "#bd3786"
             ],
             [
              0.5555555555555556,
              "#d8576b"
             ],
             [
              0.6666666666666666,
              "#ed7953"
             ],
             [
              0.7777777777777778,
              "#fb9f3a"
             ],
             [
              0.8888888888888888,
              "#fdca26"
             ],
             [
              1,
              "#f0f921"
             ]
            ],
            "type": "heatmapgl"
           }
          ],
          "histogram": [
           {
            "marker": {
             "pattern": {
              "fillmode": "overlay",
              "size": 10,
              "solidity": 0.2
             }
            },
            "type": "histogram"
           }
          ],
          "histogram2d": [
           {
            "colorbar": {
             "outlinewidth": 0,
             "ticks": ""
            },
            "colorscale": [
             [
              0,
              "#0d0887"
             ],
             [
              0.1111111111111111,
              "#46039f"
             ],
             [
              0.2222222222222222,
              "#7201a8"
             ],
             [
              0.3333333333333333,
              "#9c179e"
             ],
             [
              0.4444444444444444,
              "#bd3786"
             ],
             [
              0.5555555555555556,
              "#d8576b"
             ],
             [
              0.6666666666666666,
              "#ed7953"
             ],
             [
              0.7777777777777778,
              "#fb9f3a"
             ],
             [
              0.8888888888888888,
              "#fdca26"
             ],
             [
              1,
              "#f0f921"
             ]
            ],
            "type": "histogram2d"
           }
          ],
          "histogram2dcontour": [
           {
            "colorbar": {
             "outlinewidth": 0,
             "ticks": ""
            },
            "colorscale": [
             [
              0,
              "#0d0887"
             ],
             [
              0.1111111111111111,
              "#46039f"
             ],
             [
              0.2222222222222222,
              "#7201a8"
             ],
             [
              0.3333333333333333,
              "#9c179e"
             ],
             [
              0.4444444444444444,
              "#bd3786"
             ],
             [
              0.5555555555555556,
              "#d8576b"
             ],
             [
              0.6666666666666666,
              "#ed7953"
             ],
             [
              0.7777777777777778,
              "#fb9f3a"
             ],
             [
              0.8888888888888888,
              "#fdca26"
             ],
             [
              1,
              "#f0f921"
             ]
            ],
            "type": "histogram2dcontour"
           }
          ],
          "mesh3d": [
           {
            "colorbar": {
             "outlinewidth": 0,
             "ticks": ""
            },
            "type": "mesh3d"
           }
          ],
          "parcoords": [
           {
            "line": {
             "colorbar": {
              "outlinewidth": 0,
              "ticks": ""
             }
            },
            "type": "parcoords"
           }
          ],
          "pie": [
           {
            "automargin": true,
            "type": "pie"
           }
          ],
          "scatter": [
           {
            "fillpattern": {
             "fillmode": "overlay",
             "size": 10,
             "solidity": 0.2
            },
            "type": "scatter"
           }
          ],
          "scatter3d": [
           {
            "line": {
             "colorbar": {
              "outlinewidth": 0,
              "ticks": ""
             }
            },
            "marker": {
             "colorbar": {
              "outlinewidth": 0,
              "ticks": ""
             }
            },
            "type": "scatter3d"
           }
          ],
          "scattercarpet": [
           {
            "marker": {
             "colorbar": {
              "outlinewidth": 0,
              "ticks": ""
             }
            },
            "type": "scattercarpet"
           }
          ],
          "scattergeo": [
           {
            "marker": {
             "colorbar": {
              "outlinewidth": 0,
              "ticks": ""
             }
            },
            "type": "scattergeo"
           }
          ],
          "scattergl": [
           {
            "marker": {
             "colorbar": {
              "outlinewidth": 0,
              "ticks": ""
             }
            },
            "type": "scattergl"
           }
          ],
          "scattermapbox": [
           {
            "marker": {
             "colorbar": {
              "outlinewidth": 0,
              "ticks": ""
             }
            },
            "type": "scattermapbox"
           }
          ],
          "scatterpolar": [
           {
            "marker": {
             "colorbar": {
              "outlinewidth": 0,
              "ticks": ""
             }
            },
            "type": "scatterpolar"
           }
          ],
          "scatterpolargl": [
           {
            "marker": {
             "colorbar": {
              "outlinewidth": 0,
              "ticks": ""
             }
            },
            "type": "scatterpolargl"
           }
          ],
          "scatterternary": [
           {
            "marker": {
             "colorbar": {
              "outlinewidth": 0,
              "ticks": ""
             }
            },
            "type": "scatterternary"
           }
          ],
          "surface": [
           {
            "colorbar": {
             "outlinewidth": 0,
             "ticks": ""
            },
            "colorscale": [
             [
              0,
              "#0d0887"
             ],
             [
              0.1111111111111111,
              "#46039f"
             ],
             [
              0.2222222222222222,
              "#7201a8"
             ],
             [
              0.3333333333333333,
              "#9c179e"
             ],
             [
              0.4444444444444444,
              "#bd3786"
             ],
             [
              0.5555555555555556,
              "#d8576b"
             ],
             [
              0.6666666666666666,
              "#ed7953"
             ],
             [
              0.7777777777777778,
              "#fb9f3a"
             ],
             [
              0.8888888888888888,
              "#fdca26"
             ],
             [
              1,
              "#f0f921"
             ]
            ],
            "type": "surface"
           }
          ],
          "table": [
           {
            "cells": {
             "fill": {
              "color": "#EBF0F8"
             },
             "line": {
              "color": "white"
             }
            },
            "header": {
             "fill": {
              "color": "#C8D4E3"
             },
             "line": {
              "color": "white"
             }
            },
            "type": "table"
           }
          ]
         },
         "layout": {
          "annotationdefaults": {
           "arrowcolor": "#2a3f5f",
           "arrowhead": 0,
           "arrowwidth": 1
          },
          "autotypenumbers": "strict",
          "coloraxis": {
           "colorbar": {
            "outlinewidth": 0,
            "ticks": ""
           }
          },
          "colorscale": {
           "diverging": [
            [
             0,
             "#8e0152"
            ],
            [
             0.1,
             "#c51b7d"
            ],
            [
             0.2,
             "#de77ae"
            ],
            [
             0.3,
             "#f1b6da"
            ],
            [
             0.4,
             "#fde0ef"
            ],
            [
             0.5,
             "#f7f7f7"
            ],
            [
             0.6,
             "#e6f5d0"
            ],
            [
             0.7,
             "#b8e186"
            ],
            [
             0.8,
             "#7fbc41"
            ],
            [
             0.9,
             "#4d9221"
            ],
            [
             1,
             "#276419"
            ]
           ],
           "sequential": [
            [
             0,
             "#0d0887"
            ],
            [
             0.1111111111111111,
             "#46039f"
            ],
            [
             0.2222222222222222,
             "#7201a8"
            ],
            [
             0.3333333333333333,
             "#9c179e"
            ],
            [
             0.4444444444444444,
             "#bd3786"
            ],
            [
             0.5555555555555556,
             "#d8576b"
            ],
            [
             0.6666666666666666,
             "#ed7953"
            ],
            [
             0.7777777777777778,
             "#fb9f3a"
            ],
            [
             0.8888888888888888,
             "#fdca26"
            ],
            [
             1,
             "#f0f921"
            ]
           ],
           "sequentialminus": [
            [
             0,
             "#0d0887"
            ],
            [
             0.1111111111111111,
             "#46039f"
            ],
            [
             0.2222222222222222,
             "#7201a8"
            ],
            [
             0.3333333333333333,
             "#9c179e"
            ],
            [
             0.4444444444444444,
             "#bd3786"
            ],
            [
             0.5555555555555556,
             "#d8576b"
            ],
            [
             0.6666666666666666,
             "#ed7953"
            ],
            [
             0.7777777777777778,
             "#fb9f3a"
            ],
            [
             0.8888888888888888,
             "#fdca26"
            ],
            [
             1,
             "#f0f921"
            ]
           ]
          },
          "colorway": [
           "#636efa",
           "#EF553B",
           "#00cc96",
           "#ab63fa",
           "#FFA15A",
           "#19d3f3",
           "#FF6692",
           "#B6E880",
           "#FF97FF",
           "#FECB52"
          ],
          "font": {
           "color": "#2a3f5f"
          },
          "geo": {
           "bgcolor": "white",
           "lakecolor": "white",
           "landcolor": "#E5ECF6",
           "showlakes": true,
           "showland": true,
           "subunitcolor": "white"
          },
          "hoverlabel": {
           "align": "left"
          },
          "hovermode": "closest",
          "mapbox": {
           "style": "light"
          },
          "paper_bgcolor": "white",
          "plot_bgcolor": "#E5ECF6",
          "polar": {
           "angularaxis": {
            "gridcolor": "white",
            "linecolor": "white",
            "ticks": ""
           },
           "bgcolor": "#E5ECF6",
           "radialaxis": {
            "gridcolor": "white",
            "linecolor": "white",
            "ticks": ""
           }
          },
          "scene": {
           "xaxis": {
            "backgroundcolor": "#E5ECF6",
            "gridcolor": "white",
            "gridwidth": 2,
            "linecolor": "white",
            "showbackground": true,
            "ticks": "",
            "zerolinecolor": "white"
           },
           "yaxis": {
            "backgroundcolor": "#E5ECF6",
            "gridcolor": "white",
            "gridwidth": 2,
            "linecolor": "white",
            "showbackground": true,
            "ticks": "",
            "zerolinecolor": "white"
           },
           "zaxis": {
            "backgroundcolor": "#E5ECF6",
            "gridcolor": "white",
            "gridwidth": 2,
            "linecolor": "white",
            "showbackground": true,
            "ticks": "",
            "zerolinecolor": "white"
           }
          },
          "shapedefaults": {
           "line": {
            "color": "#2a3f5f"
           }
          },
          "ternary": {
           "aaxis": {
            "gridcolor": "white",
            "linecolor": "white",
            "ticks": ""
           },
           "baxis": {
            "gridcolor": "white",
            "linecolor": "white",
            "ticks": ""
           },
           "bgcolor": "#E5ECF6",
           "caxis": {
            "gridcolor": "white",
            "linecolor": "white",
            "ticks": ""
           }
          },
          "title": {
           "x": 0.05
          },
          "xaxis": {
           "automargin": true,
           "gridcolor": "white",
           "linecolor": "white",
           "ticks": "",
           "title": {
            "standoff": 15
           },
           "zerolinecolor": "white",
           "zerolinewidth": 2
          },
          "yaxis": {
           "automargin": true,
           "gridcolor": "white",
           "linecolor": "white",
           "ticks": "",
           "title": {
            "standoff": 15
           },
           "zerolinecolor": "white",
           "zerolinewidth": 2
          }
         }
        },
        "title": {
         "text": "Influence of Average Attractiveness Rating Received on Second Date Success"
        },
        "xaxis": {
         "title": {
          "text": "Average Attractiveness Rating Received"
         }
        },
        "yaxis": {
         "title": {
          "text": "Percentage of Successful Second Dates"
         }
        }
       }
      },
      "text/html": [
       "<div>                            <div id=\"0621daf4-3731-44bf-bcdb-46198cc75999\" class=\"plotly-graph-div\" style=\"height:525px; width:100%;\"></div>            <script type=\"text/javascript\">                require([\"plotly\"], function(Plotly) {                    window.PLOTLYENV=window.PLOTLYENV || {};                                    if (document.getElementById(\"0621daf4-3731-44bf-bcdb-46198cc75999\")) {                    Plotly.newPlot(                        \"0621daf4-3731-44bf-bcdb-46198cc75999\",                        [{\"marker\":{\"color\":\"#ff6361\"},\"mode\":\"markers\",\"name\":\"Female\",\"x\":[6.7,7.7,6.5,7.0,5.3,6.8,7.9,8.2,7.0,6.36,5.0625,4.7875,5.866666666666666,6.428571428571429,7.733333333333333,7.6,8.2,5.733333333333333,6.066666666666666,7.875,6.933333333333334,6.0,7.1875,7.333333333333333,6.2,4.8533333333333335,6.533333333333333,4.333333333333333,7.5,5.3,4.8,3.9,8.3,4.4,5.3,6.5,6.352941176470588,6.833333333333333,6.472222222222222,5.888888888888889,6.388888888888889,7.888888888888889,6.611111111111111,7.333333333333333,6.777777777777778,6.388888888888889,7.333333333333333,7.5,7.0,6.944444444444445,5.888888888888889,8.38888888888889,7.888888888888889,7.138888888888889,7.9,6.4,5.0,7.222222222222222,6.7,7.777777777777778,7.777777777777778,7.8,4.8,7.8,5.2,6.5,6.125,7.3125,4.725,6.866666666666666,5.4375,5.5,6.75,7.0625,7.3125,7.25,8.6875,7.125,6.3125,7.75,7.1875,7.0,7.625,4.777777777777778,5.8,7.111111111111111,5.0,4.555555555555555,8.0,7.625,7.333333333333333,5.222222222222222,6.333333333333333,4.55,6.65,6.35,6.85,4.6,7.3,7.526315789473684,6.684210526315789,5.75,6.95,5.75,6.25,5.95,8.45,7.7,5.666666666666667,6.2105263157894735,7.2,6.95,7.1,5.888888888888889,7.888888888888889,5.555555555555555,5.333333333333333,6.666666666666667,5.777777777777778,6.777777777777778,6.666666666666667,8.0,6.833333333333333,3.75,5.809523809523809,5.714285714285714,6.571428571428571,6.85,6.85,6.55,5.55,5.25,5.380952380952381,5.95,6.0,4.75,7.375,5.95,8.425,7.476190476190476,6.142857142857143,6.523809523809524,7.571428571428571,7.857142857142857,5.571428571428571,5.214285714285714,7.214285714285714,5.785714285714286,5.785714285714286,5.642857142857143,6.142857142857143,5.090909090909091,7.214285714285714,6.428571428571429,6.571428571428571,6.928571428571429,7.214285714285714,6.428571428571429,7.666666666666667,6.714285714285714,6.0,5.142857142857143,8.285714285714286,7.285714285714286,4.857142857142857,7.857142857142857,4.428571428571429,7.0625,5.9375,5.25,6.9375,6.0,3.076923076923077,4.705882352941177,8.176470588235293,7.666666666666667,7.0,5.888888888888889,4.9375,6.882352941176471,7.2,7.98888888888889,7.588235294117647,7.411764705882353,6.233333333333333,5.933333333333334,6.0625,5.705882352941177,6.176470588235294,6.0,6.384615384615385,6.833333333333333,6.888888888888889,5.388888888888889,8.029411764705882,6.805555555555555,7.470588235294118,3.4375,6.444444444444445,5.777777777777778,4.8125,5.352941176470588,5.611111111111111,5.125,5.25,6.75,6.285714285714286,7.5,6.875,6.142857142857143,5.785714285714286,6.571428571428571,5.142857142857143,7.142857142857143,5.769230769230769,7.285714285714286,5.928571428571429,6.5,7.428571428571429,5.8,5.8,7.4,5.8,6.4,7.0,7.733333333333333,8.333333333333334,8.333333333333334,8.0,8.066666666666666,6.266666666666667,7.2,5.933333333333334,7.933333333333334,7.066666666666666,7.153846153846154,6.333333333333333,7.857142857142857,7.666666666666667,7.6923076923076925,7.0,6.428571428571429,6.857142857142857,5.714285714285714,5.857142857142857,6.714285714285714,5.2631578947368425,7.65,6.095238095238095,7.9411764705882355,7.85,4.666666666666667,7.0,7.238095238095238,6.25,7.045454545454546,6.111111111111111,5.052631578947368,6.15,6.409090909090909,4.090909090909091,7.0,4.523809523809524,4.6952380952380945,4.904761904761905,5.45,4.095238095238095,4.142857142857143],\"y\":[50.0,60.0,50.0,60.0,30.0,50.0,70.0,80.0,70.0,40.0,18.75,18.75,33.33333333333333,42.857142857142854,86.66666666666667,93.33333333333333,93.33333333333333,20.0,26.666666666666668,81.25,53.333333333333336,25.0,68.75,66.66666666666666,53.333333333333336,20.0,40.0,13.333333333333334,70.0,20.0,20.0,20.0,80.0,10.0,20.0,40.0,52.94117647058824,44.44444444444444,27.77777777777778,50.0,27.77777777777778,77.77777777777779,55.55555555555556,72.22222222222221,50.0,38.88888888888889,77.77777777777779,55.55555555555556,33.33333333333333,44.44444444444444,16.666666666666664,88.88888888888889,61.111111111111114,77.77777777777779,80.0,40.0,20.0,55.55555555555556,60.0,55.55555555555556,77.77777777777779,70.0,20.0,100.0,40.0,60.0,50.0,56.25,6.25,40.0,31.25,31.25,50.0,68.75,75.0,68.75,87.5,43.75,31.25,81.25,56.25,62.5,75.0,11.11111111111111,40.0,44.44444444444444,0.0,33.33333333333333,80.0,87.5,66.66666666666666,22.22222222222222,22.22222222222222,15.0,80.0,40.0,80.0,15.0,75.0,84.21052631578947,36.84210526315789,55.00000000000001,75.0,40.0,65.0,45.0,95.0,100.0,26.666666666666668,68.42105263157895,70.0,75.0,75.0,44.44444444444444,88.88888888888889,11.11111111111111,33.33333333333333,55.55555555555556,33.33333333333333,66.66666666666666,88.88888888888889,77.77777777777779,52.38095238095239,25.0,42.857142857142854,33.33333333333333,76.19047619047619,55.00000000000001,65.0,35.0,50.0,40.0,42.857142857142854,70.0,65.0,30.0,80.0,25.0,95.0,76.19047619047619,57.14285714285714,47.61904761904761,52.38095238095239,64.28571428571429,14.285714285714285,35.714285714285715,57.14285714285714,21.428571428571427,35.714285714285715,21.428571428571427,28.57142857142857,0.0,57.14285714285714,28.57142857142857,21.428571428571427,14.285714285714285,64.28571428571429,14.285714285714285,50.0,42.857142857142854,28.57142857142857,28.57142857142857,100.0,57.14285714285714,28.57142857142857,71.42857142857143,14.285714285714285,43.75,18.75,18.75,43.75,37.5,0.0,5.88235294117647,70.58823529411765,72.22222222222221,37.5,22.22222222222222,6.25,52.94117647058824,53.333333333333336,44.44444444444444,64.70588235294117,58.82352941176471,33.33333333333333,26.666666666666668,56.25,23.52941176470588,41.17647058823529,41.17647058823529,53.84615384615385,66.66666666666666,50.0,27.77777777777778,70.58823529411765,44.44444444444444,94.11764705882352,12.5,50.0,44.44444444444444,25.0,23.52941176470588,22.22222222222222,25.0,12.5,62.5,14.285714285714285,87.5,50.0,64.28571428571429,50.0,50.0,42.857142857142854,78.57142857142857,30.76923076923077,50.0,28.57142857142857,71.42857142857143,64.28571428571429,40.0,0.0,100.0,20.0,40.0,60.0,66.66666666666666,66.66666666666666,66.66666666666666,73.33333333333333,73.33333333333333,46.666666666666664,46.666666666666664,6.666666666666667,80.0,53.333333333333336,30.76923076923077,26.666666666666668,71.42857142857143,53.333333333333336,53.84615384615385,85.71428571428571,42.857142857142854,71.42857142857143,42.857142857142854,85.71428571428571,57.14285714285714,47.368421052631575,70.0,19.047619047619047,52.94117647058824,75.0,19.047619047619047,42.857142857142854,57.14285714285714,37.5,63.63636363636363,38.88888888888889,21.052631578947366,45.0,54.54545454545454,9.090909090909092,66.66666666666666,0.0,14.285714285714285,14.285714285714285,25.0,14.285714285714285,14.285714285714285],\"type\":\"scatter\"},{\"marker\":{\"color\":\"#003f5c\"},\"mode\":\"markers\",\"name\":\"Male\",\"x\":[5.6,7.1,4.8,8.2,5.7,5.6,6.7,5.1,7.7,7.5,4.166666666666667,3.7777777777777777,5.055555555555555,4.277777777777778,4.944444444444445,5.277777777777778,7.666666666666667,4.055555555555555,6.777777777777778,6.529411764705882,6.0,5.388888888888889,3.8333333333333335,6.9411764705882355,4.444444444444445,6.333333333333333,5.625,6.5,5.75,7.375,6.125,4.875,6.625,6.375,5.875,5.25,3.6666666666666665,4.666666666666667,4.388888888888889,7.166666666666667,5.611111111111111,7.833333333333333,4.764705882352941,4.0,4.111111111111111,6.222222222222222,6.877777777777777,6.277777777777778,5.111111111111111,6.888888888888889,7.166666666666667,5.833333333333333,5.5,4.777777777777778,7.777777777777778,6.266666666666667,3.7777777777777777,8.0,6.111111111111111,7.333333333333333,7.875,6.222222222222222,7.333333333333333,4.428571428571429,7.333333333333333,7.5,6.25,8.0,5.75,4.5625,4.125,7.375,7.75,5.75,6.875,6.6875,7.375,6.875,5.9375,4.875,8.0625,4.4,5.8125,6.9375,6.125,6.2,5.0,5.222222222222222,4.0,4.4,5.4,6.7,6.5,6.5,6.1,5.7,6.9,3.6,7.8,5.388888888888889,7.5,5.25,6.05,3.2,5.35,5.95,6.1,8.6,6.95,5.55,7.2631578947368425,5.7,5.95,5.0,5.611111111111111,5.666666666666667,6.333333333333333,4.777777777777778,4.111111111111111,4.0,7.0,4.222222222222222,6.777777777777778,4.777777777777778,5.857142857142857,5.619047619047619,6.25,5.809523809523809,6.523809523809524,4.476190476190476,7.023809523809524,4.857142857142857,5.523809523809524,6.476190476190476,5.1,5.809523809523809,4.571428571428571,5.25,4.35,6.0,6.095238095238095,6.571428571428571,5.095238095238095,7.333333333333333,5.619047619047619,5.071428571428571,6.642857142857143,6.3076923076923075,7.392857142857143,6.785714285714286,7.076923076923077,5.571428571428571,6.392857142857143,7.471428571428571,7.928571428571429,5.071428571428571,4.428571428571429,5.5,6.0,5.1,7.8,7.3,6.222222222222222,6.1,5.9,4.8,4.1875,5.352941176470588,5.111111111111111,6.421052631578948,6.8125,7.555555555555555,6.411764705882353,6.2,6.357142857142857,7.875,7.555555555555555,6.6,8.466666666666667,5.625,8.333333333333334,6.5,5.529411764705882,6.411764705882353,5.722222222222222,7.117647058823529,6.888888888888889,7.111111111111111,6.333333333333333,5.111111111111111,5.0,8.305555555555555,5.4375,6.0588235294117645,7.111111111111111,6.722222222222222,7.125,7.222222222222222,7.027777777777778,5.722222222222222,6.888888888888889,3.9375,6.6,6.0,5.0,3.5,3.2,5.8,6.2,7.5,8.4,6.6,6.1,6.3,8.4,6.5,6.1,7.1,7.9,7.7,5.6,2.8,4.2,3.888888888888889,7.0,4.5,4.166666666666667,5.833333333333333,7.0,6.4,5.285714285714286,5.866666666666666,4.285714285714286,4.266666666666667,5.533333333333333,3.6666666666666665,4.857142857142857,7.466666666666667,3.8428571428571425,7.666666666666667,7.333333333333333,7.285714285714286,5.733333333333333,4.8,3.8333333333333335,2.3333333333333335,6.5,6.5,4.666666666666667,6.0,5.833333333333333,4.454545454545454,3.8,5.714285714285714,5.454545454545454,5.9,6.6,6.2,5.842105263157895,5.0,4.2,4.5,5.0476190476190474,5.15,4.9,6.0,7.380952380952381,6.318181818181818,6.857142857142857,6.35,5.136363636363637,6.2,7.3],\"y\":[40.0,40.0,40.0,80.0,30.0,30.0,80.0,30.0,90.0,90.0,22.22222222222222,0.0,22.22222222222222,16.666666666666664,22.22222222222222,22.22222222222222,44.44444444444444,5.555555555555555,44.44444444444444,47.05882352941176,66.66666666666666,22.22222222222222,22.22222222222222,47.05882352941176,0.0,33.33333333333333,37.5,37.5,12.5,75.0,37.5,37.5,25.0,50.0,25.0,25.0,16.666666666666664,11.11111111111111,0.0,55.55555555555556,11.11111111111111,94.44444444444444,29.411764705882355,0.0,11.11111111111111,27.77777777777778,50.0,55.55555555555556,27.77777777777778,66.66666666666666,55.55555555555556,44.44444444444444,27.77777777777778,11.11111111111111,77.77777777777779,44.44444444444444,0.0,88.88888888888889,33.33333333333333,55.55555555555556,75.0,33.33333333333333,77.77777777777779,14.285714285714285,33.33333333333333,50.0,25.0,75.0,25.0,0.0,12.5,25.0,68.75,25.0,50.0,37.5,25.0,25.0,25.0,18.75,81.25,0.0,31.25,50.0,37.5,80.0,20.0,44.44444444444444,0.0,20.0,40.0,60.0,80.0,60.0,50.0,15.0,40.0,5.0,65.0,16.666666666666664,50.0,15.0,25.0,5.0,5.0,30.0,25.0,65.0,35.0,5.0,42.10526315789473,20.0,25.0,10.526315789473683,27.77777777777778,77.77777777777779,66.66666666666666,33.33333333333333,11.11111111111111,0.0,77.77777777777779,0.0,88.88888888888889,22.22222222222222,33.33333333333333,28.57142857142857,5.0,33.33333333333333,57.14285714285714,0.0,57.14285714285714,28.57142857142857,19.047619047619047,38.095238095238095,15.0,33.33333333333333,9.523809523809524,0.0,0.0,47.61904761904761,57.14285714285714,33.33333333333333,23.809523809523807,38.095238095238095,28.57142857142857,7.142857142857142,50.0,23.076923076923077,57.14285714285714,50.0,69.23076923076923,7.142857142857142,35.714285714285715,64.28571428571429,64.28571428571429,7.142857142857142,21.428571428571427,0.0,38.46153846153847,40.0,80.0,50.0,66.66666666666666,40.0,40.0,30.0,25.0,47.05882352941176,27.77777777777778,47.368421052631575,50.0,94.44444444444444,64.70588235294117,66.66666666666666,71.42857142857143,81.25,55.55555555555556,60.0,80.0,37.5,61.111111111111114,55.55555555555556,17.647058823529413,35.294117647058826,33.33333333333333,70.58823529411765,55.55555555555556,77.77777777777779,50.0,11.11111111111111,18.75,61.111111111111114,25.0,35.294117647058826,72.22222222222221,50.0,62.5,72.22222222222221,50.0,33.33333333333333,61.111111111111114,6.25,80.0,20.0,40.0,0.0,0.0,20.0,60.0,25.0,50.0,50.0,40.0,20.0,50.0,40.0,50.0,30.0,60.0,30.0,30.0,0.0,10.0,11.11111111111111,83.33333333333334,16.666666666666664,16.666666666666664,50.0,66.66666666666666,13.333333333333334,57.14285714285714,33.33333333333333,14.285714285714285,13.333333333333334,40.0,6.666666666666667,28.57142857142857,73.33333333333333,14.285714285714285,80.0,66.66666666666666,64.28571428571429,46.666666666666664,20.0,0.0,0.0,33.33333333333333,16.666666666666664,0.0,66.66666666666666,16.666666666666664,31.818181818181817,20.0,33.33333333333333,31.818181818181817,65.0,50.0,60.0,63.1578947368421,38.095238095238095,25.0,30.0,28.57142857142857,30.0,40.0,46.15384615384615,57.14285714285714,50.0,47.61904761904761,50.0,27.27272727272727,50.0,75.0],\"type\":\"scatter\"}],                        {\"barmode\":\"group\",\"paper_bgcolor\":\"#dadfe1\",\"plot_bgcolor\":\"#dadfe1\",\"title\":{\"text\":\"Influence of Average Attractiveness Rating Received on Second Date Success\"},\"xaxis\":{\"title\":{\"text\":\"Average Attractiveness Rating Received\"}},\"yaxis\":{\"title\":{\"text\":\"Percentage of Successful Second Dates\"}},\"template\":{\"data\":{\"histogram2dcontour\":[{\"type\":\"histogram2dcontour\",\"colorbar\":{\"outlinewidth\":0,\"ticks\":\"\"},\"colorscale\":[[0.0,\"#0d0887\"],[0.1111111111111111,\"#46039f\"],[0.2222222222222222,\"#7201a8\"],[0.3333333333333333,\"#9c179e\"],[0.4444444444444444,\"#bd3786\"],[0.5555555555555556,\"#d8576b\"],[0.6666666666666666,\"#ed7953\"],[0.7777777777777778,\"#fb9f3a\"],[0.8888888888888888,\"#fdca26\"],[1.0,\"#f0f921\"]]}],\"choropleth\":[{\"type\":\"choropleth\",\"colorbar\":{\"outlinewidth\":0,\"ticks\":\"\"}}],\"histogram2d\":[{\"type\":\"histogram2d\",\"colorbar\":{\"outlinewidth\":0,\"ticks\":\"\"},\"colorscale\":[[0.0,\"#0d0887\"],[0.1111111111111111,\"#46039f\"],[0.2222222222222222,\"#7201a8\"],[0.3333333333333333,\"#9c179e\"],[0.4444444444444444,\"#bd3786\"],[0.5555555555555556,\"#d8576b\"],[0.6666666666666666,\"#ed7953\"],[0.7777777777777778,\"#fb9f3a\"],[0.8888888888888888,\"#fdca26\"],[1.0,\"#f0f921\"]]}],\"heatmap\":[{\"type\":\"heatmap\",\"colorbar\":{\"outlinewidth\":0,\"ticks\":\"\"},\"colorscale\":[[0.0,\"#0d0887\"],[0.1111111111111111,\"#46039f\"],[0.2222222222222222,\"#7201a8\"],[0.3333333333333333,\"#9c179e\"],[0.4444444444444444,\"#bd3786\"],[0.5555555555555556,\"#d8576b\"],[0.6666666666666666,\"#ed7953\"],[0.7777777777777778,\"#fb9f3a\"],[0.8888888888888888,\"#fdca26\"],[1.0,\"#f0f921\"]]}],\"heatmapgl\":[{\"type\":\"heatmapgl\",\"colorbar\":{\"outlinewidth\":0,\"ticks\":\"\"},\"colorscale\":[[0.0,\"#0d0887\"],[0.1111111111111111,\"#46039f\"],[0.2222222222222222,\"#7201a8\"],[0.3333333333333333,\"#9c179e\"],[0.4444444444444444,\"#bd3786\"],[0.5555555555555556,\"#d8576b\"],[0.6666666666666666,\"#ed7953\"],[0.7777777777777778,\"#fb9f3a\"],[0.8888888888888888,\"#fdca26\"],[1.0,\"#f0f921\"]]}],\"contourcarpet\":[{\"type\":\"contourcarpet\",\"colorbar\":{\"outlinewidth\":0,\"ticks\":\"\"}}],\"contour\":[{\"type\":\"contour\",\"colorbar\":{\"outlinewidth\":0,\"ticks\":\"\"},\"colorscale\":[[0.0,\"#0d0887\"],[0.1111111111111111,\"#46039f\"],[0.2222222222222222,\"#7201a8\"],[0.3333333333333333,\"#9c179e\"],[0.4444444444444444,\"#bd3786\"],[0.5555555555555556,\"#d8576b\"],[0.6666666666666666,\"#ed7953\"],[0.7777777777777778,\"#fb9f3a\"],[0.8888888888888888,\"#fdca26\"],[1.0,\"#f0f921\"]]}],\"surface\":[{\"type\":\"surface\",\"colorbar\":{\"outlinewidth\":0,\"ticks\":\"\"},\"colorscale\":[[0.0,\"#0d0887\"],[0.1111111111111111,\"#46039f\"],[0.2222222222222222,\"#7201a8\"],[0.3333333333333333,\"#9c179e\"],[0.4444444444444444,\"#bd3786\"],[0.5555555555555556,\"#d8576b\"],[0.6666666666666666,\"#ed7953\"],[0.7777777777777778,\"#fb9f3a\"],[0.8888888888888888,\"#fdca26\"],[1.0,\"#f0f921\"]]}],\"mesh3d\":[{\"type\":\"mesh3d\",\"colorbar\":{\"outlinewidth\":0,\"ticks\":\"\"}}],\"scatter\":[{\"fillpattern\":{\"fillmode\":\"overlay\",\"size\":10,\"solidity\":0.2},\"type\":\"scatter\"}],\"parcoords\":[{\"type\":\"parcoords\",\"line\":{\"colorbar\":{\"outlinewidth\":0,\"ticks\":\"\"}}}],\"scatterpolargl\":[{\"type\":\"scatterpolargl\",\"marker\":{\"colorbar\":{\"outlinewidth\":0,\"ticks\":\"\"}}}],\"bar\":[{\"error_x\":{\"color\":\"#2a3f5f\"},\"error_y\":{\"color\":\"#2a3f5f\"},\"marker\":{\"line\":{\"color\":\"#E5ECF6\",\"width\":0.5},\"pattern\":{\"fillmode\":\"overlay\",\"size\":10,\"solidity\":0.2}},\"type\":\"bar\"}],\"scattergeo\":[{\"type\":\"scattergeo\",\"marker\":{\"colorbar\":{\"outlinewidth\":0,\"ticks\":\"\"}}}],\"scatterpolar\":[{\"type\":\"scatterpolar\",\"marker\":{\"colorbar\":{\"outlinewidth\":0,\"ticks\":\"\"}}}],\"histogram\":[{\"marker\":{\"pattern\":{\"fillmode\":\"overlay\",\"size\":10,\"solidity\":0.2}},\"type\":\"histogram\"}],\"scattergl\":[{\"type\":\"scattergl\",\"marker\":{\"colorbar\":{\"outlinewidth\":0,\"ticks\":\"\"}}}],\"scatter3d\":[{\"type\":\"scatter3d\",\"line\":{\"colorbar\":{\"outlinewidth\":0,\"ticks\":\"\"}},\"marker\":{\"colorbar\":{\"outlinewidth\":0,\"ticks\":\"\"}}}],\"scattermapbox\":[{\"type\":\"scattermapbox\",\"marker\":{\"colorbar\":{\"outlinewidth\":0,\"ticks\":\"\"}}}],\"scatterternary\":[{\"type\":\"scatterternary\",\"marker\":{\"colorbar\":{\"outlinewidth\":0,\"ticks\":\"\"}}}],\"scattercarpet\":[{\"type\":\"scattercarpet\",\"marker\":{\"colorbar\":{\"outlinewidth\":0,\"ticks\":\"\"}}}],\"carpet\":[{\"aaxis\":{\"endlinecolor\":\"#2a3f5f\",\"gridcolor\":\"white\",\"linecolor\":\"white\",\"minorgridcolor\":\"white\",\"startlinecolor\":\"#2a3f5f\"},\"baxis\":{\"endlinecolor\":\"#2a3f5f\",\"gridcolor\":\"white\",\"linecolor\":\"white\",\"minorgridcolor\":\"white\",\"startlinecolor\":\"#2a3f5f\"},\"type\":\"carpet\"}],\"table\":[{\"cells\":{\"fill\":{\"color\":\"#EBF0F8\"},\"line\":{\"color\":\"white\"}},\"header\":{\"fill\":{\"color\":\"#C8D4E3\"},\"line\":{\"color\":\"white\"}},\"type\":\"table\"}],\"barpolar\":[{\"marker\":{\"line\":{\"color\":\"#E5ECF6\",\"width\":0.5},\"pattern\":{\"fillmode\":\"overlay\",\"size\":10,\"solidity\":0.2}},\"type\":\"barpolar\"}],\"pie\":[{\"automargin\":true,\"type\":\"pie\"}]},\"layout\":{\"autotypenumbers\":\"strict\",\"colorway\":[\"#636efa\",\"#EF553B\",\"#00cc96\",\"#ab63fa\",\"#FFA15A\",\"#19d3f3\",\"#FF6692\",\"#B6E880\",\"#FF97FF\",\"#FECB52\"],\"font\":{\"color\":\"#2a3f5f\"},\"hovermode\":\"closest\",\"hoverlabel\":{\"align\":\"left\"},\"paper_bgcolor\":\"white\",\"plot_bgcolor\":\"#E5ECF6\",\"polar\":{\"bgcolor\":\"#E5ECF6\",\"angularaxis\":{\"gridcolor\":\"white\",\"linecolor\":\"white\",\"ticks\":\"\"},\"radialaxis\":{\"gridcolor\":\"white\",\"linecolor\":\"white\",\"ticks\":\"\"}},\"ternary\":{\"bgcolor\":\"#E5ECF6\",\"aaxis\":{\"gridcolor\":\"white\",\"linecolor\":\"white\",\"ticks\":\"\"},\"baxis\":{\"gridcolor\":\"white\",\"linecolor\":\"white\",\"ticks\":\"\"},\"caxis\":{\"gridcolor\":\"white\",\"linecolor\":\"white\",\"ticks\":\"\"}},\"coloraxis\":{\"colorbar\":{\"outlinewidth\":0,\"ticks\":\"\"}},\"colorscale\":{\"sequential\":[[0.0,\"#0d0887\"],[0.1111111111111111,\"#46039f\"],[0.2222222222222222,\"#7201a8\"],[0.3333333333333333,\"#9c179e\"],[0.4444444444444444,\"#bd3786\"],[0.5555555555555556,\"#d8576b\"],[0.6666666666666666,\"#ed7953\"],[0.7777777777777778,\"#fb9f3a\"],[0.8888888888888888,\"#fdca26\"],[1.0,\"#f0f921\"]],\"sequentialminus\":[[0.0,\"#0d0887\"],[0.1111111111111111,\"#46039f\"],[0.2222222222222222,\"#7201a8\"],[0.3333333333333333,\"#9c179e\"],[0.4444444444444444,\"#bd3786\"],[0.5555555555555556,\"#d8576b\"],[0.6666666666666666,\"#ed7953\"],[0.7777777777777778,\"#fb9f3a\"],[0.8888888888888888,\"#fdca26\"],[1.0,\"#f0f921\"]],\"diverging\":[[0,\"#8e0152\"],[0.1,\"#c51b7d\"],[0.2,\"#de77ae\"],[0.3,\"#f1b6da\"],[0.4,\"#fde0ef\"],[0.5,\"#f7f7f7\"],[0.6,\"#e6f5d0\"],[0.7,\"#b8e186\"],[0.8,\"#7fbc41\"],[0.9,\"#4d9221\"],[1,\"#276419\"]]},\"xaxis\":{\"gridcolor\":\"white\",\"linecolor\":\"white\",\"ticks\":\"\",\"title\":{\"standoff\":15},\"zerolinecolor\":\"white\",\"automargin\":true,\"zerolinewidth\":2},\"yaxis\":{\"gridcolor\":\"white\",\"linecolor\":\"white\",\"ticks\":\"\",\"title\":{\"standoff\":15},\"zerolinecolor\":\"white\",\"automargin\":true,\"zerolinewidth\":2},\"scene\":{\"xaxis\":{\"backgroundcolor\":\"#E5ECF6\",\"gridcolor\":\"white\",\"linecolor\":\"white\",\"showbackground\":true,\"ticks\":\"\",\"zerolinecolor\":\"white\",\"gridwidth\":2},\"yaxis\":{\"backgroundcolor\":\"#E5ECF6\",\"gridcolor\":\"white\",\"linecolor\":\"white\",\"showbackground\":true,\"ticks\":\"\",\"zerolinecolor\":\"white\",\"gridwidth\":2},\"zaxis\":{\"backgroundcolor\":\"#E5ECF6\",\"gridcolor\":\"white\",\"linecolor\":\"white\",\"showbackground\":true,\"ticks\":\"\",\"zerolinecolor\":\"white\",\"gridwidth\":2}},\"shapedefaults\":{\"line\":{\"color\":\"#2a3f5f\"}},\"annotationdefaults\":{\"arrowcolor\":\"#2a3f5f\",\"arrowhead\":0,\"arrowwidth\":1},\"geo\":{\"bgcolor\":\"white\",\"landcolor\":\"#E5ECF6\",\"subunitcolor\":\"white\",\"showland\":true,\"showlakes\":true,\"lakecolor\":\"white\"},\"title\":{\"x\":0.05},\"mapbox\":{\"style\":\"light\"}}}},                        {\"responsive\": true}                    ).then(function(){\n",
       "                            \n",
       "var gd = document.getElementById('0621daf4-3731-44bf-bcdb-46198cc75999');\n",
       "var x = new MutationObserver(function (mutations, observer) {{\n",
       "        var display = window.getComputedStyle(gd).display;\n",
       "        if (!display || display === 'none') {{\n",
       "            console.log([gd, 'removed!']);\n",
       "            Plotly.purge(gd);\n",
       "            observer.disconnect();\n",
       "        }}\n",
       "}});\n",
       "\n",
       "// Listen for the removal of the full notebook cells\n",
       "var notebookContainer = gd.closest('#notebook-container');\n",
       "if (notebookContainer) {{\n",
       "    x.observe(notebookContainer, {childList: true});\n",
       "}}\n",
       "\n",
       "// Listen for the clearing of the current output cell\n",
       "var outputEl = gd.closest('.output');\n",
       "if (outputEl) {{\n",
       "    x.observe(outputEl, {childList: true});\n",
       "}}\n",
       "\n",
       "                        })                };                });            </script>        </div>"
      ]
     },
     "metadata": {},
     "output_type": "display_data"
    },
    {
     "name": "stdout",
     "output_type": "stream",
     "text": [
      "Average attractiveness plot completed. It took 0.0369 seconds.\n"
     ]
    }
   ],
   "source": [
    "# Running the feature importance of attributes on second date success with timings\n",
    "start_time = time.time()\n",
    "\n",
    "avg_attr_data = fetch_avg_attr_data(database_path)\n",
    "traces = create_scatter_traces(avg_attr_data, colors)\n",
    "\n",
    "# Structuring the layout with titles and colours\n",
    "layout = go.Layout(\n",
    "    title='Influence of Average Attractiveness Rating Received on Second Date Success',\n",
    "    xaxis=dict(title='Average Attractiveness Rating Received'),\n",
    "    yaxis=dict(title='Percentage of Successful Second Dates'),\n",
    "    barmode='group',\n",
    "    plot_bgcolor='#dadfe1',\n",
    "    paper_bgcolor='#dadfe1'\n",
    ")\n",
    "\n",
    "# Create figure\n",
    "fig = go.Figure(data=traces, layout=layout)\n",
    "\n",
    "# Show the plot\n",
    "fig.show()\n",
    "          \n",
    "end_time = round(time.time() - start_time, 4)\n",
    "\n",
    "print(f'Average attractiveness plot completed. It took {end_time} seconds.')"
   ]
  },
  {
   "cell_type": "markdown",
   "id": "5f6dc36f",
   "metadata": {},
   "source": [
    "In the above plot we see a compelling correlation between a high attractiveness rating and second date success. An attractiveness rating of 5.5 - 6.5 exhibited 50% success.\n",
    "\n",
    "Additionally, we see a difference in attractiveness ratings received by gender. Lower attractivenes ratings are predominantly made up by men where as the higher attractiveness ratings are primarily women.\n",
    "\n",
    "This scatter plot does indeed highlight the importance of attractiveness in second date success. However, is second date success based solely on the attractiveness rating you receive?"
   ]
  },
  {
   "cell_type": "markdown",
   "id": "28d050a3",
   "metadata": {},
   "source": [
    "## Exploring the Impact of Self-Rated Attractiveness Rating on Second Date Success\n",
    "\n",
    "In this section we explore how an indvidual's self rating of their attractiveness affeccts their second date success.\n",
    "\n",
    "The first thing we do is plot, for each value of self rated attractiveness, the average percentage of successful second dates they had.\n",
    "We then create a similar plot, however instead of looking at the average second date success, we use a box plot to explore variance."
   ]
  },
  {
   "cell_type": "markdown",
   "id": "63197957",
   "metadata": {},
   "source": [
    "### Comparing Self-Rated Attractiveness Values against Average Second Date Success\n",
    "\n",
    "For each value of self-rated attractiveness we retrieve the average percentage of successful second dates based on the **dec_o** column.\n",
    "\n",
    "We then plot this on a line plot to observe how confidence in your attractiveness affects your chances at a second date."
   ]
  },
  {
   "cell_type": "code",
   "execution_count": 256,
   "id": "4fe70ba3",
   "metadata": {},
   "outputs": [],
   "source": [
    "# Fetches the average percentage of second date success \n",
    "# for each self rating value\n",
    "\n",
    "# Parameters:\n",
    "#   - database_path (str): the path to your database\n",
    "\n",
    "def fetch_avg_self_attr_data(database_path):\n",
    "    \n",
    "    # Connect to the database\n",
    "    conn = sqlite3.connect(database_path)\n",
    "    \n",
    "    # Create cursor object\n",
    "    cursor = conn.cursor()\n",
    "    \n",
    "    # Construct the SELECT query\n",
    "    avg_self_attr_query = f'''\n",
    "        SELECT DISTINCT gender, attr3_1, (SUM(dec_o) * 1.0) / COUNT(*)\n",
    "        FROM participants AS p\n",
    "        JOIN dates AS d on p.iid = d.iid\n",
    "        GROUP BY attr3_1, gender\n",
    "        ORDER BY gender\n",
    "    '''\n",
    "    \n",
    "    # Execute query to retrieve the average second date success percentage\n",
    "    # for each self-rated value of attractiveness\n",
    "    cursor.execute(avg_self_attr_query)\n",
    "\n",
    "    rows = cursor.fetchall()\n",
    "    \n",
    "    # Commit changes\n",
    "    conn.commit()\n",
    "    \n",
    "    # Close connection\n",
    "    conn.close()\n",
    "    \n",
    "    # Initiliaze a dictionary for organizing data separated by gender\n",
    "    avg_self_attr_data = {'Female': [[], []], 'Male': [[], []]}  # Use 0 for Female, 1 for Male\n",
    "    \n",
    "    # Separete data for  men and women\n",
    "    for row in rows:\n",
    "        gender, avg_attr3_1, dec_o_ratio = row\n",
    "        # Map numeric data to string labels\n",
    "        gender_str = 'Female' if gender == 0 else 'Male'\n",
    "        avg_self_attr_data[gender_str][0].append(avg_attr3_1)\n",
    "        avg_self_attr_data[gender_str][1].append(dec_o_ratio)\n",
    "        \n",
    "    return avg_self_attr_data"
   ]
  },
  {
   "cell_type": "code",
   "execution_count": 257,
   "id": "d4598509",
   "metadata": {},
   "outputs": [
    {
     "data": {
      "application/vnd.plotly.v1+json": {
       "config": {
        "plotlyServerURL": "https://plot.ly"
       },
       "data": [
        {
         "marker": {
          "color": "#ff6361"
         },
         "mode": "lines+markers",
         "name": "Female",
         "type": "scatter",
         "x": [
          2,
          3,
          4,
          5,
          6,
          7,
          8,
          9,
          10
         ],
         "y": [
          0.2,
          0.2463768115942029,
          0.3939393939393939,
          0.4788135593220339,
          0.42057761732851984,
          0.4688013136288998,
          0.5313559322033898,
          0.5298651252408478,
          0.32786885245901637
         ]
        },
        {
         "marker": {
          "color": "#003f5c"
         },
         "mode": "lines+markers",
         "name": "Male",
         "type": "scatter",
         "x": [
          2,
          3,
          4,
          5,
          6,
          7,
          8,
          9,
          10
         ],
         "y": [
          0,
          0.14516129032258066,
          0.34375,
          0.2734375,
          0.40286298568507156,
          0.3923227065712427,
          0.34933035714285715,
          0.4943181818181818,
          0.47738693467336685
         ]
        }
       ],
       "layout": {
        "barmode": "group",
        "paper_bgcolor": "#dadfe1",
        "plot_bgcolor": "#dadfe1",
        "template": {
         "data": {
          "bar": [
           {
            "error_x": {
             "color": "#2a3f5f"
            },
            "error_y": {
             "color": "#2a3f5f"
            },
            "marker": {
             "line": {
              "color": "#E5ECF6",
              "width": 0.5
             },
             "pattern": {
              "fillmode": "overlay",
              "size": 10,
              "solidity": 0.2
             }
            },
            "type": "bar"
           }
          ],
          "barpolar": [
           {
            "marker": {
             "line": {
              "color": "#E5ECF6",
              "width": 0.5
             },
             "pattern": {
              "fillmode": "overlay",
              "size": 10,
              "solidity": 0.2
             }
            },
            "type": "barpolar"
           }
          ],
          "carpet": [
           {
            "aaxis": {
             "endlinecolor": "#2a3f5f",
             "gridcolor": "white",
             "linecolor": "white",
             "minorgridcolor": "white",
             "startlinecolor": "#2a3f5f"
            },
            "baxis": {
             "endlinecolor": "#2a3f5f",
             "gridcolor": "white",
             "linecolor": "white",
             "minorgridcolor": "white",
             "startlinecolor": "#2a3f5f"
            },
            "type": "carpet"
           }
          ],
          "choropleth": [
           {
            "colorbar": {
             "outlinewidth": 0,
             "ticks": ""
            },
            "type": "choropleth"
           }
          ],
          "contour": [
           {
            "colorbar": {
             "outlinewidth": 0,
             "ticks": ""
            },
            "colorscale": [
             [
              0,
              "#0d0887"
             ],
             [
              0.1111111111111111,
              "#46039f"
             ],
             [
              0.2222222222222222,
              "#7201a8"
             ],
             [
              0.3333333333333333,
              "#9c179e"
             ],
             [
              0.4444444444444444,
              "#bd3786"
             ],
             [
              0.5555555555555556,
              "#d8576b"
             ],
             [
              0.6666666666666666,
              "#ed7953"
             ],
             [
              0.7777777777777778,
              "#fb9f3a"
             ],
             [
              0.8888888888888888,
              "#fdca26"
             ],
             [
              1,
              "#f0f921"
             ]
            ],
            "type": "contour"
           }
          ],
          "contourcarpet": [
           {
            "colorbar": {
             "outlinewidth": 0,
             "ticks": ""
            },
            "type": "contourcarpet"
           }
          ],
          "heatmap": [
           {
            "colorbar": {
             "outlinewidth": 0,
             "ticks": ""
            },
            "colorscale": [
             [
              0,
              "#0d0887"
             ],
             [
              0.1111111111111111,
              "#46039f"
             ],
             [
              0.2222222222222222,
              "#7201a8"
             ],
             [
              0.3333333333333333,
              "#9c179e"
             ],
             [
              0.4444444444444444,
              "#bd3786"
             ],
             [
              0.5555555555555556,
              "#d8576b"
             ],
             [
              0.6666666666666666,
              "#ed7953"
             ],
             [
              0.7777777777777778,
              "#fb9f3a"
             ],
             [
              0.8888888888888888,
              "#fdca26"
             ],
             [
              1,
              "#f0f921"
             ]
            ],
            "type": "heatmap"
           }
          ],
          "heatmapgl": [
           {
            "colorbar": {
             "outlinewidth": 0,
             "ticks": ""
            },
            "colorscale": [
             [
              0,
              "#0d0887"
             ],
             [
              0.1111111111111111,
              "#46039f"
             ],
             [
              0.2222222222222222,
              "#7201a8"
             ],
             [
              0.3333333333333333,
              "#9c179e"
             ],
             [
              0.4444444444444444,
              "#bd3786"
             ],
             [
              0.5555555555555556,
              "#d8576b"
             ],
             [
              0.6666666666666666,
              "#ed7953"
             ],
             [
              0.7777777777777778,
              "#fb9f3a"
             ],
             [
              0.8888888888888888,
              "#fdca26"
             ],
             [
              1,
              "#f0f921"
             ]
            ],
            "type": "heatmapgl"
           }
          ],
          "histogram": [
           {
            "marker": {
             "pattern": {
              "fillmode": "overlay",
              "size": 10,
              "solidity": 0.2
             }
            },
            "type": "histogram"
           }
          ],
          "histogram2d": [
           {
            "colorbar": {
             "outlinewidth": 0,
             "ticks": ""
            },
            "colorscale": [
             [
              0,
              "#0d0887"
             ],
             [
              0.1111111111111111,
              "#46039f"
             ],
             [
              0.2222222222222222,
              "#7201a8"
             ],
             [
              0.3333333333333333,
              "#9c179e"
             ],
             [
              0.4444444444444444,
              "#bd3786"
             ],
             [
              0.5555555555555556,
              "#d8576b"
             ],
             [
              0.6666666666666666,
              "#ed7953"
             ],
             [
              0.7777777777777778,
              "#fb9f3a"
             ],
             [
              0.8888888888888888,
              "#fdca26"
             ],
             [
              1,
              "#f0f921"
             ]
            ],
            "type": "histogram2d"
           }
          ],
          "histogram2dcontour": [
           {
            "colorbar": {
             "outlinewidth": 0,
             "ticks": ""
            },
            "colorscale": [
             [
              0,
              "#0d0887"
             ],
             [
              0.1111111111111111,
              "#46039f"
             ],
             [
              0.2222222222222222,
              "#7201a8"
             ],
             [
              0.3333333333333333,
              "#9c179e"
             ],
             [
              0.4444444444444444,
              "#bd3786"
             ],
             [
              0.5555555555555556,
              "#d8576b"
             ],
             [
              0.6666666666666666,
              "#ed7953"
             ],
             [
              0.7777777777777778,
              "#fb9f3a"
             ],
             [
              0.8888888888888888,
              "#fdca26"
             ],
             [
              1,
              "#f0f921"
             ]
            ],
            "type": "histogram2dcontour"
           }
          ],
          "mesh3d": [
           {
            "colorbar": {
             "outlinewidth": 0,
             "ticks": ""
            },
            "type": "mesh3d"
           }
          ],
          "parcoords": [
           {
            "line": {
             "colorbar": {
              "outlinewidth": 0,
              "ticks": ""
             }
            },
            "type": "parcoords"
           }
          ],
          "pie": [
           {
            "automargin": true,
            "type": "pie"
           }
          ],
          "scatter": [
           {
            "fillpattern": {
             "fillmode": "overlay",
             "size": 10,
             "solidity": 0.2
            },
            "type": "scatter"
           }
          ],
          "scatter3d": [
           {
            "line": {
             "colorbar": {
              "outlinewidth": 0,
              "ticks": ""
             }
            },
            "marker": {
             "colorbar": {
              "outlinewidth": 0,
              "ticks": ""
             }
            },
            "type": "scatter3d"
           }
          ],
          "scattercarpet": [
           {
            "marker": {
             "colorbar": {
              "outlinewidth": 0,
              "ticks": ""
             }
            },
            "type": "scattercarpet"
           }
          ],
          "scattergeo": [
           {
            "marker": {
             "colorbar": {
              "outlinewidth": 0,
              "ticks": ""
             }
            },
            "type": "scattergeo"
           }
          ],
          "scattergl": [
           {
            "marker": {
             "colorbar": {
              "outlinewidth": 0,
              "ticks": ""
             }
            },
            "type": "scattergl"
           }
          ],
          "scattermapbox": [
           {
            "marker": {
             "colorbar": {
              "outlinewidth": 0,
              "ticks": ""
             }
            },
            "type": "scattermapbox"
           }
          ],
          "scatterpolar": [
           {
            "marker": {
             "colorbar": {
              "outlinewidth": 0,
              "ticks": ""
             }
            },
            "type": "scatterpolar"
           }
          ],
          "scatterpolargl": [
           {
            "marker": {
             "colorbar": {
              "outlinewidth": 0,
              "ticks": ""
             }
            },
            "type": "scatterpolargl"
           }
          ],
          "scatterternary": [
           {
            "marker": {
             "colorbar": {
              "outlinewidth": 0,
              "ticks": ""
             }
            },
            "type": "scatterternary"
           }
          ],
          "surface": [
           {
            "colorbar": {
             "outlinewidth": 0,
             "ticks": ""
            },
            "colorscale": [
             [
              0,
              "#0d0887"
             ],
             [
              0.1111111111111111,
              "#46039f"
             ],
             [
              0.2222222222222222,
              "#7201a8"
             ],
             [
              0.3333333333333333,
              "#9c179e"
             ],
             [
              0.4444444444444444,
              "#bd3786"
             ],
             [
              0.5555555555555556,
              "#d8576b"
             ],
             [
              0.6666666666666666,
              "#ed7953"
             ],
             [
              0.7777777777777778,
              "#fb9f3a"
             ],
             [
              0.8888888888888888,
              "#fdca26"
             ],
             [
              1,
              "#f0f921"
             ]
            ],
            "type": "surface"
           }
          ],
          "table": [
           {
            "cells": {
             "fill": {
              "color": "#EBF0F8"
             },
             "line": {
              "color": "white"
             }
            },
            "header": {
             "fill": {
              "color": "#C8D4E3"
             },
             "line": {
              "color": "white"
             }
            },
            "type": "table"
           }
          ]
         },
         "layout": {
          "annotationdefaults": {
           "arrowcolor": "#2a3f5f",
           "arrowhead": 0,
           "arrowwidth": 1
          },
          "autotypenumbers": "strict",
          "coloraxis": {
           "colorbar": {
            "outlinewidth": 0,
            "ticks": ""
           }
          },
          "colorscale": {
           "diverging": [
            [
             0,
             "#8e0152"
            ],
            [
             0.1,
             "#c51b7d"
            ],
            [
             0.2,
             "#de77ae"
            ],
            [
             0.3,
             "#f1b6da"
            ],
            [
             0.4,
             "#fde0ef"
            ],
            [
             0.5,
             "#f7f7f7"
            ],
            [
             0.6,
             "#e6f5d0"
            ],
            [
             0.7,
             "#b8e186"
            ],
            [
             0.8,
             "#7fbc41"
            ],
            [
             0.9,
             "#4d9221"
            ],
            [
             1,
             "#276419"
            ]
           ],
           "sequential": [
            [
             0,
             "#0d0887"
            ],
            [
             0.1111111111111111,
             "#46039f"
            ],
            [
             0.2222222222222222,
             "#7201a8"
            ],
            [
             0.3333333333333333,
             "#9c179e"
            ],
            [
             0.4444444444444444,
             "#bd3786"
            ],
            [
             0.5555555555555556,
             "#d8576b"
            ],
            [
             0.6666666666666666,
             "#ed7953"
            ],
            [
             0.7777777777777778,
             "#fb9f3a"
            ],
            [
             0.8888888888888888,
             "#fdca26"
            ],
            [
             1,
             "#f0f921"
            ]
           ],
           "sequentialminus": [
            [
             0,
             "#0d0887"
            ],
            [
             0.1111111111111111,
             "#46039f"
            ],
            [
             0.2222222222222222,
             "#7201a8"
            ],
            [
             0.3333333333333333,
             "#9c179e"
            ],
            [
             0.4444444444444444,
             "#bd3786"
            ],
            [
             0.5555555555555556,
             "#d8576b"
            ],
            [
             0.6666666666666666,
             "#ed7953"
            ],
            [
             0.7777777777777778,
             "#fb9f3a"
            ],
            [
             0.8888888888888888,
             "#fdca26"
            ],
            [
             1,
             "#f0f921"
            ]
           ]
          },
          "colorway": [
           "#636efa",
           "#EF553B",
           "#00cc96",
           "#ab63fa",
           "#FFA15A",
           "#19d3f3",
           "#FF6692",
           "#B6E880",
           "#FF97FF",
           "#FECB52"
          ],
          "font": {
           "color": "#2a3f5f"
          },
          "geo": {
           "bgcolor": "white",
           "lakecolor": "white",
           "landcolor": "#E5ECF6",
           "showlakes": true,
           "showland": true,
           "subunitcolor": "white"
          },
          "hoverlabel": {
           "align": "left"
          },
          "hovermode": "closest",
          "mapbox": {
           "style": "light"
          },
          "paper_bgcolor": "white",
          "plot_bgcolor": "#E5ECF6",
          "polar": {
           "angularaxis": {
            "gridcolor": "white",
            "linecolor": "white",
            "ticks": ""
           },
           "bgcolor": "#E5ECF6",
           "radialaxis": {
            "gridcolor": "white",
            "linecolor": "white",
            "ticks": ""
           }
          },
          "scene": {
           "xaxis": {
            "backgroundcolor": "#E5ECF6",
            "gridcolor": "white",
            "gridwidth": 2,
            "linecolor": "white",
            "showbackground": true,
            "ticks": "",
            "zerolinecolor": "white"
           },
           "yaxis": {
            "backgroundcolor": "#E5ECF6",
            "gridcolor": "white",
            "gridwidth": 2,
            "linecolor": "white",
            "showbackground": true,
            "ticks": "",
            "zerolinecolor": "white"
           },
           "zaxis": {
            "backgroundcolor": "#E5ECF6",
            "gridcolor": "white",
            "gridwidth": 2,
            "linecolor": "white",
            "showbackground": true,
            "ticks": "",
            "zerolinecolor": "white"
           }
          },
          "shapedefaults": {
           "line": {
            "color": "#2a3f5f"
           }
          },
          "ternary": {
           "aaxis": {
            "gridcolor": "white",
            "linecolor": "white",
            "ticks": ""
           },
           "baxis": {
            "gridcolor": "white",
            "linecolor": "white",
            "ticks": ""
           },
           "bgcolor": "#E5ECF6",
           "caxis": {
            "gridcolor": "white",
            "linecolor": "white",
            "ticks": ""
           }
          },
          "title": {
           "x": 0.05
          },
          "xaxis": {
           "automargin": true,
           "gridcolor": "white",
           "linecolor": "white",
           "ticks": "",
           "title": {
            "standoff": 15
           },
           "zerolinecolor": "white",
           "zerolinewidth": 2
          },
          "yaxis": {
           "automargin": true,
           "gridcolor": "white",
           "linecolor": "white",
           "ticks": "",
           "title": {
            "standoff": 15
           },
           "zerolinecolor": "white",
           "zerolinewidth": 2
          }
         }
        },
        "title": {
         "text": "Relationship between Self-Rating of Attractiveness and Second Date Success Rate"
        },
        "xaxis": {
         "title": {
          "text": "Self-Rating of Attractiveness"
         }
        },
        "yaxis": {
         "title": {
          "text": "Percentage of Successful Second Dates"
         }
        }
       }
      },
      "text/html": [
       "<div>                            <div id=\"600b4e36-32c3-4507-8866-9f4bc5f5d1ba\" class=\"plotly-graph-div\" style=\"height:525px; width:100%;\"></div>            <script type=\"text/javascript\">                require([\"plotly\"], function(Plotly) {                    window.PLOTLYENV=window.PLOTLYENV || {};                                    if (document.getElementById(\"600b4e36-32c3-4507-8866-9f4bc5f5d1ba\")) {                    Plotly.newPlot(                        \"600b4e36-32c3-4507-8866-9f4bc5f5d1ba\",                        [{\"marker\":{\"color\":\"#ff6361\"},\"mode\":\"lines+markers\",\"name\":\"Female\",\"x\":[2,3,4,5,6,7,8,9,10],\"y\":[0.2,0.2463768115942029,0.3939393939393939,0.4788135593220339,0.42057761732851984,0.4688013136288998,0.5313559322033898,0.5298651252408478,0.32786885245901637],\"type\":\"scatter\"},{\"marker\":{\"color\":\"#003f5c\"},\"mode\":\"lines+markers\",\"name\":\"Male\",\"x\":[2,3,4,5,6,7,8,9,10],\"y\":[0.0,0.14516129032258066,0.34375,0.2734375,0.40286298568507156,0.3923227065712427,0.34933035714285715,0.4943181818181818,0.47738693467336685],\"type\":\"scatter\"}],                        {\"barmode\":\"group\",\"paper_bgcolor\":\"#dadfe1\",\"plot_bgcolor\":\"#dadfe1\",\"title\":{\"text\":\"Relationship between Self-Rating of Attractiveness and Second Date Success Rate\"},\"xaxis\":{\"title\":{\"text\":\"Self-Rating of Attractiveness\"}},\"yaxis\":{\"title\":{\"text\":\"Percentage of Successful Second Dates\"}},\"template\":{\"data\":{\"histogram2dcontour\":[{\"type\":\"histogram2dcontour\",\"colorbar\":{\"outlinewidth\":0,\"ticks\":\"\"},\"colorscale\":[[0.0,\"#0d0887\"],[0.1111111111111111,\"#46039f\"],[0.2222222222222222,\"#7201a8\"],[0.3333333333333333,\"#9c179e\"],[0.4444444444444444,\"#bd3786\"],[0.5555555555555556,\"#d8576b\"],[0.6666666666666666,\"#ed7953\"],[0.7777777777777778,\"#fb9f3a\"],[0.8888888888888888,\"#fdca26\"],[1.0,\"#f0f921\"]]}],\"choropleth\":[{\"type\":\"choropleth\",\"colorbar\":{\"outlinewidth\":0,\"ticks\":\"\"}}],\"histogram2d\":[{\"type\":\"histogram2d\",\"colorbar\":{\"outlinewidth\":0,\"ticks\":\"\"},\"colorscale\":[[0.0,\"#0d0887\"],[0.1111111111111111,\"#46039f\"],[0.2222222222222222,\"#7201a8\"],[0.3333333333333333,\"#9c179e\"],[0.4444444444444444,\"#bd3786\"],[0.5555555555555556,\"#d8576b\"],[0.6666666666666666,\"#ed7953\"],[0.7777777777777778,\"#fb9f3a\"],[0.8888888888888888,\"#fdca26\"],[1.0,\"#f0f921\"]]}],\"heatmap\":[{\"type\":\"heatmap\",\"colorbar\":{\"outlinewidth\":0,\"ticks\":\"\"},\"colorscale\":[[0.0,\"#0d0887\"],[0.1111111111111111,\"#46039f\"],[0.2222222222222222,\"#7201a8\"],[0.3333333333333333,\"#9c179e\"],[0.4444444444444444,\"#bd3786\"],[0.5555555555555556,\"#d8576b\"],[0.6666666666666666,\"#ed7953\"],[0.7777777777777778,\"#fb9f3a\"],[0.8888888888888888,\"#fdca26\"],[1.0,\"#f0f921\"]]}],\"heatmapgl\":[{\"type\":\"heatmapgl\",\"colorbar\":{\"outlinewidth\":0,\"ticks\":\"\"},\"colorscale\":[[0.0,\"#0d0887\"],[0.1111111111111111,\"#46039f\"],[0.2222222222222222,\"#7201a8\"],[0.3333333333333333,\"#9c179e\"],[0.4444444444444444,\"#bd3786\"],[0.5555555555555556,\"#d8576b\"],[0.6666666666666666,\"#ed7953\"],[0.7777777777777778,\"#fb9f3a\"],[0.8888888888888888,\"#fdca26\"],[1.0,\"#f0f921\"]]}],\"contourcarpet\":[{\"type\":\"contourcarpet\",\"colorbar\":{\"outlinewidth\":0,\"ticks\":\"\"}}],\"contour\":[{\"type\":\"contour\",\"colorbar\":{\"outlinewidth\":0,\"ticks\":\"\"},\"colorscale\":[[0.0,\"#0d0887\"],[0.1111111111111111,\"#46039f\"],[0.2222222222222222,\"#7201a8\"],[0.3333333333333333,\"#9c179e\"],[0.4444444444444444,\"#bd3786\"],[0.5555555555555556,\"#d8576b\"],[0.6666666666666666,\"#ed7953\"],[0.7777777777777778,\"#fb9f3a\"],[0.8888888888888888,\"#fdca26\"],[1.0,\"#f0f921\"]]}],\"surface\":[{\"type\":\"surface\",\"colorbar\":{\"outlinewidth\":0,\"ticks\":\"\"},\"colorscale\":[[0.0,\"#0d0887\"],[0.1111111111111111,\"#46039f\"],[0.2222222222222222,\"#7201a8\"],[0.3333333333333333,\"#9c179e\"],[0.4444444444444444,\"#bd3786\"],[0.5555555555555556,\"#d8576b\"],[0.6666666666666666,\"#ed7953\"],[0.7777777777777778,\"#fb9f3a\"],[0.8888888888888888,\"#fdca26\"],[1.0,\"#f0f921\"]]}],\"mesh3d\":[{\"type\":\"mesh3d\",\"colorbar\":{\"outlinewidth\":0,\"ticks\":\"\"}}],\"scatter\":[{\"fillpattern\":{\"fillmode\":\"overlay\",\"size\":10,\"solidity\":0.2},\"type\":\"scatter\"}],\"parcoords\":[{\"type\":\"parcoords\",\"line\":{\"colorbar\":{\"outlinewidth\":0,\"ticks\":\"\"}}}],\"scatterpolargl\":[{\"type\":\"scatterpolargl\",\"marker\":{\"colorbar\":{\"outlinewidth\":0,\"ticks\":\"\"}}}],\"bar\":[{\"error_x\":{\"color\":\"#2a3f5f\"},\"error_y\":{\"color\":\"#2a3f5f\"},\"marker\":{\"line\":{\"color\":\"#E5ECF6\",\"width\":0.5},\"pattern\":{\"fillmode\":\"overlay\",\"size\":10,\"solidity\":0.2}},\"type\":\"bar\"}],\"scattergeo\":[{\"type\":\"scattergeo\",\"marker\":{\"colorbar\":{\"outlinewidth\":0,\"ticks\":\"\"}}}],\"scatterpolar\":[{\"type\":\"scatterpolar\",\"marker\":{\"colorbar\":{\"outlinewidth\":0,\"ticks\":\"\"}}}],\"histogram\":[{\"marker\":{\"pattern\":{\"fillmode\":\"overlay\",\"size\":10,\"solidity\":0.2}},\"type\":\"histogram\"}],\"scattergl\":[{\"type\":\"scattergl\",\"marker\":{\"colorbar\":{\"outlinewidth\":0,\"ticks\":\"\"}}}],\"scatter3d\":[{\"type\":\"scatter3d\",\"line\":{\"colorbar\":{\"outlinewidth\":0,\"ticks\":\"\"}},\"marker\":{\"colorbar\":{\"outlinewidth\":0,\"ticks\":\"\"}}}],\"scattermapbox\":[{\"type\":\"scattermapbox\",\"marker\":{\"colorbar\":{\"outlinewidth\":0,\"ticks\":\"\"}}}],\"scatterternary\":[{\"type\":\"scatterternary\",\"marker\":{\"colorbar\":{\"outlinewidth\":0,\"ticks\":\"\"}}}],\"scattercarpet\":[{\"type\":\"scattercarpet\",\"marker\":{\"colorbar\":{\"outlinewidth\":0,\"ticks\":\"\"}}}],\"carpet\":[{\"aaxis\":{\"endlinecolor\":\"#2a3f5f\",\"gridcolor\":\"white\",\"linecolor\":\"white\",\"minorgridcolor\":\"white\",\"startlinecolor\":\"#2a3f5f\"},\"baxis\":{\"endlinecolor\":\"#2a3f5f\",\"gridcolor\":\"white\",\"linecolor\":\"white\",\"minorgridcolor\":\"white\",\"startlinecolor\":\"#2a3f5f\"},\"type\":\"carpet\"}],\"table\":[{\"cells\":{\"fill\":{\"color\":\"#EBF0F8\"},\"line\":{\"color\":\"white\"}},\"header\":{\"fill\":{\"color\":\"#C8D4E3\"},\"line\":{\"color\":\"white\"}},\"type\":\"table\"}],\"barpolar\":[{\"marker\":{\"line\":{\"color\":\"#E5ECF6\",\"width\":0.5},\"pattern\":{\"fillmode\":\"overlay\",\"size\":10,\"solidity\":0.2}},\"type\":\"barpolar\"}],\"pie\":[{\"automargin\":true,\"type\":\"pie\"}]},\"layout\":{\"autotypenumbers\":\"strict\",\"colorway\":[\"#636efa\",\"#EF553B\",\"#00cc96\",\"#ab63fa\",\"#FFA15A\",\"#19d3f3\",\"#FF6692\",\"#B6E880\",\"#FF97FF\",\"#FECB52\"],\"font\":{\"color\":\"#2a3f5f\"},\"hovermode\":\"closest\",\"hoverlabel\":{\"align\":\"left\"},\"paper_bgcolor\":\"white\",\"plot_bgcolor\":\"#E5ECF6\",\"polar\":{\"bgcolor\":\"#E5ECF6\",\"angularaxis\":{\"gridcolor\":\"white\",\"linecolor\":\"white\",\"ticks\":\"\"},\"radialaxis\":{\"gridcolor\":\"white\",\"linecolor\":\"white\",\"ticks\":\"\"}},\"ternary\":{\"bgcolor\":\"#E5ECF6\",\"aaxis\":{\"gridcolor\":\"white\",\"linecolor\":\"white\",\"ticks\":\"\"},\"baxis\":{\"gridcolor\":\"white\",\"linecolor\":\"white\",\"ticks\":\"\"},\"caxis\":{\"gridcolor\":\"white\",\"linecolor\":\"white\",\"ticks\":\"\"}},\"coloraxis\":{\"colorbar\":{\"outlinewidth\":0,\"ticks\":\"\"}},\"colorscale\":{\"sequential\":[[0.0,\"#0d0887\"],[0.1111111111111111,\"#46039f\"],[0.2222222222222222,\"#7201a8\"],[0.3333333333333333,\"#9c179e\"],[0.4444444444444444,\"#bd3786\"],[0.5555555555555556,\"#d8576b\"],[0.6666666666666666,\"#ed7953\"],[0.7777777777777778,\"#fb9f3a\"],[0.8888888888888888,\"#fdca26\"],[1.0,\"#f0f921\"]],\"sequentialminus\":[[0.0,\"#0d0887\"],[0.1111111111111111,\"#46039f\"],[0.2222222222222222,\"#7201a8\"],[0.3333333333333333,\"#9c179e\"],[0.4444444444444444,\"#bd3786\"],[0.5555555555555556,\"#d8576b\"],[0.6666666666666666,\"#ed7953\"],[0.7777777777777778,\"#fb9f3a\"],[0.8888888888888888,\"#fdca26\"],[1.0,\"#f0f921\"]],\"diverging\":[[0,\"#8e0152\"],[0.1,\"#c51b7d\"],[0.2,\"#de77ae\"],[0.3,\"#f1b6da\"],[0.4,\"#fde0ef\"],[0.5,\"#f7f7f7\"],[0.6,\"#e6f5d0\"],[0.7,\"#b8e186\"],[0.8,\"#7fbc41\"],[0.9,\"#4d9221\"],[1,\"#276419\"]]},\"xaxis\":{\"gridcolor\":\"white\",\"linecolor\":\"white\",\"ticks\":\"\",\"title\":{\"standoff\":15},\"zerolinecolor\":\"white\",\"automargin\":true,\"zerolinewidth\":2},\"yaxis\":{\"gridcolor\":\"white\",\"linecolor\":\"white\",\"ticks\":\"\",\"title\":{\"standoff\":15},\"zerolinecolor\":\"white\",\"automargin\":true,\"zerolinewidth\":2},\"scene\":{\"xaxis\":{\"backgroundcolor\":\"#E5ECF6\",\"gridcolor\":\"white\",\"linecolor\":\"white\",\"showbackground\":true,\"ticks\":\"\",\"zerolinecolor\":\"white\",\"gridwidth\":2},\"yaxis\":{\"backgroundcolor\":\"#E5ECF6\",\"gridcolor\":\"white\",\"linecolor\":\"white\",\"showbackground\":true,\"ticks\":\"\",\"zerolinecolor\":\"white\",\"gridwidth\":2},\"zaxis\":{\"backgroundcolor\":\"#E5ECF6\",\"gridcolor\":\"white\",\"linecolor\":\"white\",\"showbackground\":true,\"ticks\":\"\",\"zerolinecolor\":\"white\",\"gridwidth\":2}},\"shapedefaults\":{\"line\":{\"color\":\"#2a3f5f\"}},\"annotationdefaults\":{\"arrowcolor\":\"#2a3f5f\",\"arrowhead\":0,\"arrowwidth\":1},\"geo\":{\"bgcolor\":\"white\",\"landcolor\":\"#E5ECF6\",\"subunitcolor\":\"white\",\"showland\":true,\"showlakes\":true,\"lakecolor\":\"white\"},\"title\":{\"x\":0.05},\"mapbox\":{\"style\":\"light\"}}}},                        {\"responsive\": true}                    ).then(function(){\n",
       "                            \n",
       "var gd = document.getElementById('600b4e36-32c3-4507-8866-9f4bc5f5d1ba');\n",
       "var x = new MutationObserver(function (mutations, observer) {{\n",
       "        var display = window.getComputedStyle(gd).display;\n",
       "        if (!display || display === 'none') {{\n",
       "            console.log([gd, 'removed!']);\n",
       "            Plotly.purge(gd);\n",
       "            observer.disconnect();\n",
       "        }}\n",
       "}});\n",
       "\n",
       "// Listen for the removal of the full notebook cells\n",
       "var notebookContainer = gd.closest('#notebook-container');\n",
       "if (notebookContainer) {{\n",
       "    x.observe(notebookContainer, {childList: true});\n",
       "}}\n",
       "\n",
       "// Listen for the clearing of the current output cell\n",
       "var outputEl = gd.closest('.output');\n",
       "if (outputEl) {{\n",
       "    x.observe(outputEl, {childList: true});\n",
       "}}\n",
       "\n",
       "                        })                };                });            </script>        </div>"
      ]
     },
     "metadata": {},
     "output_type": "display_data"
    },
    {
     "name": "stdout",
     "output_type": "stream",
     "text": [
      "Self rating attractiveness plot completed. It took 0.017 seconds.\n"
     ]
    }
   ],
   "source": [
    "# Running the plot comparing self-rating of attractiveness values against\n",
    "# percentage of successful second dates\n",
    "start_time = time.time()\n",
    "\n",
    "# Set line_plot to True\n",
    "line_plot = True\n",
    "\n",
    "avg_self_attr_data = fetch_avg_self_attr_data(database_path)\n",
    "traces = create_scatter_traces(avg_self_attr_data, colors, line_plot)\n",
    "\n",
    "# Structuring the layout with titles and colours\n",
    "layout = go.Layout(\n",
    "    title='Relationship between Self-Rating of Attractiveness and Second Date Success Rate',\n",
    "    xaxis=dict(title='Self-Rating of Attractiveness'),\n",
    "    yaxis=dict(title='Percentage of Successful Second Dates'),\n",
    "    barmode='group',\n",
    "    plot_bgcolor='#dadfe1',\n",
    "    paper_bgcolor='#dadfe1'\n",
    ")\n",
    "\n",
    "# Create figure\n",
    "fig = go.Figure(data=traces, layout=layout)\n",
    "\n",
    "# Show the plot\n",
    "fig.show()\n",
    "          \n",
    "end_time = round(time.time() - start_time, 4)\n",
    "\n",
    "print(f'Self rating attractiveness plot completed. It took {end_time} seconds.')"
   ]
  },
  {
   "cell_type": "markdown",
   "id": "f2cb39b9",
   "metadata": {},
   "source": [
    "In the above chart the percentage has been calculated by considering all people with a particular value of self-rated attractiveness.\n",
    "\n",
    "We can observe a general upwards trend, particularly around self-rating values of 2 - 4. However we do see that there are fluctuations in second date success at higher values. \n",
    "\n",
    "Women tend to have a higher success percentage for the same value of self-rated attractiveness compared to men.\n",
    "\n",
    "From this it would seem that confidence does play a role in speed dating success but there is variance within this."
   ]
  },
  {
   "cell_type": "markdown",
   "id": "f27dd9ab",
   "metadata": {},
   "source": [
    "### Analyzing variance in Self-Rated Attractiveness Values against Second Date Success\n",
    "\n",
    "In this section we explore the variance that we observed in the plot above. Instead of taking averages for each self-rating of attractiveness we will instead fetch and plot each individual's second date success for each value of self-rated attractiveness."
   ]
  },
  {
   "cell_type": "code",
   "execution_count": 258,
   "id": "c11dffd4",
   "metadata": {},
   "outputs": [],
   "source": [
    "# Fetches the percentage of second date success compared\n",
    "# to each individual's self-rated attractiveness\n",
    "\n",
    "# Parameters:\n",
    "#   - database_path (str): the path to your database\n",
    "\n",
    "def fetch_self_attr_data(database_path):\n",
    "    # Connect to database\n",
    "    conn = sqlite3.connect(database_path)\n",
    "\n",
    "    # Create cursor object\n",
    "    cursor = conn.cursor()\n",
    "\n",
    "    # Construct the SELECT query\n",
    "    self_attr_query = f'''\n",
    "        SELECT gender, attr3_1, (SUM(dec_o) * 1.0) / COUNT(*)\n",
    "        FROM participants AS p\n",
    "        JOIN dates AS d ON p.iid = d.iid\n",
    "        GROUP BY p.iid\n",
    "        ORDER BY gender, attr3_1\n",
    "    '''\n",
    "\n",
    "    # Execute query to retrieve self rating of attractiveness and second\n",
    "    # date success percentage for each individual\n",
    "    cursor.execute(self_attr_query)\n",
    "\n",
    "    rows = cursor.fetchall()\n",
    "\n",
    "    # Commit changes\n",
    "    conn.commit()\n",
    "\n",
    "    # Close connection\n",
    "    conn.close()\n",
    "\n",
    "    # Initialize a dictionary for organizing data separated by gender\n",
    "    self_attr_data = {'Female': [[], []], 'Male': [[], []]} # Use 0 for Female, 1 for Male\n",
    "\n",
    "    # Separate data for men and women\n",
    "    for row in rows:\n",
    "        gender, self_attr, dec_o_ratio = row\n",
    "        # Map numeric gender to string labels\n",
    "        gender_str = 'Female' if gender == 0 else 'Male'\n",
    "        self_attr_data[gender_str][0].append(self_attr)\n",
    "        self_attr_data[gender_str][1].append(dec_o_ratio)\n",
    "        \n",
    "    return self_attr_data"
   ]
  },
  {
   "cell_type": "code",
   "execution_count": 259,
   "id": "2bfca29b",
   "metadata": {},
   "outputs": [],
   "source": [
    "# Creates the traces for the plotly box chart\n",
    "\n",
    "# Parameters:\n",
    "#   - data (dict): the dictionary containing the x and y data\n",
    "#                  for each gender\n",
    "#   - colors (list): the colors to use for the male and female markers\n",
    "\n",
    "def create_box_traces(data, colors):\n",
    "    \n",
    "    # Create traces for each gender\n",
    "    traces = []\n",
    "    \n",
    "    # Set counter for colors list\n",
    "    i = 0\n",
    "    \n",
    "    for gender, (x_data, y_data) in data.items():\n",
    "        trace = go.Box(\n",
    "            # The x-axis data to be used\n",
    "            x=x_data,\n",
    "            # The y-axis data to be used\n",
    "            y=y_data,\n",
    "            name=gender,\n",
    "            marker_color=colors[i]\n",
    "        )\n",
    "            \n",
    "        traces.append(trace)\n",
    "        i = i + 1\n",
    "\n",
    "    return traces"
   ]
  },
  {
   "cell_type": "code",
   "execution_count": 260,
   "id": "2bb9a4eb",
   "metadata": {},
   "outputs": [
    {
     "data": {
      "application/vnd.plotly.v1+json": {
       "config": {
        "plotlyServerURL": "https://plot.ly"
       },
       "data": [
        {
         "marker": {
          "color": "#ff6361"
         },
         "name": "Female",
         "type": "box",
         "x": [
          2,
          3,
          3,
          3,
          3,
          4,
          4,
          4,
          4,
          5,
          5,
          5,
          5,
          5,
          5,
          5,
          5,
          5,
          5,
          5,
          5,
          5,
          5,
          5,
          5,
          6,
          6,
          6,
          6,
          6,
          6,
          6,
          6,
          6,
          6,
          6,
          6,
          6,
          6,
          6,
          6,
          6,
          6,
          6,
          6,
          6,
          6,
          6,
          6,
          6,
          6,
          6,
          6,
          6,
          6,
          6,
          6,
          6,
          6,
          6,
          6,
          7,
          7,
          7,
          7,
          7,
          7,
          7,
          7,
          7,
          7,
          7,
          7,
          7,
          7,
          7,
          7,
          7,
          7,
          7,
          7,
          7,
          7,
          7,
          7,
          7,
          7,
          7,
          7,
          7,
          7,
          7,
          7,
          7,
          7,
          7,
          7,
          7,
          7,
          7,
          7,
          7,
          7,
          7,
          7,
          7,
          7,
          7,
          7,
          7,
          7,
          7,
          7,
          7,
          7,
          7,
          7,
          7,
          7,
          7,
          7,
          7,
          7,
          7,
          7,
          7,
          7,
          7,
          7,
          7,
          7,
          7,
          7,
          7,
          7,
          7,
          7,
          7,
          7,
          7,
          7,
          7,
          7,
          7,
          7,
          7,
          7,
          8,
          8,
          8,
          8,
          8,
          8,
          8,
          8,
          8,
          8,
          8,
          8,
          8,
          8,
          8,
          8,
          8,
          8,
          8,
          8,
          8,
          8,
          8,
          8,
          8,
          8,
          8,
          8,
          8,
          8,
          8,
          8,
          8,
          8,
          8,
          8,
          8,
          8,
          8,
          8,
          8,
          8,
          8,
          8,
          8,
          8,
          8,
          8,
          8,
          8,
          8,
          8,
          8,
          8,
          8,
          8,
          8,
          8,
          8,
          8,
          8,
          8,
          8,
          8,
          8,
          8,
          8,
          8,
          8,
          8,
          8,
          8,
          8,
          8,
          8,
          8,
          8,
          8,
          8,
          8,
          8,
          9,
          9,
          9,
          9,
          9,
          9,
          9,
          9,
          9,
          9,
          9,
          9,
          9,
          9,
          9,
          9,
          9,
          9,
          9,
          9,
          9,
          9,
          9,
          9,
          9,
          9,
          9,
          9,
          9,
          9,
          9,
          9,
          9,
          9,
          9,
          10,
          10,
          10,
          10,
          10
         ],
         "y": [
          0.2,
          0.2777777777777778,
          0.6666666666666666,
          0.14285714285714285,
          0.14285714285714285,
          0.1875,
          0.23529411764705882,
          0.4444444444444444,
          0.7333333333333333,
          0.5,
          0.1875,
          0.3333333333333333,
          0.7222222222222222,
          0.16666666666666666,
          0.3125,
          0.4,
          0.5714285714285714,
          0.6428571428571429,
          0.14285714285714285,
          0.6428571428571429,
          0.6,
          0.5333333333333333,
          0.8571428571428571,
          0.47368421052631576,
          0.6666666666666666,
          0.5,
          0.3,
          0.7,
          0.4,
          0.9333333333333333,
          0.2,
          0.25,
          0.13333333333333333,
          0.2,
          0.1,
          0.5294117647058824,
          0.4444444444444444,
          0.8888888888888888,
          0.7,
          0.4,
          0.4444444444444444,
          0.8888888888888888,
          0.3333333333333333,
          0.7619047619047619,
          0.65,
          0.5,
          0.42857142857142855,
          0.35714285714285715,
          0.2857142857142857,
          0.14285714285714285,
          0.058823529411764705,
          0.0625,
          0.5333333333333333,
          0.6470588235294118,
          0.5625,
          0.26666666666666666,
          0.75,
          0.6363636363636364,
          0.09090909090909091,
          0,
          0.14285714285714285,
          0.6,
          0.6,
          0.8,
          0.7,
          0.1875,
          0.42857142857142855,
          0.8666666666666667,
          0.9333333333333333,
          0.26666666666666666,
          0.5333333333333333,
          0.6875,
          0.2,
          0.2,
          0.2,
          0.4,
          0.5,
          0.5,
          0.3888888888888889,
          0.7777777777777778,
          0.2,
          0.6,
          0.0625,
          0.4,
          0.6875,
          0.4375,
          0.3125,
          0.5625,
          0.75,
          0.4,
          0.8,
          0.15,
          0.3684210526315789,
          0.55,
          0.65,
          0.26666666666666666,
          0.7,
          0.75,
          0.4444444444444444,
          0.1111111111111111,
          0.3333333333333333,
          0.7777777777777778,
          0.55,
          0.35,
          0.3,
          0.25,
          0.14285714285714285,
          0.21428571428571427,
          0.21428571428571427,
          0.5,
          0.2857142857142857,
          1,
          0.5714285714285714,
          0.14285714285714285,
          0.4375,
          0.4375,
          0.375,
          0.7058823529411765,
          0.7222222222222222,
          0.5294117647058824,
          0.4444444444444444,
          0.3333333333333333,
          0.4117647058823529,
          0.4117647058823529,
          0.5384615384615384,
          0.2777777777777778,
          0.25,
          0.125,
          0.625,
          0.5,
          0.5,
          0.5,
          0.7857142857142857,
          0.3076923076923077,
          0.2857142857142857,
          0.7142857142857143,
          0,
          0.2,
          0.6666666666666666,
          0.4666666666666667,
          0.06666666666666667,
          0.3076923076923077,
          0.7142857142857143,
          0.7,
          0.5294117647058824,
          0.45,
          0.5454545454545454,
          0.5,
          0.8125,
          0.6666666666666666,
          0.5333333333333333,
          0.4,
          0.2,
          0.2777777777777778,
          0.7777777777777778,
          0.5555555555555556,
          0.4444444444444444,
          0.7777777777777778,
          0.4,
          0.5555555555555556,
          0.6,
          0.5555555555555556,
          0.7777777777777778,
          1,
          0.3125,
          0.5,
          0.6875,
          0.75,
          0.8125,
          0.625,
          0.8,
          0.2222222222222222,
          0.8421052631578947,
          0.45,
          0.95,
          0.6842105263157895,
          0.75,
          0.3333333333333333,
          0.8888888888888888,
          0.25,
          0.42857142857142855,
          0.7,
          0.65,
          0.8,
          0.7619047619047619,
          0.35714285714285715,
          0.5714285714285714,
          0.21428571428571427,
          0,
          0.5714285714285714,
          0.2857142857142857,
          0.2857142857142857,
          0.7142857142857143,
          0,
          0.375,
          0.5882352941176471,
          0.26666666666666666,
          0.6666666666666666,
          0.5,
          0.7058823529411765,
          0.4444444444444444,
          0.9411764705882353,
          0.125,
          0.5,
          0.2222222222222222,
          0.25,
          0.875,
          0.42857142857142855,
          0.6428571428571429,
          0.4,
          1,
          0.6666666666666666,
          0.6666666666666666,
          0.7333333333333333,
          0.4666666666666667,
          0.5333333333333333,
          0.5384615384615384,
          0.42857142857142855,
          0.7142857142857143,
          0.8571428571428571,
          0.5714285714285714,
          0.19047619047619047,
          0.19047619047619047,
          0.42857142857142855,
          0.5714285714285714,
          0.375,
          0.3888888888888889,
          0.21052631578947367,
          0.8,
          0.5555555555555556,
          0.3333333333333333,
          0.6111111111111112,
          0.8,
          0.5,
          0.5625,
          0.875,
          0.1111111111111111,
          0,
          0.3333333333333333,
          0.875,
          0.6666666666666666,
          0.2222222222222222,
          0.15,
          0.8,
          0.4,
          0.75,
          0.75,
          0.4,
          1,
          0.5238095238095238,
          0.95,
          0.47619047619047616,
          0.5238095238095238,
          0.6428571428571429,
          0.2857142857142857,
          0.42857142857142855,
          0.2222222222222222,
          0.23529411764705882,
          0.14285714285714285,
          0.5,
          0.8,
          0.42857142857142855,
          0.25,
          0.7,
          0.5555555555555556,
          0.1875,
          0.4,
          0.14285714285714285
         ]
        },
        {
         "marker": {
          "color": "#003f5c"
         },
         "name": "Male",
         "type": "box",
         "x": [
          2,
          3,
          3,
          3,
          3,
          4,
          4,
          4,
          4,
          4,
          4,
          4,
          4,
          4,
          4,
          4,
          5,
          5,
          5,
          5,
          5,
          5,
          5,
          5,
          5,
          5,
          5,
          5,
          5,
          5,
          5,
          5,
          5,
          5,
          5,
          5,
          5,
          5,
          5,
          5,
          5,
          5,
          5,
          6,
          6,
          6,
          6,
          6,
          6,
          6,
          6,
          6,
          6,
          6,
          6,
          6,
          6,
          6,
          6,
          6,
          6,
          6,
          6,
          6,
          6,
          6,
          6,
          6,
          6,
          6,
          6,
          6,
          6,
          6,
          6,
          6,
          6,
          6,
          7,
          7,
          7,
          7,
          7,
          7,
          7,
          7,
          7,
          7,
          7,
          7,
          7,
          7,
          7,
          7,
          7,
          7,
          7,
          7,
          7,
          7,
          7,
          7,
          7,
          7,
          7,
          7,
          7,
          7,
          7,
          7,
          7,
          7,
          7,
          7,
          7,
          7,
          7,
          7,
          7,
          7,
          7,
          7,
          7,
          7,
          7,
          7,
          7,
          7,
          7,
          7,
          7,
          7,
          7,
          7,
          7,
          7,
          7,
          7,
          7,
          7,
          7,
          7,
          7,
          7,
          7,
          7,
          7,
          7,
          7,
          7,
          7,
          7,
          7,
          7,
          7,
          7,
          7,
          7,
          7,
          7,
          7,
          7,
          7,
          7,
          7,
          7,
          7,
          7,
          7,
          7,
          7,
          7,
          7,
          7,
          7,
          7,
          7,
          7,
          7,
          7,
          7,
          7,
          7,
          8,
          8,
          8,
          8,
          8,
          8,
          8,
          8,
          8,
          8,
          8,
          8,
          8,
          8,
          8,
          8,
          8,
          8,
          8,
          8,
          8,
          8,
          8,
          8,
          8,
          8,
          8,
          8,
          8,
          8,
          8,
          8,
          8,
          8,
          8,
          8,
          8,
          8,
          8,
          8,
          8,
          8,
          8,
          8,
          8,
          8,
          8,
          8,
          8,
          8,
          8,
          8,
          8,
          8,
          8,
          8,
          8,
          8,
          8,
          8,
          8,
          8,
          8,
          8,
          9,
          9,
          9,
          9,
          9,
          9,
          9,
          9,
          9,
          9,
          9,
          9,
          9,
          9,
          10,
          10,
          10,
          10,
          10,
          10,
          10,
          10,
          10,
          10,
          10,
          10
         ],
         "y": [
          0,
          0.2222222222222222,
          0.16666666666666666,
          0,
          0.14285714285714285,
          0.4,
          0.2777777777777778,
          0.5555555555555556,
          0.14285714285714285,
          0.4444444444444444,
          0.05,
          0.5714285714285714,
          0.5714285714285714,
          0.1875,
          0.16666666666666666,
          0.14285714285714285,
          0,
          0.2222222222222222,
          0.375,
          0.75,
          0.1111111111111111,
          0.7777777777777778,
          0.125,
          0.1875,
          0.5,
          0.05,
          0.25,
          0.05,
          0.3333333333333333,
          0,
          0.7777777777777778,
          0.2857142857142857,
          0.47619047619047616,
          0.3333333333333333,
          0.21428571428571427,
          0.4,
          0.4,
          0.2777777777777778,
          0.1111111111111111,
          0.6666666666666666,
          0.2857142857142857,
          0,
          0.25,
          0.3,
          0.3,
          0.2222222222222222,
          0.2222222222222222,
          0.3333333333333333,
          0.375,
          0.125,
          0.375,
          0.16666666666666666,
          0.4444444444444444,
          0.25,
          0.8,
          0.2,
          0.23809523809523808,
          0.35714285714285715,
          0.6428571428571429,
          0.07142857142857142,
          0.38461538461538464,
          0.4,
          0.9444444444444444,
          0.6666666666666666,
          0.7142857142857143,
          0.375,
          0.5555555555555556,
          0.35294117647058826,
          0.1111111111111111,
          0.6111111111111112,
          0.35294117647058826,
          0,
          0.5,
          0.3,
          0.16666666666666666,
          0.5,
          0.7333333333333333,
          0.65,
          0.3,
          0.8,
          0.9,
          0.2222222222222222,
          0.2222222222222222,
          0.4444444444444444,
          0.4444444444444444,
          0.47058823529411764,
          0.25,
          0.5,
          0.25,
          0.25,
          0.1111111111111111,
          0,
          0.5555555555555556,
          0.29411764705882354,
          0.6666666666666666,
          0.2777777777777778,
          0.7777777777777778,
          0.3333333333333333,
          0.75,
          0.25,
          0,
          0.25,
          0.5,
          0.375,
          0.25,
          0.8125,
          0,
          0.375,
          0.2,
          0.6,
          0.8,
          0.6,
          0.5,
          0.4,
          0.65,
          0.16666666666666666,
          0.5,
          0.25,
          0.05,
          0.35,
          0.2777777777777778,
          0.7777777777777778,
          0.6666666666666666,
          0.1111111111111111,
          0,
          0.3333333333333333,
          0.2857142857142857,
          0.3333333333333333,
          0.19047619047619047,
          0.38095238095238093,
          0.3333333333333333,
          0,
          0.2857142857142857,
          0.07142857142857142,
          0.5,
          0.23076923076923078,
          0.6923076923076923,
          0.6428571428571429,
          0.8,
          0.3,
          0.25,
          0.47058823529411764,
          0.6470588235294118,
          0.6,
          0.17647058823529413,
          0.3333333333333333,
          0.7058823529411765,
          0.7777777777777778,
          0.7222222222222222,
          0.625,
          0.7222222222222222,
          0.3333333333333333,
          0.6111111111111112,
          0.0625,
          0.2,
          0.4,
          0.2,
          0.4,
          0.2,
          0.3,
          0.1,
          0.5714285714285714,
          0.4,
          0.06666666666666667,
          0.8,
          0.6428571428571429,
          0.2,
          0,
          0,
          0.3333333333333333,
          0.6666666666666666,
          0.16666666666666666,
          0.2,
          0.3181818181818182,
          0.5,
          0.6,
          0.631578947368421,
          0.3,
          0.4,
          0.5,
          0.5,
          0.2727272727272727,
          0.5,
          0.4,
          0.05555555555555555,
          0.6666666666666666,
          0.47058823529411764,
          0,
          0.375,
          0.1111111111111111,
          0,
          0.1111111111111111,
          0.2777777777777778,
          0.5555555555555556,
          0.4444444444444444,
          0,
          0.5555555555555556,
          0.75,
          0.3333333333333333,
          0.5,
          0.25,
          0.25,
          0.6875,
          0.25,
          0,
          0.4,
          0.15,
          0.3,
          0.42105263157894735,
          0.25,
          0.10526315789473684,
          0.2222222222222222,
          0,
          0.5714285714285714,
          0.09523809523809523,
          0.38095238095238093,
          0.5,
          0.07142857142857142,
          0,
          0.5,
          0.6666666666666666,
          0.47368421052631576,
          0.5,
          0.8125,
          0.6111111111111112,
          0.5,
          0.25,
          0.5,
          0.5,
          0.8,
          0,
          0.6,
          0.25,
          0.5,
          0.5,
          0.5,
          0.6,
          0.8333333333333334,
          0.13333333333333333,
          0.3333333333333333,
          0.13333333333333333,
          0.3333333333333333,
          0.38095238095238093,
          0.3,
          0.2857142857142857,
          0.46153846153846156,
          0.75,
          0.4,
          0.8,
          0.5,
          0.8888888888888888,
          0.3333333333333333,
          0.15,
          0.5714285714285714,
          0.8,
          0.5555555555555556,
          0.4,
          0.3,
          0.4666666666666667,
          0.16666666666666666,
          0.5714285714285714,
          0.9,
          0.9444444444444444,
          0.3125,
          0.2,
          0.15,
          0.65,
          0.8888888888888888,
          0.05,
          0.5555555555555556,
          0.6666666666666666,
          0.3181818181818182,
          0.47619047619047616
         ]
        }
       ],
       "layout": {
        "boxmode": "group",
        "paper_bgcolor": "#dadfe1",
        "plot_bgcolor": "#dadfe1",
        "template": {
         "data": {
          "bar": [
           {
            "error_x": {
             "color": "#2a3f5f"
            },
            "error_y": {
             "color": "#2a3f5f"
            },
            "marker": {
             "line": {
              "color": "#E5ECF6",
              "width": 0.5
             },
             "pattern": {
              "fillmode": "overlay",
              "size": 10,
              "solidity": 0.2
             }
            },
            "type": "bar"
           }
          ],
          "barpolar": [
           {
            "marker": {
             "line": {
              "color": "#E5ECF6",
              "width": 0.5
             },
             "pattern": {
              "fillmode": "overlay",
              "size": 10,
              "solidity": 0.2
             }
            },
            "type": "barpolar"
           }
          ],
          "carpet": [
           {
            "aaxis": {
             "endlinecolor": "#2a3f5f",
             "gridcolor": "white",
             "linecolor": "white",
             "minorgridcolor": "white",
             "startlinecolor": "#2a3f5f"
            },
            "baxis": {
             "endlinecolor": "#2a3f5f",
             "gridcolor": "white",
             "linecolor": "white",
             "minorgridcolor": "white",
             "startlinecolor": "#2a3f5f"
            },
            "type": "carpet"
           }
          ],
          "choropleth": [
           {
            "colorbar": {
             "outlinewidth": 0,
             "ticks": ""
            },
            "type": "choropleth"
           }
          ],
          "contour": [
           {
            "colorbar": {
             "outlinewidth": 0,
             "ticks": ""
            },
            "colorscale": [
             [
              0,
              "#0d0887"
             ],
             [
              0.1111111111111111,
              "#46039f"
             ],
             [
              0.2222222222222222,
              "#7201a8"
             ],
             [
              0.3333333333333333,
              "#9c179e"
             ],
             [
              0.4444444444444444,
              "#bd3786"
             ],
             [
              0.5555555555555556,
              "#d8576b"
             ],
             [
              0.6666666666666666,
              "#ed7953"
             ],
             [
              0.7777777777777778,
              "#fb9f3a"
             ],
             [
              0.8888888888888888,
              "#fdca26"
             ],
             [
              1,
              "#f0f921"
             ]
            ],
            "type": "contour"
           }
          ],
          "contourcarpet": [
           {
            "colorbar": {
             "outlinewidth": 0,
             "ticks": ""
            },
            "type": "contourcarpet"
           }
          ],
          "heatmap": [
           {
            "colorbar": {
             "outlinewidth": 0,
             "ticks": ""
            },
            "colorscale": [
             [
              0,
              "#0d0887"
             ],
             [
              0.1111111111111111,
              "#46039f"
             ],
             [
              0.2222222222222222,
              "#7201a8"
             ],
             [
              0.3333333333333333,
              "#9c179e"
             ],
             [
              0.4444444444444444,
              "#bd3786"
             ],
             [
              0.5555555555555556,
              "#d8576b"
             ],
             [
              0.6666666666666666,
              "#ed7953"
             ],
             [
              0.7777777777777778,
              "#fb9f3a"
             ],
             [
              0.8888888888888888,
              "#fdca26"
             ],
             [
              1,
              "#f0f921"
             ]
            ],
            "type": "heatmap"
           }
          ],
          "heatmapgl": [
           {
            "colorbar": {
             "outlinewidth": 0,
             "ticks": ""
            },
            "colorscale": [
             [
              0,
              "#0d0887"
             ],
             [
              0.1111111111111111,
              "#46039f"
             ],
             [
              0.2222222222222222,
              "#7201a8"
             ],
             [
              0.3333333333333333,
              "#9c179e"
             ],
             [
              0.4444444444444444,
              "#bd3786"
             ],
             [
              0.5555555555555556,
              "#d8576b"
             ],
             [
              0.6666666666666666,
              "#ed7953"
             ],
             [
              0.7777777777777778,
              "#fb9f3a"
             ],
             [
              0.8888888888888888,
              "#fdca26"
             ],
             [
              1,
              "#f0f921"
             ]
            ],
            "type": "heatmapgl"
           }
          ],
          "histogram": [
           {
            "marker": {
             "pattern": {
              "fillmode": "overlay",
              "size": 10,
              "solidity": 0.2
             }
            },
            "type": "histogram"
           }
          ],
          "histogram2d": [
           {
            "colorbar": {
             "outlinewidth": 0,
             "ticks": ""
            },
            "colorscale": [
             [
              0,
              "#0d0887"
             ],
             [
              0.1111111111111111,
              "#46039f"
             ],
             [
              0.2222222222222222,
              "#7201a8"
             ],
             [
              0.3333333333333333,
              "#9c179e"
             ],
             [
              0.4444444444444444,
              "#bd3786"
             ],
             [
              0.5555555555555556,
              "#d8576b"
             ],
             [
              0.6666666666666666,
              "#ed7953"
             ],
             [
              0.7777777777777778,
              "#fb9f3a"
             ],
             [
              0.8888888888888888,
              "#fdca26"
             ],
             [
              1,
              "#f0f921"
             ]
            ],
            "type": "histogram2d"
           }
          ],
          "histogram2dcontour": [
           {
            "colorbar": {
             "outlinewidth": 0,
             "ticks": ""
            },
            "colorscale": [
             [
              0,
              "#0d0887"
             ],
             [
              0.1111111111111111,
              "#46039f"
             ],
             [
              0.2222222222222222,
              "#7201a8"
             ],
             [
              0.3333333333333333,
              "#9c179e"
             ],
             [
              0.4444444444444444,
              "#bd3786"
             ],
             [
              0.5555555555555556,
              "#d8576b"
             ],
             [
              0.6666666666666666,
              "#ed7953"
             ],
             [
              0.7777777777777778,
              "#fb9f3a"
             ],
             [
              0.8888888888888888,
              "#fdca26"
             ],
             [
              1,
              "#f0f921"
             ]
            ],
            "type": "histogram2dcontour"
           }
          ],
          "mesh3d": [
           {
            "colorbar": {
             "outlinewidth": 0,
             "ticks": ""
            },
            "type": "mesh3d"
           }
          ],
          "parcoords": [
           {
            "line": {
             "colorbar": {
              "outlinewidth": 0,
              "ticks": ""
             }
            },
            "type": "parcoords"
           }
          ],
          "pie": [
           {
            "automargin": true,
            "type": "pie"
           }
          ],
          "scatter": [
           {
            "fillpattern": {
             "fillmode": "overlay",
             "size": 10,
             "solidity": 0.2
            },
            "type": "scatter"
           }
          ],
          "scatter3d": [
           {
            "line": {
             "colorbar": {
              "outlinewidth": 0,
              "ticks": ""
             }
            },
            "marker": {
             "colorbar": {
              "outlinewidth": 0,
              "ticks": ""
             }
            },
            "type": "scatter3d"
           }
          ],
          "scattercarpet": [
           {
            "marker": {
             "colorbar": {
              "outlinewidth": 0,
              "ticks": ""
             }
            },
            "type": "scattercarpet"
           }
          ],
          "scattergeo": [
           {
            "marker": {
             "colorbar": {
              "outlinewidth": 0,
              "ticks": ""
             }
            },
            "type": "scattergeo"
           }
          ],
          "scattergl": [
           {
            "marker": {
             "colorbar": {
              "outlinewidth": 0,
              "ticks": ""
             }
            },
            "type": "scattergl"
           }
          ],
          "scattermapbox": [
           {
            "marker": {
             "colorbar": {
              "outlinewidth": 0,
              "ticks": ""
             }
            },
            "type": "scattermapbox"
           }
          ],
          "scatterpolar": [
           {
            "marker": {
             "colorbar": {
              "outlinewidth": 0,
              "ticks": ""
             }
            },
            "type": "scatterpolar"
           }
          ],
          "scatterpolargl": [
           {
            "marker": {
             "colorbar": {
              "outlinewidth": 0,
              "ticks": ""
             }
            },
            "type": "scatterpolargl"
           }
          ],
          "scatterternary": [
           {
            "marker": {
             "colorbar": {
              "outlinewidth": 0,
              "ticks": ""
             }
            },
            "type": "scatterternary"
           }
          ],
          "surface": [
           {
            "colorbar": {
             "outlinewidth": 0,
             "ticks": ""
            },
            "colorscale": [
             [
              0,
              "#0d0887"
             ],
             [
              0.1111111111111111,
              "#46039f"
             ],
             [
              0.2222222222222222,
              "#7201a8"
             ],
             [
              0.3333333333333333,
              "#9c179e"
             ],
             [
              0.4444444444444444,
              "#bd3786"
             ],
             [
              0.5555555555555556,
              "#d8576b"
             ],
             [
              0.6666666666666666,
              "#ed7953"
             ],
             [
              0.7777777777777778,
              "#fb9f3a"
             ],
             [
              0.8888888888888888,
              "#fdca26"
             ],
             [
              1,
              "#f0f921"
             ]
            ],
            "type": "surface"
           }
          ],
          "table": [
           {
            "cells": {
             "fill": {
              "color": "#EBF0F8"
             },
             "line": {
              "color": "white"
             }
            },
            "header": {
             "fill": {
              "color": "#C8D4E3"
             },
             "line": {
              "color": "white"
             }
            },
            "type": "table"
           }
          ]
         },
         "layout": {
          "annotationdefaults": {
           "arrowcolor": "#2a3f5f",
           "arrowhead": 0,
           "arrowwidth": 1
          },
          "autotypenumbers": "strict",
          "coloraxis": {
           "colorbar": {
            "outlinewidth": 0,
            "ticks": ""
           }
          },
          "colorscale": {
           "diverging": [
            [
             0,
             "#8e0152"
            ],
            [
             0.1,
             "#c51b7d"
            ],
            [
             0.2,
             "#de77ae"
            ],
            [
             0.3,
             "#f1b6da"
            ],
            [
             0.4,
             "#fde0ef"
            ],
            [
             0.5,
             "#f7f7f7"
            ],
            [
             0.6,
             "#e6f5d0"
            ],
            [
             0.7,
             "#b8e186"
            ],
            [
             0.8,
             "#7fbc41"
            ],
            [
             0.9,
             "#4d9221"
            ],
            [
             1,
             "#276419"
            ]
           ],
           "sequential": [
            [
             0,
             "#0d0887"
            ],
            [
             0.1111111111111111,
             "#46039f"
            ],
            [
             0.2222222222222222,
             "#7201a8"
            ],
            [
             0.3333333333333333,
             "#9c179e"
            ],
            [
             0.4444444444444444,
             "#bd3786"
            ],
            [
             0.5555555555555556,
             "#d8576b"
            ],
            [
             0.6666666666666666,
             "#ed7953"
            ],
            [
             0.7777777777777778,
             "#fb9f3a"
            ],
            [
             0.8888888888888888,
             "#fdca26"
            ],
            [
             1,
             "#f0f921"
            ]
           ],
           "sequentialminus": [
            [
             0,
             "#0d0887"
            ],
            [
             0.1111111111111111,
             "#46039f"
            ],
            [
             0.2222222222222222,
             "#7201a8"
            ],
            [
             0.3333333333333333,
             "#9c179e"
            ],
            [
             0.4444444444444444,
             "#bd3786"
            ],
            [
             0.5555555555555556,
             "#d8576b"
            ],
            [
             0.6666666666666666,
             "#ed7953"
            ],
            [
             0.7777777777777778,
             "#fb9f3a"
            ],
            [
             0.8888888888888888,
             "#fdca26"
            ],
            [
             1,
             "#f0f921"
            ]
           ]
          },
          "colorway": [
           "#636efa",
           "#EF553B",
           "#00cc96",
           "#ab63fa",
           "#FFA15A",
           "#19d3f3",
           "#FF6692",
           "#B6E880",
           "#FF97FF",
           "#FECB52"
          ],
          "font": {
           "color": "#2a3f5f"
          },
          "geo": {
           "bgcolor": "white",
           "lakecolor": "white",
           "landcolor": "#E5ECF6",
           "showlakes": true,
           "showland": true,
           "subunitcolor": "white"
          },
          "hoverlabel": {
           "align": "left"
          },
          "hovermode": "closest",
          "mapbox": {
           "style": "light"
          },
          "paper_bgcolor": "white",
          "plot_bgcolor": "#E5ECF6",
          "polar": {
           "angularaxis": {
            "gridcolor": "white",
            "linecolor": "white",
            "ticks": ""
           },
           "bgcolor": "#E5ECF6",
           "radialaxis": {
            "gridcolor": "white",
            "linecolor": "white",
            "ticks": ""
           }
          },
          "scene": {
           "xaxis": {
            "backgroundcolor": "#E5ECF6",
            "gridcolor": "white",
            "gridwidth": 2,
            "linecolor": "white",
            "showbackground": true,
            "ticks": "",
            "zerolinecolor": "white"
           },
           "yaxis": {
            "backgroundcolor": "#E5ECF6",
            "gridcolor": "white",
            "gridwidth": 2,
            "linecolor": "white",
            "showbackground": true,
            "ticks": "",
            "zerolinecolor": "white"
           },
           "zaxis": {
            "backgroundcolor": "#E5ECF6",
            "gridcolor": "white",
            "gridwidth": 2,
            "linecolor": "white",
            "showbackground": true,
            "ticks": "",
            "zerolinecolor": "white"
           }
          },
          "shapedefaults": {
           "line": {
            "color": "#2a3f5f"
           }
          },
          "ternary": {
           "aaxis": {
            "gridcolor": "white",
            "linecolor": "white",
            "ticks": ""
           },
           "baxis": {
            "gridcolor": "white",
            "linecolor": "white",
            "ticks": ""
           },
           "bgcolor": "#E5ECF6",
           "caxis": {
            "gridcolor": "white",
            "linecolor": "white",
            "ticks": ""
           }
          },
          "title": {
           "x": 0.05
          },
          "xaxis": {
           "automargin": true,
           "gridcolor": "white",
           "linecolor": "white",
           "ticks": "",
           "title": {
            "standoff": 15
           },
           "zerolinecolor": "white",
           "zerolinewidth": 2
          },
          "yaxis": {
           "automargin": true,
           "gridcolor": "white",
           "linecolor": "white",
           "ticks": "",
           "title": {
            "standoff": 15
           },
           "zerolinecolor": "white",
           "zerolinewidth": 2
          }
         }
        },
        "title": {
         "text": "Second Dates Success Percentage by Self Rating of Attractiveness"
        },
        "xaxis": {
         "title": {
          "text": "Self-Rating of Attractiveness"
         }
        },
        "yaxis": {
         "title": {
          "text": "Percentage of Successful Second Dates"
         }
        }
       }
      },
      "text/html": [
       "<div>                            <div id=\"404a40e4-3323-4ff0-913f-1e2bcd8803fd\" class=\"plotly-graph-div\" style=\"height:525px; width:100%;\"></div>            <script type=\"text/javascript\">                require([\"plotly\"], function(Plotly) {                    window.PLOTLYENV=window.PLOTLYENV || {};                                    if (document.getElementById(\"404a40e4-3323-4ff0-913f-1e2bcd8803fd\")) {                    Plotly.newPlot(                        \"404a40e4-3323-4ff0-913f-1e2bcd8803fd\",                        [{\"marker\":{\"color\":\"#ff6361\"},\"name\":\"Female\",\"x\":[2,3,3,3,3,4,4,4,4,5,5,5,5,5,5,5,5,5,5,5,5,5,5,5,5,6,6,6,6,6,6,6,6,6,6,6,6,6,6,6,6,6,6,6,6,6,6,6,6,6,6,6,6,6,6,6,6,6,6,6,6,7,7,7,7,7,7,7,7,7,7,7,7,7,7,7,7,7,7,7,7,7,7,7,7,7,7,7,7,7,7,7,7,7,7,7,7,7,7,7,7,7,7,7,7,7,7,7,7,7,7,7,7,7,7,7,7,7,7,7,7,7,7,7,7,7,7,7,7,7,7,7,7,7,7,7,7,7,7,7,7,7,7,7,7,7,7,8,8,8,8,8,8,8,8,8,8,8,8,8,8,8,8,8,8,8,8,8,8,8,8,8,8,8,8,8,8,8,8,8,8,8,8,8,8,8,8,8,8,8,8,8,8,8,8,8,8,8,8,8,8,8,8,8,8,8,8,8,8,8,8,8,8,8,8,8,8,8,8,8,8,8,8,8,8,8,8,8,9,9,9,9,9,9,9,9,9,9,9,9,9,9,9,9,9,9,9,9,9,9,9,9,9,9,9,9,9,9,9,9,9,9,9,10,10,10,10,10],\"y\":[0.2,0.2777777777777778,0.6666666666666666,0.14285714285714285,0.14285714285714285,0.1875,0.23529411764705882,0.4444444444444444,0.7333333333333333,0.5,0.1875,0.3333333333333333,0.7222222222222222,0.16666666666666666,0.3125,0.4,0.5714285714285714,0.6428571428571429,0.14285714285714285,0.6428571428571429,0.6,0.5333333333333333,0.8571428571428571,0.47368421052631576,0.6666666666666666,0.5,0.3,0.7,0.4,0.9333333333333333,0.2,0.25,0.13333333333333333,0.2,0.1,0.5294117647058824,0.4444444444444444,0.8888888888888888,0.7,0.4,0.4444444444444444,0.8888888888888888,0.3333333333333333,0.7619047619047619,0.65,0.5,0.42857142857142855,0.35714285714285715,0.2857142857142857,0.14285714285714285,0.058823529411764705,0.0625,0.5333333333333333,0.6470588235294118,0.5625,0.26666666666666666,0.75,0.6363636363636364,0.09090909090909091,0.0,0.14285714285714285,0.6,0.6,0.8,0.7,0.1875,0.42857142857142855,0.8666666666666667,0.9333333333333333,0.26666666666666666,0.5333333333333333,0.6875,0.2,0.2,0.2,0.4,0.5,0.5,0.3888888888888889,0.7777777777777778,0.2,0.6,0.0625,0.4,0.6875,0.4375,0.3125,0.5625,0.75,0.4,0.8,0.15,0.3684210526315789,0.55,0.65,0.26666666666666666,0.7,0.75,0.4444444444444444,0.1111111111111111,0.3333333333333333,0.7777777777777778,0.55,0.35,0.3,0.25,0.14285714285714285,0.21428571428571427,0.21428571428571427,0.5,0.2857142857142857,1.0,0.5714285714285714,0.14285714285714285,0.4375,0.4375,0.375,0.7058823529411765,0.7222222222222222,0.5294117647058824,0.4444444444444444,0.3333333333333333,0.4117647058823529,0.4117647058823529,0.5384615384615384,0.2777777777777778,0.25,0.125,0.625,0.5,0.5,0.5,0.7857142857142857,0.3076923076923077,0.2857142857142857,0.7142857142857143,0.0,0.2,0.6666666666666666,0.4666666666666667,0.06666666666666667,0.3076923076923077,0.7142857142857143,0.7,0.5294117647058824,0.45,0.5454545454545454,0.5,0.8125,0.6666666666666666,0.5333333333333333,0.4,0.2,0.2777777777777778,0.7777777777777778,0.5555555555555556,0.4444444444444444,0.7777777777777778,0.4,0.5555555555555556,0.6,0.5555555555555556,0.7777777777777778,1.0,0.3125,0.5,0.6875,0.75,0.8125,0.625,0.8,0.2222222222222222,0.8421052631578947,0.45,0.95,0.6842105263157895,0.75,0.3333333333333333,0.8888888888888888,0.25,0.42857142857142855,0.7,0.65,0.8,0.7619047619047619,0.35714285714285715,0.5714285714285714,0.21428571428571427,0.0,0.5714285714285714,0.2857142857142857,0.2857142857142857,0.7142857142857143,0.0,0.375,0.5882352941176471,0.26666666666666666,0.6666666666666666,0.5,0.7058823529411765,0.4444444444444444,0.9411764705882353,0.125,0.5,0.2222222222222222,0.25,0.875,0.42857142857142855,0.6428571428571429,0.4,1.0,0.6666666666666666,0.6666666666666666,0.7333333333333333,0.4666666666666667,0.5333333333333333,0.5384615384615384,0.42857142857142855,0.7142857142857143,0.8571428571428571,0.5714285714285714,0.19047619047619047,0.19047619047619047,0.42857142857142855,0.5714285714285714,0.375,0.3888888888888889,0.21052631578947367,0.8,0.5555555555555556,0.3333333333333333,0.6111111111111112,0.8,0.5,0.5625,0.875,0.1111111111111111,0.0,0.3333333333333333,0.875,0.6666666666666666,0.2222222222222222,0.15,0.8,0.4,0.75,0.75,0.4,1.0,0.5238095238095238,0.95,0.47619047619047616,0.5238095238095238,0.6428571428571429,0.2857142857142857,0.42857142857142855,0.2222222222222222,0.23529411764705882,0.14285714285714285,0.5,0.8,0.42857142857142855,0.25,0.7,0.5555555555555556,0.1875,0.4,0.14285714285714285],\"type\":\"box\"},{\"marker\":{\"color\":\"#003f5c\"},\"name\":\"Male\",\"x\":[2,3,3,3,3,4,4,4,4,4,4,4,4,4,4,4,5,5,5,5,5,5,5,5,5,5,5,5,5,5,5,5,5,5,5,5,5,5,5,5,5,5,5,6,6,6,6,6,6,6,6,6,6,6,6,6,6,6,6,6,6,6,6,6,6,6,6,6,6,6,6,6,6,6,6,6,6,6,7,7,7,7,7,7,7,7,7,7,7,7,7,7,7,7,7,7,7,7,7,7,7,7,7,7,7,7,7,7,7,7,7,7,7,7,7,7,7,7,7,7,7,7,7,7,7,7,7,7,7,7,7,7,7,7,7,7,7,7,7,7,7,7,7,7,7,7,7,7,7,7,7,7,7,7,7,7,7,7,7,7,7,7,7,7,7,7,7,7,7,7,7,7,7,7,7,7,7,7,7,7,7,7,7,8,8,8,8,8,8,8,8,8,8,8,8,8,8,8,8,8,8,8,8,8,8,8,8,8,8,8,8,8,8,8,8,8,8,8,8,8,8,8,8,8,8,8,8,8,8,8,8,8,8,8,8,8,8,8,8,8,8,8,8,8,8,8,8,9,9,9,9,9,9,9,9,9,9,9,9,9,9,10,10,10,10,10,10,10,10,10,10,10,10],\"y\":[0.0,0.2222222222222222,0.16666666666666666,0.0,0.14285714285714285,0.4,0.2777777777777778,0.5555555555555556,0.14285714285714285,0.4444444444444444,0.05,0.5714285714285714,0.5714285714285714,0.1875,0.16666666666666666,0.14285714285714285,0.0,0.2222222222222222,0.375,0.75,0.1111111111111111,0.7777777777777778,0.125,0.1875,0.5,0.05,0.25,0.05,0.3333333333333333,0.0,0.7777777777777778,0.2857142857142857,0.47619047619047616,0.3333333333333333,0.21428571428571427,0.4,0.4,0.2777777777777778,0.1111111111111111,0.6666666666666666,0.2857142857142857,0.0,0.25,0.3,0.3,0.2222222222222222,0.2222222222222222,0.3333333333333333,0.375,0.125,0.375,0.16666666666666666,0.4444444444444444,0.25,0.8,0.2,0.23809523809523808,0.35714285714285715,0.6428571428571429,0.07142857142857142,0.38461538461538464,0.4,0.9444444444444444,0.6666666666666666,0.7142857142857143,0.375,0.5555555555555556,0.35294117647058826,0.1111111111111111,0.6111111111111112,0.35294117647058826,0.0,0.5,0.3,0.16666666666666666,0.5,0.7333333333333333,0.65,0.3,0.8,0.9,0.2222222222222222,0.2222222222222222,0.4444444444444444,0.4444444444444444,0.47058823529411764,0.25,0.5,0.25,0.25,0.1111111111111111,0.0,0.5555555555555556,0.29411764705882354,0.6666666666666666,0.2777777777777778,0.7777777777777778,0.3333333333333333,0.75,0.25,0.0,0.25,0.5,0.375,0.25,0.8125,0.0,0.375,0.2,0.6,0.8,0.6,0.5,0.4,0.65,0.16666666666666666,0.5,0.25,0.05,0.35,0.2777777777777778,0.7777777777777778,0.6666666666666666,0.1111111111111111,0.0,0.3333333333333333,0.2857142857142857,0.3333333333333333,0.19047619047619047,0.38095238095238093,0.3333333333333333,0.0,0.2857142857142857,0.07142857142857142,0.5,0.23076923076923078,0.6923076923076923,0.6428571428571429,0.8,0.3,0.25,0.47058823529411764,0.6470588235294118,0.6,0.17647058823529413,0.3333333333333333,0.7058823529411765,0.7777777777777778,0.7222222222222222,0.625,0.7222222222222222,0.3333333333333333,0.6111111111111112,0.0625,0.2,0.4,0.2,0.4,0.2,0.3,0.1,0.5714285714285714,0.4,0.06666666666666667,0.8,0.6428571428571429,0.2,0.0,0.0,0.3333333333333333,0.6666666666666666,0.16666666666666666,0.2,0.3181818181818182,0.5,0.6,0.631578947368421,0.3,0.4,0.5,0.5,0.2727272727272727,0.5,0.4,0.05555555555555555,0.6666666666666666,0.47058823529411764,0.0,0.375,0.1111111111111111,0.0,0.1111111111111111,0.2777777777777778,0.5555555555555556,0.4444444444444444,0.0,0.5555555555555556,0.75,0.3333333333333333,0.5,0.25,0.25,0.6875,0.25,0.0,0.4,0.15,0.3,0.42105263157894735,0.25,0.10526315789473684,0.2222222222222222,0.0,0.5714285714285714,0.09523809523809523,0.38095238095238093,0.5,0.07142857142857142,0.0,0.5,0.6666666666666666,0.47368421052631576,0.5,0.8125,0.6111111111111112,0.5,0.25,0.5,0.5,0.8,0.0,0.6,0.25,0.5,0.5,0.5,0.6,0.8333333333333334,0.13333333333333333,0.3333333333333333,0.13333333333333333,0.3333333333333333,0.38095238095238093,0.3,0.2857142857142857,0.46153846153846156,0.75,0.4,0.8,0.5,0.8888888888888888,0.3333333333333333,0.15,0.5714285714285714,0.8,0.5555555555555556,0.4,0.3,0.4666666666666667,0.16666666666666666,0.5714285714285714,0.9,0.9444444444444444,0.3125,0.2,0.15,0.65,0.8888888888888888,0.05,0.5555555555555556,0.6666666666666666,0.3181818181818182,0.47619047619047616],\"type\":\"box\"}],                        {\"boxmode\":\"group\",\"paper_bgcolor\":\"#dadfe1\",\"plot_bgcolor\":\"#dadfe1\",\"title\":{\"text\":\"Second Dates Success Percentage by Self Rating of Attractiveness\"},\"xaxis\":{\"title\":{\"text\":\"Self-Rating of Attractiveness\"}},\"yaxis\":{\"title\":{\"text\":\"Percentage of Successful Second Dates\"}},\"template\":{\"data\":{\"histogram2dcontour\":[{\"type\":\"histogram2dcontour\",\"colorbar\":{\"outlinewidth\":0,\"ticks\":\"\"},\"colorscale\":[[0.0,\"#0d0887\"],[0.1111111111111111,\"#46039f\"],[0.2222222222222222,\"#7201a8\"],[0.3333333333333333,\"#9c179e\"],[0.4444444444444444,\"#bd3786\"],[0.5555555555555556,\"#d8576b\"],[0.6666666666666666,\"#ed7953\"],[0.7777777777777778,\"#fb9f3a\"],[0.8888888888888888,\"#fdca26\"],[1.0,\"#f0f921\"]]}],\"choropleth\":[{\"type\":\"choropleth\",\"colorbar\":{\"outlinewidth\":0,\"ticks\":\"\"}}],\"histogram2d\":[{\"type\":\"histogram2d\",\"colorbar\":{\"outlinewidth\":0,\"ticks\":\"\"},\"colorscale\":[[0.0,\"#0d0887\"],[0.1111111111111111,\"#46039f\"],[0.2222222222222222,\"#7201a8\"],[0.3333333333333333,\"#9c179e\"],[0.4444444444444444,\"#bd3786\"],[0.5555555555555556,\"#d8576b\"],[0.6666666666666666,\"#ed7953\"],[0.7777777777777778,\"#fb9f3a\"],[0.8888888888888888,\"#fdca26\"],[1.0,\"#f0f921\"]]}],\"heatmap\":[{\"type\":\"heatmap\",\"colorbar\":{\"outlinewidth\":0,\"ticks\":\"\"},\"colorscale\":[[0.0,\"#0d0887\"],[0.1111111111111111,\"#46039f\"],[0.2222222222222222,\"#7201a8\"],[0.3333333333333333,\"#9c179e\"],[0.4444444444444444,\"#bd3786\"],[0.5555555555555556,\"#d8576b\"],[0.6666666666666666,\"#ed7953\"],[0.7777777777777778,\"#fb9f3a\"],[0.8888888888888888,\"#fdca26\"],[1.0,\"#f0f921\"]]}],\"heatmapgl\":[{\"type\":\"heatmapgl\",\"colorbar\":{\"outlinewidth\":0,\"ticks\":\"\"},\"colorscale\":[[0.0,\"#0d0887\"],[0.1111111111111111,\"#46039f\"],[0.2222222222222222,\"#7201a8\"],[0.3333333333333333,\"#9c179e\"],[0.4444444444444444,\"#bd3786\"],[0.5555555555555556,\"#d8576b\"],[0.6666666666666666,\"#ed7953\"],[0.7777777777777778,\"#fb9f3a\"],[0.8888888888888888,\"#fdca26\"],[1.0,\"#f0f921\"]]}],\"contourcarpet\":[{\"type\":\"contourcarpet\",\"colorbar\":{\"outlinewidth\":0,\"ticks\":\"\"}}],\"contour\":[{\"type\":\"contour\",\"colorbar\":{\"outlinewidth\":0,\"ticks\":\"\"},\"colorscale\":[[0.0,\"#0d0887\"],[0.1111111111111111,\"#46039f\"],[0.2222222222222222,\"#7201a8\"],[0.3333333333333333,\"#9c179e\"],[0.4444444444444444,\"#bd3786\"],[0.5555555555555556,\"#d8576b\"],[0.6666666666666666,\"#ed7953\"],[0.7777777777777778,\"#fb9f3a\"],[0.8888888888888888,\"#fdca26\"],[1.0,\"#f0f921\"]]}],\"surface\":[{\"type\":\"surface\",\"colorbar\":{\"outlinewidth\":0,\"ticks\":\"\"},\"colorscale\":[[0.0,\"#0d0887\"],[0.1111111111111111,\"#46039f\"],[0.2222222222222222,\"#7201a8\"],[0.3333333333333333,\"#9c179e\"],[0.4444444444444444,\"#bd3786\"],[0.5555555555555556,\"#d8576b\"],[0.6666666666666666,\"#ed7953\"],[0.7777777777777778,\"#fb9f3a\"],[0.8888888888888888,\"#fdca26\"],[1.0,\"#f0f921\"]]}],\"mesh3d\":[{\"type\":\"mesh3d\",\"colorbar\":{\"outlinewidth\":0,\"ticks\":\"\"}}],\"scatter\":[{\"fillpattern\":{\"fillmode\":\"overlay\",\"size\":10,\"solidity\":0.2},\"type\":\"scatter\"}],\"parcoords\":[{\"type\":\"parcoords\",\"line\":{\"colorbar\":{\"outlinewidth\":0,\"ticks\":\"\"}}}],\"scatterpolargl\":[{\"type\":\"scatterpolargl\",\"marker\":{\"colorbar\":{\"outlinewidth\":0,\"ticks\":\"\"}}}],\"bar\":[{\"error_x\":{\"color\":\"#2a3f5f\"},\"error_y\":{\"color\":\"#2a3f5f\"},\"marker\":{\"line\":{\"color\":\"#E5ECF6\",\"width\":0.5},\"pattern\":{\"fillmode\":\"overlay\",\"size\":10,\"solidity\":0.2}},\"type\":\"bar\"}],\"scattergeo\":[{\"type\":\"scattergeo\",\"marker\":{\"colorbar\":{\"outlinewidth\":0,\"ticks\":\"\"}}}],\"scatterpolar\":[{\"type\":\"scatterpolar\",\"marker\":{\"colorbar\":{\"outlinewidth\":0,\"ticks\":\"\"}}}],\"histogram\":[{\"marker\":{\"pattern\":{\"fillmode\":\"overlay\",\"size\":10,\"solidity\":0.2}},\"type\":\"histogram\"}],\"scattergl\":[{\"type\":\"scattergl\",\"marker\":{\"colorbar\":{\"outlinewidth\":0,\"ticks\":\"\"}}}],\"scatter3d\":[{\"type\":\"scatter3d\",\"line\":{\"colorbar\":{\"outlinewidth\":0,\"ticks\":\"\"}},\"marker\":{\"colorbar\":{\"outlinewidth\":0,\"ticks\":\"\"}}}],\"scattermapbox\":[{\"type\":\"scattermapbox\",\"marker\":{\"colorbar\":{\"outlinewidth\":0,\"ticks\":\"\"}}}],\"scatterternary\":[{\"type\":\"scatterternary\",\"marker\":{\"colorbar\":{\"outlinewidth\":0,\"ticks\":\"\"}}}],\"scattercarpet\":[{\"type\":\"scattercarpet\",\"marker\":{\"colorbar\":{\"outlinewidth\":0,\"ticks\":\"\"}}}],\"carpet\":[{\"aaxis\":{\"endlinecolor\":\"#2a3f5f\",\"gridcolor\":\"white\",\"linecolor\":\"white\",\"minorgridcolor\":\"white\",\"startlinecolor\":\"#2a3f5f\"},\"baxis\":{\"endlinecolor\":\"#2a3f5f\",\"gridcolor\":\"white\",\"linecolor\":\"white\",\"minorgridcolor\":\"white\",\"startlinecolor\":\"#2a3f5f\"},\"type\":\"carpet\"}],\"table\":[{\"cells\":{\"fill\":{\"color\":\"#EBF0F8\"},\"line\":{\"color\":\"white\"}},\"header\":{\"fill\":{\"color\":\"#C8D4E3\"},\"line\":{\"color\":\"white\"}},\"type\":\"table\"}],\"barpolar\":[{\"marker\":{\"line\":{\"color\":\"#E5ECF6\",\"width\":0.5},\"pattern\":{\"fillmode\":\"overlay\",\"size\":10,\"solidity\":0.2}},\"type\":\"barpolar\"}],\"pie\":[{\"automargin\":true,\"type\":\"pie\"}]},\"layout\":{\"autotypenumbers\":\"strict\",\"colorway\":[\"#636efa\",\"#EF553B\",\"#00cc96\",\"#ab63fa\",\"#FFA15A\",\"#19d3f3\",\"#FF6692\",\"#B6E880\",\"#FF97FF\",\"#FECB52\"],\"font\":{\"color\":\"#2a3f5f\"},\"hovermode\":\"closest\",\"hoverlabel\":{\"align\":\"left\"},\"paper_bgcolor\":\"white\",\"plot_bgcolor\":\"#E5ECF6\",\"polar\":{\"bgcolor\":\"#E5ECF6\",\"angularaxis\":{\"gridcolor\":\"white\",\"linecolor\":\"white\",\"ticks\":\"\"},\"radialaxis\":{\"gridcolor\":\"white\",\"linecolor\":\"white\",\"ticks\":\"\"}},\"ternary\":{\"bgcolor\":\"#E5ECF6\",\"aaxis\":{\"gridcolor\":\"white\",\"linecolor\":\"white\",\"ticks\":\"\"},\"baxis\":{\"gridcolor\":\"white\",\"linecolor\":\"white\",\"ticks\":\"\"},\"caxis\":{\"gridcolor\":\"white\",\"linecolor\":\"white\",\"ticks\":\"\"}},\"coloraxis\":{\"colorbar\":{\"outlinewidth\":0,\"ticks\":\"\"}},\"colorscale\":{\"sequential\":[[0.0,\"#0d0887\"],[0.1111111111111111,\"#46039f\"],[0.2222222222222222,\"#7201a8\"],[0.3333333333333333,\"#9c179e\"],[0.4444444444444444,\"#bd3786\"],[0.5555555555555556,\"#d8576b\"],[0.6666666666666666,\"#ed7953\"],[0.7777777777777778,\"#fb9f3a\"],[0.8888888888888888,\"#fdca26\"],[1.0,\"#f0f921\"]],\"sequentialminus\":[[0.0,\"#0d0887\"],[0.1111111111111111,\"#46039f\"],[0.2222222222222222,\"#7201a8\"],[0.3333333333333333,\"#9c179e\"],[0.4444444444444444,\"#bd3786\"],[0.5555555555555556,\"#d8576b\"],[0.6666666666666666,\"#ed7953\"],[0.7777777777777778,\"#fb9f3a\"],[0.8888888888888888,\"#fdca26\"],[1.0,\"#f0f921\"]],\"diverging\":[[0,\"#8e0152\"],[0.1,\"#c51b7d\"],[0.2,\"#de77ae\"],[0.3,\"#f1b6da\"],[0.4,\"#fde0ef\"],[0.5,\"#f7f7f7\"],[0.6,\"#e6f5d0\"],[0.7,\"#b8e186\"],[0.8,\"#7fbc41\"],[0.9,\"#4d9221\"],[1,\"#276419\"]]},\"xaxis\":{\"gridcolor\":\"white\",\"linecolor\":\"white\",\"ticks\":\"\",\"title\":{\"standoff\":15},\"zerolinecolor\":\"white\",\"automargin\":true,\"zerolinewidth\":2},\"yaxis\":{\"gridcolor\":\"white\",\"linecolor\":\"white\",\"ticks\":\"\",\"title\":{\"standoff\":15},\"zerolinecolor\":\"white\",\"automargin\":true,\"zerolinewidth\":2},\"scene\":{\"xaxis\":{\"backgroundcolor\":\"#E5ECF6\",\"gridcolor\":\"white\",\"linecolor\":\"white\",\"showbackground\":true,\"ticks\":\"\",\"zerolinecolor\":\"white\",\"gridwidth\":2},\"yaxis\":{\"backgroundcolor\":\"#E5ECF6\",\"gridcolor\":\"white\",\"linecolor\":\"white\",\"showbackground\":true,\"ticks\":\"\",\"zerolinecolor\":\"white\",\"gridwidth\":2},\"zaxis\":{\"backgroundcolor\":\"#E5ECF6\",\"gridcolor\":\"white\",\"linecolor\":\"white\",\"showbackground\":true,\"ticks\":\"\",\"zerolinecolor\":\"white\",\"gridwidth\":2}},\"shapedefaults\":{\"line\":{\"color\":\"#2a3f5f\"}},\"annotationdefaults\":{\"arrowcolor\":\"#2a3f5f\",\"arrowhead\":0,\"arrowwidth\":1},\"geo\":{\"bgcolor\":\"white\",\"landcolor\":\"#E5ECF6\",\"subunitcolor\":\"white\",\"showland\":true,\"showlakes\":true,\"lakecolor\":\"white\"},\"title\":{\"x\":0.05},\"mapbox\":{\"style\":\"light\"}}}},                        {\"responsive\": true}                    ).then(function(){\n",
       "                            \n",
       "var gd = document.getElementById('404a40e4-3323-4ff0-913f-1e2bcd8803fd');\n",
       "var x = new MutationObserver(function (mutations, observer) {{\n",
       "        var display = window.getComputedStyle(gd).display;\n",
       "        if (!display || display === 'none') {{\n",
       "            console.log([gd, 'removed!']);\n",
       "            Plotly.purge(gd);\n",
       "            observer.disconnect();\n",
       "        }}\n",
       "}});\n",
       "\n",
       "// Listen for the removal of the full notebook cells\n",
       "var notebookContainer = gd.closest('#notebook-container');\n",
       "if (notebookContainer) {{\n",
       "    x.observe(notebookContainer, {childList: true});\n",
       "}}\n",
       "\n",
       "// Listen for the clearing of the current output cell\n",
       "var outputEl = gd.closest('.output');\n",
       "if (outputEl) {{\n",
       "    x.observe(outputEl, {childList: true});\n",
       "}}\n",
       "\n",
       "                        })                };                });            </script>        </div>"
      ]
     },
     "metadata": {},
     "output_type": "display_data"
    },
    {
     "name": "stdout",
     "output_type": "stream",
     "text": [
      "Self rating attractiveness plot completed. It took 0.023 seconds.\n"
     ]
    }
   ],
   "source": [
    "# Running the plot to observe the variance when comparing self-rated values\n",
    "# of attractiveness to percentage of successful second dates\n",
    "start_time = time.time()\n",
    "\n",
    "self_attr_data = fetch_self_attr_data(database_path)\n",
    "traces = create_box_traces(self_attr_data, colors)\n",
    "\n",
    "# Structuring the layout with titles and colours\n",
    "layout = go.Layout(\n",
    "    title='Second Dates Success Percentage by Self Rating of Attractiveness',\n",
    "    xaxis=dict(title='Self-Rating of Attractiveness'),\n",
    "    yaxis=dict(title='Percentage of Successful Second Dates'),\n",
    "    boxmode='group',\n",
    "    plot_bgcolor='#dadfe1',\n",
    "    paper_bgcolor='#dadfe1'\n",
    ")\n",
    "\n",
    "# Create figure\n",
    "fig = go.Figure(data=traces, layout=layout)\n",
    "\n",
    "# Show the plot\n",
    "fig.show()\n",
    "          \n",
    "end_time = round(time.time() - start_time, 4)\n",
    "\n",
    "print(f'Self rating attractiveness plot completed. It took {end_time} seconds.')"
   ]
  },
  {
   "cell_type": "markdown",
   "id": "6393a869",
   "metadata": {},
   "source": [
    "In the above plot the percentage of successful second dates is calculated per individual. When we plot per individual instead of overall for each self-rating value of attractiveness we see that there is still a slight upwards trend when looking at the means.\n",
    "\n",
    "However, we see that there is substantial variatrion. For instance, for men, the lower quartile is larger for a self-rating of 6 than it is for 8.\n",
    "\n",
    "We see from this that the relationship between confidence and second date success is quite complex and that a high rating self-rating of attractiveness does not necessarily correlate with second date success.\n",
    "\n",
    "Could it be that it is less about confidence but more about accurate perception of your own attractiveness?"
   ]
  },
  {
   "cell_type": "markdown",
   "id": "3af61938",
   "metadata": {},
   "source": [
    "## Exploring the Impact of Self-Perceived Attractiveness on Second Date Success\n",
    "\n",
    "In this section we explore self-perceieved attractiveness. This is the difference between the self-rating an individual gave themselves and the average rating an individual received. The idea is to determine how accurately someone can determine their own attractiveness.\n",
    "\n",
    "We then compare this with percentage of successful second dates for each individual to determine what role accurately (or underestimating / overestimating) your own attractiveness plays in second date succcess."
   ]
  },
  {
   "cell_type": "markdown",
   "id": "3592d187",
   "metadata": {},
   "source": [
    "### Influence of Accurate Self-Perception with Self Ratings of 6 - 10\n",
    "\n",
    "In this section we fetch the difference in self-rated attractiveness and average attractiveness rating received for each individual plotted against second date success. However in this section we only consider those who rate their own attractiveness between 6 - 10 i.e. those who are relatively confident in their own attractiveness."
   ]
  },
  {
   "cell_type": "code",
   "execution_count": 261,
   "id": "86d62fb2",
   "metadata": {},
   "outputs": [],
   "source": [
    "# Fetches the percentage of second date success compared\n",
    "# to each individual's difference in self-rated attractiveness\n",
    "# and average attractiveness rating received\n",
    "\n",
    "# Parameters:\n",
    "#   - database_path (str): the path to your database\n",
    "#   - custom_where (str): specify the conditions for the\n",
    "#                         where clause.\n",
    "\n",
    "def fetch_attr_diff_data(database_path, custom_where = \"\"):\n",
    "    \n",
    "    # Connect to database\n",
    "    conn = sqlite3.connect(database_path)\n",
    "\n",
    "    # Create cursor object\n",
    "    cursor = conn.cursor()\n",
    "\n",
    "    # Construct the SELECT query\n",
    "    attr_diff_query = f'''\n",
    "        SELECT gender, attr3_1 - AVG(attr_o), (SUM(dec_o) * 1.0) / COUNT(*)\n",
    "        FROM participants AS p\n",
    "        JOIN dates AS d ON p.iid = d.iid\n",
    "        WHERE {custom_where}\n",
    "        GROUP BY p.iid\n",
    "        ORDER BY gender, attr3_1 - AVG(attr_o)\n",
    "    '''\n",
    "\n",
    "    # Execute query to retrieve self rating of attractiveness and second\n",
    "    # date success percentage for each individual\n",
    "    cursor.execute(attr_diff_query)\n",
    "\n",
    "    rows = cursor.fetchall()\n",
    "\n",
    "    # Commit changes\n",
    "    conn.commit()\n",
    "\n",
    "    # Close connection\n",
    "    conn.close()\n",
    "\n",
    "    # Initialize a dictionary for organizing data separated by gender\n",
    "    attr_diff_data = {'Female': [[], []], 'Male': [[], []]} # Use 0 for Female, 1 for Male\n",
    "\n",
    "    # Separate data for men and women\n",
    "    for row in rows:\n",
    "        gender, attr_diff, dec_o_ratio = row\n",
    "        # Map numeric gender to string labels\n",
    "        gender_str = 'Female' if gender == 0 else 'Male'\n",
    "        attr_diff_data[gender_str][0].append(attr_diff)\n",
    "        attr_diff_data[gender_str][1].append(dec_o_ratio)\n",
    "        \n",
    "    return attr_diff_data"
   ]
  },
  {
   "cell_type": "code",
   "execution_count": 262,
   "id": "a5ed3ac2",
   "metadata": {},
   "outputs": [
    {
     "data": {
      "application/vnd.plotly.v1+json": {
       "config": {
        "plotlyServerURL": "https://plot.ly"
       },
       "data": [
        {
         "marker": {
          "color": "#ff6361"
         },
         "mode": "markers",
         "name": "Female",
         "type": "scatter",
         "x": [
          -2.3888888888888893,
          -2.1999999999999993,
          -1.9000000000000004,
          -1.8888888888888893,
          -1.8499999999999996,
          -1.7999999999999998,
          -1.5882352941176467,
          -1.2857142857142865,
          -1.2000000000000002,
          -1.1999999999999993,
          -1.1764705882352935,
          -1.1111111111111107,
          -1.0454545454545459,
          -1,
          -0.9888888888888898,
          -0.9411764705882355,
          -0.9285714285714288,
          -0.8571428571428568,
          -0.8499999999999996,
          -0.833333333333333,
          -0.7333333333333334,
          -0.7333333333333334,
          -0.7000000000000002,
          -0.7000000000000002,
          -0.666666666666667,
          -0.666666666666667,
          -0.6500000000000004,
          -0.625,
          -0.5999999999999996,
          -0.5714285714285712,
          -0.4499999999999993,
          -0.4285714285714288,
          -0.3600000000000003,
          -0.35294117647058787,
          -0.3333333333333339,
          -0.3333333333333339,
          -0.33333333333333304,
          -0.33333333333333304,
          -0.2857142857142856,
          -0.25,
          -0.20000000000000018,
          -0.1875,
          -0.1875,
          -0.1538461538461542,
          -0.14285714285714324,
          -0.125,
          -0.0625,
          -0.0625,
          -0.02941176470588225,
          0,
          0,
          0,
          0,
          0,
          0.04999999999999982,
          0.0625,
          0.06666666666666643,
          0.11111111111111072,
          0.117647058823529,
          0.125,
          0.125,
          0.13333333333333375,
          0.14285714285714324,
          0.15000000000000036,
          0.15000000000000036,
          0.20000000000000018,
          0.2142857142857144,
          0.22222222222222232,
          0.22222222222222232,
          0.22222222222222232,
          0.25,
          0.25,
          0.2666666666666666,
          0.2857142857142856,
          0.3076923076923075,
          0.3125,
          0.3157894736842106,
          0.33333333333333304,
          0.4285714285714288,
          0.4285714285714288,
          0.4500000000000002,
          0.4500000000000002,
          0.47368421052631593,
          0.5,
          0.5,
          0.5,
          0.5,
          0.5238095238095237,
          0.5294117647058822,
          0.5714285714285712,
          0.5714285714285712,
          0.5749999999999993,
          0.5882352941176467,
          0.5909090909090908,
          0.5999999999999996,
          0.6111111111111107,
          0.615384615384615,
          0.6190476190476186,
          0.625,
          0.666666666666667,
          0.6875,
          0.6875,
          0.6999999999999993,
          0.7000000000000002,
          0.7000000000000002,
          0.7333333333333334,
          0.75,
          0.7619047619047619,
          0.7666666666666666,
          0.7777777777777777,
          0.7857142857142856,
          0.7857142857142856,
          0.7999999999999998,
          0.7999999999999998,
          0.8235294117647056,
          0.8499999999999996,
          0.8611111111111107,
          0.9000000000000004,
          0.9333333333333336,
          0.9375,
          1,
          1,
          1,
          1,
          1,
          1,
          1.0499999999999998,
          1.0555555555555554,
          1.0625,
          1.0666666666666664,
          1.0666666666666664,
          1.0714285714285712,
          1.0999999999999996,
          1.1111111111111107,
          1.1111111111111107,
          1.1111111111111107,
          1.1111111111111107,
          1.1428571428571432,
          1.1428571428571432,
          1.166666666666667,
          1.1944444444444446,
          1.2000000000000002,
          1.2000000000000002,
          1.2000000000000002,
          1.2142857142857144,
          1.2142857142857144,
          1.2222222222222223,
          1.2307692307692308,
          1.25,
          1.25,
          1.2857142857142856,
          1.2941176470588234,
          1.2999999999999998,
          1.2999999999999998,
          1.333333333333333,
          1.333333333333333,
          1.375,
          1.3888888888888893,
          1.4285714285714288,
          1.4285714285714288,
          1.4444444444444446,
          1.4666666666666668,
          1.4761904761904763,
          1.5,
          1.5,
          1.5555555555555554,
          1.5714285714285712,
          1.5999999999999996,
          1.5999999999999996,
          1.6111111111111107,
          1.6111111111111107,
          1.666666666666667,
          1.666666666666667,
          1.6875,
          1.7000000000000002,
          1.7142857142857144,
          1.75,
          1.75,
          1.7894736842105265,
          1.7999999999999998,
          1.8888888888888893,
          1.904761904761905,
          1.904761904761905,
          1.9090909090909092,
          2,
          2,
          2,
          2.05,
          2.05,
          2.05,
          2.0666666666666664,
          2.1428571428571432,
          2.1466666666666665,
          2.166666666666667,
          2.1875,
          2.1904761904761907,
          2.2,
          2.2,
          2.2125000000000004,
          2.25,
          2.2750000000000004,
          2.2857142857142856,
          2.3499999999999996,
          2.3571428571428568,
          2.3888888888888893,
          2.4000000000000004,
          2.4761904761904763,
          2.5,
          2.5,
          2.571428571428571,
          2.6500000000000004,
          2.666666666666667,
          2.666666666666667,
          2.7,
          2.7142857142857144,
          2.7777777777777777,
          2.7857142857142856,
          2.8571428571428568,
          2.8571428571428568,
          2.8571428571428568,
          2.875,
          2.875,
          2.909090909090909,
          2.947368421052632,
          3.1,
          3.1111111111111107,
          3.1428571428571432,
          3.25,
          3.2857142857142856,
          3.333333333333333,
          3.333333333333333,
          3.55,
          3.5999999999999996,
          3.647058823529412,
          4,
          4.0625,
          4.222222222222222,
          4.25,
          4.444444444444445,
          4.45,
          4.5625,
          4.923076923076923,
          5.095238095238095
         ],
         "y": [
          0.8888888888888888,
          0.9333333333333333,
          0.7,
          0.8888888888888888,
          0.75,
          0.7,
          0.6470588235294118,
          1,
          0.5333333333333333,
          0.8,
          0.7058823529411765,
          0.4444444444444444,
          0.6363636363636364,
          0.7777777777777778,
          0.4444444444444444,
          0.5294117647058824,
          0.14285714285714285,
          0.7142857142857143,
          0.65,
          0.4444444444444444,
          0.8666666666666667,
          0.6666666666666666,
          0.5,
          0.6,
          0.5,
          0.7222222222222222,
          0.7,
          0.75,
          0.9333333333333333,
          0.7619047619047619,
          0.95,
          0.2857142857142857,
          0.4,
          0.5294117647058824,
          0.6666666666666666,
          0.6666666666666666,
          0.7777777777777778,
          0.26666666666666666,
          0.5714285714285714,
          0.6875,
          0.7,
          0.6875,
          0.5625,
          0.3076923076923077,
          0.7857142857142857,
          0.4375,
          0.4375,
          0.5625,
          0.7058823529411765,
          0.6,
          0.7,
          0.25,
          0.8,
          0.7333333333333333,
          0.75,
          0.4375,
          0.5333333333333333,
          0.7777777777777778,
          0.5294117647058824,
          0.8125,
          0.5,
          0.4,
          0.7142857142857143,
          0.8,
          0.55,
          1,
          0.35714285714285715,
          0.5,
          0.5555555555555556,
          0.7777777777777778,
          0.8125,
          0.625,
          0.2,
          0.3333333333333333,
          0.5384615384615384,
          0.875,
          0.3684210526315789,
          0.5333333333333333,
          0.21428571428571427,
          0.5,
          0.35,
          0.5,
          0.8421052631578947,
          0.4,
          0.6,
          0.875,
          0.7142857142857143,
          0.7619047619047619,
          0.9411764705882353,
          0.42857142857142855,
          0.6428571428571429,
          0.95,
          0.5882352941176471,
          0.5454545454545454,
          1,
          0.3888888888888889,
          0.5384615384615384,
          0.42857142857142855,
          0.8,
          0.6666666666666666,
          0.75,
          0.3125,
          0.8,
          0.3,
          0.2,
          0.4666666666666667,
          0.65,
          0.5714285714285714,
          0.3333333333333333,
          0.5555555555555556,
          0.5714285714285714,
          0.5714285714285714,
          0.4,
          0.4666666666666667,
          0.4117647058823529,
          0.45,
          0.7777777777777778,
          0.75,
          0.26666666666666666,
          0.6875,
          0.625,
          0.2857142857142857,
          0.375,
          0.375,
          0.4117647058823529,
          0.42857142857142855,
          0.25,
          0.4444444444444444,
          0.0625,
          0.06666666666666667,
          0.8,
          0.2857142857142857,
          0.8,
          0.5,
          0.6111111111111112,
          0.4444444444444444,
          0.5,
          0.6428571428571429,
          0.7142857142857143,
          0.6666666666666666,
          0.4444444444444444,
          0.4,
          0,
          0.2,
          0.21428571428571427,
          0.5,
          0.3333333333333333,
          0.3076923076923077,
          0.5,
          0.55,
          0.5714285714285714,
          0.058823529411764705,
          0.6,
          1,
          0.26666666666666666,
          0.8888888888888888,
          0.875,
          0.5555555555555556,
          0.5238095238095238,
          0.14285714285714285,
          0.1111111111111111,
          0.4,
          0,
          0.5,
          0.5555555555555556,
          0.5,
          0.42857142857142855,
          0.1,
          0.4,
          0.2777777777777778,
          0.2777777777777778,
          0.13333333333333333,
          0.6666666666666666,
          0.5625,
          0.75,
          0.5,
          0.125,
          0.375,
          0.6842105263157895,
          0.5333333333333333,
          0.3888888888888889,
          0.19047619047619047,
          0.14285714285714285,
          0.09090909090909091,
          0.3333333333333333,
          0.2,
          0.65,
          0.75,
          0.45,
          0.7,
          0.26666666666666666,
          0.8571428571428571,
          0.2,
          0.5238095238095238,
          0.25,
          0.42857142857142855,
          0.2,
          0.4,
          0.1875,
          0.3,
          0.0625,
          0.42857142857142855,
          0.8,
          0.21428571428571427,
          0.2222222222222222,
          0.15,
          0.47619047619047616,
          0.7,
          0.3125,
          0.14285714285714285,
          0.4,
          0.2222222222222222,
          0.3333333333333333,
          0.2,
          0.14285714285714285,
          0.2222222222222222,
          0.35714285714285715,
          0.2857142857142857,
          0.2857142857142857,
          0.42857142857142855,
          0.5,
          0.25,
          0,
          0.21052631578947367,
          0.2,
          0.2222222222222222,
          0.2857142857142857,
          0.4,
          0.42857142857142855,
          0.5555555555555556,
          0.19047619047619047,
          0.25,
          0.4,
          0.23529411764705882,
          0,
          0.1875,
          0.1111111111111111,
          0.25,
          0.3333333333333333,
          0.15,
          0.125,
          0,
          0.14285714285714285
         ]
        },
        {
         "marker": {
          "color": "#003f5c"
         },
         "mode": "markers",
         "name": "Male",
         "type": "scatter",
         "x": [
          -2.3055555555555554,
          -1.5555555555555554,
          -1.4714285714285706,
          -1.4666666666666668,
          -1.0999999999999996,
          -1.0625,
          -1,
          -0.9285714285714288,
          -0.7999999999999998,
          -0.7999999999999998,
          -0.7777777777777777,
          -0.7000000000000002,
          -0.666666666666667,
          -0.666666666666667,
          -0.5,
          -0.5,
          -0.5,
          -0.41176470588235325,
          -0.40000000000000036,
          -0.40000000000000036,
          -0.39285714285714324,
          -0.35714285714285676,
          -0.3333333333333339,
          -0.33333333333333304,
          -0.33333333333333304,
          -0.2857142857142856,
          -0.22222222222222232,
          -0.20000000000000018,
          -0.20000000000000018,
          -0.16666666666666696,
          -0.125,
          -0.117647058823529,
          -0.11111111111111072,
          -0.11111111111111072,
          -0.09999999999999964,
          -0.07692307692307665,
          -0.0588235294117645,
          0,
          0.04999999999999982,
          0.0625,
          0.09999999999999964,
          0.09999999999999964,
          0.09999999999999964,
          0.09999999999999964,
          0.11111111111111072,
          0.11111111111111072,
          0.125,
          0.125,
          0.125,
          0.125,
          0.16666666666666696,
          0.16666666666666696,
          0.22222222222222232,
          0.25,
          0.25,
          0.2999999999999998,
          0.2999999999999998,
          0.2999999999999998,
          0.3125,
          0.35714285714285676,
          0.375,
          0.375,
          0.375,
          0.40000000000000036,
          0.40000000000000036,
          0.40000000000000036,
          0.47058823529411775,
          0.5,
          0.5,
          0.5,
          0.5,
          0.5,
          0.5238095238095237,
          0.5333333333333332,
          0.5882352941176467,
          0.6111111111111107,
          0.625,
          0.625,
          0.625,
          0.6500000000000004,
          0.666666666666667,
          0.666666666666667,
          0.666666666666667,
          0.6818181818181817,
          0.6923076923076925,
          0.7000000000000002,
          0.7000000000000002,
          0.7000000000000002,
          0.7368421052631575,
          0.7999999999999998,
          0.7999999999999998,
          0.8000000000000007,
          0.875,
          0.8888888888888893,
          0.9000000000000004,
          0.9000000000000004,
          0.9000000000000004,
          0.9047619047619051,
          0.9285714285714288,
          0.9444444444444446,
          0.9500000000000002,
          0.9722222222222223,
          0.9761904761904763,
          1,
          1,
          1,
          1,
          1.0588235294117645,
          1.125,
          1.125,
          1.1428571428571432,
          1.1578947368421053,
          1.166666666666667,
          1.1875,
          1.1904761904761907,
          1.1904761904761907,
          1.2000000000000002,
          1.2142857142857144,
          1.25,
          1.25,
          1.2777777777777777,
          1.2777777777777777,
          1.2777777777777777,
          1.2999999999999998,
          1.333333333333333,
          1.3809523809523814,
          1.3809523809523814,
          1.3888888888888893,
          1.4000000000000004,
          1.4000000000000004,
          1.4000000000000004,
          1.4666666666666668,
          1.4705882352941178,
          1.4761904761904763,
          1.5,
          1.5,
          1.5454545454545459,
          1.5789473684210522,
          1.5999999999999996,
          1.6071428571428568,
          1.6111111111111107,
          1.6190476190476186,
          1.6470588235294121,
          1.6500000000000004,
          1.666666666666667,
          1.7142857142857144,
          1.7222222222222223,
          1.7222222222222223,
          1.7333333333333334,
          1.75,
          1.75,
          1.7777777777777777,
          1.7777777777777777,
          1.7777777777777777,
          1.7999999999999998,
          1.8499999999999996,
          1.8636363636363633,
          1.875,
          1.9000000000000004,
          1.9285714285714288,
          2,
          2,
          2,
          2.05,
          2.05,
          2.0555555555555554,
          2.0999999999999996,
          2.1111111111111107,
          2.1222222222222227,
          2.1333333333333337,
          2.166666666666667,
          2.2,
          2.2,
          2.235294117647059,
          2.2857142857142856,
          2.3,
          2.3,
          2.333333333333333,
          2.3333333333333335,
          2.3888888888888893,
          2.4000000000000004,
          2.428571428571429,
          2.4375,
          2.4444444444444446,
          2.5,
          2.5,
          2.5,
          2.5,
          2.5625,
          2.5999999999999996,
          2.5999999999999996,
          2.5999999999999996,
          2.6111111111111107,
          2.6500000000000004,
          2.666666666666667,
          2.7777777777777777,
          2.8,
          2.8125,
          2.8888888888888893,
          2.8888888888888893,
          2.9523809523809526,
          3,
          3,
          3.0625,
          3.1428571428571432,
          3.1666666666666665,
          3.2,
          3.2222222222222223,
          3.2222222222222223,
          3.2666666666666666,
          3.3333333333333335,
          3.4000000000000004,
          3.428571428571429,
          3.5,
          3.5238095238095237,
          3.5555555555555554,
          3.7333333333333334,
          3.75,
          3.8888888888888893,
          3.9000000000000004,
          3.9444444444444446,
          4,
          4,
          4.1875,
          4.222222222222222,
          4.666666666666666,
          4.75,
          4.8,
          5,
          5.545454545454546
         ],
         "y": [
          0.6111111111111112,
          0.9444444444444444,
          0.6428571428571429,
          0.7333333333333333,
          0.3,
          0.8125,
          0.75,
          0.6428571428571429,
          0.65,
          0.8,
          0.7777777777777778,
          0.3,
          0.4444444444444444,
          0.8,
          0.9,
          0.5,
          0.5555555555555556,
          0.35294117647058826,
          0.5,
          0.5,
          0.35714285714285715,
          0.7142857142857143,
          0.6111111111111112,
          0.3333333333333333,
          0.3333333333333333,
          0.6428571428571429,
          0.7222222222222222,
          0.8,
          0.6666666666666666,
          0.5555555555555556,
          0.625,
          0.7058823529411765,
          0.7777777777777778,
          0.7222222222222222,
          0.5,
          0.6923076923076923,
          0.35294117647058826,
          0.38461538461538464,
          0.35,
          0.25,
          0.4,
          0.4,
          0.6,
          0.65,
          0.6666666666666666,
          0.6111111111111112,
          0.75,
          0.5,
          0.25,
          0.8125,
          0.4444444444444444,
          0.5,
          0.4444444444444444,
          0.125,
          0.6875,
          0.8,
          0.6,
          0.2,
          0.375,
          0.5,
          0.375,
          0.25,
          0.375,
          0.3,
          0.6,
          0.5,
          0.47058823529411764,
          0.5,
          0.8,
          0.6,
          0.25,
          0.3333333333333333,
          0.38095238095238093,
          0.8,
          0.6470588235294118,
          0.2222222222222222,
          0.5,
          0.25,
          0.25,
          0.5,
          0.5555555555555556,
          0.6666666666666666,
          0.38095238095238093,
          0.5,
          0.23076923076923078,
          0.5,
          0.2,
          0.75,
          0.42105263157894735,
          0.6,
          0.5,
          0.8,
          0.375,
          0.1111111111111111,
          0.3,
          0.5,
          0.4,
          0.23809523809523808,
          0.07142857142857142,
          0.2222222222222222,
          0.25,
          0.5,
          0.5714285714285714,
          0.8888888888888888,
          0.2,
          0.8333333333333334,
          0.6666666666666666,
          0.47058823529411764,
          0.375,
          0.25,
          0.3333333333333333,
          0.631578947368421,
          0.16666666666666666,
          0.5,
          0.3333333333333333,
          0.3333333333333333,
          0.2,
          0.5,
          0.25,
          0.25,
          0.3333333333333333,
          0.5,
          0.3333333333333333,
          0.3,
          0.7777777777777778,
          0.2857142857142857,
          0.2857142857142857,
          0.2777777777777778,
          0.65,
          0.8,
          0.5,
          0.4,
          0.17647058823529413,
          0.19047619047619047,
          0.2777777777777778,
          0.16666666666666666,
          0.3181818181818182,
          0.47368421052631576,
          0.13333333333333333,
          0.5714285714285714,
          0.16666666666666666,
          0.5714285714285714,
          0.47058823529411764,
          0.05,
          0.5,
          0.5714285714285714,
          0.2222222222222222,
          0.5555555555555556,
          0.4444444444444444,
          0.25,
          0.25,
          0.2777777777777778,
          0.3333333333333333,
          0.6666666666666666,
          0.6,
          0.3,
          0.2727272727272727,
          0.375,
          0.4,
          0.07142857142857142,
          0.6666666666666666,
          0.4,
          0.46153846153846156,
          0.3,
          0.25,
          0.2222222222222222,
          0.4,
          0.5555555555555556,
          0.5,
          0.3333333333333333,
          0.9444444444444444,
          0.3,
          0.2,
          0.29411764705882354,
          0.3333333333333333,
          0.9,
          0.15,
          0.1111111111111111,
          0.16666666666666666,
          0.1111111111111111,
          0.4,
          0.07142857142857142,
          0,
          0.5555555555555556,
          0,
          0,
          0.4,
          0.16666666666666666,
          0.25,
          0,
          0.2,
          0.4,
          0,
          0,
          0.6666666666666666,
          0,
          0.1,
          0.25,
          0.3333333333333333,
          0.1111111111111111,
          0.2857142857142857,
          0.10526315789473684,
          0.38095238095238093,
          0.0625,
          0.47619047619047616,
          0,
          0.2,
          0.8888888888888888,
          0.2222222222222222,
          0.4666666666666667,
          0.06666666666666667,
          0.3,
          0.09523809523809523,
          0.3,
          0,
          0,
          0.13333333333333333,
          0.05,
          0.1111111111111111,
          0.15,
          0.05555555555555555,
          0,
          0,
          0.3125,
          0,
          0,
          0.15,
          0,
          0.2,
          0.3181818181818182
         ]
        }
       ],
       "layout": {
        "boxmode": "group",
        "paper_bgcolor": "#dadfe1",
        "plot_bgcolor": "#dadfe1",
        "template": {
         "data": {
          "bar": [
           {
            "error_x": {
             "color": "#2a3f5f"
            },
            "error_y": {
             "color": "#2a3f5f"
            },
            "marker": {
             "line": {
              "color": "#E5ECF6",
              "width": 0.5
             },
             "pattern": {
              "fillmode": "overlay",
              "size": 10,
              "solidity": 0.2
             }
            },
            "type": "bar"
           }
          ],
          "barpolar": [
           {
            "marker": {
             "line": {
              "color": "#E5ECF6",
              "width": 0.5
             },
             "pattern": {
              "fillmode": "overlay",
              "size": 10,
              "solidity": 0.2
             }
            },
            "type": "barpolar"
           }
          ],
          "carpet": [
           {
            "aaxis": {
             "endlinecolor": "#2a3f5f",
             "gridcolor": "white",
             "linecolor": "white",
             "minorgridcolor": "white",
             "startlinecolor": "#2a3f5f"
            },
            "baxis": {
             "endlinecolor": "#2a3f5f",
             "gridcolor": "white",
             "linecolor": "white",
             "minorgridcolor": "white",
             "startlinecolor": "#2a3f5f"
            },
            "type": "carpet"
           }
          ],
          "choropleth": [
           {
            "colorbar": {
             "outlinewidth": 0,
             "ticks": ""
            },
            "type": "choropleth"
           }
          ],
          "contour": [
           {
            "colorbar": {
             "outlinewidth": 0,
             "ticks": ""
            },
            "colorscale": [
             [
              0,
              "#0d0887"
             ],
             [
              0.1111111111111111,
              "#46039f"
             ],
             [
              0.2222222222222222,
              "#7201a8"
             ],
             [
              0.3333333333333333,
              "#9c179e"
             ],
             [
              0.4444444444444444,
              "#bd3786"
             ],
             [
              0.5555555555555556,
              "#d8576b"
             ],
             [
              0.6666666666666666,
              "#ed7953"
             ],
             [
              0.7777777777777778,
              "#fb9f3a"
             ],
             [
              0.8888888888888888,
              "#fdca26"
             ],
             [
              1,
              "#f0f921"
             ]
            ],
            "type": "contour"
           }
          ],
          "contourcarpet": [
           {
            "colorbar": {
             "outlinewidth": 0,
             "ticks": ""
            },
            "type": "contourcarpet"
           }
          ],
          "heatmap": [
           {
            "colorbar": {
             "outlinewidth": 0,
             "ticks": ""
            },
            "colorscale": [
             [
              0,
              "#0d0887"
             ],
             [
              0.1111111111111111,
              "#46039f"
             ],
             [
              0.2222222222222222,
              "#7201a8"
             ],
             [
              0.3333333333333333,
              "#9c179e"
             ],
             [
              0.4444444444444444,
              "#bd3786"
             ],
             [
              0.5555555555555556,
              "#d8576b"
             ],
             [
              0.6666666666666666,
              "#ed7953"
             ],
             [
              0.7777777777777778,
              "#fb9f3a"
             ],
             [
              0.8888888888888888,
              "#fdca26"
             ],
             [
              1,
              "#f0f921"
             ]
            ],
            "type": "heatmap"
           }
          ],
          "heatmapgl": [
           {
            "colorbar": {
             "outlinewidth": 0,
             "ticks": ""
            },
            "colorscale": [
             [
              0,
              "#0d0887"
             ],
             [
              0.1111111111111111,
              "#46039f"
             ],
             [
              0.2222222222222222,
              "#7201a8"
             ],
             [
              0.3333333333333333,
              "#9c179e"
             ],
             [
              0.4444444444444444,
              "#bd3786"
             ],
             [
              0.5555555555555556,
              "#d8576b"
             ],
             [
              0.6666666666666666,
              "#ed7953"
             ],
             [
              0.7777777777777778,
              "#fb9f3a"
             ],
             [
              0.8888888888888888,
              "#fdca26"
             ],
             [
              1,
              "#f0f921"
             ]
            ],
            "type": "heatmapgl"
           }
          ],
          "histogram": [
           {
            "marker": {
             "pattern": {
              "fillmode": "overlay",
              "size": 10,
              "solidity": 0.2
             }
            },
            "type": "histogram"
           }
          ],
          "histogram2d": [
           {
            "colorbar": {
             "outlinewidth": 0,
             "ticks": ""
            },
            "colorscale": [
             [
              0,
              "#0d0887"
             ],
             [
              0.1111111111111111,
              "#46039f"
             ],
             [
              0.2222222222222222,
              "#7201a8"
             ],
             [
              0.3333333333333333,
              "#9c179e"
             ],
             [
              0.4444444444444444,
              "#bd3786"
             ],
             [
              0.5555555555555556,
              "#d8576b"
             ],
             [
              0.6666666666666666,
              "#ed7953"
             ],
             [
              0.7777777777777778,
              "#fb9f3a"
             ],
             [
              0.8888888888888888,
              "#fdca26"
             ],
             [
              1,
              "#f0f921"
             ]
            ],
            "type": "histogram2d"
           }
          ],
          "histogram2dcontour": [
           {
            "colorbar": {
             "outlinewidth": 0,
             "ticks": ""
            },
            "colorscale": [
             [
              0,
              "#0d0887"
             ],
             [
              0.1111111111111111,
              "#46039f"
             ],
             [
              0.2222222222222222,
              "#7201a8"
             ],
             [
              0.3333333333333333,
              "#9c179e"
             ],
             [
              0.4444444444444444,
              "#bd3786"
             ],
             [
              0.5555555555555556,
              "#d8576b"
             ],
             [
              0.6666666666666666,
              "#ed7953"
             ],
             [
              0.7777777777777778,
              "#fb9f3a"
             ],
             [
              0.8888888888888888,
              "#fdca26"
             ],
             [
              1,
              "#f0f921"
             ]
            ],
            "type": "histogram2dcontour"
           }
          ],
          "mesh3d": [
           {
            "colorbar": {
             "outlinewidth": 0,
             "ticks": ""
            },
            "type": "mesh3d"
           }
          ],
          "parcoords": [
           {
            "line": {
             "colorbar": {
              "outlinewidth": 0,
              "ticks": ""
             }
            },
            "type": "parcoords"
           }
          ],
          "pie": [
           {
            "automargin": true,
            "type": "pie"
           }
          ],
          "scatter": [
           {
            "fillpattern": {
             "fillmode": "overlay",
             "size": 10,
             "solidity": 0.2
            },
            "type": "scatter"
           }
          ],
          "scatter3d": [
           {
            "line": {
             "colorbar": {
              "outlinewidth": 0,
              "ticks": ""
             }
            },
            "marker": {
             "colorbar": {
              "outlinewidth": 0,
              "ticks": ""
             }
            },
            "type": "scatter3d"
           }
          ],
          "scattercarpet": [
           {
            "marker": {
             "colorbar": {
              "outlinewidth": 0,
              "ticks": ""
             }
            },
            "type": "scattercarpet"
           }
          ],
          "scattergeo": [
           {
            "marker": {
             "colorbar": {
              "outlinewidth": 0,
              "ticks": ""
             }
            },
            "type": "scattergeo"
           }
          ],
          "scattergl": [
           {
            "marker": {
             "colorbar": {
              "outlinewidth": 0,
              "ticks": ""
             }
            },
            "type": "scattergl"
           }
          ],
          "scattermapbox": [
           {
            "marker": {
             "colorbar": {
              "outlinewidth": 0,
              "ticks": ""
             }
            },
            "type": "scattermapbox"
           }
          ],
          "scatterpolar": [
           {
            "marker": {
             "colorbar": {
              "outlinewidth": 0,
              "ticks": ""
             }
            },
            "type": "scatterpolar"
           }
          ],
          "scatterpolargl": [
           {
            "marker": {
             "colorbar": {
              "outlinewidth": 0,
              "ticks": ""
             }
            },
            "type": "scatterpolargl"
           }
          ],
          "scatterternary": [
           {
            "marker": {
             "colorbar": {
              "outlinewidth": 0,
              "ticks": ""
             }
            },
            "type": "scatterternary"
           }
          ],
          "surface": [
           {
            "colorbar": {
             "outlinewidth": 0,
             "ticks": ""
            },
            "colorscale": [
             [
              0,
              "#0d0887"
             ],
             [
              0.1111111111111111,
              "#46039f"
             ],
             [
              0.2222222222222222,
              "#7201a8"
             ],
             [
              0.3333333333333333,
              "#9c179e"
             ],
             [
              0.4444444444444444,
              "#bd3786"
             ],
             [
              0.5555555555555556,
              "#d8576b"
             ],
             [
              0.6666666666666666,
              "#ed7953"
             ],
             [
              0.7777777777777778,
              "#fb9f3a"
             ],
             [
              0.8888888888888888,
              "#fdca26"
             ],
             [
              1,
              "#f0f921"
             ]
            ],
            "type": "surface"
           }
          ],
          "table": [
           {
            "cells": {
             "fill": {
              "color": "#EBF0F8"
             },
             "line": {
              "color": "white"
             }
            },
            "header": {
             "fill": {
              "color": "#C8D4E3"
             },
             "line": {
              "color": "white"
             }
            },
            "type": "table"
           }
          ]
         },
         "layout": {
          "annotationdefaults": {
           "arrowcolor": "#2a3f5f",
           "arrowhead": 0,
           "arrowwidth": 1
          },
          "autotypenumbers": "strict",
          "coloraxis": {
           "colorbar": {
            "outlinewidth": 0,
            "ticks": ""
           }
          },
          "colorscale": {
           "diverging": [
            [
             0,
             "#8e0152"
            ],
            [
             0.1,
             "#c51b7d"
            ],
            [
             0.2,
             "#de77ae"
            ],
            [
             0.3,
             "#f1b6da"
            ],
            [
             0.4,
             "#fde0ef"
            ],
            [
             0.5,
             "#f7f7f7"
            ],
            [
             0.6,
             "#e6f5d0"
            ],
            [
             0.7,
             "#b8e186"
            ],
            [
             0.8,
             "#7fbc41"
            ],
            [
             0.9,
             "#4d9221"
            ],
            [
             1,
             "#276419"
            ]
           ],
           "sequential": [
            [
             0,
             "#0d0887"
            ],
            [
             0.1111111111111111,
             "#46039f"
            ],
            [
             0.2222222222222222,
             "#7201a8"
            ],
            [
             0.3333333333333333,
             "#9c179e"
            ],
            [
             0.4444444444444444,
             "#bd3786"
            ],
            [
             0.5555555555555556,
             "#d8576b"
            ],
            [
             0.6666666666666666,
             "#ed7953"
            ],
            [
             0.7777777777777778,
             "#fb9f3a"
            ],
            [
             0.8888888888888888,
             "#fdca26"
            ],
            [
             1,
             "#f0f921"
            ]
           ],
           "sequentialminus": [
            [
             0,
             "#0d0887"
            ],
            [
             0.1111111111111111,
             "#46039f"
            ],
            [
             0.2222222222222222,
             "#7201a8"
            ],
            [
             0.3333333333333333,
             "#9c179e"
            ],
            [
             0.4444444444444444,
             "#bd3786"
            ],
            [
             0.5555555555555556,
             "#d8576b"
            ],
            [
             0.6666666666666666,
             "#ed7953"
            ],
            [
             0.7777777777777778,
             "#fb9f3a"
            ],
            [
             0.8888888888888888,
             "#fdca26"
            ],
            [
             1,
             "#f0f921"
            ]
           ]
          },
          "colorway": [
           "#636efa",
           "#EF553B",
           "#00cc96",
           "#ab63fa",
           "#FFA15A",
           "#19d3f3",
           "#FF6692",
           "#B6E880",
           "#FF97FF",
           "#FECB52"
          ],
          "font": {
           "color": "#2a3f5f"
          },
          "geo": {
           "bgcolor": "white",
           "lakecolor": "white",
           "landcolor": "#E5ECF6",
           "showlakes": true,
           "showland": true,
           "subunitcolor": "white"
          },
          "hoverlabel": {
           "align": "left"
          },
          "hovermode": "closest",
          "mapbox": {
           "style": "light"
          },
          "paper_bgcolor": "white",
          "plot_bgcolor": "#E5ECF6",
          "polar": {
           "angularaxis": {
            "gridcolor": "white",
            "linecolor": "white",
            "ticks": ""
           },
           "bgcolor": "#E5ECF6",
           "radialaxis": {
            "gridcolor": "white",
            "linecolor": "white",
            "ticks": ""
           }
          },
          "scene": {
           "xaxis": {
            "backgroundcolor": "#E5ECF6",
            "gridcolor": "white",
            "gridwidth": 2,
            "linecolor": "white",
            "showbackground": true,
            "ticks": "",
            "zerolinecolor": "white"
           },
           "yaxis": {
            "backgroundcolor": "#E5ECF6",
            "gridcolor": "white",
            "gridwidth": 2,
            "linecolor": "white",
            "showbackground": true,
            "ticks": "",
            "zerolinecolor": "white"
           },
           "zaxis": {
            "backgroundcolor": "#E5ECF6",
            "gridcolor": "white",
            "gridwidth": 2,
            "linecolor": "white",
            "showbackground": true,
            "ticks": "",
            "zerolinecolor": "white"
           }
          },
          "shapedefaults": {
           "line": {
            "color": "#2a3f5f"
           }
          },
          "ternary": {
           "aaxis": {
            "gridcolor": "white",
            "linecolor": "white",
            "ticks": ""
           },
           "baxis": {
            "gridcolor": "white",
            "linecolor": "white",
            "ticks": ""
           },
           "bgcolor": "#E5ECF6",
           "caxis": {
            "gridcolor": "white",
            "linecolor": "white",
            "ticks": ""
           }
          },
          "title": {
           "x": 0.05
          },
          "xaxis": {
           "automargin": true,
           "gridcolor": "white",
           "linecolor": "white",
           "ticks": "",
           "title": {
            "standoff": 15
           },
           "zerolinecolor": "white",
           "zerolinewidth": 2
          },
          "yaxis": {
           "automargin": true,
           "gridcolor": "white",
           "linecolor": "white",
           "ticks": "",
           "title": {
            "standoff": 15
           },
           "zerolinecolor": "white",
           "zerolinewidth": 2
          }
         }
        },
        "title": {
         "text": "Influence of Attraction Self-Perception on Second Date Success (Self Ratings 6 - 10)"
        },
        "xaxis": {
         "title": {
          "text": "Difference in Self Rating and Attractiveness Rating Received"
         }
        },
        "yaxis": {
         "title": {
          "text": "Percentage of Successful Second Dates"
         }
        }
       }
      },
      "text/html": [
       "<div>                            <div id=\"4841f351-5223-47c1-8446-dfd8ba5db776\" class=\"plotly-graph-div\" style=\"height:525px; width:100%;\"></div>            <script type=\"text/javascript\">                require([\"plotly\"], function(Plotly) {                    window.PLOTLYENV=window.PLOTLYENV || {};                                    if (document.getElementById(\"4841f351-5223-47c1-8446-dfd8ba5db776\")) {                    Plotly.newPlot(                        \"4841f351-5223-47c1-8446-dfd8ba5db776\",                        [{\"marker\":{\"color\":\"#ff6361\"},\"mode\":\"markers\",\"name\":\"Female\",\"x\":[-2.3888888888888893,-2.1999999999999993,-1.9000000000000004,-1.8888888888888893,-1.8499999999999996,-1.7999999999999998,-1.5882352941176467,-1.2857142857142865,-1.2000000000000002,-1.1999999999999993,-1.1764705882352935,-1.1111111111111107,-1.0454545454545459,-1.0,-0.9888888888888898,-0.9411764705882355,-0.9285714285714288,-0.8571428571428568,-0.8499999999999996,-0.833333333333333,-0.7333333333333334,-0.7333333333333334,-0.7000000000000002,-0.7000000000000002,-0.666666666666667,-0.666666666666667,-0.6500000000000004,-0.625,-0.5999999999999996,-0.5714285714285712,-0.4499999999999993,-0.4285714285714288,-0.3600000000000003,-0.35294117647058787,-0.3333333333333339,-0.3333333333333339,-0.33333333333333304,-0.33333333333333304,-0.2857142857142856,-0.25,-0.20000000000000018,-0.1875,-0.1875,-0.1538461538461542,-0.14285714285714324,-0.125,-0.0625,-0.0625,-0.02941176470588225,0.0,0.0,0.0,0.0,0.0,0.04999999999999982,0.0625,0.06666666666666643,0.11111111111111072,0.117647058823529,0.125,0.125,0.13333333333333375,0.14285714285714324,0.15000000000000036,0.15000000000000036,0.20000000000000018,0.2142857142857144,0.22222222222222232,0.22222222222222232,0.22222222222222232,0.25,0.25,0.2666666666666666,0.2857142857142856,0.3076923076923075,0.3125,0.3157894736842106,0.33333333333333304,0.4285714285714288,0.4285714285714288,0.4500000000000002,0.4500000000000002,0.47368421052631593,0.5,0.5,0.5,0.5,0.5238095238095237,0.5294117647058822,0.5714285714285712,0.5714285714285712,0.5749999999999993,0.5882352941176467,0.5909090909090908,0.5999999999999996,0.6111111111111107,0.615384615384615,0.6190476190476186,0.625,0.666666666666667,0.6875,0.6875,0.6999999999999993,0.7000000000000002,0.7000000000000002,0.7333333333333334,0.75,0.7619047619047619,0.7666666666666666,0.7777777777777777,0.7857142857142856,0.7857142857142856,0.7999999999999998,0.7999999999999998,0.8235294117647056,0.8499999999999996,0.8611111111111107,0.9000000000000004,0.9333333333333336,0.9375,1.0,1.0,1.0,1.0,1.0,1.0,1.0499999999999998,1.0555555555555554,1.0625,1.0666666666666664,1.0666666666666664,1.0714285714285712,1.0999999999999996,1.1111111111111107,1.1111111111111107,1.1111111111111107,1.1111111111111107,1.1428571428571432,1.1428571428571432,1.166666666666667,1.1944444444444446,1.2000000000000002,1.2000000000000002,1.2000000000000002,1.2142857142857144,1.2142857142857144,1.2222222222222223,1.2307692307692308,1.25,1.25,1.2857142857142856,1.2941176470588234,1.2999999999999998,1.2999999999999998,1.333333333333333,1.333333333333333,1.375,1.3888888888888893,1.4285714285714288,1.4285714285714288,1.4444444444444446,1.4666666666666668,1.4761904761904763,1.5,1.5,1.5555555555555554,1.5714285714285712,1.5999999999999996,1.5999999999999996,1.6111111111111107,1.6111111111111107,1.666666666666667,1.666666666666667,1.6875,1.7000000000000002,1.7142857142857144,1.75,1.75,1.7894736842105265,1.7999999999999998,1.8888888888888893,1.904761904761905,1.904761904761905,1.9090909090909092,2.0,2.0,2.0,2.05,2.05,2.05,2.0666666666666664,2.1428571428571432,2.1466666666666665,2.166666666666667,2.1875,2.1904761904761907,2.2,2.2,2.2125000000000004,2.25,2.2750000000000004,2.2857142857142856,2.3499999999999996,2.3571428571428568,2.3888888888888893,2.4000000000000004,2.4761904761904763,2.5,2.5,2.571428571428571,2.6500000000000004,2.666666666666667,2.666666666666667,2.7,2.7142857142857144,2.7777777777777777,2.7857142857142856,2.8571428571428568,2.8571428571428568,2.8571428571428568,2.875,2.875,2.909090909090909,2.947368421052632,3.1,3.1111111111111107,3.1428571428571432,3.25,3.2857142857142856,3.333333333333333,3.333333333333333,3.55,3.5999999999999996,3.647058823529412,4.0,4.0625,4.222222222222222,4.25,4.444444444444445,4.45,4.5625,4.923076923076923,5.095238095238095],\"y\":[0.8888888888888888,0.9333333333333333,0.7,0.8888888888888888,0.75,0.7,0.6470588235294118,1.0,0.5333333333333333,0.8,0.7058823529411765,0.4444444444444444,0.6363636363636364,0.7777777777777778,0.4444444444444444,0.5294117647058824,0.14285714285714285,0.7142857142857143,0.65,0.4444444444444444,0.8666666666666667,0.6666666666666666,0.5,0.6,0.5,0.7222222222222222,0.7,0.75,0.9333333333333333,0.7619047619047619,0.95,0.2857142857142857,0.4,0.5294117647058824,0.6666666666666666,0.6666666666666666,0.7777777777777778,0.26666666666666666,0.5714285714285714,0.6875,0.7,0.6875,0.5625,0.3076923076923077,0.7857142857142857,0.4375,0.4375,0.5625,0.7058823529411765,0.6,0.7,0.25,0.8,0.7333333333333333,0.75,0.4375,0.5333333333333333,0.7777777777777778,0.5294117647058824,0.8125,0.5,0.4,0.7142857142857143,0.8,0.55,1.0,0.35714285714285715,0.5,0.5555555555555556,0.7777777777777778,0.8125,0.625,0.2,0.3333333333333333,0.5384615384615384,0.875,0.3684210526315789,0.5333333333333333,0.21428571428571427,0.5,0.35,0.5,0.8421052631578947,0.4,0.6,0.875,0.7142857142857143,0.7619047619047619,0.9411764705882353,0.42857142857142855,0.6428571428571429,0.95,0.5882352941176471,0.5454545454545454,1.0,0.3888888888888889,0.5384615384615384,0.42857142857142855,0.8,0.6666666666666666,0.75,0.3125,0.8,0.3,0.2,0.4666666666666667,0.65,0.5714285714285714,0.3333333333333333,0.5555555555555556,0.5714285714285714,0.5714285714285714,0.4,0.4666666666666667,0.4117647058823529,0.45,0.7777777777777778,0.75,0.26666666666666666,0.6875,0.625,0.2857142857142857,0.375,0.375,0.4117647058823529,0.42857142857142855,0.25,0.4444444444444444,0.0625,0.06666666666666667,0.8,0.2857142857142857,0.8,0.5,0.6111111111111112,0.4444444444444444,0.5,0.6428571428571429,0.7142857142857143,0.6666666666666666,0.4444444444444444,0.4,0.0,0.2,0.21428571428571427,0.5,0.3333333333333333,0.3076923076923077,0.5,0.55,0.5714285714285714,0.058823529411764705,0.6,1.0,0.26666666666666666,0.8888888888888888,0.875,0.5555555555555556,0.5238095238095238,0.14285714285714285,0.1111111111111111,0.4,0.0,0.5,0.5555555555555556,0.5,0.42857142857142855,0.1,0.4,0.2777777777777778,0.2777777777777778,0.13333333333333333,0.6666666666666666,0.5625,0.75,0.5,0.125,0.375,0.6842105263157895,0.5333333333333333,0.3888888888888889,0.19047619047619047,0.14285714285714285,0.09090909090909091,0.3333333333333333,0.2,0.65,0.75,0.45,0.7,0.26666666666666666,0.8571428571428571,0.2,0.5238095238095238,0.25,0.42857142857142855,0.2,0.4,0.1875,0.3,0.0625,0.42857142857142855,0.8,0.21428571428571427,0.2222222222222222,0.15,0.47619047619047616,0.7,0.3125,0.14285714285714285,0.4,0.2222222222222222,0.3333333333333333,0.2,0.14285714285714285,0.2222222222222222,0.35714285714285715,0.2857142857142857,0.2857142857142857,0.42857142857142855,0.5,0.25,0.0,0.21052631578947367,0.2,0.2222222222222222,0.2857142857142857,0.4,0.42857142857142855,0.5555555555555556,0.19047619047619047,0.25,0.4,0.23529411764705882,0.0,0.1875,0.1111111111111111,0.25,0.3333333333333333,0.15,0.125,0.0,0.14285714285714285],\"type\":\"scatter\"},{\"marker\":{\"color\":\"#003f5c\"},\"mode\":\"markers\",\"name\":\"Male\",\"x\":[-2.3055555555555554,-1.5555555555555554,-1.4714285714285706,-1.4666666666666668,-1.0999999999999996,-1.0625,-1.0,-0.9285714285714288,-0.7999999999999998,-0.7999999999999998,-0.7777777777777777,-0.7000000000000002,-0.666666666666667,-0.666666666666667,-0.5,-0.5,-0.5,-0.41176470588235325,-0.40000000000000036,-0.40000000000000036,-0.39285714285714324,-0.35714285714285676,-0.3333333333333339,-0.33333333333333304,-0.33333333333333304,-0.2857142857142856,-0.22222222222222232,-0.20000000000000018,-0.20000000000000018,-0.16666666666666696,-0.125,-0.117647058823529,-0.11111111111111072,-0.11111111111111072,-0.09999999999999964,-0.07692307692307665,-0.0588235294117645,0.0,0.04999999999999982,0.0625,0.09999999999999964,0.09999999999999964,0.09999999999999964,0.09999999999999964,0.11111111111111072,0.11111111111111072,0.125,0.125,0.125,0.125,0.16666666666666696,0.16666666666666696,0.22222222222222232,0.25,0.25,0.2999999999999998,0.2999999999999998,0.2999999999999998,0.3125,0.35714285714285676,0.375,0.375,0.375,0.40000000000000036,0.40000000000000036,0.40000000000000036,0.47058823529411775,0.5,0.5,0.5,0.5,0.5,0.5238095238095237,0.5333333333333332,0.5882352941176467,0.6111111111111107,0.625,0.625,0.625,0.6500000000000004,0.666666666666667,0.666666666666667,0.666666666666667,0.6818181818181817,0.6923076923076925,0.7000000000000002,0.7000000000000002,0.7000000000000002,0.7368421052631575,0.7999999999999998,0.7999999999999998,0.8000000000000007,0.875,0.8888888888888893,0.9000000000000004,0.9000000000000004,0.9000000000000004,0.9047619047619051,0.9285714285714288,0.9444444444444446,0.9500000000000002,0.9722222222222223,0.9761904761904763,1.0,1.0,1.0,1.0,1.0588235294117645,1.125,1.125,1.1428571428571432,1.1578947368421053,1.166666666666667,1.1875,1.1904761904761907,1.1904761904761907,1.2000000000000002,1.2142857142857144,1.25,1.25,1.2777777777777777,1.2777777777777777,1.2777777777777777,1.2999999999999998,1.333333333333333,1.3809523809523814,1.3809523809523814,1.3888888888888893,1.4000000000000004,1.4000000000000004,1.4000000000000004,1.4666666666666668,1.4705882352941178,1.4761904761904763,1.5,1.5,1.5454545454545459,1.5789473684210522,1.5999999999999996,1.6071428571428568,1.6111111111111107,1.6190476190476186,1.6470588235294121,1.6500000000000004,1.666666666666667,1.7142857142857144,1.7222222222222223,1.7222222222222223,1.7333333333333334,1.75,1.75,1.7777777777777777,1.7777777777777777,1.7777777777777777,1.7999999999999998,1.8499999999999996,1.8636363636363633,1.875,1.9000000000000004,1.9285714285714288,2.0,2.0,2.0,2.05,2.05,2.0555555555555554,2.0999999999999996,2.1111111111111107,2.1222222222222227,2.1333333333333337,2.166666666666667,2.2,2.2,2.235294117647059,2.2857142857142856,2.3,2.3,2.333333333333333,2.3333333333333335,2.3888888888888893,2.4000000000000004,2.428571428571429,2.4375,2.4444444444444446,2.5,2.5,2.5,2.5,2.5625,2.5999999999999996,2.5999999999999996,2.5999999999999996,2.6111111111111107,2.6500000000000004,2.666666666666667,2.7777777777777777,2.8,2.8125,2.8888888888888893,2.8888888888888893,2.9523809523809526,3.0,3.0,3.0625,3.1428571428571432,3.1666666666666665,3.2,3.2222222222222223,3.2222222222222223,3.2666666666666666,3.3333333333333335,3.4000000000000004,3.428571428571429,3.5,3.5238095238095237,3.5555555555555554,3.7333333333333334,3.75,3.8888888888888893,3.9000000000000004,3.9444444444444446,4.0,4.0,4.1875,4.222222222222222,4.666666666666666,4.75,4.8,5.0,5.545454545454546],\"y\":[0.6111111111111112,0.9444444444444444,0.6428571428571429,0.7333333333333333,0.3,0.8125,0.75,0.6428571428571429,0.65,0.8,0.7777777777777778,0.3,0.4444444444444444,0.8,0.9,0.5,0.5555555555555556,0.35294117647058826,0.5,0.5,0.35714285714285715,0.7142857142857143,0.6111111111111112,0.3333333333333333,0.3333333333333333,0.6428571428571429,0.7222222222222222,0.8,0.6666666666666666,0.5555555555555556,0.625,0.7058823529411765,0.7777777777777778,0.7222222222222222,0.5,0.6923076923076923,0.35294117647058826,0.38461538461538464,0.35,0.25,0.4,0.4,0.6,0.65,0.6666666666666666,0.6111111111111112,0.75,0.5,0.25,0.8125,0.4444444444444444,0.5,0.4444444444444444,0.125,0.6875,0.8,0.6,0.2,0.375,0.5,0.375,0.25,0.375,0.3,0.6,0.5,0.47058823529411764,0.5,0.8,0.6,0.25,0.3333333333333333,0.38095238095238093,0.8,0.6470588235294118,0.2222222222222222,0.5,0.25,0.25,0.5,0.5555555555555556,0.6666666666666666,0.38095238095238093,0.5,0.23076923076923078,0.5,0.2,0.75,0.42105263157894735,0.6,0.5,0.8,0.375,0.1111111111111111,0.3,0.5,0.4,0.23809523809523808,0.07142857142857142,0.2222222222222222,0.25,0.5,0.5714285714285714,0.8888888888888888,0.2,0.8333333333333334,0.6666666666666666,0.47058823529411764,0.375,0.25,0.3333333333333333,0.631578947368421,0.16666666666666666,0.5,0.3333333333333333,0.3333333333333333,0.2,0.5,0.25,0.25,0.3333333333333333,0.5,0.3333333333333333,0.3,0.7777777777777778,0.2857142857142857,0.2857142857142857,0.2777777777777778,0.65,0.8,0.5,0.4,0.17647058823529413,0.19047619047619047,0.2777777777777778,0.16666666666666666,0.3181818181818182,0.47368421052631576,0.13333333333333333,0.5714285714285714,0.16666666666666666,0.5714285714285714,0.47058823529411764,0.05,0.5,0.5714285714285714,0.2222222222222222,0.5555555555555556,0.4444444444444444,0.25,0.25,0.2777777777777778,0.3333333333333333,0.6666666666666666,0.6,0.3,0.2727272727272727,0.375,0.4,0.07142857142857142,0.6666666666666666,0.4,0.46153846153846156,0.3,0.25,0.2222222222222222,0.4,0.5555555555555556,0.5,0.3333333333333333,0.9444444444444444,0.3,0.2,0.29411764705882354,0.3333333333333333,0.9,0.15,0.1111111111111111,0.16666666666666666,0.1111111111111111,0.4,0.07142857142857142,0.0,0.5555555555555556,0.0,0.0,0.4,0.16666666666666666,0.25,0.0,0.2,0.4,0.0,0.0,0.6666666666666666,0.0,0.1,0.25,0.3333333333333333,0.1111111111111111,0.2857142857142857,0.10526315789473684,0.38095238095238093,0.0625,0.47619047619047616,0.0,0.2,0.8888888888888888,0.2222222222222222,0.4666666666666667,0.06666666666666667,0.3,0.09523809523809523,0.3,0.0,0.0,0.13333333333333333,0.05,0.1111111111111111,0.15,0.05555555555555555,0.0,0.0,0.3125,0.0,0.0,0.15,0.0,0.2,0.3181818181818182],\"type\":\"scatter\"}],                        {\"boxmode\":\"group\",\"paper_bgcolor\":\"#dadfe1\",\"plot_bgcolor\":\"#dadfe1\",\"title\":{\"text\":\"Influence of Attraction Self-Perception on Second Date Success (Self Ratings 6 - 10)\"},\"xaxis\":{\"title\":{\"text\":\"Difference in Self Rating and Attractiveness Rating Received\"}},\"yaxis\":{\"title\":{\"text\":\"Percentage of Successful Second Dates\"}},\"template\":{\"data\":{\"histogram2dcontour\":[{\"type\":\"histogram2dcontour\",\"colorbar\":{\"outlinewidth\":0,\"ticks\":\"\"},\"colorscale\":[[0.0,\"#0d0887\"],[0.1111111111111111,\"#46039f\"],[0.2222222222222222,\"#7201a8\"],[0.3333333333333333,\"#9c179e\"],[0.4444444444444444,\"#bd3786\"],[0.5555555555555556,\"#d8576b\"],[0.6666666666666666,\"#ed7953\"],[0.7777777777777778,\"#fb9f3a\"],[0.8888888888888888,\"#fdca26\"],[1.0,\"#f0f921\"]]}],\"choropleth\":[{\"type\":\"choropleth\",\"colorbar\":{\"outlinewidth\":0,\"ticks\":\"\"}}],\"histogram2d\":[{\"type\":\"histogram2d\",\"colorbar\":{\"outlinewidth\":0,\"ticks\":\"\"},\"colorscale\":[[0.0,\"#0d0887\"],[0.1111111111111111,\"#46039f\"],[0.2222222222222222,\"#7201a8\"],[0.3333333333333333,\"#9c179e\"],[0.4444444444444444,\"#bd3786\"],[0.5555555555555556,\"#d8576b\"],[0.6666666666666666,\"#ed7953\"],[0.7777777777777778,\"#fb9f3a\"],[0.8888888888888888,\"#fdca26\"],[1.0,\"#f0f921\"]]}],\"heatmap\":[{\"type\":\"heatmap\",\"colorbar\":{\"outlinewidth\":0,\"ticks\":\"\"},\"colorscale\":[[0.0,\"#0d0887\"],[0.1111111111111111,\"#46039f\"],[0.2222222222222222,\"#7201a8\"],[0.3333333333333333,\"#9c179e\"],[0.4444444444444444,\"#bd3786\"],[0.5555555555555556,\"#d8576b\"],[0.6666666666666666,\"#ed7953\"],[0.7777777777777778,\"#fb9f3a\"],[0.8888888888888888,\"#fdca26\"],[1.0,\"#f0f921\"]]}],\"heatmapgl\":[{\"type\":\"heatmapgl\",\"colorbar\":{\"outlinewidth\":0,\"ticks\":\"\"},\"colorscale\":[[0.0,\"#0d0887\"],[0.1111111111111111,\"#46039f\"],[0.2222222222222222,\"#7201a8\"],[0.3333333333333333,\"#9c179e\"],[0.4444444444444444,\"#bd3786\"],[0.5555555555555556,\"#d8576b\"],[0.6666666666666666,\"#ed7953\"],[0.7777777777777778,\"#fb9f3a\"],[0.8888888888888888,\"#fdca26\"],[1.0,\"#f0f921\"]]}],\"contourcarpet\":[{\"type\":\"contourcarpet\",\"colorbar\":{\"outlinewidth\":0,\"ticks\":\"\"}}],\"contour\":[{\"type\":\"contour\",\"colorbar\":{\"outlinewidth\":0,\"ticks\":\"\"},\"colorscale\":[[0.0,\"#0d0887\"],[0.1111111111111111,\"#46039f\"],[0.2222222222222222,\"#7201a8\"],[0.3333333333333333,\"#9c179e\"],[0.4444444444444444,\"#bd3786\"],[0.5555555555555556,\"#d8576b\"],[0.6666666666666666,\"#ed7953\"],[0.7777777777777778,\"#fb9f3a\"],[0.8888888888888888,\"#fdca26\"],[1.0,\"#f0f921\"]]}],\"surface\":[{\"type\":\"surface\",\"colorbar\":{\"outlinewidth\":0,\"ticks\":\"\"},\"colorscale\":[[0.0,\"#0d0887\"],[0.1111111111111111,\"#46039f\"],[0.2222222222222222,\"#7201a8\"],[0.3333333333333333,\"#9c179e\"],[0.4444444444444444,\"#bd3786\"],[0.5555555555555556,\"#d8576b\"],[0.6666666666666666,\"#ed7953\"],[0.7777777777777778,\"#fb9f3a\"],[0.8888888888888888,\"#fdca26\"],[1.0,\"#f0f921\"]]}],\"mesh3d\":[{\"type\":\"mesh3d\",\"colorbar\":{\"outlinewidth\":0,\"ticks\":\"\"}}],\"scatter\":[{\"fillpattern\":{\"fillmode\":\"overlay\",\"size\":10,\"solidity\":0.2},\"type\":\"scatter\"}],\"parcoords\":[{\"type\":\"parcoords\",\"line\":{\"colorbar\":{\"outlinewidth\":0,\"ticks\":\"\"}}}],\"scatterpolargl\":[{\"type\":\"scatterpolargl\",\"marker\":{\"colorbar\":{\"outlinewidth\":0,\"ticks\":\"\"}}}],\"bar\":[{\"error_x\":{\"color\":\"#2a3f5f\"},\"error_y\":{\"color\":\"#2a3f5f\"},\"marker\":{\"line\":{\"color\":\"#E5ECF6\",\"width\":0.5},\"pattern\":{\"fillmode\":\"overlay\",\"size\":10,\"solidity\":0.2}},\"type\":\"bar\"}],\"scattergeo\":[{\"type\":\"scattergeo\",\"marker\":{\"colorbar\":{\"outlinewidth\":0,\"ticks\":\"\"}}}],\"scatterpolar\":[{\"type\":\"scatterpolar\",\"marker\":{\"colorbar\":{\"outlinewidth\":0,\"ticks\":\"\"}}}],\"histogram\":[{\"marker\":{\"pattern\":{\"fillmode\":\"overlay\",\"size\":10,\"solidity\":0.2}},\"type\":\"histogram\"}],\"scattergl\":[{\"type\":\"scattergl\",\"marker\":{\"colorbar\":{\"outlinewidth\":0,\"ticks\":\"\"}}}],\"scatter3d\":[{\"type\":\"scatter3d\",\"line\":{\"colorbar\":{\"outlinewidth\":0,\"ticks\":\"\"}},\"marker\":{\"colorbar\":{\"outlinewidth\":0,\"ticks\":\"\"}}}],\"scattermapbox\":[{\"type\":\"scattermapbox\",\"marker\":{\"colorbar\":{\"outlinewidth\":0,\"ticks\":\"\"}}}],\"scatterternary\":[{\"type\":\"scatterternary\",\"marker\":{\"colorbar\":{\"outlinewidth\":0,\"ticks\":\"\"}}}],\"scattercarpet\":[{\"type\":\"scattercarpet\",\"marker\":{\"colorbar\":{\"outlinewidth\":0,\"ticks\":\"\"}}}],\"carpet\":[{\"aaxis\":{\"endlinecolor\":\"#2a3f5f\",\"gridcolor\":\"white\",\"linecolor\":\"white\",\"minorgridcolor\":\"white\",\"startlinecolor\":\"#2a3f5f\"},\"baxis\":{\"endlinecolor\":\"#2a3f5f\",\"gridcolor\":\"white\",\"linecolor\":\"white\",\"minorgridcolor\":\"white\",\"startlinecolor\":\"#2a3f5f\"},\"type\":\"carpet\"}],\"table\":[{\"cells\":{\"fill\":{\"color\":\"#EBF0F8\"},\"line\":{\"color\":\"white\"}},\"header\":{\"fill\":{\"color\":\"#C8D4E3\"},\"line\":{\"color\":\"white\"}},\"type\":\"table\"}],\"barpolar\":[{\"marker\":{\"line\":{\"color\":\"#E5ECF6\",\"width\":0.5},\"pattern\":{\"fillmode\":\"overlay\",\"size\":10,\"solidity\":0.2}},\"type\":\"barpolar\"}],\"pie\":[{\"automargin\":true,\"type\":\"pie\"}]},\"layout\":{\"autotypenumbers\":\"strict\",\"colorway\":[\"#636efa\",\"#EF553B\",\"#00cc96\",\"#ab63fa\",\"#FFA15A\",\"#19d3f3\",\"#FF6692\",\"#B6E880\",\"#FF97FF\",\"#FECB52\"],\"font\":{\"color\":\"#2a3f5f\"},\"hovermode\":\"closest\",\"hoverlabel\":{\"align\":\"left\"},\"paper_bgcolor\":\"white\",\"plot_bgcolor\":\"#E5ECF6\",\"polar\":{\"bgcolor\":\"#E5ECF6\",\"angularaxis\":{\"gridcolor\":\"white\",\"linecolor\":\"white\",\"ticks\":\"\"},\"radialaxis\":{\"gridcolor\":\"white\",\"linecolor\":\"white\",\"ticks\":\"\"}},\"ternary\":{\"bgcolor\":\"#E5ECF6\",\"aaxis\":{\"gridcolor\":\"white\",\"linecolor\":\"white\",\"ticks\":\"\"},\"baxis\":{\"gridcolor\":\"white\",\"linecolor\":\"white\",\"ticks\":\"\"},\"caxis\":{\"gridcolor\":\"white\",\"linecolor\":\"white\",\"ticks\":\"\"}},\"coloraxis\":{\"colorbar\":{\"outlinewidth\":0,\"ticks\":\"\"}},\"colorscale\":{\"sequential\":[[0.0,\"#0d0887\"],[0.1111111111111111,\"#46039f\"],[0.2222222222222222,\"#7201a8\"],[0.3333333333333333,\"#9c179e\"],[0.4444444444444444,\"#bd3786\"],[0.5555555555555556,\"#d8576b\"],[0.6666666666666666,\"#ed7953\"],[0.7777777777777778,\"#fb9f3a\"],[0.8888888888888888,\"#fdca26\"],[1.0,\"#f0f921\"]],\"sequentialminus\":[[0.0,\"#0d0887\"],[0.1111111111111111,\"#46039f\"],[0.2222222222222222,\"#7201a8\"],[0.3333333333333333,\"#9c179e\"],[0.4444444444444444,\"#bd3786\"],[0.5555555555555556,\"#d8576b\"],[0.6666666666666666,\"#ed7953\"],[0.7777777777777778,\"#fb9f3a\"],[0.8888888888888888,\"#fdca26\"],[1.0,\"#f0f921\"]],\"diverging\":[[0,\"#8e0152\"],[0.1,\"#c51b7d\"],[0.2,\"#de77ae\"],[0.3,\"#f1b6da\"],[0.4,\"#fde0ef\"],[0.5,\"#f7f7f7\"],[0.6,\"#e6f5d0\"],[0.7,\"#b8e186\"],[0.8,\"#7fbc41\"],[0.9,\"#4d9221\"],[1,\"#276419\"]]},\"xaxis\":{\"gridcolor\":\"white\",\"linecolor\":\"white\",\"ticks\":\"\",\"title\":{\"standoff\":15},\"zerolinecolor\":\"white\",\"automargin\":true,\"zerolinewidth\":2},\"yaxis\":{\"gridcolor\":\"white\",\"linecolor\":\"white\",\"ticks\":\"\",\"title\":{\"standoff\":15},\"zerolinecolor\":\"white\",\"automargin\":true,\"zerolinewidth\":2},\"scene\":{\"xaxis\":{\"backgroundcolor\":\"#E5ECF6\",\"gridcolor\":\"white\",\"linecolor\":\"white\",\"showbackground\":true,\"ticks\":\"\",\"zerolinecolor\":\"white\",\"gridwidth\":2},\"yaxis\":{\"backgroundcolor\":\"#E5ECF6\",\"gridcolor\":\"white\",\"linecolor\":\"white\",\"showbackground\":true,\"ticks\":\"\",\"zerolinecolor\":\"white\",\"gridwidth\":2},\"zaxis\":{\"backgroundcolor\":\"#E5ECF6\",\"gridcolor\":\"white\",\"linecolor\":\"white\",\"showbackground\":true,\"ticks\":\"\",\"zerolinecolor\":\"white\",\"gridwidth\":2}},\"shapedefaults\":{\"line\":{\"color\":\"#2a3f5f\"}},\"annotationdefaults\":{\"arrowcolor\":\"#2a3f5f\",\"arrowhead\":0,\"arrowwidth\":1},\"geo\":{\"bgcolor\":\"white\",\"landcolor\":\"#E5ECF6\",\"subunitcolor\":\"white\",\"showland\":true,\"showlakes\":true,\"lakecolor\":\"white\"},\"title\":{\"x\":0.05},\"mapbox\":{\"style\":\"light\"}}}},                        {\"responsive\": true}                    ).then(function(){\n",
       "                            \n",
       "var gd = document.getElementById('4841f351-5223-47c1-8446-dfd8ba5db776');\n",
       "var x = new MutationObserver(function (mutations, observer) {{\n",
       "        var display = window.getComputedStyle(gd).display;\n",
       "        if (!display || display === 'none') {{\n",
       "            console.log([gd, 'removed!']);\n",
       "            Plotly.purge(gd);\n",
       "            observer.disconnect();\n",
       "        }}\n",
       "}});\n",
       "\n",
       "// Listen for the removal of the full notebook cells\n",
       "var notebookContainer = gd.closest('#notebook-container');\n",
       "if (notebookContainer) {{\n",
       "    x.observe(notebookContainer, {childList: true});\n",
       "}}\n",
       "\n",
       "// Listen for the clearing of the current output cell\n",
       "var outputEl = gd.closest('.output');\n",
       "if (outputEl) {{\n",
       "    x.observe(outputEl, {childList: true});\n",
       "}}\n",
       "\n",
       "                        })                };                });            </script>        </div>"
      ]
     },
     "metadata": {},
     "output_type": "display_data"
    },
    {
     "name": "stdout",
     "output_type": "stream",
     "text": [
      "Self-perceived attractiveness plot completed. It took 0.022 seconds.\n"
     ]
    }
   ],
   "source": [
    "# Running the plot to observe how accurate perception of one's\n",
    "# own attractiveness affects second date success\n",
    "start_time = time.time()\n",
    "\n",
    "# Specify the WHERE clause\n",
    "custom_where = \"attr3_1 > 5\"\n",
    "attr_diff_data = fetch_attr_diff_data(database_path, custom_where)\n",
    "traces = create_scatter_traces(attr_diff_data, colors)\n",
    "\n",
    "# Structuring the layout with titles and colours\n",
    "layout = go.Layout(\n",
    "    title='Influence of Attraction Self-Perception on Second Date Success (Self Ratings 6 - 10)',\n",
    "    xaxis=dict(title='Difference in Self Rating and Attractiveness Rating Received'),\n",
    "    yaxis=dict(title='Percentage of Successful Second Dates'),\n",
    "    boxmode='group',\n",
    "    plot_bgcolor='#dadfe1',\n",
    "    paper_bgcolor='#dadfe1'\n",
    ")\n",
    "\n",
    "# Create figure\n",
    "fig = go.Figure(data=traces, layout=layout)\n",
    "\n",
    "# Show the plot\n",
    "fig.show()\n",
    "          \n",
    "end_time = round(time.time() - start_time, 4)\n",
    "\n",
    "print(f'Self-perceived attractiveness plot completed. It took {end_time} seconds.')"
   ]
  },
  {
   "cell_type": "markdown",
   "id": "843adc21",
   "metadata": {},
   "source": [
    "From the above plot we can see that the majority rate themselves above the statistical average. \n",
    "\n",
    "Additioanlly, for people who rated their own attractiveness between 6 and 10 there is a general downward trend. Underestimating your attractiveness seems to lead to a higher percentage of second dates where as overestimating your attractiveness seems to lead to a lower percentage.\n",
    "\n",
    "Interestingly, there is a smaller difference between genders for self-perception compared to confidence in your attractiveness."
   ]
  },
  {
   "cell_type": "markdown",
   "id": "53f9ef4c",
   "metadata": {},
   "source": [
    "### Influence of Accurate Self-Perception with Self Ratings of 5 - 0\n",
    "\n",
    "In this section we fetch the difference in self-rated attractiveness and average attractiveness rating received for each individual plotted against second date success. However in this section we only consider those who rate their own attractiveness between 5 - 0 i.e. those who are not relatively confident in their own attractiveness."
   ]
  },
  {
   "cell_type": "code",
   "execution_count": 263,
   "id": "49a08bd0",
   "metadata": {},
   "outputs": [
    {
     "data": {
      "application/vnd.plotly.v1+json": {
       "config": {
        "plotlyServerURL": "https://plot.ly"
       },
       "data": [
        {
         "marker": {
          "color": "#ff6361"
         },
         "mode": "markers",
         "name": "Female",
         "type": "scatter",
         "x": [
          -4.066666666666666,
          -3.7777777777777777,
          -3.4722222222222223,
          -2.8,
          -2.333333333333333,
          -2.2142857142857144,
          -2.0666666666666664,
          -2,
          -2,
          -2,
          -1.7999999999999998,
          -1.7777777777777777,
          -1.7058823529411766,
          -1.6952380952380945,
          -1.4285714285714288,
          -1.25,
          -1.1428571428571432,
          -1.1428571428571432,
          -1.1428571428571432,
          -0.8888888888888893,
          -0.8666666666666663,
          -0.4375,
          -0.2631578947368425,
          -0.25,
          -0.0625
         ],
         "y": [
          0.7333333333333333,
          0.6666666666666666,
          0.2777777777777778,
          0.2,
          0.7222222222222222,
          0.6428571428571429,
          0.5333333333333333,
          0.6,
          0.8571428571428571,
          0.6666666666666666,
          0.5,
          0.4444444444444444,
          0.23529411764705882,
          0.14285714285714285,
          0.14285714285714285,
          0.1875,
          0.5714285714285714,
          0.6428571428571429,
          0.14285714285714285,
          0.16666666666666666,
          0.3333333333333333,
          0.3125,
          0.47368421052631576,
          0.4,
          0.1875
         ]
        },
        {
         "marker": {
          "color": "#003f5c"
         },
         "mode": "markers",
         "name": "Male",
         "type": "scatter",
         "x": [
          -3.166666666666667,
          -2.5238095238095237,
          -2.375,
          -2.333333333333333,
          -2.25,
          -2.095238095238095,
          -2,
          -2,
          -1.9375,
          -1.5714285714285712,
          -1.5,
          -1.2777777777777777,
          -1.2222222222222223,
          -1.166666666666667,
          -1.1111111111111107,
          -1.0999999999999996,
          -1.0999999999999996,
          -1,
          -1,
          -0.8428571428571425,
          -0.7999999999999998,
          -0.7999999999999998,
          -0.5499999999999998,
          -0.4285714285714288,
          -0.2857142857142856,
          -0.16666666666666696,
          -0.11111111111111072,
          -0.09999999999999964,
          0.125,
          0.14285714285714324,
          0.14285714285714324,
          0.22222222222222232,
          0.22222222222222232,
          0.33333333333333304,
          0.5714285714285712,
          0.7999999999999998,
          0.7999999999999998,
          0.875,
          1,
          1.1111111111111112,
          1.1666666666666665,
          1.2222222222222223,
          1.4
         ],
         "y": [
          0.5555555555555556,
          0.5714285714285714,
          0.75,
          0.7777777777777778,
          0,
          0.5714285714285714,
          0.7777777777777778,
          0.6666666666666666,
          0.5,
          0.3333333333333333,
          0.375,
          0.16666666666666666,
          0.4444444444444444,
          0.2222222222222222,
          0.2777777777777778,
          0.25,
          0.4,
          0.47619047619047616,
          0.1875,
          0.14285714285714285,
          0.4,
          0,
          0.05,
          0.14285714285714285,
          0.14285714285714285,
          0.16666666666666666,
          0.2777777777777778,
          0.4,
          0.1875,
          0.2857142857142857,
          0.2857142857142857,
          0.1111111111111111,
          0.3333333333333333,
          0,
          0.21428571428571427,
          0.05,
          0.25,
          0.125,
          0,
          0.1111111111111111,
          0.2222222222222222,
          0,
          0.05
         ]
        }
       ],
       "layout": {
        "boxmode": "group",
        "paper_bgcolor": "#dadfe1",
        "plot_bgcolor": "#dadfe1",
        "template": {
         "data": {
          "bar": [
           {
            "error_x": {
             "color": "#2a3f5f"
            },
            "error_y": {
             "color": "#2a3f5f"
            },
            "marker": {
             "line": {
              "color": "#E5ECF6",
              "width": 0.5
             },
             "pattern": {
              "fillmode": "overlay",
              "size": 10,
              "solidity": 0.2
             }
            },
            "type": "bar"
           }
          ],
          "barpolar": [
           {
            "marker": {
             "line": {
              "color": "#E5ECF6",
              "width": 0.5
             },
             "pattern": {
              "fillmode": "overlay",
              "size": 10,
              "solidity": 0.2
             }
            },
            "type": "barpolar"
           }
          ],
          "carpet": [
           {
            "aaxis": {
             "endlinecolor": "#2a3f5f",
             "gridcolor": "white",
             "linecolor": "white",
             "minorgridcolor": "white",
             "startlinecolor": "#2a3f5f"
            },
            "baxis": {
             "endlinecolor": "#2a3f5f",
             "gridcolor": "white",
             "linecolor": "white",
             "minorgridcolor": "white",
             "startlinecolor": "#2a3f5f"
            },
            "type": "carpet"
           }
          ],
          "choropleth": [
           {
            "colorbar": {
             "outlinewidth": 0,
             "ticks": ""
            },
            "type": "choropleth"
           }
          ],
          "contour": [
           {
            "colorbar": {
             "outlinewidth": 0,
             "ticks": ""
            },
            "colorscale": [
             [
              0,
              "#0d0887"
             ],
             [
              0.1111111111111111,
              "#46039f"
             ],
             [
              0.2222222222222222,
              "#7201a8"
             ],
             [
              0.3333333333333333,
              "#9c179e"
             ],
             [
              0.4444444444444444,
              "#bd3786"
             ],
             [
              0.5555555555555556,
              "#d8576b"
             ],
             [
              0.6666666666666666,
              "#ed7953"
             ],
             [
              0.7777777777777778,
              "#fb9f3a"
             ],
             [
              0.8888888888888888,
              "#fdca26"
             ],
             [
              1,
              "#f0f921"
             ]
            ],
            "type": "contour"
           }
          ],
          "contourcarpet": [
           {
            "colorbar": {
             "outlinewidth": 0,
             "ticks": ""
            },
            "type": "contourcarpet"
           }
          ],
          "heatmap": [
           {
            "colorbar": {
             "outlinewidth": 0,
             "ticks": ""
            },
            "colorscale": [
             [
              0,
              "#0d0887"
             ],
             [
              0.1111111111111111,
              "#46039f"
             ],
             [
              0.2222222222222222,
              "#7201a8"
             ],
             [
              0.3333333333333333,
              "#9c179e"
             ],
             [
              0.4444444444444444,
              "#bd3786"
             ],
             [
              0.5555555555555556,
              "#d8576b"
             ],
             [
              0.6666666666666666,
              "#ed7953"
             ],
             [
              0.7777777777777778,
              "#fb9f3a"
             ],
             [
              0.8888888888888888,
              "#fdca26"
             ],
             [
              1,
              "#f0f921"
             ]
            ],
            "type": "heatmap"
           }
          ],
          "heatmapgl": [
           {
            "colorbar": {
             "outlinewidth": 0,
             "ticks": ""
            },
            "colorscale": [
             [
              0,
              "#0d0887"
             ],
             [
              0.1111111111111111,
              "#46039f"
             ],
             [
              0.2222222222222222,
              "#7201a8"
             ],
             [
              0.3333333333333333,
              "#9c179e"
             ],
             [
              0.4444444444444444,
              "#bd3786"
             ],
             [
              0.5555555555555556,
              "#d8576b"
             ],
             [
              0.6666666666666666,
              "#ed7953"
             ],
             [
              0.7777777777777778,
              "#fb9f3a"
             ],
             [
              0.8888888888888888,
              "#fdca26"
             ],
             [
              1,
              "#f0f921"
             ]
            ],
            "type": "heatmapgl"
           }
          ],
          "histogram": [
           {
            "marker": {
             "pattern": {
              "fillmode": "overlay",
              "size": 10,
              "solidity": 0.2
             }
            },
            "type": "histogram"
           }
          ],
          "histogram2d": [
           {
            "colorbar": {
             "outlinewidth": 0,
             "ticks": ""
            },
            "colorscale": [
             [
              0,
              "#0d0887"
             ],
             [
              0.1111111111111111,
              "#46039f"
             ],
             [
              0.2222222222222222,
              "#7201a8"
             ],
             [
              0.3333333333333333,
              "#9c179e"
             ],
             [
              0.4444444444444444,
              "#bd3786"
             ],
             [
              0.5555555555555556,
              "#d8576b"
             ],
             [
              0.6666666666666666,
              "#ed7953"
             ],
             [
              0.7777777777777778,
              "#fb9f3a"
             ],
             [
              0.8888888888888888,
              "#fdca26"
             ],
             [
              1,
              "#f0f921"
             ]
            ],
            "type": "histogram2d"
           }
          ],
          "histogram2dcontour": [
           {
            "colorbar": {
             "outlinewidth": 0,
             "ticks": ""
            },
            "colorscale": [
             [
              0,
              "#0d0887"
             ],
             [
              0.1111111111111111,
              "#46039f"
             ],
             [
              0.2222222222222222,
              "#7201a8"
             ],
             [
              0.3333333333333333,
              "#9c179e"
             ],
             [
              0.4444444444444444,
              "#bd3786"
             ],
             [
              0.5555555555555556,
              "#d8576b"
             ],
             [
              0.6666666666666666,
              "#ed7953"
             ],
             [
              0.7777777777777778,
              "#fb9f3a"
             ],
             [
              0.8888888888888888,
              "#fdca26"
             ],
             [
              1,
              "#f0f921"
             ]
            ],
            "type": "histogram2dcontour"
           }
          ],
          "mesh3d": [
           {
            "colorbar": {
             "outlinewidth": 0,
             "ticks": ""
            },
            "type": "mesh3d"
           }
          ],
          "parcoords": [
           {
            "line": {
             "colorbar": {
              "outlinewidth": 0,
              "ticks": ""
             }
            },
            "type": "parcoords"
           }
          ],
          "pie": [
           {
            "automargin": true,
            "type": "pie"
           }
          ],
          "scatter": [
           {
            "fillpattern": {
             "fillmode": "overlay",
             "size": 10,
             "solidity": 0.2
            },
            "type": "scatter"
           }
          ],
          "scatter3d": [
           {
            "line": {
             "colorbar": {
              "outlinewidth": 0,
              "ticks": ""
             }
            },
            "marker": {
             "colorbar": {
              "outlinewidth": 0,
              "ticks": ""
             }
            },
            "type": "scatter3d"
           }
          ],
          "scattercarpet": [
           {
            "marker": {
             "colorbar": {
              "outlinewidth": 0,
              "ticks": ""
             }
            },
            "type": "scattercarpet"
           }
          ],
          "scattergeo": [
           {
            "marker": {
             "colorbar": {
              "outlinewidth": 0,
              "ticks": ""
             }
            },
            "type": "scattergeo"
           }
          ],
          "scattergl": [
           {
            "marker": {
             "colorbar": {
              "outlinewidth": 0,
              "ticks": ""
             }
            },
            "type": "scattergl"
           }
          ],
          "scattermapbox": [
           {
            "marker": {
             "colorbar": {
              "outlinewidth": 0,
              "ticks": ""
             }
            },
            "type": "scattermapbox"
           }
          ],
          "scatterpolar": [
           {
            "marker": {
             "colorbar": {
              "outlinewidth": 0,
              "ticks": ""
             }
            },
            "type": "scatterpolar"
           }
          ],
          "scatterpolargl": [
           {
            "marker": {
             "colorbar": {
              "outlinewidth": 0,
              "ticks": ""
             }
            },
            "type": "scatterpolargl"
           }
          ],
          "scatterternary": [
           {
            "marker": {
             "colorbar": {
              "outlinewidth": 0,
              "ticks": ""
             }
            },
            "type": "scatterternary"
           }
          ],
          "surface": [
           {
            "colorbar": {
             "outlinewidth": 0,
             "ticks": ""
            },
            "colorscale": [
             [
              0,
              "#0d0887"
             ],
             [
              0.1111111111111111,
              "#46039f"
             ],
             [
              0.2222222222222222,
              "#7201a8"
             ],
             [
              0.3333333333333333,
              "#9c179e"
             ],
             [
              0.4444444444444444,
              "#bd3786"
             ],
             [
              0.5555555555555556,
              "#d8576b"
             ],
             [
              0.6666666666666666,
              "#ed7953"
             ],
             [
              0.7777777777777778,
              "#fb9f3a"
             ],
             [
              0.8888888888888888,
              "#fdca26"
             ],
             [
              1,
              "#f0f921"
             ]
            ],
            "type": "surface"
           }
          ],
          "table": [
           {
            "cells": {
             "fill": {
              "color": "#EBF0F8"
             },
             "line": {
              "color": "white"
             }
            },
            "header": {
             "fill": {
              "color": "#C8D4E3"
             },
             "line": {
              "color": "white"
             }
            },
            "type": "table"
           }
          ]
         },
         "layout": {
          "annotationdefaults": {
           "arrowcolor": "#2a3f5f",
           "arrowhead": 0,
           "arrowwidth": 1
          },
          "autotypenumbers": "strict",
          "coloraxis": {
           "colorbar": {
            "outlinewidth": 0,
            "ticks": ""
           }
          },
          "colorscale": {
           "diverging": [
            [
             0,
             "#8e0152"
            ],
            [
             0.1,
             "#c51b7d"
            ],
            [
             0.2,
             "#de77ae"
            ],
            [
             0.3,
             "#f1b6da"
            ],
            [
             0.4,
             "#fde0ef"
            ],
            [
             0.5,
             "#f7f7f7"
            ],
            [
             0.6,
             "#e6f5d0"
            ],
            [
             0.7,
             "#b8e186"
            ],
            [
             0.8,
             "#7fbc41"
            ],
            [
             0.9,
             "#4d9221"
            ],
            [
             1,
             "#276419"
            ]
           ],
           "sequential": [
            [
             0,
             "#0d0887"
            ],
            [
             0.1111111111111111,
             "#46039f"
            ],
            [
             0.2222222222222222,
             "#7201a8"
            ],
            [
             0.3333333333333333,
             "#9c179e"
            ],
            [
             0.4444444444444444,
             "#bd3786"
            ],
            [
             0.5555555555555556,
             "#d8576b"
            ],
            [
             0.6666666666666666,
             "#ed7953"
            ],
            [
             0.7777777777777778,
             "#fb9f3a"
            ],
            [
             0.8888888888888888,
             "#fdca26"
            ],
            [
             1,
             "#f0f921"
            ]
           ],
           "sequentialminus": [
            [
             0,
             "#0d0887"
            ],
            [
             0.1111111111111111,
             "#46039f"
            ],
            [
             0.2222222222222222,
             "#7201a8"
            ],
            [
             0.3333333333333333,
             "#9c179e"
            ],
            [
             0.4444444444444444,
             "#bd3786"
            ],
            [
             0.5555555555555556,
             "#d8576b"
            ],
            [
             0.6666666666666666,
             "#ed7953"
            ],
            [
             0.7777777777777778,
             "#fb9f3a"
            ],
            [
             0.8888888888888888,
             "#fdca26"
            ],
            [
             1,
             "#f0f921"
            ]
           ]
          },
          "colorway": [
           "#636efa",
           "#EF553B",
           "#00cc96",
           "#ab63fa",
           "#FFA15A",
           "#19d3f3",
           "#FF6692",
           "#B6E880",
           "#FF97FF",
           "#FECB52"
          ],
          "font": {
           "color": "#2a3f5f"
          },
          "geo": {
           "bgcolor": "white",
           "lakecolor": "white",
           "landcolor": "#E5ECF6",
           "showlakes": true,
           "showland": true,
           "subunitcolor": "white"
          },
          "hoverlabel": {
           "align": "left"
          },
          "hovermode": "closest",
          "mapbox": {
           "style": "light"
          },
          "paper_bgcolor": "white",
          "plot_bgcolor": "#E5ECF6",
          "polar": {
           "angularaxis": {
            "gridcolor": "white",
            "linecolor": "white",
            "ticks": ""
           },
           "bgcolor": "#E5ECF6",
           "radialaxis": {
            "gridcolor": "white",
            "linecolor": "white",
            "ticks": ""
           }
          },
          "scene": {
           "xaxis": {
            "backgroundcolor": "#E5ECF6",
            "gridcolor": "white",
            "gridwidth": 2,
            "linecolor": "white",
            "showbackground": true,
            "ticks": "",
            "zerolinecolor": "white"
           },
           "yaxis": {
            "backgroundcolor": "#E5ECF6",
            "gridcolor": "white",
            "gridwidth": 2,
            "linecolor": "white",
            "showbackground": true,
            "ticks": "",
            "zerolinecolor": "white"
           },
           "zaxis": {
            "backgroundcolor": "#E5ECF6",
            "gridcolor": "white",
            "gridwidth": 2,
            "linecolor": "white",
            "showbackground": true,
            "ticks": "",
            "zerolinecolor": "white"
           }
          },
          "shapedefaults": {
           "line": {
            "color": "#2a3f5f"
           }
          },
          "ternary": {
           "aaxis": {
            "gridcolor": "white",
            "linecolor": "white",
            "ticks": ""
           },
           "baxis": {
            "gridcolor": "white",
            "linecolor": "white",
            "ticks": ""
           },
           "bgcolor": "#E5ECF6",
           "caxis": {
            "gridcolor": "white",
            "linecolor": "white",
            "ticks": ""
           }
          },
          "title": {
           "x": 0.05
          },
          "xaxis": {
           "automargin": true,
           "gridcolor": "white",
           "linecolor": "white",
           "ticks": "",
           "title": {
            "standoff": 15
           },
           "zerolinecolor": "white",
           "zerolinewidth": 2
          },
          "yaxis": {
           "automargin": true,
           "gridcolor": "white",
           "linecolor": "white",
           "ticks": "",
           "title": {
            "standoff": 15
           },
           "zerolinecolor": "white",
           "zerolinewidth": 2
          }
         }
        },
        "title": {
         "text": "Influence of Attraction Self-Perception on Second Date Success (Self Ratings 5 - 0)"
        },
        "xaxis": {
         "title": {
          "text": "Difference in Self Rating and Attractiveness Rating Received"
         }
        },
        "yaxis": {
         "title": {
          "text": "Percentage of Successful Second Dates"
         }
        }
       }
      },
      "text/html": [
       "<div>                            <div id=\"75fd7f0a-2b39-4042-b827-d873b44931e1\" class=\"plotly-graph-div\" style=\"height:525px; width:100%;\"></div>            <script type=\"text/javascript\">                require([\"plotly\"], function(Plotly) {                    window.PLOTLYENV=window.PLOTLYENV || {};                                    if (document.getElementById(\"75fd7f0a-2b39-4042-b827-d873b44931e1\")) {                    Plotly.newPlot(                        \"75fd7f0a-2b39-4042-b827-d873b44931e1\",                        [{\"marker\":{\"color\":\"#ff6361\"},\"mode\":\"markers\",\"name\":\"Female\",\"x\":[-4.066666666666666,-3.7777777777777777,-3.4722222222222223,-2.8,-2.333333333333333,-2.2142857142857144,-2.0666666666666664,-2.0,-2.0,-2.0,-1.7999999999999998,-1.7777777777777777,-1.7058823529411766,-1.6952380952380945,-1.4285714285714288,-1.25,-1.1428571428571432,-1.1428571428571432,-1.1428571428571432,-0.8888888888888893,-0.8666666666666663,-0.4375,-0.2631578947368425,-0.25,-0.0625],\"y\":[0.7333333333333333,0.6666666666666666,0.2777777777777778,0.2,0.7222222222222222,0.6428571428571429,0.5333333333333333,0.6,0.8571428571428571,0.6666666666666666,0.5,0.4444444444444444,0.23529411764705882,0.14285714285714285,0.14285714285714285,0.1875,0.5714285714285714,0.6428571428571429,0.14285714285714285,0.16666666666666666,0.3333333333333333,0.3125,0.47368421052631576,0.4,0.1875],\"type\":\"scatter\"},{\"marker\":{\"color\":\"#003f5c\"},\"mode\":\"markers\",\"name\":\"Male\",\"x\":[-3.166666666666667,-2.5238095238095237,-2.375,-2.333333333333333,-2.25,-2.095238095238095,-2.0,-2.0,-1.9375,-1.5714285714285712,-1.5,-1.2777777777777777,-1.2222222222222223,-1.166666666666667,-1.1111111111111107,-1.0999999999999996,-1.0999999999999996,-1.0,-1.0,-0.8428571428571425,-0.7999999999999998,-0.7999999999999998,-0.5499999999999998,-0.4285714285714288,-0.2857142857142856,-0.16666666666666696,-0.11111111111111072,-0.09999999999999964,0.125,0.14285714285714324,0.14285714285714324,0.22222222222222232,0.22222222222222232,0.33333333333333304,0.5714285714285712,0.7999999999999998,0.7999999999999998,0.875,1.0,1.1111111111111112,1.1666666666666665,1.2222222222222223,1.4],\"y\":[0.5555555555555556,0.5714285714285714,0.75,0.7777777777777778,0.0,0.5714285714285714,0.7777777777777778,0.6666666666666666,0.5,0.3333333333333333,0.375,0.16666666666666666,0.4444444444444444,0.2222222222222222,0.2777777777777778,0.25,0.4,0.47619047619047616,0.1875,0.14285714285714285,0.4,0.0,0.05,0.14285714285714285,0.14285714285714285,0.16666666666666666,0.2777777777777778,0.4,0.1875,0.2857142857142857,0.2857142857142857,0.1111111111111111,0.3333333333333333,0.0,0.21428571428571427,0.05,0.25,0.125,0.0,0.1111111111111111,0.2222222222222222,0.0,0.05],\"type\":\"scatter\"}],                        {\"boxmode\":\"group\",\"paper_bgcolor\":\"#dadfe1\",\"plot_bgcolor\":\"#dadfe1\",\"title\":{\"text\":\"Influence of Attraction Self-Perception on Second Date Success (Self Ratings 5 - 0)\"},\"xaxis\":{\"title\":{\"text\":\"Difference in Self Rating and Attractiveness Rating Received\"}},\"yaxis\":{\"title\":{\"text\":\"Percentage of Successful Second Dates\"}},\"template\":{\"data\":{\"histogram2dcontour\":[{\"type\":\"histogram2dcontour\",\"colorbar\":{\"outlinewidth\":0,\"ticks\":\"\"},\"colorscale\":[[0.0,\"#0d0887\"],[0.1111111111111111,\"#46039f\"],[0.2222222222222222,\"#7201a8\"],[0.3333333333333333,\"#9c179e\"],[0.4444444444444444,\"#bd3786\"],[0.5555555555555556,\"#d8576b\"],[0.6666666666666666,\"#ed7953\"],[0.7777777777777778,\"#fb9f3a\"],[0.8888888888888888,\"#fdca26\"],[1.0,\"#f0f921\"]]}],\"choropleth\":[{\"type\":\"choropleth\",\"colorbar\":{\"outlinewidth\":0,\"ticks\":\"\"}}],\"histogram2d\":[{\"type\":\"histogram2d\",\"colorbar\":{\"outlinewidth\":0,\"ticks\":\"\"},\"colorscale\":[[0.0,\"#0d0887\"],[0.1111111111111111,\"#46039f\"],[0.2222222222222222,\"#7201a8\"],[0.3333333333333333,\"#9c179e\"],[0.4444444444444444,\"#bd3786\"],[0.5555555555555556,\"#d8576b\"],[0.6666666666666666,\"#ed7953\"],[0.7777777777777778,\"#fb9f3a\"],[0.8888888888888888,\"#fdca26\"],[1.0,\"#f0f921\"]]}],\"heatmap\":[{\"type\":\"heatmap\",\"colorbar\":{\"outlinewidth\":0,\"ticks\":\"\"},\"colorscale\":[[0.0,\"#0d0887\"],[0.1111111111111111,\"#46039f\"],[0.2222222222222222,\"#7201a8\"],[0.3333333333333333,\"#9c179e\"],[0.4444444444444444,\"#bd3786\"],[0.5555555555555556,\"#d8576b\"],[0.6666666666666666,\"#ed7953\"],[0.7777777777777778,\"#fb9f3a\"],[0.8888888888888888,\"#fdca26\"],[1.0,\"#f0f921\"]]}],\"heatmapgl\":[{\"type\":\"heatmapgl\",\"colorbar\":{\"outlinewidth\":0,\"ticks\":\"\"},\"colorscale\":[[0.0,\"#0d0887\"],[0.1111111111111111,\"#46039f\"],[0.2222222222222222,\"#7201a8\"],[0.3333333333333333,\"#9c179e\"],[0.4444444444444444,\"#bd3786\"],[0.5555555555555556,\"#d8576b\"],[0.6666666666666666,\"#ed7953\"],[0.7777777777777778,\"#fb9f3a\"],[0.8888888888888888,\"#fdca26\"],[1.0,\"#f0f921\"]]}],\"contourcarpet\":[{\"type\":\"contourcarpet\",\"colorbar\":{\"outlinewidth\":0,\"ticks\":\"\"}}],\"contour\":[{\"type\":\"contour\",\"colorbar\":{\"outlinewidth\":0,\"ticks\":\"\"},\"colorscale\":[[0.0,\"#0d0887\"],[0.1111111111111111,\"#46039f\"],[0.2222222222222222,\"#7201a8\"],[0.3333333333333333,\"#9c179e\"],[0.4444444444444444,\"#bd3786\"],[0.5555555555555556,\"#d8576b\"],[0.6666666666666666,\"#ed7953\"],[0.7777777777777778,\"#fb9f3a\"],[0.8888888888888888,\"#fdca26\"],[1.0,\"#f0f921\"]]}],\"surface\":[{\"type\":\"surface\",\"colorbar\":{\"outlinewidth\":0,\"ticks\":\"\"},\"colorscale\":[[0.0,\"#0d0887\"],[0.1111111111111111,\"#46039f\"],[0.2222222222222222,\"#7201a8\"],[0.3333333333333333,\"#9c179e\"],[0.4444444444444444,\"#bd3786\"],[0.5555555555555556,\"#d8576b\"],[0.6666666666666666,\"#ed7953\"],[0.7777777777777778,\"#fb9f3a\"],[0.8888888888888888,\"#fdca26\"],[1.0,\"#f0f921\"]]}],\"mesh3d\":[{\"type\":\"mesh3d\",\"colorbar\":{\"outlinewidth\":0,\"ticks\":\"\"}}],\"scatter\":[{\"fillpattern\":{\"fillmode\":\"overlay\",\"size\":10,\"solidity\":0.2},\"type\":\"scatter\"}],\"parcoords\":[{\"type\":\"parcoords\",\"line\":{\"colorbar\":{\"outlinewidth\":0,\"ticks\":\"\"}}}],\"scatterpolargl\":[{\"type\":\"scatterpolargl\",\"marker\":{\"colorbar\":{\"outlinewidth\":0,\"ticks\":\"\"}}}],\"bar\":[{\"error_x\":{\"color\":\"#2a3f5f\"},\"error_y\":{\"color\":\"#2a3f5f\"},\"marker\":{\"line\":{\"color\":\"#E5ECF6\",\"width\":0.5},\"pattern\":{\"fillmode\":\"overlay\",\"size\":10,\"solidity\":0.2}},\"type\":\"bar\"}],\"scattergeo\":[{\"type\":\"scattergeo\",\"marker\":{\"colorbar\":{\"outlinewidth\":0,\"ticks\":\"\"}}}],\"scatterpolar\":[{\"type\":\"scatterpolar\",\"marker\":{\"colorbar\":{\"outlinewidth\":0,\"ticks\":\"\"}}}],\"histogram\":[{\"marker\":{\"pattern\":{\"fillmode\":\"overlay\",\"size\":10,\"solidity\":0.2}},\"type\":\"histogram\"}],\"scattergl\":[{\"type\":\"scattergl\",\"marker\":{\"colorbar\":{\"outlinewidth\":0,\"ticks\":\"\"}}}],\"scatter3d\":[{\"type\":\"scatter3d\",\"line\":{\"colorbar\":{\"outlinewidth\":0,\"ticks\":\"\"}},\"marker\":{\"colorbar\":{\"outlinewidth\":0,\"ticks\":\"\"}}}],\"scattermapbox\":[{\"type\":\"scattermapbox\",\"marker\":{\"colorbar\":{\"outlinewidth\":0,\"ticks\":\"\"}}}],\"scatterternary\":[{\"type\":\"scatterternary\",\"marker\":{\"colorbar\":{\"outlinewidth\":0,\"ticks\":\"\"}}}],\"scattercarpet\":[{\"type\":\"scattercarpet\",\"marker\":{\"colorbar\":{\"outlinewidth\":0,\"ticks\":\"\"}}}],\"carpet\":[{\"aaxis\":{\"endlinecolor\":\"#2a3f5f\",\"gridcolor\":\"white\",\"linecolor\":\"white\",\"minorgridcolor\":\"white\",\"startlinecolor\":\"#2a3f5f\"},\"baxis\":{\"endlinecolor\":\"#2a3f5f\",\"gridcolor\":\"white\",\"linecolor\":\"white\",\"minorgridcolor\":\"white\",\"startlinecolor\":\"#2a3f5f\"},\"type\":\"carpet\"}],\"table\":[{\"cells\":{\"fill\":{\"color\":\"#EBF0F8\"},\"line\":{\"color\":\"white\"}},\"header\":{\"fill\":{\"color\":\"#C8D4E3\"},\"line\":{\"color\":\"white\"}},\"type\":\"table\"}],\"barpolar\":[{\"marker\":{\"line\":{\"color\":\"#E5ECF6\",\"width\":0.5},\"pattern\":{\"fillmode\":\"overlay\",\"size\":10,\"solidity\":0.2}},\"type\":\"barpolar\"}],\"pie\":[{\"automargin\":true,\"type\":\"pie\"}]},\"layout\":{\"autotypenumbers\":\"strict\",\"colorway\":[\"#636efa\",\"#EF553B\",\"#00cc96\",\"#ab63fa\",\"#FFA15A\",\"#19d3f3\",\"#FF6692\",\"#B6E880\",\"#FF97FF\",\"#FECB52\"],\"font\":{\"color\":\"#2a3f5f\"},\"hovermode\":\"closest\",\"hoverlabel\":{\"align\":\"left\"},\"paper_bgcolor\":\"white\",\"plot_bgcolor\":\"#E5ECF6\",\"polar\":{\"bgcolor\":\"#E5ECF6\",\"angularaxis\":{\"gridcolor\":\"white\",\"linecolor\":\"white\",\"ticks\":\"\"},\"radialaxis\":{\"gridcolor\":\"white\",\"linecolor\":\"white\",\"ticks\":\"\"}},\"ternary\":{\"bgcolor\":\"#E5ECF6\",\"aaxis\":{\"gridcolor\":\"white\",\"linecolor\":\"white\",\"ticks\":\"\"},\"baxis\":{\"gridcolor\":\"white\",\"linecolor\":\"white\",\"ticks\":\"\"},\"caxis\":{\"gridcolor\":\"white\",\"linecolor\":\"white\",\"ticks\":\"\"}},\"coloraxis\":{\"colorbar\":{\"outlinewidth\":0,\"ticks\":\"\"}},\"colorscale\":{\"sequential\":[[0.0,\"#0d0887\"],[0.1111111111111111,\"#46039f\"],[0.2222222222222222,\"#7201a8\"],[0.3333333333333333,\"#9c179e\"],[0.4444444444444444,\"#bd3786\"],[0.5555555555555556,\"#d8576b\"],[0.6666666666666666,\"#ed7953\"],[0.7777777777777778,\"#fb9f3a\"],[0.8888888888888888,\"#fdca26\"],[1.0,\"#f0f921\"]],\"sequentialminus\":[[0.0,\"#0d0887\"],[0.1111111111111111,\"#46039f\"],[0.2222222222222222,\"#7201a8\"],[0.3333333333333333,\"#9c179e\"],[0.4444444444444444,\"#bd3786\"],[0.5555555555555556,\"#d8576b\"],[0.6666666666666666,\"#ed7953\"],[0.7777777777777778,\"#fb9f3a\"],[0.8888888888888888,\"#fdca26\"],[1.0,\"#f0f921\"]],\"diverging\":[[0,\"#8e0152\"],[0.1,\"#c51b7d\"],[0.2,\"#de77ae\"],[0.3,\"#f1b6da\"],[0.4,\"#fde0ef\"],[0.5,\"#f7f7f7\"],[0.6,\"#e6f5d0\"],[0.7,\"#b8e186\"],[0.8,\"#7fbc41\"],[0.9,\"#4d9221\"],[1,\"#276419\"]]},\"xaxis\":{\"gridcolor\":\"white\",\"linecolor\":\"white\",\"ticks\":\"\",\"title\":{\"standoff\":15},\"zerolinecolor\":\"white\",\"automargin\":true,\"zerolinewidth\":2},\"yaxis\":{\"gridcolor\":\"white\",\"linecolor\":\"white\",\"ticks\":\"\",\"title\":{\"standoff\":15},\"zerolinecolor\":\"white\",\"automargin\":true,\"zerolinewidth\":2},\"scene\":{\"xaxis\":{\"backgroundcolor\":\"#E5ECF6\",\"gridcolor\":\"white\",\"linecolor\":\"white\",\"showbackground\":true,\"ticks\":\"\",\"zerolinecolor\":\"white\",\"gridwidth\":2},\"yaxis\":{\"backgroundcolor\":\"#E5ECF6\",\"gridcolor\":\"white\",\"linecolor\":\"white\",\"showbackground\":true,\"ticks\":\"\",\"zerolinecolor\":\"white\",\"gridwidth\":2},\"zaxis\":{\"backgroundcolor\":\"#E5ECF6\",\"gridcolor\":\"white\",\"linecolor\":\"white\",\"showbackground\":true,\"ticks\":\"\",\"zerolinecolor\":\"white\",\"gridwidth\":2}},\"shapedefaults\":{\"line\":{\"color\":\"#2a3f5f\"}},\"annotationdefaults\":{\"arrowcolor\":\"#2a3f5f\",\"arrowhead\":0,\"arrowwidth\":1},\"geo\":{\"bgcolor\":\"white\",\"landcolor\":\"#E5ECF6\",\"subunitcolor\":\"white\",\"showland\":true,\"showlakes\":true,\"lakecolor\":\"white\"},\"title\":{\"x\":0.05},\"mapbox\":{\"style\":\"light\"}}}},                        {\"responsive\": true}                    ).then(function(){\n",
       "                            \n",
       "var gd = document.getElementById('75fd7f0a-2b39-4042-b827-d873b44931e1');\n",
       "var x = new MutationObserver(function (mutations, observer) {{\n",
       "        var display = window.getComputedStyle(gd).display;\n",
       "        if (!display || display === 'none') {{\n",
       "            console.log([gd, 'removed!']);\n",
       "            Plotly.purge(gd);\n",
       "            observer.disconnect();\n",
       "        }}\n",
       "}});\n",
       "\n",
       "// Listen for the removal of the full notebook cells\n",
       "var notebookContainer = gd.closest('#notebook-container');\n",
       "if (notebookContainer) {{\n",
       "    x.observe(notebookContainer, {childList: true});\n",
       "}}\n",
       "\n",
       "// Listen for the clearing of the current output cell\n",
       "var outputEl = gd.closest('.output');\n",
       "if (outputEl) {{\n",
       "    x.observe(outputEl, {childList: true});\n",
       "}}\n",
       "\n",
       "                        })                };                });            </script>        </div>"
      ]
     },
     "metadata": {},
     "output_type": "display_data"
    },
    {
     "name": "stdout",
     "output_type": "stream",
     "text": [
      "Self-perceived attractiveness plot completed. It took 0.014 seconds.\n"
     ]
    }
   ],
   "source": [
    "# Running the plot to observe how accurate perception of one's\n",
    "# own attractiveness affects second date success\n",
    "start_time = time.time()\n",
    "\n",
    "# Specify the WHERE clause\n",
    "custom_where = \"attr3_1 < 6\"\n",
    "attr_diff_data = fetch_attr_diff_data(database_path, custom_where)\n",
    "traces = create_scatter_traces(attr_diff_data, colors)\n",
    "\n",
    "# Structuring the layout with titles and colours\n",
    "layout = go.Layout(\n",
    "    title='Influence of Attraction Self-Perception on Second Date Success (Self Ratings 5 - 0)',\n",
    "    xaxis=dict(title='Difference in Self Rating and Attractiveness Rating Received'),\n",
    "    yaxis=dict(title='Percentage of Successful Second Dates'),\n",
    "    boxmode='group',\n",
    "    plot_bgcolor='#dadfe1',\n",
    "    paper_bgcolor='#dadfe1'\n",
    ")\n",
    "\n",
    "# Create figure\n",
    "fig = go.Figure(data=traces, layout=layout)\n",
    "\n",
    "# Show the plot\n",
    "fig.show()\n",
    "          \n",
    "end_time = round(time.time() - start_time, 4)\n",
    "\n",
    "print(f'Self-perceived attractiveness plot completed. It took {end_time} seconds.')"
   ]
  },
  {
   "cell_type": "markdown",
   "id": "5601bbe4",
   "metadata": {},
   "source": [
    "In the above plot we have the same plot as before. However this time we only consider those who rate themselves a 5 or lower for attractiveness.\n",
    "\n",
    "We see a much more sparse graph here as most people rate themselves above the average attractiveness rating. \n",
    "We do still observe a downwards trend and this graph is a left-shifted version of the previous graph.\n",
    "\n",
    "From this we can gather that for the same success percentage, an individual less confident in their attraction would have to underestimate more."
   ]
  },
  {
   "cell_type": "markdown",
   "id": "9ec2419b",
   "metadata": {},
   "source": [
    "## Summary\n",
    "\n",
    "- We see that attraction was on eof the most crucial factors in second date success.\n",
    "\n",
    "- Confidence in your own attraction played a key role.\n",
    "\n",
    "- However, there is more to confidence than meets the eye.\n",
    "\n",
    "- Accurate estimation of attraction with high confidence led to the highest likelihood of success.\n",
    "\n",
    "- A lower self rating would require more underestimation.\n",
    "\n",
    "- It seems a combination of actually being attractive and being confident but accurate in your attractiveness is the key.\n",
    "\n",
    "- But...\n"
   ]
  },
  {
   "cell_type": "code",
   "execution_count": 264,
   "id": "cea13300",
   "metadata": {},
   "outputs": [],
   "source": [
    "# Fetches the variance of the attractiveness rating received from\n",
    "# each individual\n",
    "\n",
    "# Parameters:\n",
    "#   - database_path (str): the path to your database\n",
    "\n",
    "def fetch_var_attr_data(database_path):\n",
    "    \n",
    "    # Connect to database\n",
    "    conn = sqlite3.connect(database_path)\n",
    "    \n",
    "    # Create a cursor object\n",
    "    cursor = conn.cursor()\n",
    "\n",
    "    # We first create a CTE containing the average attractiveness rating\n",
    "    # each individual received.\n",
    "    # We then join that CTE with participants in order to use the average\n",
    "    # attractiveness rating to calculate the variance in attractiveness ratings\n",
    "    # received\n",
    "    attr_var_query = '''\n",
    "            WITH avg_ratings AS (\n",
    "                SELECT iid, AVG(attr_o) AS avg_attr_o\n",
    "                FROM dates\n",
    "                GROUP BY iid\n",
    "            )\n",
    "\n",
    "            SELECT p.gender,\n",
    "                AVG((d.attr_o - subquery.avg_attr_o) * (d.attr_o - subquery.avg_attr_o)) AS var_attr_o\n",
    "            FROM participants AS p\n",
    "            JOIN dates d ON p.iid = d.iid\n",
    "            JOIN avg_ratings subquery ON p.iid = subquery.iid\n",
    "            GROUP BY p.iid, gender\n",
    "            ORDER BY gender\n",
    "    '''\n",
    "    \n",
    "    # Execute query to retrieve variance in attractiveness rating\n",
    "    # for each participant\n",
    "    cursor.execute(attr_var_query)\n",
    "    \n",
    "    rows = cursor.fetchall()\n",
    "    \n",
    "    # Commit changes\n",
    "    conn.commit()\n",
    "    \n",
    "    # Close connection\n",
    "    conn.close()\n",
    "\n",
    "    # Initialize a dictionary for organizing data separated by gender\n",
    "    var_attr_data = {'Female': [], 'Male': []}  # Use 0 for Female, 1 for Male\n",
    "\n",
    "    for row in rows:\n",
    "            gender, var_attr = row\n",
    "            # Map numeric gender to string labels\n",
    "            gender_str = 'Female' if gender == 0 else 'Male'\n",
    "            var_attr_data[gender_str].append(var_attr)\n",
    "\n",
    "    return var_attr_data"
   ]
  },
  {
   "cell_type": "code",
   "execution_count": 265,
   "id": "6a4149d8",
   "metadata": {},
   "outputs": [],
   "source": [
    "def create_distplot_traces(data, colors):\n",
    "    # Create traces for each gender\n",
    "    traces = []\n",
    "    \n",
    "    # Set counter for colors list\n",
    "    i = 0\n",
    "    \n",
    "    for gender, x_data in data.items():\n",
    "        # Ensures a smooth curve\n",
    "        x_vals = np.linspace(min(x_data), max(x_data), 1000)\n",
    "        # Calculate the corresponding y values for a normal distribution\n",
    "        y_vals = (1 / (np.std(x_data) * np.sqrt(2 * np.pi))) * np.exp(-(x_vals - np.mean(x_data))**2 / (2 * np.std(x_data)**2))\n",
    "        \n",
    "        trace = go.Scatter(\n",
    "            # The x-axis data to be used\n",
    "            x=x_vals,\n",
    "            # The y-axis data to be used\n",
    "            y=y_vals,\n",
    "            mode='lines',\n",
    "            name=f'{gender}',\n",
    "            line=dict(color=colors[i])\n",
    "        )\n",
    "        \n",
    "        traces.append(trace)\n",
    "        i += 1\n",
    "\n",
    "    return traces"
   ]
  },
  {
   "cell_type": "code",
   "execution_count": 266,
   "id": "393ba872",
   "metadata": {},
   "outputs": [
    {
     "data": {
      "application/vnd.plotly.v1+json": {
       "config": {
        "plotlyServerURL": "https://plot.ly"
       },
       "data": [
        {
         "line": {
          "color": "#ff6361"
         },
         "mode": "lines",
         "name": "Female Curve",
         "type": "scatter",
         "x": [
          0.15999999999999998,
          0.1654256725861664,
          0.1708513451723328,
          0.17627701775849922,
          0.18170269034466563,
          0.18712836293083204,
          0.19255403551699846,
          0.19797970810316487,
          0.20340538068933128,
          0.2088310532754977,
          0.2142567258616641,
          0.21968239844783052,
          0.22510807103399694,
          0.23053374362016338,
          0.23595941620632976,
          0.2413850887924962,
          0.2468107613786626,
          0.25223643396482903,
          0.2576621065509954,
          0.26308777913716186,
          0.26851345172332824,
          0.2739391243094947,
          0.27936479689566107,
          0.2847904694818275,
          0.29021614206799395,
          0.29564181465416034,
          0.3010674872403267,
          0.30649315982649317,
          0.3119188324126596,
          0.317344504998826,
          0.3227701775849924,
          0.3281958501711588,
          0.33362152275732526,
          0.33904719534349165,
          0.34447286792965803,
          0.3498985405158245,
          0.3553242131019909,
          0.3607498856881573,
          0.3661755582743237,
          0.37160123086049013,
          0.37702690344665657,
          0.38245257603282296,
          0.38787824861898934,
          0.3933039212051558,
          0.3987295937913222,
          0.4041552663774886,
          0.409580938963655,
          0.41500661154982144,
          0.4204322841359879,
          0.42585795672215426,
          0.4312836293083207,
          0.4367093018944871,
          0.44213497448065353,
          0.4475606470668199,
          0.45298631965298636,
          0.45841199223915274,
          0.4638376648253192,
          0.46926333741148557,
          0.474689009997652,
          0.4801146825838184,
          0.48554035516998484,
          0.4909660277561512,
          0.49639170034231767,
          0.501817372928484,
          0.5072430455146505,
          0.5126687181008169,
          0.5180943906869833,
          0.5235200632731498,
          0.5289457358593161,
          0.5343714084454826,
          0.539797081031649,
          0.5452227536178154,
          0.5506484262039818,
          0.5560740987901482,
          0.5614997713763146,
          0.5669254439624811,
          0.5723511165486475,
          0.5777767891348139,
          0.5832024617209803,
          0.5886281343071467,
          0.5940538068933131,
          0.5994794794794795,
          0.6049051520656459,
          0.6103308246518124,
          0.6157564972379788,
          0.6211821698241452,
          0.6266078424103116,
          0.632033514996478,
          0.6374591875826444,
          0.6428848601688109,
          0.6483105327549772,
          0.6537362053411437,
          0.6591618779273101,
          0.6645875505134764,
          0.670013223099643,
          0.6754388956858093,
          0.6808645682719758,
          0.6862902408581422,
          0.6917159134443085,
          0.697141586030475,
          0.7025672586166414,
          0.7079929312028079,
          0.7134186037889743,
          0.7188442763751406,
          0.7242699489613071,
          0.7296956215474735,
          0.7351212941336398,
          0.7405469667198064,
          0.7459726393059727,
          0.7513983118921392,
          0.7568239844783056,
          0.7622496570644719,
          0.7676753296506384,
          0.7731010022368048,
          0.7785266748229711,
          0.7839523474091377,
          0.789378019995304,
          0.7948036925814705,
          0.8002293651676369,
          0.8056550377538032,
          0.8110807103399698,
          0.8165063829261361,
          0.8219320555123024,
          0.827357728098469,
          0.8327834006846353,
          0.8382090732708019,
          0.8436347458569682,
          0.8490604184431345,
          0.8544860910293011,
          0.8599117636154674,
          0.865337436201634,
          0.8707631087878003,
          0.8761887813739666,
          0.8816144539601332,
          0.8870401265462995,
          0.8924657991324658,
          0.8978914717186324,
          0.9033171443047987,
          0.9087428168909653,
          0.9141684894771316,
          0.9195941620632979,
          0.9250198346494645,
          0.9304455072356308,
          0.9358711798217971,
          0.9412968524079637,
          0.94672252499413,
          0.9521481975802966,
          0.9575738701664629,
          0.9629995427526292,
          0.9684252153387958,
          0.9738508879249621,
          0.9792765605111284,
          0.984702233097295,
          0.9901279056834613,
          0.9955535782696279,
          1.0009792508557942,
          1.0064049234419605,
          1.011830596028127,
          1.0172562686142934,
          1.0226819412004597,
          1.0281076137866263,
          1.0335332863727926,
          1.0389589589589592,
          1.0443846315451255,
          1.0498103041312918,
          1.0552359767174584,
          1.0606616493036247,
          1.0660873218897913,
          1.0715129944759576,
          1.076938667062124,
          1.0823643396482905,
          1.0877900122344568,
          1.0932156848206231,
          1.0986413574067897,
          1.104067029992956,
          1.1094927025791226,
          1.114918375165289,
          1.1203440477514552,
          1.1257697203376218,
          1.1311953929237881,
          1.1366210655099545,
          1.142046738096121,
          1.1474724106822873,
          1.1528980832684539,
          1.1583237558546202,
          1.1637494284407865,
          1.1691751010269529,
          1.1746007736131194,
          1.1800264461992858,
          1.1854521187854523,
          1.1908777913716186,
          1.196303463957785,
          1.2017291365439515,
          1.2071548091301179,
          1.2125804817162844,
          1.2180061543024507,
          1.223431826888617,
          1.2288574994747836,
          1.23428317206095,
          1.2397088446471163,
          1.2451345172332828,
          1.2505601898194492,
          1.2559858624056157,
          1.261411534991782,
          1.2668372075779484,
          1.272262880164115,
          1.2776885527502813,
          1.2831142253364476,
          1.2885398979226141,
          1.2939655705087805,
          1.299391243094947,
          1.3048169156811134,
          1.3102425882672797,
          1.3156682608534462,
          1.3210939334396126,
          1.326519606025779,
          1.3319452786119454,
          1.3373709511981118,
          1.3427966237842783,
          1.3482222963704447,
          1.353647968956611,
          1.3590736415427775,
          1.3644993141289439,
          1.3699249867151102,
          1.3753506593012768,
          1.380776331887443,
          1.3862020044736096,
          1.391627677059776,
          1.3970533496459423,
          1.4024790222321089,
          1.4079046948182752,
          1.4133303674044417,
          1.418756039990608,
          1.4241817125767744,
          1.429607385162941,
          1.4350330577491073,
          1.4404587303352736,
          1.4458844029214402,
          1.4513100755076065,
          1.456735748093773,
          1.4621614206799394,
          1.4675870932661057,
          1.4730127658522723,
          1.4784384384384386,
          1.483864111024605,
          1.4892897836107715,
          1.4947154561969378,
          1.5001411287831043,
          1.5055668013692707,
          1.510992473955437,
          1.5164181465416036,
          1.52184381912777,
          1.5272694917139362,
          1.5326951643001028,
          1.538120836886269,
          1.5435465094724357,
          1.548972182058602,
          1.5543978546447683,
          1.5598235272309349,
          1.5652491998171012,
          1.5706748724032678,
          1.576100544989434,
          1.5815262175756004,
          1.586951890161767,
          1.5923775627479333,
          1.5978032353340996,
          1.6032289079202662,
          1.6086545805064325,
          1.614080253092599,
          1.6195059256787654,
          1.6249315982649317,
          1.6303572708510983,
          1.6357829434372646,
          1.641208616023431,
          1.6466342886095975,
          1.6520599611957638,
          1.6574856337819304,
          1.6629113063680967,
          1.668336978954263,
          1.6737626515404296,
          1.679188324126596,
          1.6846139967127622,
          1.6900396692989288,
          1.6954653418850951,
          1.7008910144712617,
          1.706316687057428,
          1.7117423596435943,
          1.7171680322297609,
          1.7225937048159272,
          1.7280193774020938,
          1.73344504998826,
          1.7388707225744264,
          1.744296395160593,
          1.7497220677467593,
          1.7551477403329256,
          1.7605734129190922,
          1.7659990855052585,
          1.771424758091425,
          1.7768504306775914,
          1.7822761032637577,
          1.7877017758499243,
          1.7931274484360906,
          1.798553121022257,
          1.8039787936084235,
          1.8094044661945898,
          1.8148301387807564,
          1.8202558113669227,
          1.825681483953089,
          1.8311071565392556,
          1.836532829125422,
          1.8419585017115883,
          1.8473841742977548,
          1.8528098468839211,
          1.8582355194700877,
          1.863661192056254,
          1.8690868646424204,
          1.874512537228587,
          1.8799382098147532,
          1.8853638824009196,
          1.8907895549870861,
          1.8962152275732524,
          1.901640900159419,
          1.9070665727455853,
          1.9124922453317517,
          1.9179179179179182,
          1.9233435905040845,
          1.928769263090251,
          1.9341949356764174,
          1.9396206082625838,
          1.9450462808487503,
          1.9504719534349166,
          1.955897626021083,
          1.9613232986072495,
          1.9667489711934159,
          1.9721746437795824,
          1.9776003163657487,
          1.983025988951915,
          1.9884516615380816,
          1.993877334124248,
          1.9993030067104143,
          2.004728679296581,
          2.0101543518827474,
          2.015580024468914,
          2.02100569705508,
          2.0264313696412466,
          2.031857042227413,
          2.0372827148135793,
          2.042708387399746,
          2.0481340599859124,
          2.0535597325720785,
          2.058985405158245,
          2.0644110777444116,
          2.0698367503305777,
          2.0752624229167442,
          2.080688095502911,
          2.0861137680890773,
          2.0915394406752434,
          2.09696511326141,
          2.1023907858475765,
          2.1078164584337427,
          2.113242131019909,
          2.1186678036060758,
          2.124093476192242,
          2.1295191487784084,
          2.134944821364575,
          2.140370493950741,
          2.1457961665369076,
          2.151221839123074,
          2.1566475117092403,
          2.162073184295407,
          2.1674988568815734,
          2.17292452946774,
          2.178350202053906,
          2.1837758746400726,
          2.189201547226239,
          2.1946272198124057,
          2.200052892398572,
          2.2054785649847384,
          2.210904237570905,
          2.216329910157071,
          2.2217555827432376,
          2.227181255329404,
          2.2326069279155702,
          2.238032600501737,
          2.2434582730879034,
          2.2488839456740695,
          2.254309618260236,
          2.2597352908464026,
          2.265160963432569,
          2.2705866360187352,
          2.276012308604902,
          2.2814379811910683,
          2.2868636537772344,
          2.292289326363401,
          2.2977149989495675,
          2.3031406715357337,
          2.3085663441219,
          2.3139920167080668,
          2.319417689294233,
          2.3248433618803994,
          2.330269034466566,
          2.335694707052732,
          2.3411203796388986,
          2.346546052225065,
          2.3519717248112317,
          2.357397397397398,
          2.3628230699835644,
          2.368248742569731,
          2.373674415155897,
          2.3791000877420636,
          2.38452576032823,
          2.3899514329143963,
          2.395377105500563,
          2.4008027780867294,
          2.4062284506728955,
          2.411654123259062,
          2.4170797958452286,
          2.422505468431395,
          2.4279311410175612,
          2.433356813603728,
          2.4387824861898943,
          2.4442081587760605,
          2.449633831362227,
          2.4550595039483936,
          2.4604851765345597,
          2.4659108491207262,
          2.4713365217068928,
          2.476762194293059,
          2.4821878668792254,
          2.487613539465392,
          2.493039212051558,
          2.4984648846377246,
          2.503890557223891,
          2.5093162298100578,
          2.514741902396224,
          2.5201675749823904,
          2.525593247568557,
          2.531018920154723,
          2.5364445927408896,
          2.541870265327056,
          2.5472959379132223,
          2.552721610499389,
          2.5581472830855554,
          2.5635729556717215,
          2.568998628257888,
          2.5744243008440546,
          2.5798499734302207,
          2.5852756460163873,
          2.590701318602554,
          2.5961269911887204,
          2.6015526637748865,
          2.606978336361053,
          2.6124040089472196,
          2.6178296815333857,
          2.6232553541195522,
          2.628681026705719,
          2.634106699291885,
          2.6395323718780515,
          2.644958044464218,
          2.650383717050384,
          2.6558093896365507,
          2.661235062222717,
          2.6666607348088838,
          2.67208640739505,
          2.6775120799812164,
          2.682937752567383,
          2.688363425153549,
          2.6937890977397156,
          2.699214770325882,
          2.7046404429120483,
          2.710066115498215,
          2.7154917880843814,
          2.7209174606705475,
          2.726343133256714,
          2.7317688058428806,
          2.7371944784290467,
          2.7426201510152133,
          2.74804582360138,
          2.7534714961875464,
          2.7588971687737125,
          2.764322841359879,
          2.7697485139460456,
          2.7751741865322117,
          2.7805998591183783,
          2.786025531704545,
          2.791451204290711,
          2.7968768768768775,
          2.802302549463044,
          2.80772822204921,
          2.8131538946353767,
          2.8185795672215432,
          2.82400523980771,
          2.829430912393876,
          2.8348565849800424,
          2.840282257566209,
          2.845707930152375,
          2.8511336027385417,
          2.856559275324708,
          2.8619849479108743,
          2.867410620497041,
          2.8728362930832074,
          2.8782619656693735,
          2.88368763825554,
          2.8891133108417066,
          2.8945389834278727,
          2.8999646560140393,
          2.905390328600206,
          2.9108160011863724,
          2.9162416737725385,
          2.921667346358705,
          2.9270930189448716,
          2.9325186915310377,
          2.9379443641172043,
          2.943370036703371,
          2.948795709289537,
          2.9542213818757035,
          2.95964705446187,
          2.965072727048036,
          2.9704983996342027,
          2.9759240722203693,
          2.981349744806536,
          2.986775417392702,
          2.9922010899788685,
          2.997626762565035,
          3.003052435151201,
          3.0084781077373677,
          3.0139037803235342,
          3.0193294529097003,
          3.024755125495867,
          3.0301807980820334,
          3.0356064706681996,
          3.041032143254366,
          3.0464578158405327,
          3.0518834884266988,
          3.0573091610128653,
          3.062734833599032,
          3.0681605061851984,
          3.0735861787713645,
          3.079011851357531,
          3.0844375239436976,
          3.0898631965298637,
          3.0952888691160303,
          3.100714541702197,
          3.106140214288363,
          3.1115658868745295,
          3.116991559460696,
          3.122417232046862,
          3.1278429046330287,
          3.1332685772191953,
          3.138694249805362,
          3.144119922391528,
          3.1495455949776945,
          3.154971267563861,
          3.160396940150027,
          3.1658226127361937,
          3.1712482853223602,
          3.1766739579085264,
          3.182099630494693,
          3.1875253030808595,
          3.1929509756670256,
          3.198376648253192,
          3.2038023208393587,
          3.209227993425525,
          3.2146536660116913,
          3.220079338597858,
          3.2255050111840244,
          3.2309306837701905,
          3.236356356356357,
          3.2417820289425237,
          3.2472077015286898,
          3.2526333741148563,
          3.258059046701023,
          3.263484719287189,
          3.2689103918733555,
          3.274336064459522,
          3.279761737045688,
          3.2851874096318547,
          3.2906130822180213,
          3.296038754804188,
          3.301464427390354,
          3.3068900999765205,
          3.312315772562687,
          3.317741445148853,
          3.3231671177350197,
          3.3285927903211863,
          3.3340184629073524,
          3.339444135493519,
          3.3448698080796855,
          3.3502954806658516,
          3.355721153252018,
          3.3611468258381847,
          3.366572498424351,
          3.3719981710105174,
          3.377423843596684,
          3.3828495161828505,
          3.3882751887690166,
          3.393700861355183,
          3.3991265339413497,
          3.404552206527516,
          3.4099778791136823,
          3.415403551699849,
          3.420829224286015,
          3.4262548968721815,
          3.431680569458348,
          3.437106242044514,
          3.4425319146306808,
          3.4479575872168473,
          3.4533832598030134,
          3.45880893238918,
          3.4642346049753465,
          3.469660277561513,
          3.475085950147679,
          3.4805116227338457,
          3.4859372953200123,
          3.4913629679061784,
          3.496788640492345,
          3.5022143130785115,
          3.5076399856646776,
          3.513065658250844,
          3.5184913308370107,
          3.523917003423177,
          3.5293426760093434,
          3.53476834859551,
          3.5401940211816765,
          3.5456196937678426,
          3.551045366354009,
          3.5564710389401757,
          3.561896711526342,
          3.5673223841125083,
          3.572748056698675,
          3.578173729284841,
          3.5835994018710076,
          3.589025074457174,
          3.59445074704334,
          3.5998764196295068,
          3.6053020922156733,
          3.6107277648018394,
          3.616153437388006,
          3.6215791099741725,
          3.627004782560339,
          3.632430455146505,
          3.6378561277326718,
          3.6432818003188383,
          3.6487074729050044,
          3.654133145491171,
          3.6595588180773375,
          3.6649844906635036,
          3.67041016324967,
          3.6758358358358367,
          3.681261508422003,
          3.6866871810081694,
          3.692112853594336,
          3.6975385261805025,
          3.7029641987666686,
          3.708389871352835,
          3.7138155439390017,
          3.719241216525168,
          3.7246668891113344,
          3.730092561697501,
          3.735518234283667,
          3.7409439068698336,
          3.746369579456,
          3.7517952520421662,
          3.757220924628333,
          3.7626465972144993,
          3.7680722698006655,
          3.773497942386832,
          3.7789236149729986,
          3.784349287559165,
          3.789774960145331,
          3.7952006327314978,
          3.8006263053176643,
          3.8060519779038304,
          3.811477650489997,
          3.8169033230761635,
          3.8223289956623296,
          3.827754668248496,
          3.8331803408346627,
          3.838606013420829,
          3.8440316860069954,
          3.849457358593162,
          3.8548830311793285,
          3.8603087037654946,
          3.865734376351661,
          3.8711600489378277,
          3.876585721523994,
          3.8820113941101604,
          3.887437066696327,
          3.892862739282493,
          3.8982884118686596,
          3.903714084454826,
          3.9091397570409923,
          3.914565429627159,
          3.9199911022133254,
          3.9254167747994915,
          3.930842447385658,
          3.9362681199718246,
          3.941693792557991,
          3.9471194651441572,
          3.952545137730324,
          3.9579708103164903,
          3.9633964829026564,
          3.968822155488823,
          3.9742478280749896,
          3.9796735006611557,
          3.985099173247322,
          3.9905248458334888,
          3.995950518419655,
          4.001376191005821,
          4.0068018635919875,
          4.0122275361781545,
          4.017653208764321,
          4.023078881350487,
          4.028504553936654,
          4.03393022652282,
          4.039355899108986,
          4.044781571695153,
          4.050207244281319,
          4.055632916867485,
          4.061058589453652,
          4.066484262039818,
          4.071909934625984,
          4.077335607212151,
          4.0827612797983175,
          4.088186952384484,
          4.093612624970651,
          4.099038297556817,
          4.104463970142983,
          4.10988964272915,
          4.115315315315316,
          4.120740987901482,
          4.126166660487649,
          4.131592333073815,
          4.137018005659981,
          4.142443678246148,
          4.147869350832314,
          4.1532950234184804,
          4.158720696004647,
          4.1641463685908136,
          4.1695720411769805,
          4.174997713763147,
          4.180423386349313,
          4.18584905893548,
          4.191274731521646,
          4.196700404107812,
          4.202126076693979,
          4.207551749280145,
          4.212977421866312,
          4.218403094452478,
          4.223828767038644,
          4.229254439624811,
          4.234680112210977,
          4.2401057847971435,
          4.2455314573833105,
          4.250957129969477,
          4.256382802555643,
          4.26180847514181,
          4.267234147727976,
          4.272659820314142,
          4.278085492900309,
          4.283511165486475,
          4.288936838072641,
          4.294362510658808,
          4.299788183244974,
          4.30521385583114,
          4.310639528417307,
          4.3160652010034735,
          4.32149087358964,
          4.326916546175807,
          4.332342218761973,
          4.337767891348139,
          4.343193563934306,
          4.348619236520472,
          4.354044909106638,
          4.359470581692805,
          4.364896254278971,
          4.370321926865138,
          4.375747599451304,
          4.38117327203747,
          4.386598944623637,
          4.392024617209803,
          4.3974502897959695,
          4.4028759623821365,
          4.408301634968303,
          4.413727307554469,
          4.419152980140636,
          4.424578652726802,
          4.430004325312968,
          4.435429997899135,
          4.440855670485301,
          4.446281343071467,
          4.451707015657634,
          4.4571326882438,
          4.462558360829966,
          4.467984033416133,
          4.4734097060022995,
          4.478835378588466,
          4.484261051174633,
          4.489686723760799,
          4.495112396346965,
          4.500538068933132,
          4.505963741519298,
          4.511389414105464,
          4.516815086691631,
          4.522240759277797,
          4.527666431863964,
          4.53309210445013,
          4.538517777036296,
          4.543943449622463,
          4.549369122208629,
          4.5547947947947955,
          4.5602204673809625,
          4.565646139967129,
          4.571071812553295,
          4.576497485139462,
          4.581923157725628,
          4.587348830311794,
          4.592774502897961,
          4.598200175484127,
          4.603625848070293,
          4.60905152065646,
          4.614477193242626,
          4.619902865828792,
          4.625328538414959,
          4.6307542110011255,
          4.636179883587292,
          4.641605556173459,
          4.647031228759625,
          4.652456901345791,
          4.657882573931958,
          4.663308246518124,
          4.66873391910429,
          4.674159591690457,
          4.679585264276623,
          4.68501093686279,
          4.690436609448956,
          4.695862282035122,
          4.701287954621289,
          4.7067136272074555,
          4.712139299793622,
          4.717564972379789,
          4.722990644965955,
          4.728416317552121,
          4.733841990138288,
          4.739267662724454,
          4.74469333531062,
          4.750119007896787,
          4.755544680482953,
          4.760970353069119,
          4.766396025655286,
          4.771821698241452,
          4.777247370827618,
          4.782673043413785,
          4.7880987159999515,
          4.793524388586118,
          4.798950061172285,
          4.804375733758451,
          4.809801406344617,
          4.815227078930784,
          4.82065275151695,
          4.826078424103116,
          4.831504096689283,
          4.836929769275449,
          4.842355441861615,
          4.847781114447782,
          4.853206787033948,
          4.858632459620115,
          4.8640581322062815,
          4.869483804792448,
          4.874909477378615,
          4.880335149964781,
          4.885760822550947,
          4.891186495137114,
          4.89661216772328,
          4.902037840309446,
          4.907463512895613,
          4.912889185481779,
          4.918314858067945,
          4.923740530654112,
          4.929166203240278,
          4.934591875826444,
          4.940017548412611,
          4.9454432209987775,
          4.950868893584944,
          4.956294566171111,
          4.961720238757277,
          4.967145911343443,
          4.97257158392961,
          4.977997256515776,
          4.983422929101942,
          4.988848601688109,
          4.994274274274275,
          4.999699946860441,
          5.005125619446608,
          5.010551292032774,
          5.015976964618941,
          5.0214026372051075,
          5.026828309791274,
          5.032253982377441,
          5.037679654963607,
          5.043105327549773,
          5.04853100013594,
          5.053956672722106,
          5.059382345308272,
          5.064808017894439,
          5.070233690480605,
          5.075659363066771,
          5.081085035652938,
          5.086510708239104,
          5.0919363808252704,
          5.097362053411437,
          5.1027877259976036,
          5.10821339858377,
          5.113639071169937,
          5.119064743756103,
          5.124490416342269,
          5.129916088928436,
          5.135341761514602,
          5.140767434100768,
          5.146193106686935,
          5.151618779273101,
          5.157044451859267,
          5.162470124445434,
          5.1678957970316,
          5.173321469617767,
          5.1787471422039335,
          5.1841728147901,
          5.189598487376267,
          5.195024159962433,
          5.200449832548599,
          5.205875505134766,
          5.211301177720932,
          5.216726850307098,
          5.222152522893265,
          5.227578195479431,
          5.233003868065597,
          5.238429540651764,
          5.24385521323793,
          5.2492808858240965,
          5.2547065584102635,
          5.26013223099643,
          5.265557903582596,
          5.270983576168763,
          5.276409248754929,
          5.281834921341095,
          5.287260593927262,
          5.292686266513428,
          5.298111939099594,
          5.303537611685761,
          5.308963284271927,
          5.314388956858093,
          5.31981462944426,
          5.325240302030426,
          5.330665974616593,
          5.3360916472027595,
          5.341517319788926,
          5.346942992375093,
          5.352368664961259,
          5.357794337547425,
          5.363220010133592,
          5.368645682719758,
          5.374071355305924,
          5.379497027892091,
          5.384922700478257,
          5.390348373064423,
          5.39577404565059,
          5.401199718236756,
          5.4066253908229225,
          5.4120510634090895,
          5.417476735995256,
          5.422902408581422,
          5.428328081167589,
          5.433753753753755,
          5.439179426339921,
          5.444605098926088,
          5.450030771512254,
          5.45545644409842,
          5.460882116684587,
          5.466307789270753,
          5.471733461856919,
          5.477159134443086,
          5.482584807029252,
          5.488010479615419,
          5.4934361522015855,
          5.498861824787752,
          5.504287497373919,
          5.509713169960085,
          5.515138842546251,
          5.520564515132418,
          5.525990187718584,
          5.53141586030475,
          5.536841532890917,
          5.542267205477083,
          5.547692878063249,
          5.553118550649416,
          5.558544223235582,
          5.5639698958217485,
          5.5693955684079155,
          5.574821240994082,
          5.580246913580248
         ],
         "y": [
          0.04013565128129157,
          0.04063792482579808,
          0.04114512807869942,
          0.041657288930436166,
          0.04217443512591666,
          0.04269659425902568,
          0.04322379376708944,
          0.043756060925298504,
          0.04429342284108852,
          0.044835906448478964,
          0.04538353850237175,
          0.04593634557280913,
          0.04649435403919211,
          0.04705759008445998,
          0.04762607968923169,
          0.048199848625909564,
          0.04877892245274619,
          0.04936332650787543,
          0.04995308590330779,
          0.05054822551889163,
          0.051148769996240157,
          0.05175474373262582,
          0.05236617087484247,
          0.05298307531303596,
          0.05360548067450481,
          0.05423341031747078,
          0.05486688732482097,
          0.055505934497822304,
          0.05615057434980896,
          0.0568008290998438,
          0.057456720666355196,
          0.058118270660749614,
          0.058785500381001145,
          0.05945843080521935,
          0.06013708258519597,
          0.060821476039931814,
          0.061511631149144576,
          0.06220756754675925,
          0.06290930451438168,
          0.06361686097475629,
          0.06433025548521,
          0.06504950623108226,
          0.06577463101914297,
          0.06650564727099999,
          0.06724257201649615,
          0.06798542188709812,
          0.06873421310927784,
          0.06948896149788769,
          0.07024968244953088,
          0.07101639093592826,
          0.07178910149728274,
          0.07256782823564262,
          0.07335258480826533,
          0.07414338442098259,
          0.07494023982156868,
          0.07574316329311265,
          0.07655216664739667,
          0.07736726121828101,
          0.0781884578550974,
          0.07901576691605254,
          0.07984919826164259,
          0.08068876124808011,
          0.08153446472073572,
          0.08238631700759454,
          0.08324432591273019,
          0.08410849870979711,
          0.08497884213554278,
          0.08585536238334147,
          0.08673806509675089,
          0.08762695536309348,
          0.0885220377070637,
          0.08942331608436253,
          0.09033079387536175,
          0.09124447387879824,
          0.09216435830550071,
          0.0930904487721507,
          0.0940227462950779,
          0.09496125128409372,
          0.09590596353636242,
          0.096856882230313,
          0.09781400591959256,
          0.09877733252706318,
          0.09974685933884392,
          0.10072258299839934,
          0.10170449950067624,
          0.10269260418629061,
          0.10368689173576587,
          0.10468735616382442,
          0.10569399081373411,
          0.10670678835171132,
          0.10772574076138175,
          0.1087508393383019,
          0.10978207468454103,
          0.11081943670332718,
          0.11186291459375762,
          0.11291249684557554,
          0.1139681712340156,
          0.1150299248147185,
          0.11609774391871779,
          0.11717161414749931,
          0.11825152036813559,
          0.11933744670849696,
          0.1204293765525404,
          0.12152729253567855,
          0.12263117654023017,
          0.12374100969095303,
          0.12485677235066266,
          0.12597844411593656,
          0.12710600381290676,
          0.1282394294931423,
          0.12937869842962216,
          0.1305237871128023,
          0.1316746712467761,
          0.13283132574553114,
          0.13399372472930443,
          0.13516184152103597,
          0.1363356486429233,
          0.13751511781307935,
          0.13870021994229295,
          0.13989092513089602,
          0.14108720266573702,
          0.14228902101726354,
          0.14349634783671442,
          0.14470914995342427,
          0.14592739337224003,
          0.147151043271053,
          0.14838006399844628,
          0.1496144190714602,
          0.15085407117347602,
          0.15209898215222017,
          0.1533491130178908,
          0.15460442394140603,
          0.1558648742527781,
          0.1571304224396124,
          0.15840102614573368,
          0.1596766421699413,
          0.16095722646489322,
          0.1622427341361218,
          0.1635331194411816,
          0.16482833578893014,
          0.16612833573894412,
          0.16743307100107102,
          0.16874249243511766,
          0.17005655005067719,
          0.17137519300709533,
          0.17269836961357643,
          0.1740260273294322,
          0.17535811276447139,
          0.17669457167953434,
          0.1780353489871712,
          0.17938038875246579,
          0.18072963419400645,
          0.18208302768500342,
          0.18344051075455495,
          0.18480202408906238,
          0.18616750753379527,
          0.18753690009460716,
          0.18891013993980288,
          0.19028716440215815,
          0.19166790998109215,
          0.19305231234499393,
          0.19444030633370274,
          0.195831825961144,
          0.19722680441812013,
          0.19862517407525804,
          0.20002686648611306,
          0.20143181239042982,
          0.20283994171756148,
          0.204251183590046,
          0.20566546632734167,
          0.20708271744972154,
          0.2085028636823259,
          0.20992583095937584,
          0.21135154442854526,
          0.21277992845549334,
          0.2142109066285572,
          0.2156444017636046,
          0.21708033590904752,
          0.21851863035101568,
          0.21995920561869084,
          0.22140198148980214,
          0.22284687699628114,
          0.22429381043007768,
          0.2257426993491368,
          0.22719346058353446,
          0.22864601024177478,
          0.23010026371724623,
          0.23155613569483777,
          0.2330135401577138,
          0.23447239039424916,
          0.2359325990051213,
          0.23739407791056202,
          0.23885673835776583,
          0.2403204909284562,
          0.24178524554660852,
          0.2432509114863287,
          0.24471739737988824,
          0.2461846112259132,
          0.24765246039772812,
          0.24912085165185316,
          0.250589691136654,
          0.2520588844011437,
          0.25352833640393546,
          0.2549979515223462,
          0.25646763356164837,
          0.2579372857644712,
          0.2594068108203485,
          0.26087611087541296,
          0.2623450875422357,
          0.2638136419098096,
          0.2652816745536762,
          0.26674908554619325,
          0.26821577446694383,
          0.2696816404132837,
          0.2711465820110269,
          0.27261049742526816,
          0.2740732843713396,
          0.2755348401259018,
          0.27699506153816683,
          0.27845384504125137,
          0.2799110866636602,
          0.2813666820408959,
          0.2828205264271947,
          0.28427251470738746,
          0.28572254140888215,
          0.28717050071376715,
          0.2886162864710344,
          0.2900597922089182,
          0.2915009111473513,
          0.2929395362105327,
          0.2943755600396075,
          0.295808875005457,
          0.29723937322159477,
          0.29866694655717035,
          0.30009148665007457,
          0.3015128849201466,
          0.30293103258248144,
          0.3043458206608331,
          0.3057571400011127,
          0.30716488128498054,
          0.3085689350435266,
          0.30996919167104126,
          0.3113655414388697,
          0.31275787450935116,
          0.31414608094983876,
          0.3155300507467977,
          0.31690967381998,
          0.3182848400366728,
          0.31965543922601747,
          0.3210213611933984,
          0.32238249573489675,
          0.32373873265180825,
          0.32508996176522226,
          0.3264360729306587,
          0.32777695605276047,
          0.3291125011000395,
          0.33044259811967225,
          0.3317671372523437,
          0.3330860087471351,
          0.3343991029764546,
          0.3357063104510067,
          0.33700752183479804,
          0.3383026279601772,
          0.33959151984290487,
          0.340874088697252,
          0.34215022595112315,
          0.34341982326120174,
          0.34468277252811425,
          0.3459389659116114,
          0.3471882958457617,
          0.3484306550541563,
          0.3496659365651205,
          0.3508940337269297,
          0.35211484022302714,
          0.35332825008723984,
          0.35453415771898955,
          0.3557324578984968,
          0.3569230458019731,
          0.3581058170168006,
          0.35928066755669424,
          0.36044749387684394,
          0.3616061928890344,
          0.3627566619767385,
          0.3638987990101816,
          0.3650325023613738,
          0.3661576709191072,
          0.3672742041039144,
          0.3683820018829859,
          0.36948096478504283,
          0.37057099391516257,
          0.3716519909695528,
          0.37272385825027327,
          0.3737864986798991,
          0.3748398158161256,
          0.37588371386630964,
          0.3769180977019448,
          0.37794287287306794,
          0.3789579456225935,
          0.37996322290057233,
          0.3809586123783733,
          0.38194402246278303,
          0.382919362310021,
          0.3838845418396691,
          0.3848394717485093,
          0.3857840635242694,
          0.3867182294592721,
          0.387641882663985,
          0.38855493708046956,
          0.389457307495724,
          0.3903489095549191,
          0.3912296597745235,
          0.3920994755553155,
          0.3929582751952778,
          0.3938059779023746,
          0.39464250380720506,
          0.39546777397553373,
          0.3962817104206923,
          0.3970842361158519,
          0.39787527500616215,
          0.39865475202075507,
          0.3994225930846105,
          0.4001787251302807,
          0.4009230761094717,
          0.4016555750044789,
          0.4023761518394736,
          0.4030847376916389,
          0.4037812647021519,
          0.4044656660870105,
          0.4051378761477007,
          0.4057978302817045,
          0.40644546499284384,
          0.4070807179014591,
          0.4077035277544204,
          0.4083138344349687,
          0.4089115789723845,
          0.40949670355148265,
          0.4100691515219303,
          0.4106288674073864,
          0.4111757969144607,
          0.4117098869414899,
          0.4122310855871291,
          0.41273934215875685,
          0.41323460718069155,
          0.4137168324022174,
          0.4141859708054185,
          0.4146419766128187,
          0.4150848052948253,
          0.4155144135769765,
          0.41593075944698876,
          0.41633380216160387,
          0.4167235022532338,
          0.41709982153640174,
          0.417462723113978,
          0.41781217138320914,
          0.41814813204153944,
          0.41847057209222216,
          0.4187794598497215,
          0.4190747649449012,
          0.4193564583300014,
          0.4196245122834002,
          0.4198789004141608,
          0.42011959766636164,
          0.4203465803232095,
          0.42055982601093445,
          0.4207593137024653,
          0.4209450237208851,
          0.42111693774266623,
          0.4212750388006832,
          0.4214193112870036,
          0.42154974095545655,
          0.4216663149239768,
          0.4217690216767254,
          0.42185785106598567,
          0.4219327943138341,
          0.4219938440135863,
          0.42204099413101676,
          0.4220742400053528,
          0.42209357835004296,
          0.4220990072532977,
          0.42209052617840503,
          0.4220681359638186,
          0.4220318388230198,
          0.42198163834415287,
          0.4219175394894337,
          0.4218395485943325,
          0.42174767336653,
          0.42164192288464813,
          0.4215223075967546,
          0.4213888393186425,
          0.42124153123188546,
          0.4210803978816672,
          0.4209054551743886,
          0.42071672037505026,
          0.42051421210441303,
          0.42029795033593603,
          0.4200679563924931,
          0.41982425294286957,
          0.41956686399803783,
          0.4192958149072148,
          0.41901113235370113,
          0.4187128443505033,
          0.41840098023573946,
          0.4180755706678302,
          0.41773664762047547,
          0.4173842443774189,
          0.4170183955269999,
          0.416639136956496,
          0.416246505846256,
          0.41584054066362497,
          0.41542128115666344,
          0.4149887683476615,
          0.41454304452644947,
          0.41408415324350667,
          0.4136121393028698,
          0.41312704875484285,
          0.4126289288885098,
          0.4121178282240521,
          0.41159379650487204,
          0.4110568846895256,
          0.4105071449434636,
          0.409944630630586,
          0.4093693963046102,
          0.40878149770025357,
          0.4081809917242356,
          0.4075679364460986,
          0.4069423910888509,
          0.4063044160194337,
          0.4056540727390142,
          0.4049914238731072,
          0.4043165331615268,
          0.4036294654481715,
          0.4029302866706437,
          0.40221906384970707,
          0.4014958650785841,
          0.40076075951209444,
          0.4000138173556393,
          0.3992551098540321,
          0.39848470928017904,
          0.3977026889236108,
          0.39690912307887083,
          0.3961040870337581,
          0.3952876570574321,
          0.39445991038837847,
          0.3936209252222412,
          0.3927707806995206,
          0.3919095568931441,
          0.3910373347959082,
          0.3901541963077973,
          0.3892602242231813,
          0.3883555022178942,
          0.38744011483619767,
          0.3865141474776308,
          0.38557768638375106,
          0.3846308186247674,
          0.3836736320860692,
          0.3827062154546542,
          0.38172865820545804,
          0.38074105058758767,
          0.3797434836104637,
          0.37873604902987185,
          0.3777188393339288,
          0.3766919477289641,
          0.3756554681253218,
          0.3746094951230845,
          0.37355412399772286,
          0.372489450685674,
          0.3714155717698514,
          0.370332584465089,
          0.36924058660352427,
          0.36813967661992064,
          0.3670299535369348,
          0.3659115169503307,
          0.3647844670141435,
          0.3636489044257967,
          0.3625049304111756,
          0.3613526467096596,
          0.36019215555911743,
          0.35902355968086763,
          0.35784696226460727,
          0.3566624669533128,
          0.3554701778281146,
          0.35427019939315085,
          0.35306263656040077,
          0.351847594634502,
          0.35062517929755577,
          0.349395496593921,
          0.3481586529150015,
          0.3469147549840302,
          0.3456639098408512,
          0.3444062248267042,
          0.34314180756901463,
          0.3418707659661909,
          0.34059320817243327,
          0.33930924258255596,
          0.3380189778168275,
          0.3367225227058292,
          0.33541998627533764,
          0.3341114777312322,
          0.33279710644443145,
          0.3314769819358604,
          0.33015121386145246,
          0.3288199119971886,
          0.32748318622417527,
          0.3261411465137665,
          0.3247939029127305,
          0.3234415655284638,
          0.32208424451425793,
          0.3207220500546184,
          0.31935509235063997,
          0.3179834816054411,
          0.31660732800966035,
          0.31522674172701604,
          0.31384183287993256,
          0.3124527115352372,
          0.3110594876899273,
          0.3096622712570119,
          0.3082611720514311,
          0.30685629977605333,
          0.3054477640077546,
          0.30403567418358207,
          0.3026201395870035,
          0.3012012693342453,
          0.299779172360721,
          0.29835395740755444,
          0.2969257330081965,
          0.2954946074751399,
          0.2940606888867346,
          0.2926240850741039,
          0.29118490360816457,
          0.2897432517867539,
          0.28829923662186396,
          0.286852964826985,
          0.2854045428045633,
          0.28395407663357003,
          0.2825016720571875,
          0.2810474344706128,
          0.27959146890898035,
          0.2781338800354058,
          0.27667477212915287,
          0.2752142490739248,
          0.27375241434628206,
          0.27228937100418754,
          0.2708252216756816,
          0.2693600685476885,
          0.2678940133549536,
          0.26642715736911704,
          0.26495960138792074,
          0.2634914457245529,
          0.26202279019713137,
          0.26055373411832505,
          0.25908437628511727,
          0.25761481496870986,
          0.2561451479045724,
          0.2546754722826331,
          0.2532058847376174,
          0.25173648133953186,
          0.25026735758429625,
          0.2487986083845228,
          0.24733032806044733,
          0.2458626103310085,
          0.2443955483050791,
          0.24292923447285034,
          0.2414637606973679,
          0.2399992182062216,
          0.23853569758339066,
          0.2370732887612428,
          0.23561208101268957,
          0.2341521629434976,
          0.23269362248475764,
          0.2312365468855097,
          0.22978102270552664,
          0.22832713580825642,
          0.2268749713539227,
          0.22542461379278356,
          0.22397614685855155,
          0.22252965356197177,
          0.22108521618456017,
          0.2196429162725026,
          0.21820283463071352,
          0.2167650513170554,
          0.21532964563671772,
          0.21389669613675855,
          0.2124662806008047,
          0.2110384760439127,
          0.20961335870759193,
          0.20819100405498595,
          0.20677148676621532,
          0.20535488073388047,
          0.20394125905872457,
          0.20253069404545482,
          0.20112325719872523,
          0.19971901921927698,
          0.1983180500002375,
          0.19692041862357915,
          0.19552619335673455,
          0.19413544164937038,
          0.19274823013031725,
          0.19136462460465736,
          0.18998469005096746,
          0.18860849061871662,
          0.18723608962582047,
          0.1858675495563482,
          0.1845029320583834,
          0.18314229794203843,
          0.18178570717762033,
          0.18043321889394762,
          0.1790848913768189,
          0.17774078206763036,
          0.1764009475621419,
          0.17506544360939238,
          0.1737343251107613,
          0.1724076461191767,
          0.17108545983846807,
          0.16976781862286483,
          0.16845477397663675,
          0.16714637655387668,
          0.16584267615842577,
          0.16454372174393755,
          0.16324956141408117,
          0.16196024242288354,
          0.16067581117520716,
          0.15939631322736367,
          0.15812179328786274,
          0.156852295218293,
          0.15558786203433556,
          0.15432853590690776,
          0.15307435816343734,
          0.1518253692892635,
          0.1505816089291652,
          0.1493431158890158,
          0.14810992813756055,
          0.1468820828083174,
          0.14565961620159962,
          0.14444256378665776,
          0.1432309602039401,
          0.14202483926747136,
          0.1408242339673456,
          0.13962917647233425,
          0.1384396981326068,
          0.13725582948256254,
          0.13607760024377238,
          0.1349050393280282,
          0.13373817484050005,
          0.13257703408299765,
          0.13142164355733557,
          0.13027202896880102,
          0.12912821522972198,
          0.12799022646313352,
          0.12685808600654264,
          0.12573181641578815,
          0.12461143946899454,
          0.12349697617061908,
          0.12238844675558919,
          0.12128587069352939,
          0.12018926669307575,
          0.11909865270627672,
          0.1180140459330779,
          0.11693546282588964,
          0.11586291909423614,
          0.11479642970948359,
          0.11373600890964568,
          0.11268167020426652,
          0.1116334263793767,
          0.11059128950252255,
          0.10955527092786714,
          0.10852538130135986,
          0.10750163056597403,
          0.10648402796701134,
          0.10547258205746969,
          0.10446730070347468,
          0.10346819108977152,
          0.10247525972527723,
          0.10148851244869,
          0.10050795443415489,
          0.09953359019698416,
          0.09856542359943057,
          0.09760345785651124,
          0.09664769554188198,
          0.09569813859375899,
          0.09475478832088671,
          0.09381764540855096,
          0.09288670992463467,
          0.09196198132571509,
          0.09104345846320071,
          0.09013113958950687,
          0.08922502236426767,
          0.08832510386058258,
          0.08743138057129723,
          0.08654384841531572,
          0.08566250274394276,
          0.08478733834725573,
          0.08391834946050296,
          0.08305552977052781,
          0.0821988724222176,
          0.08134837002497446,
          0.08050401465920738,
          0.07966579788284457,
          0.07883371073786308,
          0.07800774375683577,
          0.07718788696949296,
          0.0763741299092986,
          0.07556646162003805,
          0.07476487066241685,
          0.07396934512066974,
          0.07317987260917684,
          0.0723964402790868,
          0.0716190348249459,
          0.07084764249133028,
          0.07008224907948112,
          0.06932283995394153,
          0.06856940004919251,
          0.06782191387628882,
          0.06708036552949082,
          0.06634473869289334,
          0.06561501664704976,
          0.0648911822755882,
          0.06417321807182147,
          0.06346110614534799,
          0.06275482822864166,
          0.06205436568363164,
          0.06135969950826947,
          0.060670810343081964,
          0.059987678477710096,
          0.05931028385743233,
          0.05863860608966985,
          0.05797262445047486,
          0.05731231789099981,
          0.05665766504394552,
          0.05600864422998898,
          0.05536523346418921,
          0.054727410462368606,
          0.05409515264747141,
          0.05346843715589672,
          0.05284724084380469,
          0.05223154029339642,
          0.05162131181916589,
          0.051016531474122294,
          0.0504171750559832,
          0.04982321811333738,
          0.04923463595177491,
          0.04865140363998664,
          0.04807349601582881,
          0.047500887692355,
          0.04693355306381302,
          0.04637146631160579,
          0.04581460141021644,
          0.045262932133096886,
          0.044716432058517344,
          0.044175074575379225,
          0.04363883288898734,
          0.04310768002678333,
          0.04258158884403885,
          0.04206053202950682,
          0.04154448211103193,
          0.04103341146111881,
          0.04052729230245681,
          0.04002609671340218,
          0.03952979663341619,
          0.039038363868458194,
          0.03855177009633463,
          0.038069986872002345,
          0.037592985632825565,
          0.03712073770378694,
          0.036653214302652004,
          0.036190386545085676,
          0.03573222544972162,
          0.03527870194318388,
          0.03482978686505908,
          0.034385450972820766,
          0.03394566494670453,
          0.03351039939453286,
          0.03307962485649125,
          0.03265331180985369,
          0.03223143067365767,
          0.03181395181332881,
          0.03140084554525474,
          0.03099208214130716,
          0.03058763183331356,
          0.030187464817476216,
          0.029791551258740324,
          0.02939986129510994,
          0.029012365041911427,
          0.028629032596005036,
          0.028249834039944084,
          0.027874739446081175,
          0.02750371888062215,
          0.027136742407627437,
          0.026773780092959804,
          0.02641480200818002,
          0.026059778234389288,
          0.02570867886601834,
          0.025361474014563817,
          0.02501813381227175,
          0.024678628415767307,
          0.02434292800963213,
          0.024011002809928423,
          0.023682823067669667,
          0.023358359072238773,
          0.023037581154753302,
          0.02272045969137731,
          0.022406965106580943,
          0.022097067876347166,
          0.021790738531325564,
          0.021487947659934028,
          0.021188665911407945,
          0.02089286399879685,
          0.020600512701909397,
          0.02031158287020587,
          0.020026045425639204,
          0.01974387136544438,
          0.019465031764875917,
          0.019189497779894534,
          0.0189172406498026,
          0.018648231699828405,
          0.01838244234366007,
          0.018119844085929003,
          0.01786040852464277,
          0.01760410735356836,
          0.017350912364565617,
          0.017100795449870917,
          0.016853728604331927,
          0.01660968392759339,
          0.016368633626233916,
          0.016130550015854683,
          0.015895405523120038,
          0.01566317268774995,
          0.015433824164465306,
          0.015207332724885971,
          0.014983671259381694,
          0.014762812778876706,
          0.014544730416608182,
          0.014329397429838428,
          0.014116787201521834,
          0.013906873241926649,
          0.013699629190211553,
          0.0134950288159582,
          0.013293046020659172,
          0.013093654839162432,
          0.012896829441072457,
          0.012702544132107977,
          0.012510773355417356,
          0.012321491692851773,
          0.012134673866196174,
          0.011950294738359037,
          0.011768329314521061,
          0.011588752743242852,
          0.011411540317532606,
          0.011236667475873891,
          0.011064109803213701,
          0.010893843031911663,
          0.010725843042650592,
          0.010560085865308573,
          0.010396547679793427,
          0.010235204816839781,
          0.010076033758768909,
          0.009919011140212269,
          0.009764113748798847,
          0.009611318525806604,
          0.009460602566778838,
          0.009311943122105756,
          0.009165317597571292,
          0.009020703554866269,
          0.008878078712067918,
          0.008737420944086112,
          0.008598708283077138,
          0.008461918918825136,
          0.0083270311990916,
          0.008194023629933746,
          0.00806287487599169,
          0.00793356376074527,
          0.007806069266740837,
          0.007680370535788223,
          0.0075564468691286775,
          0.007434277727574089,
          0.007313842731617654,
          0.007195121661516868,
          0.007078094457349076,
          0.0069627412190397826,
          0.006849042206364599,
          0.006736977838925,
          0.006626528696098207,
          0.0065176755169619625,
          0.006410399200194395,
          0.006304680803949317,
          0.0062005015457076785,
          0.006097842802105411,
          0.005996686108737942,
          0.005897013159942178,
          0.005798805808556092,
          0.005702046065656314,
          0.005606716100274336,
          0.005512798239091662,
          0.005420274966114141,
          0.005329128922326194,
          0.0052393429053251865,
          0.0051508998689361995,
          0.0050637829228079795,
          0.004977975331990062,
          0.004893460516491728,
          0.0048102220508231845,
          0.004728243663519112,
          0.004647509236645283,
          0.004568002805288518,
          0.0044897085570302,
          0.004412610831403988,
          0.00433669411933805,
          0.004261943062581943,
          0.004188342453118867,
          0.004115877232563515,
          0.0040445324915457,
          0.003974293469080463,
          0.003905145551924829,
          0.003837074273921487,
          0.0037700653153299466,
          0.0037041045021454686,
          0.0036391778054059164,
          0.0035752713404871937,
          0.0035123713663873903,
          0.0034504642849999953,
          0.00338953664037657,
          0.003329575117979263,
          0.003270566543923275,
          0.0032124978842098476,
          0.0031553562439500006,
          0.0030991288665791995,
          0.0030438031330635618,
          0.0029893665610975758,
          0.002935806804293915,
          0.0028831116513654944,
          0.002831269025300086,
          0.0027802669825278286,
          0.002730093712081963,
          0.0026807375347528825,
          0.0026321869022360596,
          0.0025844303962739394,
          0.0025374567277920805,
          0.0024912547360299376,
          0.002445813387666447,
          0.0024011217759406915,
          0.0023571691197679587,
          0.002313944762851427,
          0.0022714381727896703,
          0.0022296389401803476,
          0.0021885367777202524,
          0.0021481215193019276,
          0.0021083831191071887,
          0.0020693116506977378,
          0.0020308973061030316,
          0.0019931303949057727,
          0.0019560013433251575,
          0.0019195006932980732,
          0.0018836191015585513,
          0.0018483473387156584,
          0.0018136762883299577,
          0.0017795969459888975,
          0.001746100418381156,
          0.0017131779223702986,
          0.0016808207840678616,
          0.0016490204379060193,
          0.001617768425710127,
          0.0015870563957712642,
          0.0015568761019189182,
          0.0015272194025940766,
          0.0014980782599228624,
          0.0014694447387908348,
          0.0014413110059182037,
          0.0014136693289361045,
          0.0013865120754640089,
          0.0013598317121885665,
          0.0013336208039439414,
          0.001307872012793778,
          0.00128257809711503,
          0.0012577319106837346,
          0.0012333264017628592,
          0.0012093546121924247,
          0.0011858096764819823,
          0.0011626848209055818,
          0.001139973362599393,
          0.0011176687086620952,
          0.0010957643552581002,
          0.0010742538867238246,
          0.0010531309746770602,
          0.0010323893771295532,
          0.0010120229376029694,
          0.0009920255842482554,
          0.0009723913289685806,
          0.0009531142665459419,
          0.0009341885737714806,
          0.0009156085085796867,
          0.000897368409186536,
          0.0008794626932316321,
          0.000861885856924501,
          0.0008446324741950838,
          0.000827697195848491,
          0.0008110747487241513,
          0.0007947599348594057,
          0.0007787476306575863,
          0.0007630327860607226,
          0.0007476104237268977,
          0.0007324756382123119
         ]
        },
        {
         "line": {
          "color": "#003f5c"
         },
         "mode": "lines",
         "name": "Male Curve",
         "type": "scatter",
         "x": [
          0,
          0.007366741741741741,
          0.014733483483483483,
          0.022100225225225225,
          0.029466966966966966,
          0.03683370870870871,
          0.04420045045045045,
          0.05156719219219219,
          0.05893393393393393,
          0.06630067567567567,
          0.07366741741741742,
          0.08103415915915915,
          0.0884009009009009,
          0.09576764264264263,
          0.10313438438438438,
          0.11050112612612611,
          0.11786786786786786,
          0.1252346096096096,
          0.13260135135135134,
          0.13996809309309308,
          0.14733483483483484,
          0.15470157657657657,
          0.1620683183183183,
          0.16943506006006004,
          0.1768018018018018,
          0.18416854354354353,
          0.19153528528528527,
          0.19890202702702703,
          0.20626876876876876,
          0.2136355105105105,
          0.22100225225225223,
          0.228368993993994,
          0.23573573573573572,
          0.24310247747747746,
          0.2504692192192192,
          0.25783596096096095,
          0.2652027027027027,
          0.2725694444444444,
          0.27993618618618615,
          0.2873029279279279,
          0.2946696696696697,
          0.3020364114114114,
          0.30940315315315314,
          0.3167698948948949,
          0.3241366366366366,
          0.33150337837837834,
          0.3388701201201201,
          0.34623686186186187,
          0.3536036036036036,
          0.36097034534534533,
          0.36833708708708707,
          0.3757038288288288,
          0.38307057057057053,
          0.39043731231231227,
          0.39780405405405406,
          0.4051707957957958,
          0.4125375375375375,
          0.41990427927927926,
          0.427271021021021,
          0.4346377627627627,
          0.44200450450450446,
          0.44937124624624625,
          0.456737987987988,
          0.4641047297297297,
          0.47147147147147145,
          0.4788382132132132,
          0.4862049549549549,
          0.49357169669669665,
          0.5009384384384384,
          0.5083051801801801,
          0.5156719219219219,
          0.5230386636636636,
          0.5304054054054054,
          0.5377721471471472,
          0.5451388888888888,
          0.5525056306306306,
          0.5598723723723723,
          0.5672391141141141,
          0.5746058558558558,
          0.5819725975975976,
          0.5893393393393394,
          0.596706081081081,
          0.6040728228228228,
          0.6114395645645645,
          0.6188063063063063,
          0.626173048048048,
          0.6335397897897898,
          0.6409065315315315,
          0.6482732732732732,
          0.655640015015015,
          0.6630067567567567,
          0.6703734984984985,
          0.6777402402402402,
          0.6851069819819819,
          0.6924737237237237,
          0.6998404654654654,
          0.7072072072072072,
          0.7145739489489489,
          0.7219406906906907,
          0.7293074324324323,
          0.7366741741741741,
          0.7440409159159159,
          0.7514076576576576,
          0.7587743993993994,
          0.7661411411411411,
          0.7735078828828829,
          0.7808746246246245,
          0.7882413663663663,
          0.7956081081081081,
          0.8029748498498498,
          0.8103415915915916,
          0.8177083333333333,
          0.825075075075075,
          0.8324418168168167,
          0.8398085585585585,
          0.8471753003003003,
          0.854542042042042,
          0.8619087837837838,
          0.8692755255255254,
          0.8766422672672672,
          0.8840090090090089,
          0.8913757507507507,
          0.8987424924924925,
          0.9061092342342342,
          0.913475975975976,
          0.9208427177177176,
          0.9282094594594594,
          0.9355762012012011,
          0.9429429429429429,
          0.9503096846846847,
          0.9576764264264264,
          0.9650431681681682,
          0.9724099099099098,
          0.9797766516516516,
          0.9871433933933933,
          0.9945101351351351,
          1.0018768768768769,
          1.0092436186186187,
          1.0166103603603602,
          1.023977102102102,
          1.0313438438438438,
          1.0387105855855856,
          1.0460773273273272,
          1.053444069069069,
          1.0608108108108107,
          1.0681775525525525,
          1.0755442942942943,
          1.082911036036036,
          1.0902777777777777,
          1.0976445195195195,
          1.1050112612612613,
          1.112378003003003,
          1.1197447447447446,
          1.1271114864864864,
          1.1344782282282282,
          1.14184496996997,
          1.1492117117117115,
          1.1565784534534533,
          1.1639451951951951,
          1.171311936936937,
          1.1786786786786787,
          1.1860454204204203,
          1.193412162162162,
          1.2007789039039038,
          1.2081456456456456,
          1.2155123873873874,
          1.222879129129129,
          1.2302458708708708,
          1.2376126126126126,
          1.2449793543543544,
          1.252346096096096,
          1.2597128378378377,
          1.2670795795795795,
          1.2744463213213213,
          1.281813063063063,
          1.2891798048048047,
          1.2965465465465464,
          1.3039132882882882,
          1.31128003003003,
          1.3186467717717718,
          1.3260135135135134,
          1.3333802552552552,
          1.340746996996997,
          1.3481137387387387,
          1.3554804804804803,
          1.362847222222222,
          1.3702139639639639,
          1.3775807057057057,
          1.3849474474474475,
          1.392314189189189,
          1.3996809309309308,
          1.4070476726726726,
          1.4144144144144144,
          1.4217811561561562,
          1.4291478978978978,
          1.4365146396396395,
          1.4438813813813813,
          1.4512481231231231,
          1.4586148648648647,
          1.4659816066066065,
          1.4733483483483483,
          1.48071509009009,
          1.4880818318318318,
          1.4954485735735734,
          1.5028153153153152,
          1.510182057057057,
          1.5175487987987988,
          1.5249155405405406,
          1.5322822822822821,
          1.539649024024024,
          1.5470157657657657,
          1.5543825075075075,
          1.561749249249249,
          1.5691159909909909,
          1.5764827327327327,
          1.5838494744744744,
          1.5912162162162162,
          1.5985829579579578,
          1.6059496996996996,
          1.6133164414414414,
          1.6206831831831832,
          1.628049924924925,
          1.6354166666666665,
          1.6427834084084083,
          1.65015015015015,
          1.6575168918918919,
          1.6648836336336335,
          1.6722503753753752,
          1.679617117117117,
          1.6869838588588588,
          1.6943506006006006,
          1.7017173423423422,
          1.709084084084084,
          1.7164508258258258,
          1.7238175675675675,
          1.7311843093093093,
          1.738551051051051,
          1.7459177927927927,
          1.7532845345345345,
          1.7606512762762763,
          1.7680180180180178,
          1.7753847597597596,
          1.7827515015015014,
          1.7901182432432432,
          1.797484984984985,
          1.8048517267267266,
          1.8122184684684683,
          1.8195852102102101,
          1.826951951951952,
          1.8343186936936937,
          1.8416854354354353,
          1.849052177177177,
          1.8564189189189189,
          1.8637856606606606,
          1.8711524024024022,
          1.878519144144144,
          1.8858858858858858,
          1.8932526276276276,
          1.9006193693693694,
          1.907986111111111,
          1.9153528528528527,
          1.9227195945945945,
          1.9300863363363363,
          1.9374530780780779,
          1.9448198198198197,
          1.9521865615615615,
          1.9595533033033032,
          1.966920045045045,
          1.9742867867867866,
          1.9816535285285284,
          1.9890202702702702,
          1.996387012012012,
          2.0037537537537538,
          2.0111204954954953,
          2.0184872372372373,
          2.025853978978979,
          2.0332207207207205,
          2.0405874624624625,
          2.047954204204204,
          2.055320945945946,
          2.0626876876876876,
          2.070054429429429,
          2.077421171171171,
          2.0847879129129128,
          2.0921546546546543,
          2.0995213963963963,
          2.106888138138138,
          2.11425487987988,
          2.1216216216216215,
          2.128988363363363,
          2.136355105105105,
          2.1437218468468466,
          2.1510885885885886,
          2.15845533033033,
          2.165822072072072,
          2.173188813813814,
          2.1805555555555554,
          2.1879222972972974,
          2.195289039039039,
          2.2026557807807805,
          2.2100225225225225,
          2.217389264264264,
          2.224756006006006,
          2.2321227477477477,
          2.2394894894894892,
          2.2468562312312312,
          2.254222972972973,
          2.261589714714715,
          2.2689564564564564,
          2.276323198198198,
          2.28368993993994,
          2.2910566816816815,
          2.298423423423423,
          2.305790165165165,
          2.3131569069069067,
          2.3205236486486487,
          2.3278903903903903,
          2.335257132132132,
          2.342623873873874,
          2.3499906156156154,
          2.3573573573573574,
          2.364724099099099,
          2.3720908408408405,
          2.3794575825825826,
          2.386824324324324,
          2.394191066066066,
          2.4015578078078077,
          2.4089245495495493,
          2.4162912912912913,
          2.423658033033033,
          2.431024774774775,
          2.4383915165165164,
          2.445758258258258,
          2.453125,
          2.4604917417417416,
          2.4678584834834836,
          2.475225225225225,
          2.4825919669669667,
          2.4899587087087087,
          2.4973254504504503,
          2.504692192192192,
          2.512058933933934,
          2.5194256756756754,
          2.5267924174174174,
          2.534159159159159,
          2.5415259009009006,
          2.5488926426426426,
          2.556259384384384,
          2.563626126126126,
          2.5709928678678677,
          2.5783596096096093,
          2.5857263513513513,
          2.593093093093093,
          2.600459834834835,
          2.6078265765765765,
          2.615193318318318,
          2.62256006006006,
          2.6299268018018016,
          2.6372935435435436,
          2.644660285285285,
          2.6520270270270268,
          2.6593937687687688,
          2.6667605105105103,
          2.6741272522522523,
          2.681493993993994,
          2.6888607357357355,
          2.6962274774774775,
          2.703594219219219,
          2.7109609609609606,
          2.7183277027027026,
          2.725694444444444,
          2.733061186186186,
          2.7404279279279278,
          2.7477946696696693,
          2.7551614114114114,
          2.762528153153153,
          2.769894894894895,
          2.7772616366366365,
          2.784628378378378,
          2.79199512012012,
          2.7993618618618616,
          2.8067286036036037,
          2.8140953453453452,
          2.821462087087087,
          2.828828828828829,
          2.8361955705705704,
          2.8435623123123124,
          2.850929054054054,
          2.8582957957957955,
          2.8656625375375375,
          2.873029279279279,
          2.8803960210210207,
          2.8877627627627627,
          2.8951295045045042,
          2.9024962462462462,
          2.909862987987988,
          2.9172297297297294,
          2.9245964714714714,
          2.931963213213213,
          2.939329954954955,
          2.9466966966966965,
          2.954063438438438,
          2.96143018018018,
          2.9687969219219217,
          2.9761636636636637,
          2.9835304054054053,
          2.990897147147147,
          2.998263888888889,
          3.0056306306306304,
          3.0129973723723724,
          3.020364114114114,
          3.0277308558558556,
          3.0350975975975976,
          3.042464339339339,
          3.049831081081081,
          3.0571978228228227,
          3.0645645645645643,
          3.0719313063063063,
          3.079298048048048,
          3.0866647897897894,
          3.0940315315315314,
          3.101398273273273,
          3.108765015015015,
          3.1161317567567566,
          3.123498498498498,
          3.13086524024024,
          3.1382319819819817,
          3.1455987237237237,
          3.1529654654654653,
          3.160332207207207,
          3.167698948948949,
          3.1750656906906904,
          3.1824324324324325,
          3.189799174174174,
          3.1971659159159156,
          3.2045326576576576,
          3.211899399399399,
          3.219266141141141,
          3.2266328828828827,
          3.2339996246246243,
          3.2413663663663663,
          3.248733108108108,
          3.25609984984985,
          3.2634665915915915,
          3.270833333333333,
          3.278200075075075,
          3.2855668168168166,
          3.292933558558558,
          3.3003003003003,
          3.3076670420420418,
          3.3150337837837838,
          3.3224005255255253,
          3.329767267267267,
          3.337134009009009,
          3.3445007507507505,
          3.3518674924924925,
          3.359234234234234,
          3.3666009759759756,
          3.3739677177177176,
          3.381334459459459,
          3.388701201201201,
          3.396067942942943,
          3.4034346846846844,
          3.4108014264264264,
          3.418168168168168,
          3.42553490990991,
          3.4329016516516515,
          3.440268393393393,
          3.447635135135135,
          3.4550018768768767,
          3.4623686186186187,
          3.4697353603603602,
          3.477102102102102,
          3.484468843843844,
          3.4918355855855854,
          3.499202327327327,
          3.506569069069069,
          3.5139358108108105,
          3.5213025525525525,
          3.528669294294294,
          3.5360360360360357,
          3.5434027777777777,
          3.5507695195195192,
          3.5581362612612613,
          3.565503003003003,
          3.5728697447447444,
          3.5802364864864864,
          3.587603228228228,
          3.59496996996997,
          3.6023367117117115,
          3.609703453453453,
          3.617070195195195,
          3.6244369369369367,
          3.6318036786786787,
          3.6391704204204203,
          3.646537162162162,
          3.653903903903904,
          3.6612706456456454,
          3.6686373873873874,
          3.676004129129129,
          3.6833708708708706,
          3.6907376126126126,
          3.698104354354354,
          3.7054710960960957,
          3.7128378378378377,
          3.7202045795795793,
          3.7275713213213213,
          3.734938063063063,
          3.7423048048048044,
          3.7496715465465464,
          3.757038288288288,
          3.76440503003003,
          3.7717717717717716,
          3.779138513513513,
          3.786505255255255,
          3.7938719969969967,
          3.8012387387387387,
          3.8086054804804803,
          3.815972222222222,
          3.823338963963964,
          3.8307057057057055,
          3.8380724474474475,
          3.845439189189189,
          3.8528059309309306,
          3.8601726726726726,
          3.867539414414414,
          3.8749061561561557,
          3.8822728978978978,
          3.8896396396396393,
          3.8970063813813813,
          3.904373123123123,
          3.9117398648648645,
          3.9191066066066065,
          3.926473348348348,
          3.93384009009009,
          3.9412068318318316,
          3.948573573573573,
          3.955940315315315,
          3.9633070570570568,
          3.970673798798799,
          3.9780405405405403,
          3.985407282282282,
          3.992774024024024,
          4.0001407657657655,
          4.0075075075075075,
          4.014874249249249,
          4.022240990990991,
          4.029607732732733,
          4.036974474474475,
          4.044341216216216,
          4.051707957957958,
          4.0590746996997,
          4.066441441441441,
          4.073808183183183,
          4.081174924924925,
          4.088541666666666,
          4.095908408408408,
          4.10327515015015,
          4.110641891891892,
          4.118008633633633,
          4.125375375375375,
          4.132742117117117,
          4.140108858858858,
          4.1474756006006,
          4.154842342342342,
          4.1622090840840835,
          4.1695758258258255,
          4.1769425675675675,
          4.184309309309309,
          4.191676051051051,
          4.199042792792793,
          4.206409534534535,
          4.213776276276276,
          4.221143018018018,
          4.22850975975976,
          4.235876501501501,
          4.243243243243243,
          4.250609984984985,
          4.257976726726726,
          4.265343468468468,
          4.27271021021021,
          4.280076951951952,
          4.287443693693693,
          4.294810435435435,
          4.302177177177177,
          4.309543918918918,
          4.31691066066066,
          4.324277402402402,
          4.331644144144144,
          4.339010885885886,
          4.346377627627628,
          4.35374436936937,
          4.361111111111111,
          4.368477852852853,
          4.375844594594595,
          4.383211336336336,
          4.390578078078078,
          4.39794481981982,
          4.405311561561561,
          4.412678303303303,
          4.420045045045045,
          4.427411786786786,
          4.434778528528528,
          4.44214527027027,
          4.449512012012012,
          4.456878753753753,
          4.464245495495495,
          4.471612237237237,
          4.4789789789789785,
          4.4863457207207205,
          4.4937124624624625,
          4.501079204204204,
          4.508445945945946,
          4.515812687687688,
          4.52317942942943,
          4.530546171171171,
          4.537912912912913,
          4.545279654654655,
          4.552646396396396,
          4.560013138138138,
          4.56737987987988,
          4.574746621621621,
          4.582113363363363,
          4.589480105105105,
          4.596846846846846,
          4.604213588588588,
          4.61158033033033,
          4.618947072072072,
          4.626313813813813,
          4.633680555555555,
          4.641047297297297,
          4.6484140390390385,
          4.6557807807807805,
          4.6631475225225225,
          4.670514264264264,
          4.677881006006006,
          4.685247747747748,
          4.69261448948949,
          4.699981231231231,
          4.707347972972973,
          4.714714714714715,
          4.722081456456456,
          4.729448198198198,
          4.73681493993994,
          4.744181681681681,
          4.751548423423423,
          4.758915165165165,
          4.766281906906906,
          4.773648648648648,
          4.78101539039039,
          4.788382132132132,
          4.795748873873873,
          4.803115615615615,
          4.810482357357357,
          4.8178490990990985,
          4.8252158408408405,
          4.8325825825825826,
          4.839949324324324,
          4.847316066066066,
          4.854682807807808,
          4.86204954954955,
          4.869416291291291,
          4.876783033033033,
          4.884149774774775,
          4.891516516516516,
          4.898883258258258,
          4.90625,
          4.913616741741741,
          4.920983483483483,
          4.928350225225225,
          4.935716966966967,
          4.943083708708708,
          4.95045045045045,
          4.957817192192192,
          4.965183933933933,
          4.972550675675675,
          4.9799174174174174,
          4.987284159159159,
          4.994650900900901,
          5.002017642642643,
          5.009384384384384,
          5.016751126126126,
          5.024117867867868,
          5.03148460960961,
          5.038851351351351,
          5.046218093093093,
          5.053584834834835,
          5.060951576576576,
          5.068318318318318,
          5.07568506006006,
          5.083051801801801,
          5.090418543543543,
          5.097785285285285,
          5.105152027027027,
          5.112518768768768,
          5.11988551051051,
          5.127252252252252,
          5.1346189939939935,
          5.1419857357357355,
          5.1493524774774775,
          5.156719219219219,
          5.164085960960961,
          5.171452702702703,
          5.178819444444444,
          5.186186186186186,
          5.193552927927928,
          5.20091966966967,
          5.208286411411411,
          5.215653153153153,
          5.223019894894895,
          5.230386636636636,
          5.237753378378378,
          5.24512012012012,
          5.252486861861861,
          5.259853603603603,
          5.267220345345345,
          5.274587087087087,
          5.281953828828828,
          5.28932057057057,
          5.296687312312312,
          5.3040540540540535,
          5.3114207957957955,
          5.3187875375375375,
          5.326154279279279,
          5.333521021021021,
          5.340887762762763,
          5.348254504504505,
          5.355621246246246,
          5.362987987987988,
          5.37035472972973,
          5.377721471471471,
          5.385088213213213,
          5.392454954954955,
          5.399821696696696,
          5.407188438438438,
          5.41455518018018,
          5.421921921921921,
          5.429288663663663,
          5.436655405405405,
          5.444022147147147,
          5.451388888888888,
          5.45875563063063,
          5.466122372372372,
          5.4734891141141135,
          5.4808558558558556,
          5.488222597597598,
          5.495589339339339,
          5.502956081081081,
          5.510322822822823,
          5.517689564564565,
          5.525056306306306,
          5.532423048048048,
          5.53978978978979,
          5.547156531531531,
          5.554523273273273,
          5.561890015015015,
          5.569256756756756,
          5.576623498498498,
          5.58399024024024,
          5.591356981981981,
          5.598723723723723,
          5.606090465465465,
          5.613457207207207,
          5.620823948948948,
          5.6281906906906904,
          5.6355574324324325,
          5.642924174174174,
          5.650290915915916,
          5.657657657657658,
          5.665024399399399,
          5.672391141141141,
          5.679757882882883,
          5.687124624624625,
          5.694491366366366,
          5.701858108108108,
          5.70922484984985,
          5.716591591591591,
          5.723958333333333,
          5.731325075075075,
          5.738691816816816,
          5.746058558558558,
          5.7534253003003,
          5.760792042042041,
          5.768158783783783,
          5.775525525525525,
          5.782892267267267,
          5.7902590090090085,
          5.7976257507507505,
          5.8049924924924925,
          5.812359234234234,
          5.819725975975976,
          5.827092717717718,
          5.834459459459459,
          5.841826201201201,
          5.849192942942943,
          5.856559684684685,
          5.863926426426426,
          5.871293168168168,
          5.87865990990991,
          5.886026651651651,
          5.893393393393393,
          5.900760135135135,
          5.908126876876876,
          5.915493618618618,
          5.92286036036036,
          5.930227102102102,
          5.937593843843843,
          5.944960585585585,
          5.952327327327327,
          5.9596940690690685,
          5.9670608108108105,
          5.9744275525525525,
          5.981794294294294,
          5.989161036036036,
          5.996527777777778,
          6.003894519519519,
          6.011261261261261,
          6.018628003003003,
          6.025994744744745,
          6.033361486486486,
          6.040728228228228,
          6.04809496996997,
          6.055461711711711,
          6.062828453453453,
          6.070195195195195,
          6.077561936936936,
          6.084928678678678,
          6.09229542042042,
          6.099662162162162,
          6.107028903903903,
          6.114395645645645,
          6.121762387387387,
          6.1291291291291286,
          6.136495870870871,
          6.143862612612613,
          6.151229354354354,
          6.158596096096096,
          6.165962837837838,
          6.173329579579579,
          6.180696321321321,
          6.188063063063063,
          6.195429804804805,
          6.202796546546546,
          6.210163288288288,
          6.21753003003003,
          6.224896771771771,
          6.232263513513513,
          6.239630255255255,
          6.246996996996996,
          6.254363738738738,
          6.26173048048048,
          6.269097222222222,
          6.276463963963963,
          6.2838307057057055,
          6.2911974474474475,
          6.298564189189189,
          6.305930930930931,
          6.313297672672673,
          6.320664414414414,
          6.328031156156156,
          6.335397897897898,
          6.34276463963964,
          6.350131381381381,
          6.357498123123123,
          6.364864864864865,
          6.372231606606606,
          6.379598348348348,
          6.38696509009009,
          6.394331831831831,
          6.401698573573573,
          6.409065315315315,
          6.416432057057056,
          6.423798798798798,
          6.43116554054054,
          6.438532282282282,
          6.4458990240240235,
          6.4532657657657655,
          6.4606325075075075,
          6.467999249249249,
          6.475365990990991,
          6.482732732732733,
          6.490099474474474,
          6.497466216216216,
          6.504832957957958,
          6.5121996996997,
          6.519566441441441,
          6.526933183183183,
          6.534299924924925,
          6.541666666666666,
          6.549033408408408,
          6.55640015015015,
          6.563766891891891,
          6.571133633633633,
          6.578500375375375,
          6.585867117117116,
          6.593233858858858,
          6.6006006006006,
          6.607967342342342,
          6.6153340840840835,
          6.6227008258258255,
          6.6300675675675675,
          6.637434309309309,
          6.644801051051051,
          6.652167792792793,
          6.659534534534534,
          6.666901276276276,
          6.674268018018018,
          6.68163475975976,
          6.689001501501501,
          6.696368243243243,
          6.703734984984985,
          6.711101726726726,
          6.718468468468468,
          6.72583521021021,
          6.733201951951951,
          6.740568693693693,
          6.747935435435435,
          6.755302177177176,
          6.762668918918918,
          6.77003566066066,
          6.777402402402402,
          6.784769144144144,
          6.792135885885886,
          6.799502627627628,
          6.806869369369369,
          6.814236111111111,
          6.821602852852853,
          6.828969594594594,
          6.836336336336336,
          6.843703078078078,
          6.85106981981982,
          6.858436561561561,
          6.865803303303303,
          6.873170045045045,
          6.880536786786786,
          6.887903528528528,
          6.89527027027027,
          6.902637012012011,
          6.910003753753753,
          6.917370495495495,
          6.924737237237237,
          6.9321039789789785,
          6.9394707207207205,
          6.9468374624624625,
          6.954204204204204,
          6.961570945945946,
          6.968937687687688,
          6.976304429429429,
          6.983671171171171,
          6.991037912912913,
          6.998404654654654,
          7.005771396396396,
          7.013138138138138,
          7.02050487987988,
          7.027871621621621,
          7.035238363363363,
          7.042605105105105,
          7.049971846846846,
          7.057338588588588,
          7.06470533033033,
          7.072072072072071,
          7.079438813813813,
          7.086805555555555,
          7.094172297297297,
          7.1015390390390385,
          7.1089057807807805,
          7.1162725225225225,
          7.123639264264264,
          7.131006006006006,
          7.138372747747748,
          7.145739489489489,
          7.153106231231231,
          7.160472972972973,
          7.167839714714714,
          7.175206456456456,
          7.182573198198198,
          7.18993993993994,
          7.197306681681681,
          7.204673423423423,
          7.212040165165165,
          7.219406906906906,
          7.226773648648648,
          7.23414039039039,
          7.241507132132131,
          7.248873873873873,
          7.256240615615615,
          7.263607357357357,
          7.2709740990990985,
          7.2783408408408405,
          7.2857075825825826,
          7.293074324324324,
          7.300441066066066,
          7.307807807807808,
          7.315174549549549,
          7.322541291291291,
          7.329908033033033,
          7.337274774774775,
          7.344641516516516,
          7.352008258258258,
          7.359375
         ],
         "y": [
          0.03568119190800271,
          0.036142393088200414,
          0.03660819475088153,
          0.037078621334832876,
          0.0375536970742917,
          0.03803344599269073,
          0.03851789189636268,
          0.039007058368204554,
          0.03950096876130297,
          0.039999646192521554,
          0.04050311353605102,
          0.04101139341692317,
          0.04152450820448983,
          0.04204248000586721,
          0.042565330659347936,
          0.04309308172778025,
          0.043625754491916795,
          0.044163369943733384,
          0.044705948779718944,
          0.04525351139413817,
          0.045806077872267606,
          0.046363667983606395,
          0.046926301175063544,
          0.04749399656412182,
          0.04806677293198071,
          0.04864464871667879,
          0.04922764200619734,
          0.04981577053154651,
          0.0504090516598348,
          0.05100750238732428,
          0.051611139332471724,
          0.052219978728957894,
          0.05283403641870627,
          0.0534533278448921,
          0.05407786804494424,
          0.054707671643540234,
          0.05534275284559656,
          0.05598312542925611,
          0.05662880273887315,
          0.05727979767799874,
          0.057936122702367206,
          0.05859778981288531,
          0.05926481054862663,
          0.05993719597983154,
          0.06061495670091519,
          0.06129810282348519,
          0.06198664396936994,
          0.06268058926366044,
          0.06337994732776601,
          0.06408472627248683,
          0.06479493369110415,
          0.06551057665249015,
          0.06623166169423984,
          0.06695819481582571,
          0.06769018147177762,
          0.06842762656488995,
          0.06917053443945674,
          0.06991890887453818,
          0.07067275307725895,
          0.07143206967614074,
          0.07219686071447154,
          0.072967127643712,
          0.07374287131694247,
          0.0745240919823513,
          0.0753107892767669,
          0.0761029622192356,
          0.07690060920464682,
          0.07770372799740762,
          0.07851231572516891,
          0.07932636887260466,
          0.08014588327524672,
          0.08097085411337632,
          0.08180127590597555,
          0.08263714250473939,
          0.0834784470881509,
          0.08432518215562192,
          0.08517733952170052,
          0.08603491031034759,
          0.08689788494928449,
          0.08776625316441385,
          0.08864000397431514,
          0.08951912568481754,
          0.09040360588365152,
          0.09129343143518179,
          0.09218858847522267,
          0.09308906240593888,
          0.09399483789083315,
          0.09490589884982237,
          0.09582222845440523,
          0.09674380912292219,
          0.09767062251591044,
          0.09860264953155568,
          0.09953987030124238,
          0.10048226418520513,
          0.10142980976828193,
          0.10238248485577263,
          0.10334026646940349,
          0.1043031308433998,
          0.10527105342066956,
          0.10624400884909829,
          0.10722197097795849,
          0.10820491285443494,
          0.10919280672026713,
          0.11018562400851212,
          0.11118333534042786,
          0.11218591052248046,
          0.11319331854347583,
          0.11420552757181837,
          0.11522250495289804,
          0.11624421720660777,
          0.11727063002499259,
          0.11830170827003289,
          0.1193374159715623,
          0.12037771632532311,
          0.12142257169116037,
          0.12247194359135566,
          0.12352579270910344,
          0.12458407888713033,
          0.12564676112645948,
          0.1267137975853216,
          0.1277851455782137,
          0.12886076157510745,
          0.12994060120080875,
          0.1310246192344688,
          0.13211276960925003,
          0.13320500541214592,
          0.1343012788839584,
          0.1354015414194321,
          0.13650574356754783,
          0.1376138350319768,
          0.1387257646716953,
          0.13984148050176332,
          0.1409609296942655,
          0.1420840585794182,
          0.14321081264684188,
          0.1443411365470006,
          0.14547497409280963,
          0.14661226826141205,
          0.1477529611961253,
          0.14889699420855837,
          0.15004430778090092,
          0.1511948415683848,
          0.15234853440191878,
          0.15350532429089772,
          0.15466514842618584,
          0.15582794318327592,
          0.15699364412562444,
          0.15816218600816317,
          0.15933350278098826,
          0.16050752759322642,
          0.1616841927970799,
          0.16286342995204955,
          0.16404516982933684,
          0.16522934241642542,
          0.16641587692184173,
          0.1676047017800957,
          0.1687957446568013,
          0.1699889324539772,
          0.17118419131552742,
          0.1723814466329025,
          0.17358062305094088,
          0.17478164447389016,
          0.17598443407160919,
          0.17718891428594907,
          0.17839500683731513,
          0.17960263273140759,
          0.18081171226614198,
          0.1820221650387485,
          0.18323390995304958,
          0.18444686522691614,
          0.18566094839990113,
          0.18687607634105066,
          0.1880921652568909,
          0.18930913069959207,
          0.19052688757530667,
          0.19174535015268307,
          0.19296443207155237,
          0.1941840463517883,
          0.19540410540233943,
          0.1966245210304325,
          0.1978452044509455,
          0.19906606629595058,
          0.20028701662442455,
          0.2015079649321263,
          0.20272882016164032,
          0.20394949071258472,
          0.20516988445198198,
          0.2063899087247922,
          0.20760947036460686,
          0.20882847570450128,
          0.21004683058804496,
          0.21126444038046827,
          0.21248120997998307,
          0.21369704382925678,
          0.21491184592703724,
          0.21612551983992745,
          0.21733796871430755,
          0.21854909528840305,
          0.21975880190449687,
          0.22096699052128352,
          0.22217356272636332,
          0.22337841974887462,
          0.22458146247226243,
          0.2257825914471805,
          0.22698170690452527,
          0.2281787087685996,
          0.22937349667040338,
          0.23056596996104955,
          0.23175602772530238,
          0.23294356879523648,
          0.23412849176401307,
          0.23531069499977217,
          0.2364900766596372,
          0.23766653470383034,
          0.23883996690989498,
          0.24001027088702384,
          0.2411773440904889,
          0.24234108383617167,
          0.24350138731518958,
          0.24465815160861693,
          0.24581127370229713,
          0.24696065050174293,
          0.24810617884712274,
          0.24924775552832876,
          0.2503852773001253,
          0.251518640897373,
          0.2526477430503272,
          0.2537724805000063,
          0.254892750013627,
          0.2560084484001047,
          0.257119472525614,
          0.2582257193292071,
          0.259327085838487,
          0.26042346918533144,
          0.26151476662166523,
          0.2626008755352771,
          0.2636816934656776,
          0.26475711811999497,
          0.2658270473889058,
          0.2668913793625964,
          0.2679500123467519,
          0.26900284487857007,
          0.2700497757427946,
          0.271090703987767,
          0.2721255289414915,
          0.2731541502277096,
          0.2741764677819824,
          0.275192381867775,
          0.27620179309254056,
          0.27720460242380046,
          0.27820071120521656,
          0.27919002117265185,
          0.2801724344702165,
          0.28114785366629486,
          0.28211618176955044,
          0.283077322244905,
          0.2840311790294875,
          0.28497765654855056,
          0.28591665973134917,
          0.2868480940269794,
          0.28777186542017286,
          0.2886878804470422,
          0.2895960462107762,
          0.2904962703972792,
          0.29138846129075097,
          0.29227252778920454,
          0.29314837941991745,
          0.29401592635481333,
          0.29487507942576946,
          0.2957257501398474,
          0.2965678506944425,
          0.29740129399234916,
          0.2982259936567377,
          0.2990418640460398,
          0.2998488202687385,
          0.3006467781980593,
          0.30143565448655907,
          0.3022153665806087,
          0.30298583273476665,
          0.3037469720260392,
          0.30449870436802434,
          0.3052409505249362,
          0.3059736321255059,
          0.30669667167675474,
          0.3074099925776393,
          0.30811351913256113,
          0.30880717656474066,
          0.30949089102945077,
          0.3101645896271069,
          0.31082820041621073,
          0.3114816524261436,
          0.3121248756698076,
          0.3127578011561097,
          0.31338036090228705,
          0.31399248794607004,
          0.31459411635767953,
          0.3151851812516557,
          0.315765618798516,
          0.31633536623623826,
          0.3168943618815667,
          0.3174425451411381,
          0.3179798565224248,
          0.31850623764449204,
          0.3190216312485675,
          0.3195259812084192,
          0.3200192325405396,
          0.3205013314141342,
          0.32097222516091084,
          0.32143186228466736,
          0.3218801924706765,
          0.32231716659486387,
          0.3227427367327773,
          0.3231568561683465,
          0.3235594794024286,
          0.323950562161139,
          0.3243300614039648,
          0.3246979353316589,
          0.32505414339391264,
          0.32539864629680487,
          0.3257314060100257,
          0.3260523857738737,
          0.32636155010602286,
          0.3266588648080603,
          0.3269442969717903,
          0.32721781498530494,
          0.32747938853881925,
          0.3277289886302686,
          0.32796658757066827,
          0.32819215898923243,
          0.3284056778382525,
          0.32860712039773204,
          0.3287964642797791,
          0.3289736884327527,
          0.3291387731451636,
          0.32929170004932856,
          0.32943245212477595,
          0.32956101370140345,
          0.329677370462385,
          0.32978150944682855,
          0.329873419052182,
          0.3299530890363874,
          0.33002051051978376,
          0.33007567598675586,
          0.330118579287131,
          0.3301492156373214,
          0.33016758162121346,
          0.33017367519080226,
          0.3301674956665725,
          0.33014904373762455,
          0.3301183214615465,
          0.33007533226403185,
          0.3300200809382425,
          0.3299525736439185,
          0.32987281790623335,
          0.3297808226143959,
          0.3296765980199991,
          0.3295601557351161,
          0.32943150873014415,
          0.32929067133139633,
          0.32913765921844307,
          0.32897248942120233,
          0.328795180316781,
          0.32860575162606714,
          0.32840422441007405,
          0.3281906210660381,
          0.32796496532326974,
          0.32772728223876035,
          0.327477598192545,
          0.3272159408828229,
          0.32694233932083616,
          0.3266568238255091,
          0.3263594260178487,
          0.3260501788151083,
          0.32572911642471497,
          0.3253962743379637,
          0.32505168932347883,
          0.3246953994204444,
          0.32432744393160623,
          0.32394786341604614,
          0.32355669968173145,
          0.3231539957778409,
          0.32273979598686847,
          0.32231414581650925,
          0.32187709199132664,
          0.3214286824442048,
          0.32096896630758853,
          0.3204979939045119,
          0.3200158167394186,
          0.3195224874887761,
          0.3190180599914863,
          0.3185025892390948,
          0.317976131365801,
          0.3174387436382728,
          0.31689048444526696,
          0.3163314132870585,
          0.31576159076468213,
          0.31518107856898775,
          0.314589939469513,
          0.3139882373031763,
          0.31337603696279204,
          0.3127534043854118,
          0.3121204065404944,
          0.31147711141790685,
          0.3108235880157609,
          0.31015990632808615,
          0.30948613733234515,
          0.3088023529767908,
          0.30810862616767226,
          0.30740503075629005,
          0.30669164152590483,
          0.3059685341785031,
          0.3052357853214223,
          0.30449347245383956,
          0.30374167395312685,
          0.30298046906107573,
          0.3022099378699963,
          0.3014301613086915,
          0.3006412211283129,
          0.29984319988809927,
          0.2990361809410023,
          0.2982202484192033,
          0.29739548721952347,
          0.2965619829887321,
          0.29571982210875586,
          0.294869091681793,
          0.2940098795153352,
          0.2931422741071027,
          0.2922663646298931,
          0.291382240916351,
          0.2904899934436595,
          0.28958971331815814,
          0.28868149225989154,
          0.28776542258709065,
          0.2868415972005928,
          0.28591010956820134,
          0.28497105370899106,
          0.2840245241775616,
          0.28307061604824274,
          0.2821094248992559,
          0.28114104679683455,
          0.2801655782793079,
          0.27918311634115156,
          0.2781937584170082,
          0.2771976023656828,
          0.2761947464541148,
          0.2751852893413326,
          0.2741693300623925,
          0.2731469680123064,
          0.27211830292996153,
          0.2710834348820368,
          0.27004246424691747,
          0.2689954916986142,
          0.2679426181906873,
          0.26688394494018247,
          0.26581957341157936,
          0.2647496053007575,
          0.2636741425189836,
          0.26259328717692193,
          0.2615071415686735,
          0.26041580815584564,
          0.2593193895516563,
          0.2582179885050764,
          0.25711170788501314,
          0.2560006506645383,
          0.2548849199051647,
          0.25376461874117284,
          0.25263985036399367,
          0.25151071800664737,
          0.25037732492824477,
          0.24923977439855172,
          0.24809816968262105,
          0.24695261402549548,
          0.2458032106369832,
          0.2446500626765105,
          0.24349327323805398,
          0.24233294533515504,
          0.24116918188602,
          0.2400020856987088,
          0.23883175945641444,
          0.23765830570283739,
          0.23648182682765587,
          0.23530242505209667,
          0.23412020241460826,
          0.23293526075663795,
          0.23174770170851863,
          0.23055762667546384,
          0.22936513682367696,
          0.22817033306657586,
          0.22697331605113416,
          0.22577418614434447,
          0.2245730434198027,
          0.2233699876444184,
          0.22216511826525254,
          0.22095853439648358,
          0.21975033480650694,
          0.21854061790516707,
          0.2173294817311262,
          0.21611702393937132,
          0.21490334178886059,
          0.21368853213031266,
          0.21247269139413924,
          0.2112559155785242,
          0.21003830023764997,
          0.2088199404700736,
          0.2076009309072538,
          0.2063813657022315,
          0.20516133851846396,
          0.20394094251881606,
          0.20272027035470827,
          0.20149941415542433,
          0.20027846551757958,
          0.19905751549475048,
          0.19783665458726835,
          0.19661597273217685,
          0.19539555929335564,
          0.19417550305181122,
          0.192955892196135,
          0.19173681431313164,
          0.19051835637861658,
          0.18930060474838536,
          0.18808364514935502,
          0.18686756267087776,
          0.1856524417562295,
          0.18443836619427217,
          0.18322541911129128,
          0.18201368296301032,
          0.1808032395267805,
          0.17959416989394866,
          0.17838655446240262,
          0.17718047292929417,
          0.17597600428394153,
          0.17477322680090995,
          0.17357221803327205,
          0.17237305480604792,
          0.1711758132098243,
          0.16998056859455474,
          0.1687873955635388,
          0.1675963679675824,
          0.16640755889933792,
          0.16522104068782456,
          0.16403688489312915,
          0.16285516230128666,
          0.16167594291934104,
          0.16049929597058563,
          0.15932528988998282,
          0.15815399231976376,
          0.1569854701052056,
          0.155819789290589,
          0.15465701511533217,
          0.15349721201030364,
          0.15234044359431118,
          0.15118677267076885,
          0.15003626122453864,
          0.14888897041894783,
          0.147744960592982,
          0.14660429125865113,
          0.14546702109852874,
          0.14433320796346497,
          0.14320290887046996,
          0.14207618000076866,
          0.140953076698025,
          0.1398336534667364,
          0.13871796397079478,
          0.13760606103221493,
          0.13649799663002982,
          0.1353938218993498,
          0.13429358713058526,
          0.13319734176883344,
          0.13210513441342525,
          0.13101701281763262,
          0.1299330238885355,
          0.12885321368704591,
          0.12777762742808865,
          0.12670630948093664,
          0.12563930336970122,
          0.12457665177397337,
          0.12351839652961621,
          0.12246457862970778,
          0.12141523822563087,
          0.12037041462830919,
          0.11933014630958984,
          0.11829447090376764,
          0.11726342520925233,
          0.11623704519037502,
          0.11521536597933481,
          0.11419842187828091,
          0.11318624636153045,
          0.11217887207792072,
          0.11117633085329247,
          0.11017865369310335,
          0.10918587078517084,
          0.10819801150254085,
          0.10721510440648192,
          0.10623717724960183,
          0.10526425697908671,
          0.10429636974005876,
          0.1033335408790516,
          0.1023757949476024,
          0.1014231557059571,
          0.10047564612688777,
          0.09953328839962089,
          0.09859610393387347,
          0.09766411336399511,
          0.09673733655321579,
          0.0958157925979951,
          0.09489949983247263,
          0.09398847583301669,
          0.09308273742287053,
          0.0921823006768926,
          0.0912871809263896,
          0.09039739276404117,
          0.08951295004891274,
          0.08863386591155521,
          0.08776015275919058,
          0.08689182228097907,
          0.0860288854533686,
          0.08517135254552194,
          0.0843192331248221,
          0.08347253606245203,
          0.08263126953904695,
          0.08179544105041907,
          0.08096505741334994,
          0.08014012477145041,
          0.07932064860108619,
          0.07850663371736585,
          0.07769808428018976,
          0.07689500380035943,
          0.0760973951457427,
          0.07530526054749503,
          0.07451860160633351,
          0.07373741929886302,
          0.07296171398395103,
          0.07219148540915016,
          0.0714267327171667,
          0.07066745445237223,
          0.06991364856735705,
          0.06916531242952399,
          0.06842244282771966,
          0.06768503597890198,
          0.06695308753484168,
          0.06622659258885695,
          0.0655055456825777,
          0.06478994081273876,
          0.06407977143800063,
          0.06337503048579445,
          0.06267571035919037,
          0.061981802943788245,
          0.06129329961462705,
          0.060610191243112635,
          0.059932468203962135,
          0.05926012038216241,
          0.05859313717994157,
          0.05793150752375128,
          0.05727521987125926,
          0.056624262218348896,
          0.05597862210612515,
          0.05533828662792544,
          0.054703242436333045,
          0.054073475750191675,
          0.053448972361620634,
          0.052829717643027324,
          0.05221569655411698,
          0.051606893648897145,
          0.05100329308267644,
          0.05040487861905512,
          0.04981163363690602,
          0.04922354113734581,
          0.04864058375069319,
          0.04806274374341379,
          0.047490003025050714,
          0.046922343155138053,
          0.04635974535009738,
          0.045802190490114754,
          0.04524965912599824,
          0.044702131486013465,
          0.04415958748269623,
          0.04362200671964176,
          0.04308936849826829,
          0.04256165182455417,
          0.04203883541574791,
          0.04152089770704913,
          0.04100781685825943,
          0.04049957076040312,
          0.039996137042315,
          0.039497493077195696,
          0.03900361598913228,
          0.038514482659584404,
          0.03803006973383372,
          0.037550353627396164,
          0.03707531053239666,
          0.03660491642390426,
          0.036139147066227326,
          0.03567797801916851,
          0.03522138464423722,
          0.03476934211082013,
          0.03432182540230791,
          0.03387880932217817,
          0.033440268500033184,
          0.03300617739759178,
          0.03257651031463525,
          0.032151241394905744,
          0.03173034463195654,
          0.03131379387495453,
          0.03090156283443291,
          0.030493625087993994,
          0.030089954085962226,
          0.029690523156985508,
          0.02929530551358534,
          0.028904274257654516,
          0.028517402385902575,
          0.028134662795247768,
          0.027756028288155307,
          0.02738147157792196,
          0.02701096529390561,
          0.026644481986699897,
          0.026281994133253904,
          0.025923474141935493,
          0.025568894357538927,
          0.025218227066235655,
          0.02487144450046877,
          0.024528518843789905,
          0.024189422235638823,
          0.02385412677606561,
          0.02352260453039466,
          0.023194827533830446,
          0.022870767796005304,
          0.022550397305468275,
          0.022233688034115427,
          0.021920611941561027,
          0.021611140979450036,
          0.02130524709571119,
          0.02100290223875064,
          0.02070407836158673,
          0.02040874742592483,
          0.02011688140617281,
          0.019828452293397143,
          0.01954343209921931,
          0.019261792859652405,
          0.01898350663887857,
          0.018708545532966567,
          0.01843688167352999,
          0.01816848723132577,
          0.0179033344197936,
          0.01764139549853582,
          0.01738264277673796,
          0.017127048616530475,
          0.016874585436291233,
          0.016625225713889077,
          0.016378941989868893,
          0.01613570687057792,
          0.01589549303123373,
          0.015658273218933955,
          0.015424020255608104,
          0.015192707040911522,
          0.014964306555061653,
          0.014738791861617214,
          0.014516136110200077,
          0.014296312539160274,
          0.014079294478184632,
          0.013865055350848933,
          0.013653568677114045,
          0.013444808075766528,
          0.013238747266803618,
          0.013035360073763297,
          0.012834620425999352,
          0.012636502360902397,
          0.012440980026066452,
          0.01224802768140188,
          0.012057619701195163,
          0.011869730576115414,
          0.011684334915168354,
          0.011501407447598186,
          0.011320923024737434,
          0.011142856621805487,
          0.010967183339655942,
          0.010793878406473592,
          0.010622917179420995,
          0.010454275146235243,
          0.01028792792677566,
          0.010123851274522335,
          0.009962021078026245,
          0.009802413362311567,
          0.00964500429023018,
          0.009489770163769206,
          0.009336687425311997,
          0.009185732658852816,
          0.009036882591165961,
          0.008890114092929564,
          0.008745404179804862,
          0.008602730013471038,
          0.00846206890261638,
          0.00832339830388631,
          0.008186695822788491,
          0.008051939214555685,
          0.007919106384967057,
          0.00778817539112798,
          0.007659124442209256,
          0.00753193190014598,
          0.007406576280296843,
          0.007283036252064086,
          0.007161290639474755,
          0.007041318421723885,
          0.006923098733679935,
          0.006806610866353034,
          0.006691834267326727,
          0.006578748541153502,
          0.006467333449714781,
          0.006357568912545757,
          0.006249435007125858,
          0.006142911969135013,
          0.006037980192676435,
          0.005934620230466539,
          0.005832812793992282,
          0.005732538753636529,
          0.005633779138772134,
          0.0055365151378249985,
          0.005440728098306722,
          0.005346399526817486,
          0.005253511089019494,
          0.005162044609581588,
          0.005071982072095497,
          0.004983305618964371,
          0.0048959975512638644,
          0.004810040328576483,
          0.0047254165687996555,
          0.004642109047927953,
          0.00456010069981001,
          0.004479374615880724,
          0.0043999140448690395,
          0.004321702392482045,
          0.00424472322106562,
          0.004168960249242391,
          0.004094397351527259,
          0.004021018557921062,
          0.003948808053482927,
          0.003877750177881672,
          0.0038078294249267383,
          0.003739030442079278,
          0.003671338029943652,
          0.0036047371417399173,
          0.0035392128827577965,
          0.0034747505097924933,
          0.0034113354305628624,
          0.0033489532031123477,
          0.003287589535193232,
          0.003227230283634493,
          0.003167861453693778,
          0.0031094691983940084,
          0.0030520398178449,
          0.0029955597585498614,
          0.0029400156126988554,
          0.0028853941174473517,
          0.0028316821541820706,
          0.0027788667477736846,
          0.0027269350658171263,
          0.002675874417859661,
          0.0026256722546172855,
          0.0025763161671798155,
          0.002527793886204978,
          0.0024800932811019603,
          0.002433202359204815,
          0.0023871092649360047,
          0.002341802278960532,
          0.0022972698173309818,
          0.002253500430623891,
          0.0022104828030677214,
          0.002168205751662827,
          0.002126658225293812,
          0.0020858293038345105,
          0.00204570819724603,
          0.002006284244668138,
          0.001967546913504342,
          0.001929485798500942,
          0.0018920906208204642,
          0.001855351227109687,
          0.0018192575885626384,
          0.001783799799978838,
          0.0017489680788171176,
          0.0017147527642452634,
          0.0016811443161857936,
          0.0016481333143582143,
          0.0016157104573179225,
          0.0015838665614921195,
          0.0015525925602130016,
          0.0015218795027484402,
          0.0014917185533304723,
          0.0014621009901818187,
          0.001433018204540731,
          0.001404461699684358,
          0.0013764230899509073,
          0.001348894099760864,
          0.0013218665626374534,
          0.0012953324202266015,
          0.001269283721316647,
          0.0012437126208579763,
          0.001218611378982819,
          0.001193972360025449,
          0.0011697880315429485,
          0.0011460509633367726,
          0.0011227538264752923,
          0.001099889392317552,
          0.0010774505315383745,
          0.001055430213155043,
          0.0010338215035557434,
          0.0010126175655299143,
          0.0009918116573007045,
          0.0009713971315597131,
          0.0009513674345041596,
          0.000931716104876652,
          0.000912436773007712,
          0.0008935231598612401,
          0.0008749690760830079,
          0.000856768421052382,
          0.000838915181937408,
          0.0008214034327533692,
          0.0008042273334249791,
          0.0007873811288523472,
          0.0007708591479808119,
          0.0007546558028747904,
          0.0007387655877957675,
          0.0007231830782845269,
          0.0007079029302477394,
          0.0006929198790490238,
          0.0006782287386045955,
          0.0006638244004835809,
          0.0006497018330131167,
          0.00063585608038833,
          0.000622282261787279,
          0.0006089755704909519,
          0.000595931273008421,
          0.0005831447082072104,
          0.0005706112864489815,
          0.0005583264887305914,
          0.0005462858658306316,
          0.0005344850374614726,
          0.0005229196914269138,
          0.0005115855827855091,
          0.0005004785330196013,
          0.0004895944292101406,
          0.00047892922321736235,
          0.0004684789308673387,
          0.00045823963114449153,
          0.0004482074653900855,
          0.00043837863650678164,
          0.0004287494081692589,
          0.00041931610404096224,
          0.00041007510699702765,
          0.000401022858353392,
          0.00039215585710213947,
          0.0003834706591531209,
          0.0003749638765818583,
          0.00036663217688376836,
          0.00035847228223473903,
          0.00035048096875806803,
          0.00034265506579778614,
          0.00033499145519838986,
          0.0003274870705909963,
          0.0003201388966859312,
          0.00031294396857176103,
          0.00030589937102079335,
          0.00029900223780103064,
          0.00029224975099460446,
          0.00028563914032268535,
          0.0002791676824768699,
          0.00027283270045705096,
          0.0002666315629157655,
          0.00026056168350902567,
          0.0002546205202536186,
          0.000248805574890875,
          0.00024311439225690505,
          0.00023754455965928247,
          0.00023209370626017033,
          0.00022675950246588657,
          0.00022153965932287937,
          0.00021643192792011285,
          0.00021143409879784218,
          0.0002065440013627596,
          0.00020175950330949584,
          0.00019707851004845692,
          0.0001924989641399769,
          0.0001880188447347644,
          0.00018363616702061616,
          0.00017934898167538477,
          0.00017515537432616338,
          0.00017105346501466645,
          0.00016704140766878484,
          0.0001631173895802789,
          0.00015927963088858588,
          0.0001555263840707091,
          0.00015185593343716524,
          0.00014826659463394878,
          0.00014475671415048512,
          0.0001413246688335458,
          0.00013796886540708248,
          0.00013468773999794883,
          0.00013147975766748064,
          0.0001283434119488893,
          0.00012527722439043822,
          0.00012227974410436272,
          0.0001193495473214995
         ]
        }
       ],
       "layout": {
        "template": {
         "data": {
          "bar": [
           {
            "error_x": {
             "color": "#2a3f5f"
            },
            "error_y": {
             "color": "#2a3f5f"
            },
            "marker": {
             "line": {
              "color": "#E5ECF6",
              "width": 0.5
             },
             "pattern": {
              "fillmode": "overlay",
              "size": 10,
              "solidity": 0.2
             }
            },
            "type": "bar"
           }
          ],
          "barpolar": [
           {
            "marker": {
             "line": {
              "color": "#E5ECF6",
              "width": 0.5
             },
             "pattern": {
              "fillmode": "overlay",
              "size": 10,
              "solidity": 0.2
             }
            },
            "type": "barpolar"
           }
          ],
          "carpet": [
           {
            "aaxis": {
             "endlinecolor": "#2a3f5f",
             "gridcolor": "white",
             "linecolor": "white",
             "minorgridcolor": "white",
             "startlinecolor": "#2a3f5f"
            },
            "baxis": {
             "endlinecolor": "#2a3f5f",
             "gridcolor": "white",
             "linecolor": "white",
             "minorgridcolor": "white",
             "startlinecolor": "#2a3f5f"
            },
            "type": "carpet"
           }
          ],
          "choropleth": [
           {
            "colorbar": {
             "outlinewidth": 0,
             "ticks": ""
            },
            "type": "choropleth"
           }
          ],
          "contour": [
           {
            "colorbar": {
             "outlinewidth": 0,
             "ticks": ""
            },
            "colorscale": [
             [
              0,
              "#0d0887"
             ],
             [
              0.1111111111111111,
              "#46039f"
             ],
             [
              0.2222222222222222,
              "#7201a8"
             ],
             [
              0.3333333333333333,
              "#9c179e"
             ],
             [
              0.4444444444444444,
              "#bd3786"
             ],
             [
              0.5555555555555556,
              "#d8576b"
             ],
             [
              0.6666666666666666,
              "#ed7953"
             ],
             [
              0.7777777777777778,
              "#fb9f3a"
             ],
             [
              0.8888888888888888,
              "#fdca26"
             ],
             [
              1,
              "#f0f921"
             ]
            ],
            "type": "contour"
           }
          ],
          "contourcarpet": [
           {
            "colorbar": {
             "outlinewidth": 0,
             "ticks": ""
            },
            "type": "contourcarpet"
           }
          ],
          "heatmap": [
           {
            "colorbar": {
             "outlinewidth": 0,
             "ticks": ""
            },
            "colorscale": [
             [
              0,
              "#0d0887"
             ],
             [
              0.1111111111111111,
              "#46039f"
             ],
             [
              0.2222222222222222,
              "#7201a8"
             ],
             [
              0.3333333333333333,
              "#9c179e"
             ],
             [
              0.4444444444444444,
              "#bd3786"
             ],
             [
              0.5555555555555556,
              "#d8576b"
             ],
             [
              0.6666666666666666,
              "#ed7953"
             ],
             [
              0.7777777777777778,
              "#fb9f3a"
             ],
             [
              0.8888888888888888,
              "#fdca26"
             ],
             [
              1,
              "#f0f921"
             ]
            ],
            "type": "heatmap"
           }
          ],
          "heatmapgl": [
           {
            "colorbar": {
             "outlinewidth": 0,
             "ticks": ""
            },
            "colorscale": [
             [
              0,
              "#0d0887"
             ],
             [
              0.1111111111111111,
              "#46039f"
             ],
             [
              0.2222222222222222,
              "#7201a8"
             ],
             [
              0.3333333333333333,
              "#9c179e"
             ],
             [
              0.4444444444444444,
              "#bd3786"
             ],
             [
              0.5555555555555556,
              "#d8576b"
             ],
             [
              0.6666666666666666,
              "#ed7953"
             ],
             [
              0.7777777777777778,
              "#fb9f3a"
             ],
             [
              0.8888888888888888,
              "#fdca26"
             ],
             [
              1,
              "#f0f921"
             ]
            ],
            "type": "heatmapgl"
           }
          ],
          "histogram": [
           {
            "marker": {
             "pattern": {
              "fillmode": "overlay",
              "size": 10,
              "solidity": 0.2
             }
            },
            "type": "histogram"
           }
          ],
          "histogram2d": [
           {
            "colorbar": {
             "outlinewidth": 0,
             "ticks": ""
            },
            "colorscale": [
             [
              0,
              "#0d0887"
             ],
             [
              0.1111111111111111,
              "#46039f"
             ],
             [
              0.2222222222222222,
              "#7201a8"
             ],
             [
              0.3333333333333333,
              "#9c179e"
             ],
             [
              0.4444444444444444,
              "#bd3786"
             ],
             [
              0.5555555555555556,
              "#d8576b"
             ],
             [
              0.6666666666666666,
              "#ed7953"
             ],
             [
              0.7777777777777778,
              "#fb9f3a"
             ],
             [
              0.8888888888888888,
              "#fdca26"
             ],
             [
              1,
              "#f0f921"
             ]
            ],
            "type": "histogram2d"
           }
          ],
          "histogram2dcontour": [
           {
            "colorbar": {
             "outlinewidth": 0,
             "ticks": ""
            },
            "colorscale": [
             [
              0,
              "#0d0887"
             ],
             [
              0.1111111111111111,
              "#46039f"
             ],
             [
              0.2222222222222222,
              "#7201a8"
             ],
             [
              0.3333333333333333,
              "#9c179e"
             ],
             [
              0.4444444444444444,
              "#bd3786"
             ],
             [
              0.5555555555555556,
              "#d8576b"
             ],
             [
              0.6666666666666666,
              "#ed7953"
             ],
             [
              0.7777777777777778,
              "#fb9f3a"
             ],
             [
              0.8888888888888888,
              "#fdca26"
             ],
             [
              1,
              "#f0f921"
             ]
            ],
            "type": "histogram2dcontour"
           }
          ],
          "mesh3d": [
           {
            "colorbar": {
             "outlinewidth": 0,
             "ticks": ""
            },
            "type": "mesh3d"
           }
          ],
          "parcoords": [
           {
            "line": {
             "colorbar": {
              "outlinewidth": 0,
              "ticks": ""
             }
            },
            "type": "parcoords"
           }
          ],
          "pie": [
           {
            "automargin": true,
            "type": "pie"
           }
          ],
          "scatter": [
           {
            "fillpattern": {
             "fillmode": "overlay",
             "size": 10,
             "solidity": 0.2
            },
            "type": "scatter"
           }
          ],
          "scatter3d": [
           {
            "line": {
             "colorbar": {
              "outlinewidth": 0,
              "ticks": ""
             }
            },
            "marker": {
             "colorbar": {
              "outlinewidth": 0,
              "ticks": ""
             }
            },
            "type": "scatter3d"
           }
          ],
          "scattercarpet": [
           {
            "marker": {
             "colorbar": {
              "outlinewidth": 0,
              "ticks": ""
             }
            },
            "type": "scattercarpet"
           }
          ],
          "scattergeo": [
           {
            "marker": {
             "colorbar": {
              "outlinewidth": 0,
              "ticks": ""
             }
            },
            "type": "scattergeo"
           }
          ],
          "scattergl": [
           {
            "marker": {
             "colorbar": {
              "outlinewidth": 0,
              "ticks": ""
             }
            },
            "type": "scattergl"
           }
          ],
          "scattermapbox": [
           {
            "marker": {
             "colorbar": {
              "outlinewidth": 0,
              "ticks": ""
             }
            },
            "type": "scattermapbox"
           }
          ],
          "scatterpolar": [
           {
            "marker": {
             "colorbar": {
              "outlinewidth": 0,
              "ticks": ""
             }
            },
            "type": "scatterpolar"
           }
          ],
          "scatterpolargl": [
           {
            "marker": {
             "colorbar": {
              "outlinewidth": 0,
              "ticks": ""
             }
            },
            "type": "scatterpolargl"
           }
          ],
          "scatterternary": [
           {
            "marker": {
             "colorbar": {
              "outlinewidth": 0,
              "ticks": ""
             }
            },
            "type": "scatterternary"
           }
          ],
          "surface": [
           {
            "colorbar": {
             "outlinewidth": 0,
             "ticks": ""
            },
            "colorscale": [
             [
              0,
              "#0d0887"
             ],
             [
              0.1111111111111111,
              "#46039f"
             ],
             [
              0.2222222222222222,
              "#7201a8"
             ],
             [
              0.3333333333333333,
              "#9c179e"
             ],
             [
              0.4444444444444444,
              "#bd3786"
             ],
             [
              0.5555555555555556,
              "#d8576b"
             ],
             [
              0.6666666666666666,
              "#ed7953"
             ],
             [
              0.7777777777777778,
              "#fb9f3a"
             ],
             [
              0.8888888888888888,
              "#fdca26"
             ],
             [
              1,
              "#f0f921"
             ]
            ],
            "type": "surface"
           }
          ],
          "table": [
           {
            "cells": {
             "fill": {
              "color": "#EBF0F8"
             },
             "line": {
              "color": "white"
             }
            },
            "header": {
             "fill": {
              "color": "#C8D4E3"
             },
             "line": {
              "color": "white"
             }
            },
            "type": "table"
           }
          ]
         },
         "layout": {
          "annotationdefaults": {
           "arrowcolor": "#2a3f5f",
           "arrowhead": 0,
           "arrowwidth": 1
          },
          "autotypenumbers": "strict",
          "coloraxis": {
           "colorbar": {
            "outlinewidth": 0,
            "ticks": ""
           }
          },
          "colorscale": {
           "diverging": [
            [
             0,
             "#8e0152"
            ],
            [
             0.1,
             "#c51b7d"
            ],
            [
             0.2,
             "#de77ae"
            ],
            [
             0.3,
             "#f1b6da"
            ],
            [
             0.4,
             "#fde0ef"
            ],
            [
             0.5,
             "#f7f7f7"
            ],
            [
             0.6,
             "#e6f5d0"
            ],
            [
             0.7,
             "#b8e186"
            ],
            [
             0.8,
             "#7fbc41"
            ],
            [
             0.9,
             "#4d9221"
            ],
            [
             1,
             "#276419"
            ]
           ],
           "sequential": [
            [
             0,
             "#0d0887"
            ],
            [
             0.1111111111111111,
             "#46039f"
            ],
            [
             0.2222222222222222,
             "#7201a8"
            ],
            [
             0.3333333333333333,
             "#9c179e"
            ],
            [
             0.4444444444444444,
             "#bd3786"
            ],
            [
             0.5555555555555556,
             "#d8576b"
            ],
            [
             0.6666666666666666,
             "#ed7953"
            ],
            [
             0.7777777777777778,
             "#fb9f3a"
            ],
            [
             0.8888888888888888,
             "#fdca26"
            ],
            [
             1,
             "#f0f921"
            ]
           ],
           "sequentialminus": [
            [
             0,
             "#0d0887"
            ],
            [
             0.1111111111111111,
             "#46039f"
            ],
            [
             0.2222222222222222,
             "#7201a8"
            ],
            [
             0.3333333333333333,
             "#9c179e"
            ],
            [
             0.4444444444444444,
             "#bd3786"
            ],
            [
             0.5555555555555556,
             "#d8576b"
            ],
            [
             0.6666666666666666,
             "#ed7953"
            ],
            [
             0.7777777777777778,
             "#fb9f3a"
            ],
            [
             0.8888888888888888,
             "#fdca26"
            ],
            [
             1,
             "#f0f921"
            ]
           ]
          },
          "colorway": [
           "#636efa",
           "#EF553B",
           "#00cc96",
           "#ab63fa",
           "#FFA15A",
           "#19d3f3",
           "#FF6692",
           "#B6E880",
           "#FF97FF",
           "#FECB52"
          ],
          "font": {
           "color": "#2a3f5f"
          },
          "geo": {
           "bgcolor": "white",
           "lakecolor": "white",
           "landcolor": "#E5ECF6",
           "showlakes": true,
           "showland": true,
           "subunitcolor": "white"
          },
          "hoverlabel": {
           "align": "left"
          },
          "hovermode": "closest",
          "mapbox": {
           "style": "light"
          },
          "paper_bgcolor": "white",
          "plot_bgcolor": "#E5ECF6",
          "polar": {
           "angularaxis": {
            "gridcolor": "white",
            "linecolor": "white",
            "ticks": ""
           },
           "bgcolor": "#E5ECF6",
           "radialaxis": {
            "gridcolor": "white",
            "linecolor": "white",
            "ticks": ""
           }
          },
          "scene": {
           "xaxis": {
            "backgroundcolor": "#E5ECF6",
            "gridcolor": "white",
            "gridwidth": 2,
            "linecolor": "white",
            "showbackground": true,
            "ticks": "",
            "zerolinecolor": "white"
           },
           "yaxis": {
            "backgroundcolor": "#E5ECF6",
            "gridcolor": "white",
            "gridwidth": 2,
            "linecolor": "white",
            "showbackground": true,
            "ticks": "",
            "zerolinecolor": "white"
           },
           "zaxis": {
            "backgroundcolor": "#E5ECF6",
            "gridcolor": "white",
            "gridwidth": 2,
            "linecolor": "white",
            "showbackground": true,
            "ticks": "",
            "zerolinecolor": "white"
           }
          },
          "shapedefaults": {
           "line": {
            "color": "#2a3f5f"
           }
          },
          "ternary": {
           "aaxis": {
            "gridcolor": "white",
            "linecolor": "white",
            "ticks": ""
           },
           "baxis": {
            "gridcolor": "white",
            "linecolor": "white",
            "ticks": ""
           },
           "bgcolor": "#E5ECF6",
           "caxis": {
            "gridcolor": "white",
            "linecolor": "white",
            "ticks": ""
           }
          },
          "title": {
           "x": 0.05
          },
          "xaxis": {
           "automargin": true,
           "gridcolor": "white",
           "linecolor": "white",
           "ticks": "",
           "title": {
            "standoff": 15
           },
           "zerolinecolor": "white",
           "zerolinewidth": 2
          },
          "yaxis": {
           "automargin": true,
           "gridcolor": "white",
           "linecolor": "white",
           "ticks": "",
           "title": {
            "standoff": 15
           },
           "zerolinecolor": "white",
           "zerolinewidth": 2
          }
         }
        },
        "title": {
         "text": "Attraction Variance by Gender (Bell Curve)"
        },
        "xaxis": {
         "title": {
          "text": "Attraction Variance"
         }
        },
        "yaxis": {
         "title": {
          "text": "Density"
         }
        }
       }
      },
      "text/html": [
       "<div>                            <div id=\"897f515e-94c9-4850-a260-b8642ef69f47\" class=\"plotly-graph-div\" style=\"height:525px; width:100%;\"></div>            <script type=\"text/javascript\">                require([\"plotly\"], function(Plotly) {                    window.PLOTLYENV=window.PLOTLYENV || {};                                    if (document.getElementById(\"897f515e-94c9-4850-a260-b8642ef69f47\")) {                    Plotly.newPlot(                        \"897f515e-94c9-4850-a260-b8642ef69f47\",                        [{\"line\":{\"color\":\"#ff6361\"},\"mode\":\"lines\",\"name\":\"Female Curve\",\"x\":[0.15999999999999998,0.1654256725861664,0.1708513451723328,0.17627701775849922,0.18170269034466563,0.18712836293083204,0.19255403551699846,0.19797970810316487,0.20340538068933128,0.2088310532754977,0.2142567258616641,0.21968239844783052,0.22510807103399694,0.23053374362016338,0.23595941620632976,0.2413850887924962,0.2468107613786626,0.25223643396482903,0.2576621065509954,0.26308777913716186,0.26851345172332824,0.2739391243094947,0.27936479689566107,0.2847904694818275,0.29021614206799395,0.29564181465416034,0.3010674872403267,0.30649315982649317,0.3119188324126596,0.317344504998826,0.3227701775849924,0.3281958501711588,0.33362152275732526,0.33904719534349165,0.34447286792965803,0.3498985405158245,0.3553242131019909,0.3607498856881573,0.3661755582743237,0.37160123086049013,0.37702690344665657,0.38245257603282296,0.38787824861898934,0.3933039212051558,0.3987295937913222,0.4041552663774886,0.409580938963655,0.41500661154982144,0.4204322841359879,0.42585795672215426,0.4312836293083207,0.4367093018944871,0.44213497448065353,0.4475606470668199,0.45298631965298636,0.45841199223915274,0.4638376648253192,0.46926333741148557,0.474689009997652,0.4801146825838184,0.48554035516998484,0.4909660277561512,0.49639170034231767,0.501817372928484,0.5072430455146505,0.5126687181008169,0.5180943906869833,0.5235200632731498,0.5289457358593161,0.5343714084454826,0.539797081031649,0.5452227536178154,0.5506484262039818,0.5560740987901482,0.5614997713763146,0.5669254439624811,0.5723511165486475,0.5777767891348139,0.5832024617209803,0.5886281343071467,0.5940538068933131,0.5994794794794795,0.6049051520656459,0.6103308246518124,0.6157564972379788,0.6211821698241452,0.6266078424103116,0.632033514996478,0.6374591875826444,0.6428848601688109,0.6483105327549772,0.6537362053411437,0.6591618779273101,0.6645875505134764,0.670013223099643,0.6754388956858093,0.6808645682719758,0.6862902408581422,0.6917159134443085,0.697141586030475,0.7025672586166414,0.7079929312028079,0.7134186037889743,0.7188442763751406,0.7242699489613071,0.7296956215474735,0.7351212941336398,0.7405469667198064,0.7459726393059727,0.7513983118921392,0.7568239844783056,0.7622496570644719,0.7676753296506384,0.7731010022368048,0.7785266748229711,0.7839523474091377,0.789378019995304,0.7948036925814705,0.8002293651676369,0.8056550377538032,0.8110807103399698,0.8165063829261361,0.8219320555123024,0.827357728098469,0.8327834006846353,0.8382090732708019,0.8436347458569682,0.8490604184431345,0.8544860910293011,0.8599117636154674,0.865337436201634,0.8707631087878003,0.8761887813739666,0.8816144539601332,0.8870401265462995,0.8924657991324658,0.8978914717186324,0.9033171443047987,0.9087428168909653,0.9141684894771316,0.9195941620632979,0.9250198346494645,0.9304455072356308,0.9358711798217971,0.9412968524079637,0.94672252499413,0.9521481975802966,0.9575738701664629,0.9629995427526292,0.9684252153387958,0.9738508879249621,0.9792765605111284,0.984702233097295,0.9901279056834613,0.9955535782696279,1.0009792508557942,1.0064049234419605,1.011830596028127,1.0172562686142934,1.0226819412004597,1.0281076137866263,1.0335332863727926,1.0389589589589592,1.0443846315451255,1.0498103041312918,1.0552359767174584,1.0606616493036247,1.0660873218897913,1.0715129944759576,1.076938667062124,1.0823643396482905,1.0877900122344568,1.0932156848206231,1.0986413574067897,1.104067029992956,1.1094927025791226,1.114918375165289,1.1203440477514552,1.1257697203376218,1.1311953929237881,1.1366210655099545,1.142046738096121,1.1474724106822873,1.1528980832684539,1.1583237558546202,1.1637494284407865,1.1691751010269529,1.1746007736131194,1.1800264461992858,1.1854521187854523,1.1908777913716186,1.196303463957785,1.2017291365439515,1.2071548091301179,1.2125804817162844,1.2180061543024507,1.223431826888617,1.2288574994747836,1.23428317206095,1.2397088446471163,1.2451345172332828,1.2505601898194492,1.2559858624056157,1.261411534991782,1.2668372075779484,1.272262880164115,1.2776885527502813,1.2831142253364476,1.2885398979226141,1.2939655705087805,1.299391243094947,1.3048169156811134,1.3102425882672797,1.3156682608534462,1.3210939334396126,1.326519606025779,1.3319452786119454,1.3373709511981118,1.3427966237842783,1.3482222963704447,1.353647968956611,1.3590736415427775,1.3644993141289439,1.3699249867151102,1.3753506593012768,1.380776331887443,1.3862020044736096,1.391627677059776,1.3970533496459423,1.4024790222321089,1.4079046948182752,1.4133303674044417,1.418756039990608,1.4241817125767744,1.429607385162941,1.4350330577491073,1.4404587303352736,1.4458844029214402,1.4513100755076065,1.456735748093773,1.4621614206799394,1.4675870932661057,1.4730127658522723,1.4784384384384386,1.483864111024605,1.4892897836107715,1.4947154561969378,1.5001411287831043,1.5055668013692707,1.510992473955437,1.5164181465416036,1.52184381912777,1.5272694917139362,1.5326951643001028,1.538120836886269,1.5435465094724357,1.548972182058602,1.5543978546447683,1.5598235272309349,1.5652491998171012,1.5706748724032678,1.576100544989434,1.5815262175756004,1.586951890161767,1.5923775627479333,1.5978032353340996,1.6032289079202662,1.6086545805064325,1.614080253092599,1.6195059256787654,1.6249315982649317,1.6303572708510983,1.6357829434372646,1.641208616023431,1.6466342886095975,1.6520599611957638,1.6574856337819304,1.6629113063680967,1.668336978954263,1.6737626515404296,1.679188324126596,1.6846139967127622,1.6900396692989288,1.6954653418850951,1.7008910144712617,1.706316687057428,1.7117423596435943,1.7171680322297609,1.7225937048159272,1.7280193774020938,1.73344504998826,1.7388707225744264,1.744296395160593,1.7497220677467593,1.7551477403329256,1.7605734129190922,1.7659990855052585,1.771424758091425,1.7768504306775914,1.7822761032637577,1.7877017758499243,1.7931274484360906,1.798553121022257,1.8039787936084235,1.8094044661945898,1.8148301387807564,1.8202558113669227,1.825681483953089,1.8311071565392556,1.836532829125422,1.8419585017115883,1.8473841742977548,1.8528098468839211,1.8582355194700877,1.863661192056254,1.8690868646424204,1.874512537228587,1.8799382098147532,1.8853638824009196,1.8907895549870861,1.8962152275732524,1.901640900159419,1.9070665727455853,1.9124922453317517,1.9179179179179182,1.9233435905040845,1.928769263090251,1.9341949356764174,1.9396206082625838,1.9450462808487503,1.9504719534349166,1.955897626021083,1.9613232986072495,1.9667489711934159,1.9721746437795824,1.9776003163657487,1.983025988951915,1.9884516615380816,1.993877334124248,1.9993030067104143,2.004728679296581,2.0101543518827474,2.015580024468914,2.02100569705508,2.0264313696412466,2.031857042227413,2.0372827148135793,2.042708387399746,2.0481340599859124,2.0535597325720785,2.058985405158245,2.0644110777444116,2.0698367503305777,2.0752624229167442,2.080688095502911,2.0861137680890773,2.0915394406752434,2.09696511326141,2.1023907858475765,2.1078164584337427,2.113242131019909,2.1186678036060758,2.124093476192242,2.1295191487784084,2.134944821364575,2.140370493950741,2.1457961665369076,2.151221839123074,2.1566475117092403,2.162073184295407,2.1674988568815734,2.17292452946774,2.178350202053906,2.1837758746400726,2.189201547226239,2.1946272198124057,2.200052892398572,2.2054785649847384,2.210904237570905,2.216329910157071,2.2217555827432376,2.227181255329404,2.2326069279155702,2.238032600501737,2.2434582730879034,2.2488839456740695,2.254309618260236,2.2597352908464026,2.265160963432569,2.2705866360187352,2.276012308604902,2.2814379811910683,2.2868636537772344,2.292289326363401,2.2977149989495675,2.3031406715357337,2.3085663441219,2.3139920167080668,2.319417689294233,2.3248433618803994,2.330269034466566,2.335694707052732,2.3411203796388986,2.346546052225065,2.3519717248112317,2.357397397397398,2.3628230699835644,2.368248742569731,2.373674415155897,2.3791000877420636,2.38452576032823,2.3899514329143963,2.395377105500563,2.4008027780867294,2.4062284506728955,2.411654123259062,2.4170797958452286,2.422505468431395,2.4279311410175612,2.433356813603728,2.4387824861898943,2.4442081587760605,2.449633831362227,2.4550595039483936,2.4604851765345597,2.4659108491207262,2.4713365217068928,2.476762194293059,2.4821878668792254,2.487613539465392,2.493039212051558,2.4984648846377246,2.503890557223891,2.5093162298100578,2.514741902396224,2.5201675749823904,2.525593247568557,2.531018920154723,2.5364445927408896,2.541870265327056,2.5472959379132223,2.552721610499389,2.5581472830855554,2.5635729556717215,2.568998628257888,2.5744243008440546,2.5798499734302207,2.5852756460163873,2.590701318602554,2.5961269911887204,2.6015526637748865,2.606978336361053,2.6124040089472196,2.6178296815333857,2.6232553541195522,2.628681026705719,2.634106699291885,2.6395323718780515,2.644958044464218,2.650383717050384,2.6558093896365507,2.661235062222717,2.6666607348088838,2.67208640739505,2.6775120799812164,2.682937752567383,2.688363425153549,2.6937890977397156,2.699214770325882,2.7046404429120483,2.710066115498215,2.7154917880843814,2.7209174606705475,2.726343133256714,2.7317688058428806,2.7371944784290467,2.7426201510152133,2.74804582360138,2.7534714961875464,2.7588971687737125,2.764322841359879,2.7697485139460456,2.7751741865322117,2.7805998591183783,2.786025531704545,2.791451204290711,2.7968768768768775,2.802302549463044,2.80772822204921,2.8131538946353767,2.8185795672215432,2.82400523980771,2.829430912393876,2.8348565849800424,2.840282257566209,2.845707930152375,2.8511336027385417,2.856559275324708,2.8619849479108743,2.867410620497041,2.8728362930832074,2.8782619656693735,2.88368763825554,2.8891133108417066,2.8945389834278727,2.8999646560140393,2.905390328600206,2.9108160011863724,2.9162416737725385,2.921667346358705,2.9270930189448716,2.9325186915310377,2.9379443641172043,2.943370036703371,2.948795709289537,2.9542213818757035,2.95964705446187,2.965072727048036,2.9704983996342027,2.9759240722203693,2.981349744806536,2.986775417392702,2.9922010899788685,2.997626762565035,3.003052435151201,3.0084781077373677,3.0139037803235342,3.0193294529097003,3.024755125495867,3.0301807980820334,3.0356064706681996,3.041032143254366,3.0464578158405327,3.0518834884266988,3.0573091610128653,3.062734833599032,3.0681605061851984,3.0735861787713645,3.079011851357531,3.0844375239436976,3.0898631965298637,3.0952888691160303,3.100714541702197,3.106140214288363,3.1115658868745295,3.116991559460696,3.122417232046862,3.1278429046330287,3.1332685772191953,3.138694249805362,3.144119922391528,3.1495455949776945,3.154971267563861,3.160396940150027,3.1658226127361937,3.1712482853223602,3.1766739579085264,3.182099630494693,3.1875253030808595,3.1929509756670256,3.198376648253192,3.2038023208393587,3.209227993425525,3.2146536660116913,3.220079338597858,3.2255050111840244,3.2309306837701905,3.236356356356357,3.2417820289425237,3.2472077015286898,3.2526333741148563,3.258059046701023,3.263484719287189,3.2689103918733555,3.274336064459522,3.279761737045688,3.2851874096318547,3.2906130822180213,3.296038754804188,3.301464427390354,3.3068900999765205,3.312315772562687,3.317741445148853,3.3231671177350197,3.3285927903211863,3.3340184629073524,3.339444135493519,3.3448698080796855,3.3502954806658516,3.355721153252018,3.3611468258381847,3.366572498424351,3.3719981710105174,3.377423843596684,3.3828495161828505,3.3882751887690166,3.393700861355183,3.3991265339413497,3.404552206527516,3.4099778791136823,3.415403551699849,3.420829224286015,3.4262548968721815,3.431680569458348,3.437106242044514,3.4425319146306808,3.4479575872168473,3.4533832598030134,3.45880893238918,3.4642346049753465,3.469660277561513,3.475085950147679,3.4805116227338457,3.4859372953200123,3.4913629679061784,3.496788640492345,3.5022143130785115,3.5076399856646776,3.513065658250844,3.5184913308370107,3.523917003423177,3.5293426760093434,3.53476834859551,3.5401940211816765,3.5456196937678426,3.551045366354009,3.5564710389401757,3.561896711526342,3.5673223841125083,3.572748056698675,3.578173729284841,3.5835994018710076,3.589025074457174,3.59445074704334,3.5998764196295068,3.6053020922156733,3.6107277648018394,3.616153437388006,3.6215791099741725,3.627004782560339,3.632430455146505,3.6378561277326718,3.6432818003188383,3.6487074729050044,3.654133145491171,3.6595588180773375,3.6649844906635036,3.67041016324967,3.6758358358358367,3.681261508422003,3.6866871810081694,3.692112853594336,3.6975385261805025,3.7029641987666686,3.708389871352835,3.7138155439390017,3.719241216525168,3.7246668891113344,3.730092561697501,3.735518234283667,3.7409439068698336,3.746369579456,3.7517952520421662,3.757220924628333,3.7626465972144993,3.7680722698006655,3.773497942386832,3.7789236149729986,3.784349287559165,3.789774960145331,3.7952006327314978,3.8006263053176643,3.8060519779038304,3.811477650489997,3.8169033230761635,3.8223289956623296,3.827754668248496,3.8331803408346627,3.838606013420829,3.8440316860069954,3.849457358593162,3.8548830311793285,3.8603087037654946,3.865734376351661,3.8711600489378277,3.876585721523994,3.8820113941101604,3.887437066696327,3.892862739282493,3.8982884118686596,3.903714084454826,3.9091397570409923,3.914565429627159,3.9199911022133254,3.9254167747994915,3.930842447385658,3.9362681199718246,3.941693792557991,3.9471194651441572,3.952545137730324,3.9579708103164903,3.9633964829026564,3.968822155488823,3.9742478280749896,3.9796735006611557,3.985099173247322,3.9905248458334888,3.995950518419655,4.001376191005821,4.0068018635919875,4.0122275361781545,4.017653208764321,4.023078881350487,4.028504553936654,4.03393022652282,4.039355899108986,4.044781571695153,4.050207244281319,4.055632916867485,4.061058589453652,4.066484262039818,4.071909934625984,4.077335607212151,4.0827612797983175,4.088186952384484,4.093612624970651,4.099038297556817,4.104463970142983,4.10988964272915,4.115315315315316,4.120740987901482,4.126166660487649,4.131592333073815,4.137018005659981,4.142443678246148,4.147869350832314,4.1532950234184804,4.158720696004647,4.1641463685908136,4.1695720411769805,4.174997713763147,4.180423386349313,4.18584905893548,4.191274731521646,4.196700404107812,4.202126076693979,4.207551749280145,4.212977421866312,4.218403094452478,4.223828767038644,4.229254439624811,4.234680112210977,4.2401057847971435,4.2455314573833105,4.250957129969477,4.256382802555643,4.26180847514181,4.267234147727976,4.272659820314142,4.278085492900309,4.283511165486475,4.288936838072641,4.294362510658808,4.299788183244974,4.30521385583114,4.310639528417307,4.3160652010034735,4.32149087358964,4.326916546175807,4.332342218761973,4.337767891348139,4.343193563934306,4.348619236520472,4.354044909106638,4.359470581692805,4.364896254278971,4.370321926865138,4.375747599451304,4.38117327203747,4.386598944623637,4.392024617209803,4.3974502897959695,4.4028759623821365,4.408301634968303,4.413727307554469,4.419152980140636,4.424578652726802,4.430004325312968,4.435429997899135,4.440855670485301,4.446281343071467,4.451707015657634,4.4571326882438,4.462558360829966,4.467984033416133,4.4734097060022995,4.478835378588466,4.484261051174633,4.489686723760799,4.495112396346965,4.500538068933132,4.505963741519298,4.511389414105464,4.516815086691631,4.522240759277797,4.527666431863964,4.53309210445013,4.538517777036296,4.543943449622463,4.549369122208629,4.5547947947947955,4.5602204673809625,4.565646139967129,4.571071812553295,4.576497485139462,4.581923157725628,4.587348830311794,4.592774502897961,4.598200175484127,4.603625848070293,4.60905152065646,4.614477193242626,4.619902865828792,4.625328538414959,4.6307542110011255,4.636179883587292,4.641605556173459,4.647031228759625,4.652456901345791,4.657882573931958,4.663308246518124,4.66873391910429,4.674159591690457,4.679585264276623,4.68501093686279,4.690436609448956,4.695862282035122,4.701287954621289,4.7067136272074555,4.712139299793622,4.717564972379789,4.722990644965955,4.728416317552121,4.733841990138288,4.739267662724454,4.74469333531062,4.750119007896787,4.755544680482953,4.760970353069119,4.766396025655286,4.771821698241452,4.777247370827618,4.782673043413785,4.7880987159999515,4.793524388586118,4.798950061172285,4.804375733758451,4.809801406344617,4.815227078930784,4.82065275151695,4.826078424103116,4.831504096689283,4.836929769275449,4.842355441861615,4.847781114447782,4.853206787033948,4.858632459620115,4.8640581322062815,4.869483804792448,4.874909477378615,4.880335149964781,4.885760822550947,4.891186495137114,4.89661216772328,4.902037840309446,4.907463512895613,4.912889185481779,4.918314858067945,4.923740530654112,4.929166203240278,4.934591875826444,4.940017548412611,4.9454432209987775,4.950868893584944,4.956294566171111,4.961720238757277,4.967145911343443,4.97257158392961,4.977997256515776,4.983422929101942,4.988848601688109,4.994274274274275,4.999699946860441,5.005125619446608,5.010551292032774,5.015976964618941,5.0214026372051075,5.026828309791274,5.032253982377441,5.037679654963607,5.043105327549773,5.04853100013594,5.053956672722106,5.059382345308272,5.064808017894439,5.070233690480605,5.075659363066771,5.081085035652938,5.086510708239104,5.0919363808252704,5.097362053411437,5.1027877259976036,5.10821339858377,5.113639071169937,5.119064743756103,5.124490416342269,5.129916088928436,5.135341761514602,5.140767434100768,5.146193106686935,5.151618779273101,5.157044451859267,5.162470124445434,5.1678957970316,5.173321469617767,5.1787471422039335,5.1841728147901,5.189598487376267,5.195024159962433,5.200449832548599,5.205875505134766,5.211301177720932,5.216726850307098,5.222152522893265,5.227578195479431,5.233003868065597,5.238429540651764,5.24385521323793,5.2492808858240965,5.2547065584102635,5.26013223099643,5.265557903582596,5.270983576168763,5.276409248754929,5.281834921341095,5.287260593927262,5.292686266513428,5.298111939099594,5.303537611685761,5.308963284271927,5.314388956858093,5.31981462944426,5.325240302030426,5.330665974616593,5.3360916472027595,5.341517319788926,5.346942992375093,5.352368664961259,5.357794337547425,5.363220010133592,5.368645682719758,5.374071355305924,5.379497027892091,5.384922700478257,5.390348373064423,5.39577404565059,5.401199718236756,5.4066253908229225,5.4120510634090895,5.417476735995256,5.422902408581422,5.428328081167589,5.433753753753755,5.439179426339921,5.444605098926088,5.450030771512254,5.45545644409842,5.460882116684587,5.466307789270753,5.471733461856919,5.477159134443086,5.482584807029252,5.488010479615419,5.4934361522015855,5.498861824787752,5.504287497373919,5.509713169960085,5.515138842546251,5.520564515132418,5.525990187718584,5.53141586030475,5.536841532890917,5.542267205477083,5.547692878063249,5.553118550649416,5.558544223235582,5.5639698958217485,5.5693955684079155,5.574821240994082,5.580246913580248],\"y\":[0.04013565128129157,0.04063792482579808,0.04114512807869942,0.041657288930436166,0.04217443512591666,0.04269659425902568,0.04322379376708944,0.043756060925298504,0.04429342284108852,0.044835906448478964,0.04538353850237175,0.04593634557280913,0.04649435403919211,0.04705759008445998,0.04762607968923169,0.048199848625909564,0.04877892245274619,0.04936332650787543,0.04995308590330779,0.05054822551889163,0.051148769996240157,0.05175474373262582,0.05236617087484247,0.05298307531303596,0.05360548067450481,0.05423341031747078,0.05486688732482097,0.055505934497822304,0.05615057434980896,0.0568008290998438,0.057456720666355196,0.058118270660749614,0.058785500381001145,0.05945843080521935,0.06013708258519597,0.060821476039931814,0.061511631149144576,0.06220756754675925,0.06290930451438168,0.06361686097475629,0.06433025548521,0.06504950623108226,0.06577463101914297,0.06650564727099999,0.06724257201649615,0.06798542188709812,0.06873421310927784,0.06948896149788769,0.07024968244953088,0.07101639093592826,0.07178910149728274,0.07256782823564262,0.07335258480826533,0.07414338442098259,0.07494023982156868,0.07574316329311265,0.07655216664739667,0.07736726121828101,0.0781884578550974,0.07901576691605254,0.07984919826164259,0.08068876124808011,0.08153446472073572,0.08238631700759454,0.08324432591273019,0.08410849870979711,0.08497884213554278,0.08585536238334147,0.08673806509675089,0.08762695536309348,0.0885220377070637,0.08942331608436253,0.09033079387536175,0.09124447387879824,0.09216435830550071,0.0930904487721507,0.0940227462950779,0.09496125128409372,0.09590596353636242,0.096856882230313,0.09781400591959256,0.09877733252706318,0.09974685933884392,0.10072258299839934,0.10170449950067624,0.10269260418629061,0.10368689173576587,0.10468735616382442,0.10569399081373411,0.10670678835171132,0.10772574076138175,0.1087508393383019,0.10978207468454103,0.11081943670332718,0.11186291459375762,0.11291249684557554,0.1139681712340156,0.1150299248147185,0.11609774391871779,0.11717161414749931,0.11825152036813559,0.11933744670849696,0.1204293765525404,0.12152729253567855,0.12263117654023017,0.12374100969095303,0.12485677235066266,0.12597844411593656,0.12710600381290676,0.1282394294931423,0.12937869842962216,0.1305237871128023,0.1316746712467761,0.13283132574553114,0.13399372472930443,0.13516184152103597,0.1363356486429233,0.13751511781307935,0.13870021994229295,0.13989092513089602,0.14108720266573702,0.14228902101726354,0.14349634783671442,0.14470914995342427,0.14592739337224003,0.147151043271053,0.14838006399844628,0.1496144190714602,0.15085407117347602,0.15209898215222017,0.1533491130178908,0.15460442394140603,0.1558648742527781,0.1571304224396124,0.15840102614573368,0.1596766421699413,0.16095722646489322,0.1622427341361218,0.1635331194411816,0.16482833578893014,0.16612833573894412,0.16743307100107102,0.16874249243511766,0.17005655005067719,0.17137519300709533,0.17269836961357643,0.1740260273294322,0.17535811276447139,0.17669457167953434,0.1780353489871712,0.17938038875246579,0.18072963419400645,0.18208302768500342,0.18344051075455495,0.18480202408906238,0.18616750753379527,0.18753690009460716,0.18891013993980288,0.19028716440215815,0.19166790998109215,0.19305231234499393,0.19444030633370274,0.195831825961144,0.19722680441812013,0.19862517407525804,0.20002686648611306,0.20143181239042982,0.20283994171756148,0.204251183590046,0.20566546632734167,0.20708271744972154,0.2085028636823259,0.20992583095937584,0.21135154442854526,0.21277992845549334,0.2142109066285572,0.2156444017636046,0.21708033590904752,0.21851863035101568,0.21995920561869084,0.22140198148980214,0.22284687699628114,0.22429381043007768,0.2257426993491368,0.22719346058353446,0.22864601024177478,0.23010026371724623,0.23155613569483777,0.2330135401577138,0.23447239039424916,0.2359325990051213,0.23739407791056202,0.23885673835776583,0.2403204909284562,0.24178524554660852,0.2432509114863287,0.24471739737988824,0.2461846112259132,0.24765246039772812,0.24912085165185316,0.250589691136654,0.2520588844011437,0.25352833640393546,0.2549979515223462,0.25646763356164837,0.2579372857644712,0.2594068108203485,0.26087611087541296,0.2623450875422357,0.2638136419098096,0.2652816745536762,0.26674908554619325,0.26821577446694383,0.2696816404132837,0.2711465820110269,0.27261049742526816,0.2740732843713396,0.2755348401259018,0.27699506153816683,0.27845384504125137,0.2799110866636602,0.2813666820408959,0.2828205264271947,0.28427251470738746,0.28572254140888215,0.28717050071376715,0.2886162864710344,0.2900597922089182,0.2915009111473513,0.2929395362105327,0.2943755600396075,0.295808875005457,0.29723937322159477,0.29866694655717035,0.30009148665007457,0.3015128849201466,0.30293103258248144,0.3043458206608331,0.3057571400011127,0.30716488128498054,0.3085689350435266,0.30996919167104126,0.3113655414388697,0.31275787450935116,0.31414608094983876,0.3155300507467977,0.31690967381998,0.3182848400366728,0.31965543922601747,0.3210213611933984,0.32238249573489675,0.32373873265180825,0.32508996176522226,0.3264360729306587,0.32777695605276047,0.3291125011000395,0.33044259811967225,0.3317671372523437,0.3330860087471351,0.3343991029764546,0.3357063104510067,0.33700752183479804,0.3383026279601772,0.33959151984290487,0.340874088697252,0.34215022595112315,0.34341982326120174,0.34468277252811425,0.3459389659116114,0.3471882958457617,0.3484306550541563,0.3496659365651205,0.3508940337269297,0.35211484022302714,0.35332825008723984,0.35453415771898955,0.3557324578984968,0.3569230458019731,0.3581058170168006,0.35928066755669424,0.36044749387684394,0.3616061928890344,0.3627566619767385,0.3638987990101816,0.3650325023613738,0.3661576709191072,0.3672742041039144,0.3683820018829859,0.36948096478504283,0.37057099391516257,0.3716519909695528,0.37272385825027327,0.3737864986798991,0.3748398158161256,0.37588371386630964,0.3769180977019448,0.37794287287306794,0.3789579456225935,0.37996322290057233,0.3809586123783733,0.38194402246278303,0.382919362310021,0.3838845418396691,0.3848394717485093,0.3857840635242694,0.3867182294592721,0.387641882663985,0.38855493708046956,0.389457307495724,0.3903489095549191,0.3912296597745235,0.3920994755553155,0.3929582751952778,0.3938059779023746,0.39464250380720506,0.39546777397553373,0.3962817104206923,0.3970842361158519,0.39787527500616215,0.39865475202075507,0.3994225930846105,0.4001787251302807,0.4009230761094717,0.4016555750044789,0.4023761518394736,0.4030847376916389,0.4037812647021519,0.4044656660870105,0.4051378761477007,0.4057978302817045,0.40644546499284384,0.4070807179014591,0.4077035277544204,0.4083138344349687,0.4089115789723845,0.40949670355148265,0.4100691515219303,0.4106288674073864,0.4111757969144607,0.4117098869414899,0.4122310855871291,0.41273934215875685,0.41323460718069155,0.4137168324022174,0.4141859708054185,0.4146419766128187,0.4150848052948253,0.4155144135769765,0.41593075944698876,0.41633380216160387,0.4167235022532338,0.41709982153640174,0.417462723113978,0.41781217138320914,0.41814813204153944,0.41847057209222216,0.4187794598497215,0.4190747649449012,0.4193564583300014,0.4196245122834002,0.4198789004141608,0.42011959766636164,0.4203465803232095,0.42055982601093445,0.4207593137024653,0.4209450237208851,0.42111693774266623,0.4212750388006832,0.4214193112870036,0.42154974095545655,0.4216663149239768,0.4217690216767254,0.42185785106598567,0.4219327943138341,0.4219938440135863,0.42204099413101676,0.4220742400053528,0.42209357835004296,0.4220990072532977,0.42209052617840503,0.4220681359638186,0.4220318388230198,0.42198163834415287,0.4219175394894337,0.4218395485943325,0.42174767336653,0.42164192288464813,0.4215223075967546,0.4213888393186425,0.42124153123188546,0.4210803978816672,0.4209054551743886,0.42071672037505026,0.42051421210441303,0.42029795033593603,0.4200679563924931,0.41982425294286957,0.41956686399803783,0.4192958149072148,0.41901113235370113,0.4187128443505033,0.41840098023573946,0.4180755706678302,0.41773664762047547,0.4173842443774189,0.4170183955269999,0.416639136956496,0.416246505846256,0.41584054066362497,0.41542128115666344,0.4149887683476615,0.41454304452644947,0.41408415324350667,0.4136121393028698,0.41312704875484285,0.4126289288885098,0.4121178282240521,0.41159379650487204,0.4110568846895256,0.4105071449434636,0.409944630630586,0.4093693963046102,0.40878149770025357,0.4081809917242356,0.4075679364460986,0.4069423910888509,0.4063044160194337,0.4056540727390142,0.4049914238731072,0.4043165331615268,0.4036294654481715,0.4029302866706437,0.40221906384970707,0.4014958650785841,0.40076075951209444,0.4000138173556393,0.3992551098540321,0.39848470928017904,0.3977026889236108,0.39690912307887083,0.3961040870337581,0.3952876570574321,0.39445991038837847,0.3936209252222412,0.3927707806995206,0.3919095568931441,0.3910373347959082,0.3901541963077973,0.3892602242231813,0.3883555022178942,0.38744011483619767,0.3865141474776308,0.38557768638375106,0.3846308186247674,0.3836736320860692,0.3827062154546542,0.38172865820545804,0.38074105058758767,0.3797434836104637,0.37873604902987185,0.3777188393339288,0.3766919477289641,0.3756554681253218,0.3746094951230845,0.37355412399772286,0.372489450685674,0.3714155717698514,0.370332584465089,0.36924058660352427,0.36813967661992064,0.3670299535369348,0.3659115169503307,0.3647844670141435,0.3636489044257967,0.3625049304111756,0.3613526467096596,0.36019215555911743,0.35902355968086763,0.35784696226460727,0.3566624669533128,0.3554701778281146,0.35427019939315085,0.35306263656040077,0.351847594634502,0.35062517929755577,0.349395496593921,0.3481586529150015,0.3469147549840302,0.3456639098408512,0.3444062248267042,0.34314180756901463,0.3418707659661909,0.34059320817243327,0.33930924258255596,0.3380189778168275,0.3367225227058292,0.33541998627533764,0.3341114777312322,0.33279710644443145,0.3314769819358604,0.33015121386145246,0.3288199119971886,0.32748318622417527,0.3261411465137665,0.3247939029127305,0.3234415655284638,0.32208424451425793,0.3207220500546184,0.31935509235063997,0.3179834816054411,0.31660732800966035,0.31522674172701604,0.31384183287993256,0.3124527115352372,0.3110594876899273,0.3096622712570119,0.3082611720514311,0.30685629977605333,0.3054477640077546,0.30403567418358207,0.3026201395870035,0.3012012693342453,0.299779172360721,0.29835395740755444,0.2969257330081965,0.2954946074751399,0.2940606888867346,0.2926240850741039,0.29118490360816457,0.2897432517867539,0.28829923662186396,0.286852964826985,0.2854045428045633,0.28395407663357003,0.2825016720571875,0.2810474344706128,0.27959146890898035,0.2781338800354058,0.27667477212915287,0.2752142490739248,0.27375241434628206,0.27228937100418754,0.2708252216756816,0.2693600685476885,0.2678940133549536,0.26642715736911704,0.26495960138792074,0.2634914457245529,0.26202279019713137,0.26055373411832505,0.25908437628511727,0.25761481496870986,0.2561451479045724,0.2546754722826331,0.2532058847376174,0.25173648133953186,0.25026735758429625,0.2487986083845228,0.24733032806044733,0.2458626103310085,0.2443955483050791,0.24292923447285034,0.2414637606973679,0.2399992182062216,0.23853569758339066,0.2370732887612428,0.23561208101268957,0.2341521629434976,0.23269362248475764,0.2312365468855097,0.22978102270552664,0.22832713580825642,0.2268749713539227,0.22542461379278356,0.22397614685855155,0.22252965356197177,0.22108521618456017,0.2196429162725026,0.21820283463071352,0.2167650513170554,0.21532964563671772,0.21389669613675855,0.2124662806008047,0.2110384760439127,0.20961335870759193,0.20819100405498595,0.20677148676621532,0.20535488073388047,0.20394125905872457,0.20253069404545482,0.20112325719872523,0.19971901921927698,0.1983180500002375,0.19692041862357915,0.19552619335673455,0.19413544164937038,0.19274823013031725,0.19136462460465736,0.18998469005096746,0.18860849061871662,0.18723608962582047,0.1858675495563482,0.1845029320583834,0.18314229794203843,0.18178570717762033,0.18043321889394762,0.1790848913768189,0.17774078206763036,0.1764009475621419,0.17506544360939238,0.1737343251107613,0.1724076461191767,0.17108545983846807,0.16976781862286483,0.16845477397663675,0.16714637655387668,0.16584267615842577,0.16454372174393755,0.16324956141408117,0.16196024242288354,0.16067581117520716,0.15939631322736367,0.15812179328786274,0.156852295218293,0.15558786203433556,0.15432853590690776,0.15307435816343734,0.1518253692892635,0.1505816089291652,0.1493431158890158,0.14810992813756055,0.1468820828083174,0.14565961620159962,0.14444256378665776,0.1432309602039401,0.14202483926747136,0.1408242339673456,0.13962917647233425,0.1384396981326068,0.13725582948256254,0.13607760024377238,0.1349050393280282,0.13373817484050005,0.13257703408299765,0.13142164355733557,0.13027202896880102,0.12912821522972198,0.12799022646313352,0.12685808600654264,0.12573181641578815,0.12461143946899454,0.12349697617061908,0.12238844675558919,0.12128587069352939,0.12018926669307575,0.11909865270627672,0.1180140459330779,0.11693546282588964,0.11586291909423614,0.11479642970948359,0.11373600890964568,0.11268167020426652,0.1116334263793767,0.11059128950252255,0.10955527092786714,0.10852538130135986,0.10750163056597403,0.10648402796701134,0.10547258205746969,0.10446730070347468,0.10346819108977152,0.10247525972527723,0.10148851244869,0.10050795443415489,0.09953359019698416,0.09856542359943057,0.09760345785651124,0.09664769554188198,0.09569813859375899,0.09475478832088671,0.09381764540855096,0.09288670992463467,0.09196198132571509,0.09104345846320071,0.09013113958950687,0.08922502236426767,0.08832510386058258,0.08743138057129723,0.08654384841531572,0.08566250274394276,0.08478733834725573,0.08391834946050296,0.08305552977052781,0.0821988724222176,0.08134837002497446,0.08050401465920738,0.07966579788284457,0.07883371073786308,0.07800774375683577,0.07718788696949296,0.0763741299092986,0.07556646162003805,0.07476487066241685,0.07396934512066974,0.07317987260917684,0.0723964402790868,0.0716190348249459,0.07084764249133028,0.07008224907948112,0.06932283995394153,0.06856940004919251,0.06782191387628882,0.06708036552949082,0.06634473869289334,0.06561501664704976,0.0648911822755882,0.06417321807182147,0.06346110614534799,0.06275482822864166,0.06205436568363164,0.06135969950826947,0.060670810343081964,0.059987678477710096,0.05931028385743233,0.05863860608966985,0.05797262445047486,0.05731231789099981,0.05665766504394552,0.05600864422998898,0.05536523346418921,0.054727410462368606,0.05409515264747141,0.05346843715589672,0.05284724084380469,0.05223154029339642,0.05162131181916589,0.051016531474122294,0.0504171750559832,0.04982321811333738,0.04923463595177491,0.04865140363998664,0.04807349601582881,0.047500887692355,0.04693355306381302,0.04637146631160579,0.04581460141021644,0.045262932133096886,0.044716432058517344,0.044175074575379225,0.04363883288898734,0.04310768002678333,0.04258158884403885,0.04206053202950682,0.04154448211103193,0.04103341146111881,0.04052729230245681,0.04002609671340218,0.03952979663341619,0.039038363868458194,0.03855177009633463,0.038069986872002345,0.037592985632825565,0.03712073770378694,0.036653214302652004,0.036190386545085676,0.03573222544972162,0.03527870194318388,0.03482978686505908,0.034385450972820766,0.03394566494670453,0.03351039939453286,0.03307962485649125,0.03265331180985369,0.03223143067365767,0.03181395181332881,0.03140084554525474,0.03099208214130716,0.03058763183331356,0.030187464817476216,0.029791551258740324,0.02939986129510994,0.029012365041911427,0.028629032596005036,0.028249834039944084,0.027874739446081175,0.02750371888062215,0.027136742407627437,0.026773780092959804,0.02641480200818002,0.026059778234389288,0.02570867886601834,0.025361474014563817,0.02501813381227175,0.024678628415767307,0.02434292800963213,0.024011002809928423,0.023682823067669667,0.023358359072238773,0.023037581154753302,0.02272045969137731,0.022406965106580943,0.022097067876347166,0.021790738531325564,0.021487947659934028,0.021188665911407945,0.02089286399879685,0.020600512701909397,0.02031158287020587,0.020026045425639204,0.01974387136544438,0.019465031764875917,0.019189497779894534,0.0189172406498026,0.018648231699828405,0.01838244234366007,0.018119844085929003,0.01786040852464277,0.01760410735356836,0.017350912364565617,0.017100795449870917,0.016853728604331927,0.01660968392759339,0.016368633626233916,0.016130550015854683,0.015895405523120038,0.01566317268774995,0.015433824164465306,0.015207332724885971,0.014983671259381694,0.014762812778876706,0.014544730416608182,0.014329397429838428,0.014116787201521834,0.013906873241926649,0.013699629190211553,0.0134950288159582,0.013293046020659172,0.013093654839162432,0.012896829441072457,0.012702544132107977,0.012510773355417356,0.012321491692851773,0.012134673866196174,0.011950294738359037,0.011768329314521061,0.011588752743242852,0.011411540317532606,0.011236667475873891,0.011064109803213701,0.010893843031911663,0.010725843042650592,0.010560085865308573,0.010396547679793427,0.010235204816839781,0.010076033758768909,0.009919011140212269,0.009764113748798847,0.009611318525806604,0.009460602566778838,0.009311943122105756,0.009165317597571292,0.009020703554866269,0.008878078712067918,0.008737420944086112,0.008598708283077138,0.008461918918825136,0.0083270311990916,0.008194023629933746,0.00806287487599169,0.00793356376074527,0.007806069266740837,0.007680370535788223,0.0075564468691286775,0.007434277727574089,0.007313842731617654,0.007195121661516868,0.007078094457349076,0.0069627412190397826,0.006849042206364599,0.006736977838925,0.006626528696098207,0.0065176755169619625,0.006410399200194395,0.006304680803949317,0.0062005015457076785,0.006097842802105411,0.005996686108737942,0.005897013159942178,0.005798805808556092,0.005702046065656314,0.005606716100274336,0.005512798239091662,0.005420274966114141,0.005329128922326194,0.0052393429053251865,0.0051508998689361995,0.0050637829228079795,0.004977975331990062,0.004893460516491728,0.0048102220508231845,0.004728243663519112,0.004647509236645283,0.004568002805288518,0.0044897085570302,0.004412610831403988,0.00433669411933805,0.004261943062581943,0.004188342453118867,0.004115877232563515,0.0040445324915457,0.003974293469080463,0.003905145551924829,0.003837074273921487,0.0037700653153299466,0.0037041045021454686,0.0036391778054059164,0.0035752713404871937,0.0035123713663873903,0.0034504642849999953,0.00338953664037657,0.003329575117979263,0.003270566543923275,0.0032124978842098476,0.0031553562439500006,0.0030991288665791995,0.0030438031330635618,0.0029893665610975758,0.002935806804293915,0.0028831116513654944,0.002831269025300086,0.0027802669825278286,0.002730093712081963,0.0026807375347528825,0.0026321869022360596,0.0025844303962739394,0.0025374567277920805,0.0024912547360299376,0.002445813387666447,0.0024011217759406915,0.0023571691197679587,0.002313944762851427,0.0022714381727896703,0.0022296389401803476,0.0021885367777202524,0.0021481215193019276,0.0021083831191071887,0.0020693116506977378,0.0020308973061030316,0.0019931303949057727,0.0019560013433251575,0.0019195006932980732,0.0018836191015585513,0.0018483473387156584,0.0018136762883299577,0.0017795969459888975,0.001746100418381156,0.0017131779223702986,0.0016808207840678616,0.0016490204379060193,0.001617768425710127,0.0015870563957712642,0.0015568761019189182,0.0015272194025940766,0.0014980782599228624,0.0014694447387908348,0.0014413110059182037,0.0014136693289361045,0.0013865120754640089,0.0013598317121885665,0.0013336208039439414,0.001307872012793778,0.00128257809711503,0.0012577319106837346,0.0012333264017628592,0.0012093546121924247,0.0011858096764819823,0.0011626848209055818,0.001139973362599393,0.0011176687086620952,0.0010957643552581002,0.0010742538867238246,0.0010531309746770602,0.0010323893771295532,0.0010120229376029694,0.0009920255842482554,0.0009723913289685806,0.0009531142665459419,0.0009341885737714806,0.0009156085085796867,0.000897368409186536,0.0008794626932316321,0.000861885856924501,0.0008446324741950838,0.000827697195848491,0.0008110747487241513,0.0007947599348594057,0.0007787476306575863,0.0007630327860607226,0.0007476104237268977,0.0007324756382123119],\"type\":\"scatter\"},{\"line\":{\"color\":\"#003f5c\"},\"mode\":\"lines\",\"name\":\"Male Curve\",\"x\":[0.0,0.007366741741741741,0.014733483483483483,0.022100225225225225,0.029466966966966966,0.03683370870870871,0.04420045045045045,0.05156719219219219,0.05893393393393393,0.06630067567567567,0.07366741741741742,0.08103415915915915,0.0884009009009009,0.09576764264264263,0.10313438438438438,0.11050112612612611,0.11786786786786786,0.1252346096096096,0.13260135135135134,0.13996809309309308,0.14733483483483484,0.15470157657657657,0.1620683183183183,0.16943506006006004,0.1768018018018018,0.18416854354354353,0.19153528528528527,0.19890202702702703,0.20626876876876876,0.2136355105105105,0.22100225225225223,0.228368993993994,0.23573573573573572,0.24310247747747746,0.2504692192192192,0.25783596096096095,0.2652027027027027,0.2725694444444444,0.27993618618618615,0.2873029279279279,0.2946696696696697,0.3020364114114114,0.30940315315315314,0.3167698948948949,0.3241366366366366,0.33150337837837834,0.3388701201201201,0.34623686186186187,0.3536036036036036,0.36097034534534533,0.36833708708708707,0.3757038288288288,0.38307057057057053,0.39043731231231227,0.39780405405405406,0.4051707957957958,0.4125375375375375,0.41990427927927926,0.427271021021021,0.4346377627627627,0.44200450450450446,0.44937124624624625,0.456737987987988,0.4641047297297297,0.47147147147147145,0.4788382132132132,0.4862049549549549,0.49357169669669665,0.5009384384384384,0.5083051801801801,0.5156719219219219,0.5230386636636636,0.5304054054054054,0.5377721471471472,0.5451388888888888,0.5525056306306306,0.5598723723723723,0.5672391141141141,0.5746058558558558,0.5819725975975976,0.5893393393393394,0.596706081081081,0.6040728228228228,0.6114395645645645,0.6188063063063063,0.626173048048048,0.6335397897897898,0.6409065315315315,0.6482732732732732,0.655640015015015,0.6630067567567567,0.6703734984984985,0.6777402402402402,0.6851069819819819,0.6924737237237237,0.6998404654654654,0.7072072072072072,0.7145739489489489,0.7219406906906907,0.7293074324324323,0.7366741741741741,0.7440409159159159,0.7514076576576576,0.7587743993993994,0.7661411411411411,0.7735078828828829,0.7808746246246245,0.7882413663663663,0.7956081081081081,0.8029748498498498,0.8103415915915916,0.8177083333333333,0.825075075075075,0.8324418168168167,0.8398085585585585,0.8471753003003003,0.854542042042042,0.8619087837837838,0.8692755255255254,0.8766422672672672,0.8840090090090089,0.8913757507507507,0.8987424924924925,0.9061092342342342,0.913475975975976,0.9208427177177176,0.9282094594594594,0.9355762012012011,0.9429429429429429,0.9503096846846847,0.9576764264264264,0.9650431681681682,0.9724099099099098,0.9797766516516516,0.9871433933933933,0.9945101351351351,1.0018768768768769,1.0092436186186187,1.0166103603603602,1.023977102102102,1.0313438438438438,1.0387105855855856,1.0460773273273272,1.053444069069069,1.0608108108108107,1.0681775525525525,1.0755442942942943,1.082911036036036,1.0902777777777777,1.0976445195195195,1.1050112612612613,1.112378003003003,1.1197447447447446,1.1271114864864864,1.1344782282282282,1.14184496996997,1.1492117117117115,1.1565784534534533,1.1639451951951951,1.171311936936937,1.1786786786786787,1.1860454204204203,1.193412162162162,1.2007789039039038,1.2081456456456456,1.2155123873873874,1.222879129129129,1.2302458708708708,1.2376126126126126,1.2449793543543544,1.252346096096096,1.2597128378378377,1.2670795795795795,1.2744463213213213,1.281813063063063,1.2891798048048047,1.2965465465465464,1.3039132882882882,1.31128003003003,1.3186467717717718,1.3260135135135134,1.3333802552552552,1.340746996996997,1.3481137387387387,1.3554804804804803,1.362847222222222,1.3702139639639639,1.3775807057057057,1.3849474474474475,1.392314189189189,1.3996809309309308,1.4070476726726726,1.4144144144144144,1.4217811561561562,1.4291478978978978,1.4365146396396395,1.4438813813813813,1.4512481231231231,1.4586148648648647,1.4659816066066065,1.4733483483483483,1.48071509009009,1.4880818318318318,1.4954485735735734,1.5028153153153152,1.510182057057057,1.5175487987987988,1.5249155405405406,1.5322822822822821,1.539649024024024,1.5470157657657657,1.5543825075075075,1.561749249249249,1.5691159909909909,1.5764827327327327,1.5838494744744744,1.5912162162162162,1.5985829579579578,1.6059496996996996,1.6133164414414414,1.6206831831831832,1.628049924924925,1.6354166666666665,1.6427834084084083,1.65015015015015,1.6575168918918919,1.6648836336336335,1.6722503753753752,1.679617117117117,1.6869838588588588,1.6943506006006006,1.7017173423423422,1.709084084084084,1.7164508258258258,1.7238175675675675,1.7311843093093093,1.738551051051051,1.7459177927927927,1.7532845345345345,1.7606512762762763,1.7680180180180178,1.7753847597597596,1.7827515015015014,1.7901182432432432,1.797484984984985,1.8048517267267266,1.8122184684684683,1.8195852102102101,1.826951951951952,1.8343186936936937,1.8416854354354353,1.849052177177177,1.8564189189189189,1.8637856606606606,1.8711524024024022,1.878519144144144,1.8858858858858858,1.8932526276276276,1.9006193693693694,1.907986111111111,1.9153528528528527,1.9227195945945945,1.9300863363363363,1.9374530780780779,1.9448198198198197,1.9521865615615615,1.9595533033033032,1.966920045045045,1.9742867867867866,1.9816535285285284,1.9890202702702702,1.996387012012012,2.0037537537537538,2.0111204954954953,2.0184872372372373,2.025853978978979,2.0332207207207205,2.0405874624624625,2.047954204204204,2.055320945945946,2.0626876876876876,2.070054429429429,2.077421171171171,2.0847879129129128,2.0921546546546543,2.0995213963963963,2.106888138138138,2.11425487987988,2.1216216216216215,2.128988363363363,2.136355105105105,2.1437218468468466,2.1510885885885886,2.15845533033033,2.165822072072072,2.173188813813814,2.1805555555555554,2.1879222972972974,2.195289039039039,2.2026557807807805,2.2100225225225225,2.217389264264264,2.224756006006006,2.2321227477477477,2.2394894894894892,2.2468562312312312,2.254222972972973,2.261589714714715,2.2689564564564564,2.276323198198198,2.28368993993994,2.2910566816816815,2.298423423423423,2.305790165165165,2.3131569069069067,2.3205236486486487,2.3278903903903903,2.335257132132132,2.342623873873874,2.3499906156156154,2.3573573573573574,2.364724099099099,2.3720908408408405,2.3794575825825826,2.386824324324324,2.394191066066066,2.4015578078078077,2.4089245495495493,2.4162912912912913,2.423658033033033,2.431024774774775,2.4383915165165164,2.445758258258258,2.453125,2.4604917417417416,2.4678584834834836,2.475225225225225,2.4825919669669667,2.4899587087087087,2.4973254504504503,2.504692192192192,2.512058933933934,2.5194256756756754,2.5267924174174174,2.534159159159159,2.5415259009009006,2.5488926426426426,2.556259384384384,2.563626126126126,2.5709928678678677,2.5783596096096093,2.5857263513513513,2.593093093093093,2.600459834834835,2.6078265765765765,2.615193318318318,2.62256006006006,2.6299268018018016,2.6372935435435436,2.644660285285285,2.6520270270270268,2.6593937687687688,2.6667605105105103,2.6741272522522523,2.681493993993994,2.6888607357357355,2.6962274774774775,2.703594219219219,2.7109609609609606,2.7183277027027026,2.725694444444444,2.733061186186186,2.7404279279279278,2.7477946696696693,2.7551614114114114,2.762528153153153,2.769894894894895,2.7772616366366365,2.784628378378378,2.79199512012012,2.7993618618618616,2.8067286036036037,2.8140953453453452,2.821462087087087,2.828828828828829,2.8361955705705704,2.8435623123123124,2.850929054054054,2.8582957957957955,2.8656625375375375,2.873029279279279,2.8803960210210207,2.8877627627627627,2.8951295045045042,2.9024962462462462,2.909862987987988,2.9172297297297294,2.9245964714714714,2.931963213213213,2.939329954954955,2.9466966966966965,2.954063438438438,2.96143018018018,2.9687969219219217,2.9761636636636637,2.9835304054054053,2.990897147147147,2.998263888888889,3.0056306306306304,3.0129973723723724,3.020364114114114,3.0277308558558556,3.0350975975975976,3.042464339339339,3.049831081081081,3.0571978228228227,3.0645645645645643,3.0719313063063063,3.079298048048048,3.0866647897897894,3.0940315315315314,3.101398273273273,3.108765015015015,3.1161317567567566,3.123498498498498,3.13086524024024,3.1382319819819817,3.1455987237237237,3.1529654654654653,3.160332207207207,3.167698948948949,3.1750656906906904,3.1824324324324325,3.189799174174174,3.1971659159159156,3.2045326576576576,3.211899399399399,3.219266141141141,3.2266328828828827,3.2339996246246243,3.2413663663663663,3.248733108108108,3.25609984984985,3.2634665915915915,3.270833333333333,3.278200075075075,3.2855668168168166,3.292933558558558,3.3003003003003,3.3076670420420418,3.3150337837837838,3.3224005255255253,3.329767267267267,3.337134009009009,3.3445007507507505,3.3518674924924925,3.359234234234234,3.3666009759759756,3.3739677177177176,3.381334459459459,3.388701201201201,3.396067942942943,3.4034346846846844,3.4108014264264264,3.418168168168168,3.42553490990991,3.4329016516516515,3.440268393393393,3.447635135135135,3.4550018768768767,3.4623686186186187,3.4697353603603602,3.477102102102102,3.484468843843844,3.4918355855855854,3.499202327327327,3.506569069069069,3.5139358108108105,3.5213025525525525,3.528669294294294,3.5360360360360357,3.5434027777777777,3.5507695195195192,3.5581362612612613,3.565503003003003,3.5728697447447444,3.5802364864864864,3.587603228228228,3.59496996996997,3.6023367117117115,3.609703453453453,3.617070195195195,3.6244369369369367,3.6318036786786787,3.6391704204204203,3.646537162162162,3.653903903903904,3.6612706456456454,3.6686373873873874,3.676004129129129,3.6833708708708706,3.6907376126126126,3.698104354354354,3.7054710960960957,3.7128378378378377,3.7202045795795793,3.7275713213213213,3.734938063063063,3.7423048048048044,3.7496715465465464,3.757038288288288,3.76440503003003,3.7717717717717716,3.779138513513513,3.786505255255255,3.7938719969969967,3.8012387387387387,3.8086054804804803,3.815972222222222,3.823338963963964,3.8307057057057055,3.8380724474474475,3.845439189189189,3.8528059309309306,3.8601726726726726,3.867539414414414,3.8749061561561557,3.8822728978978978,3.8896396396396393,3.8970063813813813,3.904373123123123,3.9117398648648645,3.9191066066066065,3.926473348348348,3.93384009009009,3.9412068318318316,3.948573573573573,3.955940315315315,3.9633070570570568,3.970673798798799,3.9780405405405403,3.985407282282282,3.992774024024024,4.0001407657657655,4.0075075075075075,4.014874249249249,4.022240990990991,4.029607732732733,4.036974474474475,4.044341216216216,4.051707957957958,4.0590746996997,4.066441441441441,4.073808183183183,4.081174924924925,4.088541666666666,4.095908408408408,4.10327515015015,4.110641891891892,4.118008633633633,4.125375375375375,4.132742117117117,4.140108858858858,4.1474756006006,4.154842342342342,4.1622090840840835,4.1695758258258255,4.1769425675675675,4.184309309309309,4.191676051051051,4.199042792792793,4.206409534534535,4.213776276276276,4.221143018018018,4.22850975975976,4.235876501501501,4.243243243243243,4.250609984984985,4.257976726726726,4.265343468468468,4.27271021021021,4.280076951951952,4.287443693693693,4.294810435435435,4.302177177177177,4.309543918918918,4.31691066066066,4.324277402402402,4.331644144144144,4.339010885885886,4.346377627627628,4.35374436936937,4.361111111111111,4.368477852852853,4.375844594594595,4.383211336336336,4.390578078078078,4.39794481981982,4.405311561561561,4.412678303303303,4.420045045045045,4.427411786786786,4.434778528528528,4.44214527027027,4.449512012012012,4.456878753753753,4.464245495495495,4.471612237237237,4.4789789789789785,4.4863457207207205,4.4937124624624625,4.501079204204204,4.508445945945946,4.515812687687688,4.52317942942943,4.530546171171171,4.537912912912913,4.545279654654655,4.552646396396396,4.560013138138138,4.56737987987988,4.574746621621621,4.582113363363363,4.589480105105105,4.596846846846846,4.604213588588588,4.61158033033033,4.618947072072072,4.626313813813813,4.633680555555555,4.641047297297297,4.6484140390390385,4.6557807807807805,4.6631475225225225,4.670514264264264,4.677881006006006,4.685247747747748,4.69261448948949,4.699981231231231,4.707347972972973,4.714714714714715,4.722081456456456,4.729448198198198,4.73681493993994,4.744181681681681,4.751548423423423,4.758915165165165,4.766281906906906,4.773648648648648,4.78101539039039,4.788382132132132,4.795748873873873,4.803115615615615,4.810482357357357,4.8178490990990985,4.8252158408408405,4.8325825825825826,4.839949324324324,4.847316066066066,4.854682807807808,4.86204954954955,4.869416291291291,4.876783033033033,4.884149774774775,4.891516516516516,4.898883258258258,4.90625,4.913616741741741,4.920983483483483,4.928350225225225,4.935716966966967,4.943083708708708,4.95045045045045,4.957817192192192,4.965183933933933,4.972550675675675,4.9799174174174174,4.987284159159159,4.994650900900901,5.002017642642643,5.009384384384384,5.016751126126126,5.024117867867868,5.03148460960961,5.038851351351351,5.046218093093093,5.053584834834835,5.060951576576576,5.068318318318318,5.07568506006006,5.083051801801801,5.090418543543543,5.097785285285285,5.105152027027027,5.112518768768768,5.11988551051051,5.127252252252252,5.1346189939939935,5.1419857357357355,5.1493524774774775,5.156719219219219,5.164085960960961,5.171452702702703,5.178819444444444,5.186186186186186,5.193552927927928,5.20091966966967,5.208286411411411,5.215653153153153,5.223019894894895,5.230386636636636,5.237753378378378,5.24512012012012,5.252486861861861,5.259853603603603,5.267220345345345,5.274587087087087,5.281953828828828,5.28932057057057,5.296687312312312,5.3040540540540535,5.3114207957957955,5.3187875375375375,5.326154279279279,5.333521021021021,5.340887762762763,5.348254504504505,5.355621246246246,5.362987987987988,5.37035472972973,5.377721471471471,5.385088213213213,5.392454954954955,5.399821696696696,5.407188438438438,5.41455518018018,5.421921921921921,5.429288663663663,5.436655405405405,5.444022147147147,5.451388888888888,5.45875563063063,5.466122372372372,5.4734891141141135,5.4808558558558556,5.488222597597598,5.495589339339339,5.502956081081081,5.510322822822823,5.517689564564565,5.525056306306306,5.532423048048048,5.53978978978979,5.547156531531531,5.554523273273273,5.561890015015015,5.569256756756756,5.576623498498498,5.58399024024024,5.591356981981981,5.598723723723723,5.606090465465465,5.613457207207207,5.620823948948948,5.6281906906906904,5.6355574324324325,5.642924174174174,5.650290915915916,5.657657657657658,5.665024399399399,5.672391141141141,5.679757882882883,5.687124624624625,5.694491366366366,5.701858108108108,5.70922484984985,5.716591591591591,5.723958333333333,5.731325075075075,5.738691816816816,5.746058558558558,5.7534253003003,5.760792042042041,5.768158783783783,5.775525525525525,5.782892267267267,5.7902590090090085,5.7976257507507505,5.8049924924924925,5.812359234234234,5.819725975975976,5.827092717717718,5.834459459459459,5.841826201201201,5.849192942942943,5.856559684684685,5.863926426426426,5.871293168168168,5.87865990990991,5.886026651651651,5.893393393393393,5.900760135135135,5.908126876876876,5.915493618618618,5.92286036036036,5.930227102102102,5.937593843843843,5.944960585585585,5.952327327327327,5.9596940690690685,5.9670608108108105,5.9744275525525525,5.981794294294294,5.989161036036036,5.996527777777778,6.003894519519519,6.011261261261261,6.018628003003003,6.025994744744745,6.033361486486486,6.040728228228228,6.04809496996997,6.055461711711711,6.062828453453453,6.070195195195195,6.077561936936936,6.084928678678678,6.09229542042042,6.099662162162162,6.107028903903903,6.114395645645645,6.121762387387387,6.1291291291291286,6.136495870870871,6.143862612612613,6.151229354354354,6.158596096096096,6.165962837837838,6.173329579579579,6.180696321321321,6.188063063063063,6.195429804804805,6.202796546546546,6.210163288288288,6.21753003003003,6.224896771771771,6.232263513513513,6.239630255255255,6.246996996996996,6.254363738738738,6.26173048048048,6.269097222222222,6.276463963963963,6.2838307057057055,6.2911974474474475,6.298564189189189,6.305930930930931,6.313297672672673,6.320664414414414,6.328031156156156,6.335397897897898,6.34276463963964,6.350131381381381,6.357498123123123,6.364864864864865,6.372231606606606,6.379598348348348,6.38696509009009,6.394331831831831,6.401698573573573,6.409065315315315,6.416432057057056,6.423798798798798,6.43116554054054,6.438532282282282,6.4458990240240235,6.4532657657657655,6.4606325075075075,6.467999249249249,6.475365990990991,6.482732732732733,6.490099474474474,6.497466216216216,6.504832957957958,6.5121996996997,6.519566441441441,6.526933183183183,6.534299924924925,6.541666666666666,6.549033408408408,6.55640015015015,6.563766891891891,6.571133633633633,6.578500375375375,6.585867117117116,6.593233858858858,6.6006006006006,6.607967342342342,6.6153340840840835,6.6227008258258255,6.6300675675675675,6.637434309309309,6.644801051051051,6.652167792792793,6.659534534534534,6.666901276276276,6.674268018018018,6.68163475975976,6.689001501501501,6.696368243243243,6.703734984984985,6.711101726726726,6.718468468468468,6.72583521021021,6.733201951951951,6.740568693693693,6.747935435435435,6.755302177177176,6.762668918918918,6.77003566066066,6.777402402402402,6.784769144144144,6.792135885885886,6.799502627627628,6.806869369369369,6.814236111111111,6.821602852852853,6.828969594594594,6.836336336336336,6.843703078078078,6.85106981981982,6.858436561561561,6.865803303303303,6.873170045045045,6.880536786786786,6.887903528528528,6.89527027027027,6.902637012012011,6.910003753753753,6.917370495495495,6.924737237237237,6.9321039789789785,6.9394707207207205,6.9468374624624625,6.954204204204204,6.961570945945946,6.968937687687688,6.976304429429429,6.983671171171171,6.991037912912913,6.998404654654654,7.005771396396396,7.013138138138138,7.02050487987988,7.027871621621621,7.035238363363363,7.042605105105105,7.049971846846846,7.057338588588588,7.06470533033033,7.072072072072071,7.079438813813813,7.086805555555555,7.094172297297297,7.1015390390390385,7.1089057807807805,7.1162725225225225,7.123639264264264,7.131006006006006,7.138372747747748,7.145739489489489,7.153106231231231,7.160472972972973,7.167839714714714,7.175206456456456,7.182573198198198,7.18993993993994,7.197306681681681,7.204673423423423,7.212040165165165,7.219406906906906,7.226773648648648,7.23414039039039,7.241507132132131,7.248873873873873,7.256240615615615,7.263607357357357,7.2709740990990985,7.2783408408408405,7.2857075825825826,7.293074324324324,7.300441066066066,7.307807807807808,7.315174549549549,7.322541291291291,7.329908033033033,7.337274774774775,7.344641516516516,7.352008258258258,7.359375],\"y\":[0.03568119190800271,0.036142393088200414,0.03660819475088153,0.037078621334832876,0.0375536970742917,0.03803344599269073,0.03851789189636268,0.039007058368204554,0.03950096876130297,0.039999646192521554,0.04050311353605102,0.04101139341692317,0.04152450820448983,0.04204248000586721,0.042565330659347936,0.04309308172778025,0.043625754491916795,0.044163369943733384,0.044705948779718944,0.04525351139413817,0.045806077872267606,0.046363667983606395,0.046926301175063544,0.04749399656412182,0.04806677293198071,0.04864464871667879,0.04922764200619734,0.04981577053154651,0.0504090516598348,0.05100750238732428,0.051611139332471724,0.052219978728957894,0.05283403641870627,0.0534533278448921,0.05407786804494424,0.054707671643540234,0.05534275284559656,0.05598312542925611,0.05662880273887315,0.05727979767799874,0.057936122702367206,0.05859778981288531,0.05926481054862663,0.05993719597983154,0.06061495670091519,0.06129810282348519,0.06198664396936994,0.06268058926366044,0.06337994732776601,0.06408472627248683,0.06479493369110415,0.06551057665249015,0.06623166169423984,0.06695819481582571,0.06769018147177762,0.06842762656488995,0.06917053443945674,0.06991890887453818,0.07067275307725895,0.07143206967614074,0.07219686071447154,0.072967127643712,0.07374287131694247,0.0745240919823513,0.0753107892767669,0.0761029622192356,0.07690060920464682,0.07770372799740762,0.07851231572516891,0.07932636887260466,0.08014588327524672,0.08097085411337632,0.08180127590597555,0.08263714250473939,0.0834784470881509,0.08432518215562192,0.08517733952170052,0.08603491031034759,0.08689788494928449,0.08776625316441385,0.08864000397431514,0.08951912568481754,0.09040360588365152,0.09129343143518179,0.09218858847522267,0.09308906240593888,0.09399483789083315,0.09490589884982237,0.09582222845440523,0.09674380912292219,0.09767062251591044,0.09860264953155568,0.09953987030124238,0.10048226418520513,0.10142980976828193,0.10238248485577263,0.10334026646940349,0.1043031308433998,0.10527105342066956,0.10624400884909829,0.10722197097795849,0.10820491285443494,0.10919280672026713,0.11018562400851212,0.11118333534042786,0.11218591052248046,0.11319331854347583,0.11420552757181837,0.11522250495289804,0.11624421720660777,0.11727063002499259,0.11830170827003289,0.1193374159715623,0.12037771632532311,0.12142257169116037,0.12247194359135566,0.12352579270910344,0.12458407888713033,0.12564676112645948,0.1267137975853216,0.1277851455782137,0.12886076157510745,0.12994060120080875,0.1310246192344688,0.13211276960925003,0.13320500541214592,0.1343012788839584,0.1354015414194321,0.13650574356754783,0.1376138350319768,0.1387257646716953,0.13984148050176332,0.1409609296942655,0.1420840585794182,0.14321081264684188,0.1443411365470006,0.14547497409280963,0.14661226826141205,0.1477529611961253,0.14889699420855837,0.15004430778090092,0.1511948415683848,0.15234853440191878,0.15350532429089772,0.15466514842618584,0.15582794318327592,0.15699364412562444,0.15816218600816317,0.15933350278098826,0.16050752759322642,0.1616841927970799,0.16286342995204955,0.16404516982933684,0.16522934241642542,0.16641587692184173,0.1676047017800957,0.1687957446568013,0.1699889324539772,0.17118419131552742,0.1723814466329025,0.17358062305094088,0.17478164447389016,0.17598443407160919,0.17718891428594907,0.17839500683731513,0.17960263273140759,0.18081171226614198,0.1820221650387485,0.18323390995304958,0.18444686522691614,0.18566094839990113,0.18687607634105066,0.1880921652568909,0.18930913069959207,0.19052688757530667,0.19174535015268307,0.19296443207155237,0.1941840463517883,0.19540410540233943,0.1966245210304325,0.1978452044509455,0.19906606629595058,0.20028701662442455,0.2015079649321263,0.20272882016164032,0.20394949071258472,0.20516988445198198,0.2063899087247922,0.20760947036460686,0.20882847570450128,0.21004683058804496,0.21126444038046827,0.21248120997998307,0.21369704382925678,0.21491184592703724,0.21612551983992745,0.21733796871430755,0.21854909528840305,0.21975880190449687,0.22096699052128352,0.22217356272636332,0.22337841974887462,0.22458146247226243,0.2257825914471805,0.22698170690452527,0.2281787087685996,0.22937349667040338,0.23056596996104955,0.23175602772530238,0.23294356879523648,0.23412849176401307,0.23531069499977217,0.2364900766596372,0.23766653470383034,0.23883996690989498,0.24001027088702384,0.2411773440904889,0.24234108383617167,0.24350138731518958,0.24465815160861693,0.24581127370229713,0.24696065050174293,0.24810617884712274,0.24924775552832876,0.2503852773001253,0.251518640897373,0.2526477430503272,0.2537724805000063,0.254892750013627,0.2560084484001047,0.257119472525614,0.2582257193292071,0.259327085838487,0.26042346918533144,0.26151476662166523,0.2626008755352771,0.2636816934656776,0.26475711811999497,0.2658270473889058,0.2668913793625964,0.2679500123467519,0.26900284487857007,0.2700497757427946,0.271090703987767,0.2721255289414915,0.2731541502277096,0.2741764677819824,0.275192381867775,0.27620179309254056,0.27720460242380046,0.27820071120521656,0.27919002117265185,0.2801724344702165,0.28114785366629486,0.28211618176955044,0.283077322244905,0.2840311790294875,0.28497765654855056,0.28591665973134917,0.2868480940269794,0.28777186542017286,0.2886878804470422,0.2895960462107762,0.2904962703972792,0.29138846129075097,0.29227252778920454,0.29314837941991745,0.29401592635481333,0.29487507942576946,0.2957257501398474,0.2965678506944425,0.29740129399234916,0.2982259936567377,0.2990418640460398,0.2998488202687385,0.3006467781980593,0.30143565448655907,0.3022153665806087,0.30298583273476665,0.3037469720260392,0.30449870436802434,0.3052409505249362,0.3059736321255059,0.30669667167675474,0.3074099925776393,0.30811351913256113,0.30880717656474066,0.30949089102945077,0.3101645896271069,0.31082820041621073,0.3114816524261436,0.3121248756698076,0.3127578011561097,0.31338036090228705,0.31399248794607004,0.31459411635767953,0.3151851812516557,0.315765618798516,0.31633536623623826,0.3168943618815667,0.3174425451411381,0.3179798565224248,0.31850623764449204,0.3190216312485675,0.3195259812084192,0.3200192325405396,0.3205013314141342,0.32097222516091084,0.32143186228466736,0.3218801924706765,0.32231716659486387,0.3227427367327773,0.3231568561683465,0.3235594794024286,0.323950562161139,0.3243300614039648,0.3246979353316589,0.32505414339391264,0.32539864629680487,0.3257314060100257,0.3260523857738737,0.32636155010602286,0.3266588648080603,0.3269442969717903,0.32721781498530494,0.32747938853881925,0.3277289886302686,0.32796658757066827,0.32819215898923243,0.3284056778382525,0.32860712039773204,0.3287964642797791,0.3289736884327527,0.3291387731451636,0.32929170004932856,0.32943245212477595,0.32956101370140345,0.329677370462385,0.32978150944682855,0.329873419052182,0.3299530890363874,0.33002051051978376,0.33007567598675586,0.330118579287131,0.3301492156373214,0.33016758162121346,0.33017367519080226,0.3301674956665725,0.33014904373762455,0.3301183214615465,0.33007533226403185,0.3300200809382425,0.3299525736439185,0.32987281790623335,0.3297808226143959,0.3296765980199991,0.3295601557351161,0.32943150873014415,0.32929067133139633,0.32913765921844307,0.32897248942120233,0.328795180316781,0.32860575162606714,0.32840422441007405,0.3281906210660381,0.32796496532326974,0.32772728223876035,0.327477598192545,0.3272159408828229,0.32694233932083616,0.3266568238255091,0.3263594260178487,0.3260501788151083,0.32572911642471497,0.3253962743379637,0.32505168932347883,0.3246953994204444,0.32432744393160623,0.32394786341604614,0.32355669968173145,0.3231539957778409,0.32273979598686847,0.32231414581650925,0.32187709199132664,0.3214286824442048,0.32096896630758853,0.3204979939045119,0.3200158167394186,0.3195224874887761,0.3190180599914863,0.3185025892390948,0.317976131365801,0.3174387436382728,0.31689048444526696,0.3163314132870585,0.31576159076468213,0.31518107856898775,0.314589939469513,0.3139882373031763,0.31337603696279204,0.3127534043854118,0.3121204065404944,0.31147711141790685,0.3108235880157609,0.31015990632808615,0.30948613733234515,0.3088023529767908,0.30810862616767226,0.30740503075629005,0.30669164152590483,0.3059685341785031,0.3052357853214223,0.30449347245383956,0.30374167395312685,0.30298046906107573,0.3022099378699963,0.3014301613086915,0.3006412211283129,0.29984319988809927,0.2990361809410023,0.2982202484192033,0.29739548721952347,0.2965619829887321,0.29571982210875586,0.294869091681793,0.2940098795153352,0.2931422741071027,0.2922663646298931,0.291382240916351,0.2904899934436595,0.28958971331815814,0.28868149225989154,0.28776542258709065,0.2868415972005928,0.28591010956820134,0.28497105370899106,0.2840245241775616,0.28307061604824274,0.2821094248992559,0.28114104679683455,0.2801655782793079,0.27918311634115156,0.2781937584170082,0.2771976023656828,0.2761947464541148,0.2751852893413326,0.2741693300623925,0.2731469680123064,0.27211830292996153,0.2710834348820368,0.27004246424691747,0.2689954916986142,0.2679426181906873,0.26688394494018247,0.26581957341157936,0.2647496053007575,0.2636741425189836,0.26259328717692193,0.2615071415686735,0.26041580815584564,0.2593193895516563,0.2582179885050764,0.25711170788501314,0.2560006506645383,0.2548849199051647,0.25376461874117284,0.25263985036399367,0.25151071800664737,0.25037732492824477,0.24923977439855172,0.24809816968262105,0.24695261402549548,0.2458032106369832,0.2446500626765105,0.24349327323805398,0.24233294533515504,0.24116918188602,0.2400020856987088,0.23883175945641444,0.23765830570283739,0.23648182682765587,0.23530242505209667,0.23412020241460826,0.23293526075663795,0.23174770170851863,0.23055762667546384,0.22936513682367696,0.22817033306657586,0.22697331605113416,0.22577418614434447,0.2245730434198027,0.2233699876444184,0.22216511826525254,0.22095853439648358,0.21975033480650694,0.21854061790516707,0.2173294817311262,0.21611702393937132,0.21490334178886059,0.21368853213031266,0.21247269139413924,0.2112559155785242,0.21003830023764997,0.2088199404700736,0.2076009309072538,0.2063813657022315,0.20516133851846396,0.20394094251881606,0.20272027035470827,0.20149941415542433,0.20027846551757958,0.19905751549475048,0.19783665458726835,0.19661597273217685,0.19539555929335564,0.19417550305181122,0.192955892196135,0.19173681431313164,0.19051835637861658,0.18930060474838536,0.18808364514935502,0.18686756267087776,0.1856524417562295,0.18443836619427217,0.18322541911129128,0.18201368296301032,0.1808032395267805,0.17959416989394866,0.17838655446240262,0.17718047292929417,0.17597600428394153,0.17477322680090995,0.17357221803327205,0.17237305480604792,0.1711758132098243,0.16998056859455474,0.1687873955635388,0.1675963679675824,0.16640755889933792,0.16522104068782456,0.16403688489312915,0.16285516230128666,0.16167594291934104,0.16049929597058563,0.15932528988998282,0.15815399231976376,0.1569854701052056,0.155819789290589,0.15465701511533217,0.15349721201030364,0.15234044359431118,0.15118677267076885,0.15003626122453864,0.14888897041894783,0.147744960592982,0.14660429125865113,0.14546702109852874,0.14433320796346497,0.14320290887046996,0.14207618000076866,0.140953076698025,0.1398336534667364,0.13871796397079478,0.13760606103221493,0.13649799663002982,0.1353938218993498,0.13429358713058526,0.13319734176883344,0.13210513441342525,0.13101701281763262,0.1299330238885355,0.12885321368704591,0.12777762742808865,0.12670630948093664,0.12563930336970122,0.12457665177397337,0.12351839652961621,0.12246457862970778,0.12141523822563087,0.12037041462830919,0.11933014630958984,0.11829447090376764,0.11726342520925233,0.11623704519037502,0.11521536597933481,0.11419842187828091,0.11318624636153045,0.11217887207792072,0.11117633085329247,0.11017865369310335,0.10918587078517084,0.10819801150254085,0.10721510440648192,0.10623717724960183,0.10526425697908671,0.10429636974005876,0.1033335408790516,0.1023757949476024,0.1014231557059571,0.10047564612688777,0.09953328839962089,0.09859610393387347,0.09766411336399511,0.09673733655321579,0.0958157925979951,0.09489949983247263,0.09398847583301669,0.09308273742287053,0.0921823006768926,0.0912871809263896,0.09039739276404117,0.08951295004891274,0.08863386591155521,0.08776015275919058,0.08689182228097907,0.0860288854533686,0.08517135254552194,0.0843192331248221,0.08347253606245203,0.08263126953904695,0.08179544105041907,0.08096505741334994,0.08014012477145041,0.07932064860108619,0.07850663371736585,0.07769808428018976,0.07689500380035943,0.0760973951457427,0.07530526054749503,0.07451860160633351,0.07373741929886302,0.07296171398395103,0.07219148540915016,0.0714267327171667,0.07066745445237223,0.06991364856735705,0.06916531242952399,0.06842244282771966,0.06768503597890198,0.06695308753484168,0.06622659258885695,0.0655055456825777,0.06478994081273876,0.06407977143800063,0.06337503048579445,0.06267571035919037,0.061981802943788245,0.06129329961462705,0.060610191243112635,0.059932468203962135,0.05926012038216241,0.05859313717994157,0.05793150752375128,0.05727521987125926,0.056624262218348896,0.05597862210612515,0.05533828662792544,0.054703242436333045,0.054073475750191675,0.053448972361620634,0.052829717643027324,0.05221569655411698,0.051606893648897145,0.05100329308267644,0.05040487861905512,0.04981163363690602,0.04922354113734581,0.04864058375069319,0.04806274374341379,0.047490003025050714,0.046922343155138053,0.04635974535009738,0.045802190490114754,0.04524965912599824,0.044702131486013465,0.04415958748269623,0.04362200671964176,0.04308936849826829,0.04256165182455417,0.04203883541574791,0.04152089770704913,0.04100781685825943,0.04049957076040312,0.039996137042315,0.039497493077195696,0.03900361598913228,0.038514482659584404,0.03803006973383372,0.037550353627396164,0.03707531053239666,0.03660491642390426,0.036139147066227326,0.03567797801916851,0.03522138464423722,0.03476934211082013,0.03432182540230791,0.03387880932217817,0.033440268500033184,0.03300617739759178,0.03257651031463525,0.032151241394905744,0.03173034463195654,0.03131379387495453,0.03090156283443291,0.030493625087993994,0.030089954085962226,0.029690523156985508,0.02929530551358534,0.028904274257654516,0.028517402385902575,0.028134662795247768,0.027756028288155307,0.02738147157792196,0.02701096529390561,0.026644481986699897,0.026281994133253904,0.025923474141935493,0.025568894357538927,0.025218227066235655,0.02487144450046877,0.024528518843789905,0.024189422235638823,0.02385412677606561,0.02352260453039466,0.023194827533830446,0.022870767796005304,0.022550397305468275,0.022233688034115427,0.021920611941561027,0.021611140979450036,0.02130524709571119,0.02100290223875064,0.02070407836158673,0.02040874742592483,0.02011688140617281,0.019828452293397143,0.01954343209921931,0.019261792859652405,0.01898350663887857,0.018708545532966567,0.01843688167352999,0.01816848723132577,0.0179033344197936,0.01764139549853582,0.01738264277673796,0.017127048616530475,0.016874585436291233,0.016625225713889077,0.016378941989868893,0.01613570687057792,0.01589549303123373,0.015658273218933955,0.015424020255608104,0.015192707040911522,0.014964306555061653,0.014738791861617214,0.014516136110200077,0.014296312539160274,0.014079294478184632,0.013865055350848933,0.013653568677114045,0.013444808075766528,0.013238747266803618,0.013035360073763297,0.012834620425999352,0.012636502360902397,0.012440980026066452,0.01224802768140188,0.012057619701195163,0.011869730576115414,0.011684334915168354,0.011501407447598186,0.011320923024737434,0.011142856621805487,0.010967183339655942,0.010793878406473592,0.010622917179420995,0.010454275146235243,0.01028792792677566,0.010123851274522335,0.009962021078026245,0.009802413362311567,0.00964500429023018,0.009489770163769206,0.009336687425311997,0.009185732658852816,0.009036882591165961,0.008890114092929564,0.008745404179804862,0.008602730013471038,0.00846206890261638,0.00832339830388631,0.008186695822788491,0.008051939214555685,0.007919106384967057,0.00778817539112798,0.007659124442209256,0.00753193190014598,0.007406576280296843,0.007283036252064086,0.007161290639474755,0.007041318421723885,0.006923098733679935,0.006806610866353034,0.006691834267326727,0.006578748541153502,0.006467333449714781,0.006357568912545757,0.006249435007125858,0.006142911969135013,0.006037980192676435,0.005934620230466539,0.005832812793992282,0.005732538753636529,0.005633779138772134,0.0055365151378249985,0.005440728098306722,0.005346399526817486,0.005253511089019494,0.005162044609581588,0.005071982072095497,0.004983305618964371,0.0048959975512638644,0.004810040328576483,0.0047254165687996555,0.004642109047927953,0.00456010069981001,0.004479374615880724,0.0043999140448690395,0.004321702392482045,0.00424472322106562,0.004168960249242391,0.004094397351527259,0.004021018557921062,0.003948808053482927,0.003877750177881672,0.0038078294249267383,0.003739030442079278,0.003671338029943652,0.0036047371417399173,0.0035392128827577965,0.0034747505097924933,0.0034113354305628624,0.0033489532031123477,0.003287589535193232,0.003227230283634493,0.003167861453693778,0.0031094691983940084,0.0030520398178449,0.0029955597585498614,0.0029400156126988554,0.0028853941174473517,0.0028316821541820706,0.0027788667477736846,0.0027269350658171263,0.002675874417859661,0.0026256722546172855,0.0025763161671798155,0.002527793886204978,0.0024800932811019603,0.002433202359204815,0.0023871092649360047,0.002341802278960532,0.0022972698173309818,0.002253500430623891,0.0022104828030677214,0.002168205751662827,0.002126658225293812,0.0020858293038345105,0.00204570819724603,0.002006284244668138,0.001967546913504342,0.001929485798500942,0.0018920906208204642,0.001855351227109687,0.0018192575885626384,0.001783799799978838,0.0017489680788171176,0.0017147527642452634,0.0016811443161857936,0.0016481333143582143,0.0016157104573179225,0.0015838665614921195,0.0015525925602130016,0.0015218795027484402,0.0014917185533304723,0.0014621009901818187,0.001433018204540731,0.001404461699684358,0.0013764230899509073,0.001348894099760864,0.0013218665626374534,0.0012953324202266015,0.001269283721316647,0.0012437126208579763,0.001218611378982819,0.001193972360025449,0.0011697880315429485,0.0011460509633367726,0.0011227538264752923,0.001099889392317552,0.0010774505315383745,0.001055430213155043,0.0010338215035557434,0.0010126175655299143,0.0009918116573007045,0.0009713971315597131,0.0009513674345041596,0.000931716104876652,0.000912436773007712,0.0008935231598612401,0.0008749690760830079,0.000856768421052382,0.000838915181937408,0.0008214034327533692,0.0008042273334249791,0.0007873811288523472,0.0007708591479808119,0.0007546558028747904,0.0007387655877957675,0.0007231830782845269,0.0007079029302477394,0.0006929198790490238,0.0006782287386045955,0.0006638244004835809,0.0006497018330131167,0.00063585608038833,0.000622282261787279,0.0006089755704909519,0.000595931273008421,0.0005831447082072104,0.0005706112864489815,0.0005583264887305914,0.0005462858658306316,0.0005344850374614726,0.0005229196914269138,0.0005115855827855091,0.0005004785330196013,0.0004895944292101406,0.00047892922321736235,0.0004684789308673387,0.00045823963114449153,0.0004482074653900855,0.00043837863650678164,0.0004287494081692589,0.00041931610404096224,0.00041007510699702765,0.000401022858353392,0.00039215585710213947,0.0003834706591531209,0.0003749638765818583,0.00036663217688376836,0.00035847228223473903,0.00035048096875806803,0.00034265506579778614,0.00033499145519838986,0.0003274870705909963,0.0003201388966859312,0.00031294396857176103,0.00030589937102079335,0.00029900223780103064,0.00029224975099460446,0.00028563914032268535,0.0002791676824768699,0.00027283270045705096,0.0002666315629157655,0.00026056168350902567,0.0002546205202536186,0.000248805574890875,0.00024311439225690505,0.00023754455965928247,0.00023209370626017033,0.00022675950246588657,0.00022153965932287937,0.00021643192792011285,0.00021143409879784218,0.0002065440013627596,0.00020175950330949584,0.00019707851004845692,0.0001924989641399769,0.0001880188447347644,0.00018363616702061616,0.00017934898167538477,0.00017515537432616338,0.00017105346501466645,0.00016704140766878484,0.0001631173895802789,0.00015927963088858588,0.0001555263840707091,0.00015185593343716524,0.00014826659463394878,0.00014475671415048512,0.0001413246688335458,0.00013796886540708248,0.00013468773999794883,0.00013147975766748064,0.0001283434119488893,0.00012527722439043822,0.00012227974410436272,0.0001193495473214995],\"type\":\"scatter\"}],                        {\"title\":{\"text\":\"Attraction Variance by Gender (Bell Curve)\"},\"xaxis\":{\"title\":{\"text\":\"Attraction Variance\"}},\"yaxis\":{\"title\":{\"text\":\"Density\"}},\"template\":{\"data\":{\"histogram2dcontour\":[{\"type\":\"histogram2dcontour\",\"colorbar\":{\"outlinewidth\":0,\"ticks\":\"\"},\"colorscale\":[[0.0,\"#0d0887\"],[0.1111111111111111,\"#46039f\"],[0.2222222222222222,\"#7201a8\"],[0.3333333333333333,\"#9c179e\"],[0.4444444444444444,\"#bd3786\"],[0.5555555555555556,\"#d8576b\"],[0.6666666666666666,\"#ed7953\"],[0.7777777777777778,\"#fb9f3a\"],[0.8888888888888888,\"#fdca26\"],[1.0,\"#f0f921\"]]}],\"choropleth\":[{\"type\":\"choropleth\",\"colorbar\":{\"outlinewidth\":0,\"ticks\":\"\"}}],\"histogram2d\":[{\"type\":\"histogram2d\",\"colorbar\":{\"outlinewidth\":0,\"ticks\":\"\"},\"colorscale\":[[0.0,\"#0d0887\"],[0.1111111111111111,\"#46039f\"],[0.2222222222222222,\"#7201a8\"],[0.3333333333333333,\"#9c179e\"],[0.4444444444444444,\"#bd3786\"],[0.5555555555555556,\"#d8576b\"],[0.6666666666666666,\"#ed7953\"],[0.7777777777777778,\"#fb9f3a\"],[0.8888888888888888,\"#fdca26\"],[1.0,\"#f0f921\"]]}],\"heatmap\":[{\"type\":\"heatmap\",\"colorbar\":{\"outlinewidth\":0,\"ticks\":\"\"},\"colorscale\":[[0.0,\"#0d0887\"],[0.1111111111111111,\"#46039f\"],[0.2222222222222222,\"#7201a8\"],[0.3333333333333333,\"#9c179e\"],[0.4444444444444444,\"#bd3786\"],[0.5555555555555556,\"#d8576b\"],[0.6666666666666666,\"#ed7953\"],[0.7777777777777778,\"#fb9f3a\"],[0.8888888888888888,\"#fdca26\"],[1.0,\"#f0f921\"]]}],\"heatmapgl\":[{\"type\":\"heatmapgl\",\"colorbar\":{\"outlinewidth\":0,\"ticks\":\"\"},\"colorscale\":[[0.0,\"#0d0887\"],[0.1111111111111111,\"#46039f\"],[0.2222222222222222,\"#7201a8\"],[0.3333333333333333,\"#9c179e\"],[0.4444444444444444,\"#bd3786\"],[0.5555555555555556,\"#d8576b\"],[0.6666666666666666,\"#ed7953\"],[0.7777777777777778,\"#fb9f3a\"],[0.8888888888888888,\"#fdca26\"],[1.0,\"#f0f921\"]]}],\"contourcarpet\":[{\"type\":\"contourcarpet\",\"colorbar\":{\"outlinewidth\":0,\"ticks\":\"\"}}],\"contour\":[{\"type\":\"contour\",\"colorbar\":{\"outlinewidth\":0,\"ticks\":\"\"},\"colorscale\":[[0.0,\"#0d0887\"],[0.1111111111111111,\"#46039f\"],[0.2222222222222222,\"#7201a8\"],[0.3333333333333333,\"#9c179e\"],[0.4444444444444444,\"#bd3786\"],[0.5555555555555556,\"#d8576b\"],[0.6666666666666666,\"#ed7953\"],[0.7777777777777778,\"#fb9f3a\"],[0.8888888888888888,\"#fdca26\"],[1.0,\"#f0f921\"]]}],\"surface\":[{\"type\":\"surface\",\"colorbar\":{\"outlinewidth\":0,\"ticks\":\"\"},\"colorscale\":[[0.0,\"#0d0887\"],[0.1111111111111111,\"#46039f\"],[0.2222222222222222,\"#7201a8\"],[0.3333333333333333,\"#9c179e\"],[0.4444444444444444,\"#bd3786\"],[0.5555555555555556,\"#d8576b\"],[0.6666666666666666,\"#ed7953\"],[0.7777777777777778,\"#fb9f3a\"],[0.8888888888888888,\"#fdca26\"],[1.0,\"#f0f921\"]]}],\"mesh3d\":[{\"type\":\"mesh3d\",\"colorbar\":{\"outlinewidth\":0,\"ticks\":\"\"}}],\"scatter\":[{\"fillpattern\":{\"fillmode\":\"overlay\",\"size\":10,\"solidity\":0.2},\"type\":\"scatter\"}],\"parcoords\":[{\"type\":\"parcoords\",\"line\":{\"colorbar\":{\"outlinewidth\":0,\"ticks\":\"\"}}}],\"scatterpolargl\":[{\"type\":\"scatterpolargl\",\"marker\":{\"colorbar\":{\"outlinewidth\":0,\"ticks\":\"\"}}}],\"bar\":[{\"error_x\":{\"color\":\"#2a3f5f\"},\"error_y\":{\"color\":\"#2a3f5f\"},\"marker\":{\"line\":{\"color\":\"#E5ECF6\",\"width\":0.5},\"pattern\":{\"fillmode\":\"overlay\",\"size\":10,\"solidity\":0.2}},\"type\":\"bar\"}],\"scattergeo\":[{\"type\":\"scattergeo\",\"marker\":{\"colorbar\":{\"outlinewidth\":0,\"ticks\":\"\"}}}],\"scatterpolar\":[{\"type\":\"scatterpolar\",\"marker\":{\"colorbar\":{\"outlinewidth\":0,\"ticks\":\"\"}}}],\"histogram\":[{\"marker\":{\"pattern\":{\"fillmode\":\"overlay\",\"size\":10,\"solidity\":0.2}},\"type\":\"histogram\"}],\"scattergl\":[{\"type\":\"scattergl\",\"marker\":{\"colorbar\":{\"outlinewidth\":0,\"ticks\":\"\"}}}],\"scatter3d\":[{\"type\":\"scatter3d\",\"line\":{\"colorbar\":{\"outlinewidth\":0,\"ticks\":\"\"}},\"marker\":{\"colorbar\":{\"outlinewidth\":0,\"ticks\":\"\"}}}],\"scattermapbox\":[{\"type\":\"scattermapbox\",\"marker\":{\"colorbar\":{\"outlinewidth\":0,\"ticks\":\"\"}}}],\"scatterternary\":[{\"type\":\"scatterternary\",\"marker\":{\"colorbar\":{\"outlinewidth\":0,\"ticks\":\"\"}}}],\"scattercarpet\":[{\"type\":\"scattercarpet\",\"marker\":{\"colorbar\":{\"outlinewidth\":0,\"ticks\":\"\"}}}],\"carpet\":[{\"aaxis\":{\"endlinecolor\":\"#2a3f5f\",\"gridcolor\":\"white\",\"linecolor\":\"white\",\"minorgridcolor\":\"white\",\"startlinecolor\":\"#2a3f5f\"},\"baxis\":{\"endlinecolor\":\"#2a3f5f\",\"gridcolor\":\"white\",\"linecolor\":\"white\",\"minorgridcolor\":\"white\",\"startlinecolor\":\"#2a3f5f\"},\"type\":\"carpet\"}],\"table\":[{\"cells\":{\"fill\":{\"color\":\"#EBF0F8\"},\"line\":{\"color\":\"white\"}},\"header\":{\"fill\":{\"color\":\"#C8D4E3\"},\"line\":{\"color\":\"white\"}},\"type\":\"table\"}],\"barpolar\":[{\"marker\":{\"line\":{\"color\":\"#E5ECF6\",\"width\":0.5},\"pattern\":{\"fillmode\":\"overlay\",\"size\":10,\"solidity\":0.2}},\"type\":\"barpolar\"}],\"pie\":[{\"automargin\":true,\"type\":\"pie\"}]},\"layout\":{\"autotypenumbers\":\"strict\",\"colorway\":[\"#636efa\",\"#EF553B\",\"#00cc96\",\"#ab63fa\",\"#FFA15A\",\"#19d3f3\",\"#FF6692\",\"#B6E880\",\"#FF97FF\",\"#FECB52\"],\"font\":{\"color\":\"#2a3f5f\"},\"hovermode\":\"closest\",\"hoverlabel\":{\"align\":\"left\"},\"paper_bgcolor\":\"white\",\"plot_bgcolor\":\"#E5ECF6\",\"polar\":{\"bgcolor\":\"#E5ECF6\",\"angularaxis\":{\"gridcolor\":\"white\",\"linecolor\":\"white\",\"ticks\":\"\"},\"radialaxis\":{\"gridcolor\":\"white\",\"linecolor\":\"white\",\"ticks\":\"\"}},\"ternary\":{\"bgcolor\":\"#E5ECF6\",\"aaxis\":{\"gridcolor\":\"white\",\"linecolor\":\"white\",\"ticks\":\"\"},\"baxis\":{\"gridcolor\":\"white\",\"linecolor\":\"white\",\"ticks\":\"\"},\"caxis\":{\"gridcolor\":\"white\",\"linecolor\":\"white\",\"ticks\":\"\"}},\"coloraxis\":{\"colorbar\":{\"outlinewidth\":0,\"ticks\":\"\"}},\"colorscale\":{\"sequential\":[[0.0,\"#0d0887\"],[0.1111111111111111,\"#46039f\"],[0.2222222222222222,\"#7201a8\"],[0.3333333333333333,\"#9c179e\"],[0.4444444444444444,\"#bd3786\"],[0.5555555555555556,\"#d8576b\"],[0.6666666666666666,\"#ed7953\"],[0.7777777777777778,\"#fb9f3a\"],[0.8888888888888888,\"#fdca26\"],[1.0,\"#f0f921\"]],\"sequentialminus\":[[0.0,\"#0d0887\"],[0.1111111111111111,\"#46039f\"],[0.2222222222222222,\"#7201a8\"],[0.3333333333333333,\"#9c179e\"],[0.4444444444444444,\"#bd3786\"],[0.5555555555555556,\"#d8576b\"],[0.6666666666666666,\"#ed7953\"],[0.7777777777777778,\"#fb9f3a\"],[0.8888888888888888,\"#fdca26\"],[1.0,\"#f0f921\"]],\"diverging\":[[0,\"#8e0152\"],[0.1,\"#c51b7d\"],[0.2,\"#de77ae\"],[0.3,\"#f1b6da\"],[0.4,\"#fde0ef\"],[0.5,\"#f7f7f7\"],[0.6,\"#e6f5d0\"],[0.7,\"#b8e186\"],[0.8,\"#7fbc41\"],[0.9,\"#4d9221\"],[1,\"#276419\"]]},\"xaxis\":{\"gridcolor\":\"white\",\"linecolor\":\"white\",\"ticks\":\"\",\"title\":{\"standoff\":15},\"zerolinecolor\":\"white\",\"automargin\":true,\"zerolinewidth\":2},\"yaxis\":{\"gridcolor\":\"white\",\"linecolor\":\"white\",\"ticks\":\"\",\"title\":{\"standoff\":15},\"zerolinecolor\":\"white\",\"automargin\":true,\"zerolinewidth\":2},\"scene\":{\"xaxis\":{\"backgroundcolor\":\"#E5ECF6\",\"gridcolor\":\"white\",\"linecolor\":\"white\",\"showbackground\":true,\"ticks\":\"\",\"zerolinecolor\":\"white\",\"gridwidth\":2},\"yaxis\":{\"backgroundcolor\":\"#E5ECF6\",\"gridcolor\":\"white\",\"linecolor\":\"white\",\"showbackground\":true,\"ticks\":\"\",\"zerolinecolor\":\"white\",\"gridwidth\":2},\"zaxis\":{\"backgroundcolor\":\"#E5ECF6\",\"gridcolor\":\"white\",\"linecolor\":\"white\",\"showbackground\":true,\"ticks\":\"\",\"zerolinecolor\":\"white\",\"gridwidth\":2}},\"shapedefaults\":{\"line\":{\"color\":\"#2a3f5f\"}},\"annotationdefaults\":{\"arrowcolor\":\"#2a3f5f\",\"arrowhead\":0,\"arrowwidth\":1},\"geo\":{\"bgcolor\":\"white\",\"landcolor\":\"#E5ECF6\",\"subunitcolor\":\"white\",\"showland\":true,\"showlakes\":true,\"lakecolor\":\"white\"},\"title\":{\"x\":0.05},\"mapbox\":{\"style\":\"light\"}}}},                        {\"responsive\": true}                    ).then(function(){\n",
       "                            \n",
       "var gd = document.getElementById('897f515e-94c9-4850-a260-b8642ef69f47');\n",
       "var x = new MutationObserver(function (mutations, observer) {{\n",
       "        var display = window.getComputedStyle(gd).display;\n",
       "        if (!display || display === 'none') {{\n",
       "            console.log([gd, 'removed!']);\n",
       "            Plotly.purge(gd);\n",
       "            observer.disconnect();\n",
       "        }}\n",
       "}});\n",
       "\n",
       "// Listen for the removal of the full notebook cells\n",
       "var notebookContainer = gd.closest('#notebook-container');\n",
       "if (notebookContainer) {{\n",
       "    x.observe(notebookContainer, {childList: true});\n",
       "}}\n",
       "\n",
       "// Listen for the clearing of the current output cell\n",
       "var outputEl = gd.closest('.output');\n",
       "if (outputEl) {{\n",
       "    x.observe(outputEl, {childList: true});\n",
       "}}\n",
       "\n",
       "                        })                };                });            </script>        </div>"
      ]
     },
     "metadata": {},
     "output_type": "display_data"
    },
    {
     "name": "stdout",
     "output_type": "stream",
     "text": [
      "Variance plot completed. It took 0.0379 seconds.\n"
     ]
    }
   ],
   "source": [
    "# Running the plot to observe the variance for each individual's attractiveness\n",
    "# ratings received\n",
    "start_time = time.time()\n",
    "\n",
    "var_attr_data = fetch_var_attr_data(database_path)\n",
    "traces = create_distplot_traces(var_attr_data, colors)\n",
    "\n",
    "# Create layout\n",
    "layout = go.Layout(title='Attraction Variance by Gender (Bell Curve)',\n",
    "                   xaxis=dict(title='Attraction Variance'),\n",
    "                   yaxis=dict(title='Density'))\n",
    "\n",
    "# Create figure\n",
    "fig = go.Figure(data=distplot_traces, layout=layout)\n",
    "\n",
    "# Show the plot\n",
    "fig.show()\n",
    "\n",
    "end_time = round(time.time() - start_time, 4)\n",
    "\n",
    "print(f'Variance plot completed. It took {end_time} seconds.')"
   ]
  },
  {
   "cell_type": "markdown",
   "id": "b19f6a44",
   "metadata": {},
   "source": [
    "### Beauty is in the Eye of the Beholder\n",
    "From the above plot we see that attractiveness is subjective. We see a large variance per person in attractiveness ratings received.\n",
    "\n",
    "We can see that attraction is important but we cannot define what attractiveness is objectively."
   ]
  },
  {
   "cell_type": "markdown",
   "id": "649d96e9",
   "metadata": {},
   "source": [
    "## Further Work\n",
    "- There are other fields for exploration.\n",
    "- Additional factors like where they are from, their age, their income, their career etc. could also play a role in second date success.\n",
    "- This would however require a separate study.\n",
    "- It would be important to capture the relationships between these additional factors and second date success.\n",
    "- And the relationship between these addditional factors and attractiveness."
   ]
  }
 ],
 "metadata": {
  "kernelspec": {
   "display_name": "Python 3 (ipykernel)",
   "language": "python",
   "name": "python3"
  },
  "language_info": {
   "codemirror_mode": {
    "name": "ipython",
    "version": 3
   },
   "file_extension": ".py",
   "mimetype": "text/x-python",
   "name": "python",
   "nbconvert_exporter": "python",
   "pygments_lexer": "ipython3",
   "version": "3.9.13"
  }
 },
 "nbformat": 4,
 "nbformat_minor": 5
}
