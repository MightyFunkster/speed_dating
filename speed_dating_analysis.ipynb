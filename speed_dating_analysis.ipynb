{
 "cells": [
  {
   "cell_type": "markdown",
   "id": "ef92627b",
   "metadata": {},
   "source": [
    "# Beauty and the Beholder: Exploring the Impact of Attractiveness Perception on Second Date Success\n",
    "\n",
    "This project is a Python analysis of this speed dating dataset: https://data.world/annavmontoya/speed-dating-experiment. An explanation of all the column meanings and the background of the experiment can be found in the speed dating data key document.\n",
    "\n",
    "- This data comes from a speed dating experiment in which many different people participated in dates.\n",
    "- The study concerned five main attributes: **attractiveness, sincerity, intelligence, fun and ambition**.\n",
    "- Each row in the table concerned a particular date. The column **iid** represents a particular individual. The column **pid** represents the iid of the other individual on the date (e.g. iid's partner).\n",
    "- Each participant would rate themselves on these five attributes (scale 1 - 10, represented by columns **attr3_1**, **sinc3_1**, **intel3_1**, **fun3_1** and **amb3_1**) before dating begins. (For a particular row/date these are the self-ratings as stated by **iid**).\n",
    "- Each participant allocates 100 points across these five attributes in what they look for in a date i.e. which attributes are most important. These are represented by **pf_o_att**, **pf_o_sin**, **pf_o_int**, **pf_o_fun** and **pf_o_amb**. (For a particular row/date these are the preferences as stated by individual **pid**, **not iid**).\n",
    "- After each date, each participant would rate their partner on a scale of 1 - 10 for these five attributes (represented by columns **attr_o**, **sinc_o**, **intel_o**, **fun_o** and **amb_o**).\n",
    "- Each row contains the **gender** of the person (**iid**) where 1 is male and 0 is female.\n",
    "- For each row, we have many values but for this study the most relevant are the columns representing the five attributes that an individual rated themselves on, the values that their date (**pid**) rated an individual (**iid**) on a particular date across these five attributes and the initial preference allocation.\n",
    "- We have a **dec_o** column representing the decision of the partner (**pid**). If the value is 1, they agreed for a second date. If the value is 0 they did not.\n",
    "\n",
    "This study explores:\n",
    "- The average allocation of preference initially by gender (pf_o_att, pf_o_sinc etc.).\n",
    "- The actual most important preference/feature through a random forest analysis of ratings received (attr_o, sinc_o etc.) and second date success (dec_o).\n",
    "- The influence of average attractiveness rating received (attr_o) on second date success (dec_o).\n",
    "- How each level (2, 3, 4, ..., 10) of self rating of attractiveness effects second date success i.e. does an individual's confidence in their attractiveness alone increase second date potential.\n",
    "- The impact of self-perceived attractiveness (comparing the difference between an indivdual's self rating of attractiveness with their average attractiveness rating received on their dates and how this drives second date potential)."
   ]
  },
  {
   "cell_type": "code",
   "execution_count": 160,
   "id": "f429de0b",
   "metadata": {},
   "outputs": [],
   "source": [
    "import pandas as pd\n",
    "import sqlite3\n",
    "import time\n",
    "from sklearn.impute import KNNImputer\n",
    "import os\n",
    "import plotly.graph_objects as go\n",
    "from sklearn.ensemble import RandomForestRegressor\n",
    "from sklearn.model_selection import train_test_split\n",
    "from sklearn.metrics import mean_squared_error, accuracy_score"
   ]
  },
  {
   "cell_type": "markdown",
   "id": "bd3262c3",
   "metadata": {},
   "source": [
    "## .CSV to .DB\n",
    "\n",
    "The below code imports the relevant columns from the .csv file to the .db file.\n",
    "\n",
    "The relevant columns are:\n",
    "- **iid**: the id of an individual\n",
    "- **gender**: the gender of the iid\n",
    "- **pid**: the id of an individual's date\n",
    "- **match**: whether both individuals agreed on a second date (1 = yes, 0 = no)\n",
    "- **dec_o**: the decision of the partner (pid) whether or not to go on a second date with the individual (iid) (1 = yes, 0 = no)\n",
    "- **\\_o** attributes: the ratings an individual received from their partner on five attributs\n",
    "- **3_1** attributes: the ratings an individual gave themselves\n",
    "- **pf_o** attributes: the allocation of 100 points across the five attributes in what they look for an ideal date partner (given by pid)"
   ]
  },
  {
   "cell_type": "code",
   "execution_count": 161,
   "id": "0df7e2f9",
   "metadata": {},
   "outputs": [],
   "source": [
    "# Converts the .csv to .db\n",
    "# pf_o columns will be mapped so their names are consistent with 3_1 and _o\n",
    "\n",
    "# Parameters:\n",
    "#   - csv_file (str): the name of the .csv\n",
    "#   - encoding_type (str_): the encoding of the csv\n",
    "#   - database_path (str): the path of the .db\n",
    "#   - csv_columns (list): the columns to include from the original database\n",
    "\n",
    "def create_db(csv_file : str, encoding_type : str,\n",
    "              database_path : str, csv_columns : list):\n",
    "    \n",
    "    # Connect to database\n",
    "    conn = sqlite3.connect(database_path)\n",
    "    # Create cursor object\n",
    "    cursor = conn.cursor()\n",
    "\n",
    "    # Read the CSV as a dataframe\n",
    "    df = pd.read_csv(csv_file, encoding=encoding_type)\n",
    "\n",
    "    # Filter the dataframe to only include the selected columns\n",
    "    # Use .copy() to create a copy of the DataFrame\n",
    "    df_selected = df[csv_columns].copy()\n",
    "    \n",
    "    # Mapping between original and desired column names\n",
    "    column_mapping = {\n",
    "        'pf_o_att': 'pf_o_attr',\n",
    "        'pf_o_sin': 'pf_o_sinc',\n",
    "        'pf_o_int': 'pf_o_intel'\n",
    "    }\n",
    "    \n",
    "    # Rename columns using the mapping \n",
    "    df_selected.rename(columns=column_mapping, inplace=True)\n",
    "    \n",
    "    # Use Pandas to_sql to insert the DataFrame into the SQLite table\n",
    "    df_selected.to_sql('speed_dating', conn, \n",
    "                       index=False, if_exists='replace')\n",
    "\n",
    "    # Create indexes\n",
    "    cursor.execute('CREATE INDEX idx_iid ON speed_dating(iid);')\n",
    "    cursor.execute('CREATE INDEX idx_pid ON speed_dating(pid);')\n",
    "\n",
    "    # Commit changes to the database\n",
    "    conn.commit()\n",
    "\n",
    "    # Close the database\n",
    "    conn.close()"
   ]
  },
  {
   "cell_type": "code",
   "execution_count": 162,
   "id": "22190bc7",
   "metadata": {},
   "outputs": [
    {
     "name": "stdout",
     "output_type": "stream",
     "text": [
      ".csv to .db conversion complete. It took 0.2686 seconds.\n"
     ]
    }
   ],
   "source": [
    "# Running database creation with timing\n",
    "start_time = time.time()\n",
    "\n",
    "csv_file = 'speed_dating.csv'\n",
    "encoding_type = 'latin'\n",
    "database_path = 'speed_dating.db'\n",
    "csv_columns = ['iid', 'gender', 'pid', 'match', 'dec_o',\n",
    "               'attr_o','sinc_o', 'intel_o', 'fun_o', 'amb_o',\n",
    "               'attr3_1', 'sinc3_1', 'fun3_1', 'intel3_1', 'amb3_1',\n",
    "               'pf_o_att', 'pf_o_sin', 'pf_o_int', 'pf_o_fun', 'pf_o_amb']\n",
    "\n",
    "create_db(csv_file, encoding_type, database_path, csv_columns)\n",
    "\n",
    "end_time = round(time.time() - start_time, 4)\n",
    "\n",
    "print(f'.csv to .db conversion complete. It took {end_time} seconds.')"
   ]
  },
  {
   "cell_type": "markdown",
   "id": "78edbe3e",
   "metadata": {},
   "source": [
    "## Data Pre-Processing\n",
    "\n",
    "This involves several steps.\n",
    "1) Deleting rows with several NULL values\n",
    "\n",
    "2) Deleting missing (iid, pid), (pid, iid) pairs\n",
    "\n",
    "3) Performing data imputation on missing values"
   ]
  },
  {
   "cell_type": "markdown",
   "id": "aced0efe",
   "metadata": {},
   "source": [
    "### Deleting Rows with Several NULL Values\n",
    "\n",
    "For this analysis we will be comparing the importance on each of the aforementioned set of attributes on second date success. This means we need all attributes per individual, per date. Data imputation can fill in NULL values if there are only one or two attributes missing per set (the \\_o set, the 3_1 set or the pf_o set). However, if several values are missing per set data imputation can be unreliable. \n",
    "\n",
    "For this dataset, I have chosen three or more missing values as being too unreliable. This is so analysis is focused on more quality data. Additionally, there are many rows with one missing attribute, some with two and the rest have all five missing attributes so three felt like an appropriate number.\n",
    "\n",
    "INCLUDE TESTS HERE.\n",
    "\n",
    "The argument for amount of NULL values can be changed when you call the function argument in case you would like to include more data or alternatively more attributes are included in the analysis."
   ]
  },
  {
   "cell_type": "code",
   "execution_count": 163,
   "id": "ffee7dcb",
   "metadata": {},
   "outputs": [],
   "source": [
    "# Deletes rows with a specified number of NULL values based on a threshold.\n",
    "\n",
    "# Parameters:\n",
    "#   - database_path (str): the path to the SQLite database.\n",
    "#   - columns_o (list): list of attributes ending in _o (ratings received).\n",
    "#   - columns_3_1 (list): list of attributes ending in 3_1 (self ratings given).\n",
    "#   - columns_pf_o (list): list of attributes in the form\n",
    "#                          pf_o_{attribute} (attribute preferences).\n",
    "#   - null_no (int): the threshold number of NULL values for row deletion.\n",
    "\n",
    "def delete_null_values(database_path : str, columns_o : list,\n",
    "                       columns_3_1 : list, columns_pf_o : list, null_no : int):\n",
    "    # Connect to database\n",
    "    conn = sqlite3.connect(database_path)\n",
    "\n",
    "    # Create a cursor object\n",
    "    cursor = conn.cursor()\n",
    "    \n",
    "    # Construct the conditions for NULL values in o_columns\n",
    "    conditions_o = [f\"({column} IS NULL)\" for column in columns_o]\n",
    "\n",
    "    # Construct the conditions for NULL values in 3_1 columns\n",
    "    conditions_3_1 = [f\"({column} IS NULL)\" for column in columns_3_1]\n",
    "    \n",
    "    # Construct the conditions for NULL values in pf_o columns\n",
    "    conditions_pf_o = [f\"({column} IS NULL)\" for column in columns_pf_o]\n",
    "        \n",
    "    # Combine the conditions using AND\n",
    "    # If there are NULL values these will evaluate to 1\n",
    "    # These will add up to 3 or more if there are 3 or \n",
    "    # NULL values in a particular column\n",
    "    condition_query_o = f\"({' + '.join(conditions_o)}) >= {null_no}\"\n",
    "    condition_query_3_1 = f\"({' + '.join(conditions_3_1)}) >= {null_no}\"\n",
    "    condition_query_pf_o = f\"({' + '.join(conditions_pf_o)}) >= {null_no}\"\n",
    "\n",
    "    # Construct the delete query\n",
    "    delete_query = (\n",
    "        f\"DELETE FROM speed_dating \"\n",
    "        f\"WHERE ({condition_query_o}) OR \"\n",
    "        f\"({condition_query_3_1}) OR \"\n",
    "        f\"({condition_query_pf_o})\"\n",
    "    )\n",
    "    \n",
    "    # Execute the query to find rows to be deleted\n",
    "    cursor.execute(delete_query)\n",
    "\n",
    "    # Get the count of deleted rows\n",
    "    deleted_rows = cursor.rowcount\n",
    "\n",
    "    # Commit the changes\n",
    "    conn.commit()\n",
    "\n",
    "    # Close the connection\n",
    "    conn.close()\n",
    "\n",
    "    # Print the number of rows deleted\n",
    "    print(f\"Deleted {deleted_rows} rows with three or more NULL values.\")"
   ]
  },
  {
   "cell_type": "markdown",
   "id": "a60a3a2a",
   "metadata": {},
   "source": [
    "### Deleting Missing Pairs\n",
    "\n",
    "For each date we have an iid and a pid. For each date there are two rows. One is from the perspective of iid (so iid = iid and pid = pid) and the other is from the perspective of pid (so iid = pid and pid = iid). So on the first row (perspective of iid) we see how pid rated iid on these five attributes. On the second row (perspective of pid) we see how iid rated pid on these five attributes. To ensure information is relevant, accurate and complete we must have both perspectives on a particular date."
   ]
  },
  {
   "cell_type": "code",
   "execution_count": 164,
   "id": "c1c1160f",
   "metadata": {},
   "outputs": [],
   "source": [
    "# Deletes missing (iid, pid) pairs\n",
    "\n",
    "# Parameters:\n",
    "#   - database_path (str): the path to your .db\n",
    "\n",
    "def delete_missing_pairs(database_path : str):\n",
    "    # Connect to the database\n",
    "    conn = sqlite3.connect(database_path)\n",
    "    # Create a cursor object\n",
    "    cursor = conn.cursor()\n",
    "    \n",
    "    # Construct the delete query where there is corresponding\n",
    "    # pid to iid and vice-versa\n",
    "    delete_query = '''\n",
    "    DELETE FROM speed_dating\n",
    "    WHERE NOT EXISTS (\n",
    "        SELECT 1\n",
    "        FROM speed_dating AS s2\n",
    "        WHERE speed_dating.iid = s2.pid AND speed_dating.pid = s2.iid)\n",
    "    '''\n",
    "    \n",
    "    # Execute the delete query\n",
    "    cursor.execute(delete_query)\n",
    "    \n",
    "    # Get the count of deleted rows with missing pairs\n",
    "    deleted_missing_pairs = cursor.rowcount\n",
    "    \n",
    "    # Commit the changes\n",
    "    conn.commit()\n",
    "    \n",
    "    # Close the connection\n",
    "    conn.close()\n",
    "    \n",
    "    # Print the number of rows with missing pairs deleted\n",
    "    print(f\"Deleted {deleted_missing_pairs} rows with missing pairs.\")"
   ]
  },
  {
   "cell_type": "markdown",
   "id": "f449adef",
   "metadata": {},
   "source": [
    "### Data Imputation\n",
    "\n",
    "We now still have rows with one or two missing NULL values for a particular attribute set. For this we will use KNN imputation. Averaging across other attributes would not be appropriate as just because someone is rated highly in attractiveness does not necessarily mean they would be rated highly in intelligence.\n",
    "\n",
    "INCLUDE CROSS-VALIDATION HERE"
   ]
  },
  {
   "cell_type": "code",
   "execution_count": 165,
   "id": "1b7b1a7f",
   "metadata": {},
   "outputs": [],
   "source": [
    "# CROSS-VALIDATE\n",
    "# TAKE NUMBER OF NEIGHBOURS AS INPUT\n",
    "\n",
    "# Performs KNN imputation on missing values\n",
    "\n",
    "# Parameters:\n",
    "#   - database_path (str): the path to your database\n",
    "#   - columns_to_impute (list): the set of columns to perform data imputation on\n",
    "\n",
    "def data_imputation(database_path : str, columns_to_impute : list):\n",
    "    # Connect to database\n",
    "    conn = sqlite3.connect(database_path)\n",
    "    \n",
    "    # Import data into dataframe\n",
    "    df = pd.read_sql_query('SELECT * FROM speed_dating', conn)\n",
    "    \n",
    "    # Close connection\n",
    "    conn.close()\n",
    "    \n",
    "    # Perform KNN imputation\n",
    "    knn_imputer = KNNImputer()\n",
    "    df_imputed = pd.DataFrame(knn_imputer.fit_transform(df[columns_to_impute]), \n",
    "                             columns = columns_to_impute)\n",
    "    \n",
    "    # Update the original DataFrame with the imputed values\n",
    "    df[columns_to_impute] = df_imputed\n",
    "    \n",
    "    # Save the updated data back to the database\n",
    "    conn = sqlite3.connect(database_path)\n",
    "    df.to_sql('speed_dating', conn,\n",
    "              if_exists = 'replace', index = False)\n",
    "    print('Remaining NULL values have had data imputation performed on them.')\n",
    "    conn.close()"
   ]
  },
  {
   "cell_type": "code",
   "execution_count": 166,
   "id": "45a62020",
   "metadata": {},
   "outputs": [
    {
     "name": "stdout",
     "output_type": "stream",
     "text": [
      "Deleted 421 rows with three or more NULL values.\n",
      "Deleted 131 rows with missing pairs.\n",
      "Remaining NULL values have had data imputation performed on them.\n",
      "Data pre-processing complete. It took 0.4402 seconds.\n"
     ]
    }
   ],
   "source": [
    "# Running all the data preprocessing functions with timing.\n",
    "start_time = time.time()\n",
    "\n",
    "# Define the base names\n",
    "# Add more if needed\n",
    "columns_base = ['attr', 'sinc', 'intel', 'fun', 'amb']\n",
    "\n",
    "# Define the full names for plots\n",
    "# Add more if needed\n",
    "columns_full = ['Attractive', 'Sincere', 'Intelligent', 'Fun', 'Ambitious']\n",
    "\n",
    "# Define the _o columns\n",
    "columns_o = [attribute + '_o' for attribute in columns_base]\n",
    "\n",
    "# Define the 3_1 columns\n",
    "columns_3_1 = [attribute + '3_1' for attribute in columns_base]\n",
    "    \n",
    "# Define the pf columns\n",
    "columns_pf_o = [f'pf_o_{attribute}' for attribute in columns_base]\n",
    "\n",
    "# Define the threshold for null value row deletion\n",
    "null_no = 3\n",
    "\n",
    "delete_null_values(database_path, columns_o, columns_3_1, columns_pf_o, null_no)\n",
    "delete_missing_pairs(database_path)\n",
    "\n",
    "# Currently only _o has missing values. Repeat call for further column sets\n",
    "# if necessary\n",
    "data_imputation(database_path, columns_o)\n",
    "\n",
    "end_time = round(time.time() - start_time, 4)\n",
    "\n",
    "print(f'Data pre-processing complete. It took {end_time} seconds.')"
   ]
  },
  {
   "cell_type": "markdown",
   "id": "4b17fedc",
   "metadata": {},
   "source": [
    "## Table Creation\n",
    "\n",
    "The below functions create the various tables needed for analysis. These also defined foreign keys and primary keys (i.e. the relation between tables).\n",
    "\n",
    "For a full description of these tables, their schema, what the columns represent, justification of datatypes and how they link together please see the database schema .pdf.\n"
   ]
  },
  {
   "cell_type": "code",
   "execution_count": 167,
   "id": "fcc6aab6",
   "metadata": {},
   "outputs": [],
   "source": [
    "# Creates the participants table\n",
    "\n",
    "# Parameters:\n",
    "#   - database_path (str): the path to your database\n",
    "#   - columns_3_1 (list): list of attributes ending in 3_1 (self ratings given)\n",
    "#   - columns_pf_o (list): list of attributes in the form\n",
    "#                          pf_o_{attribute} (attribute preferences)\n",
    "\n",
    "def create_participants_table(database_path, columns_3_1, columns_pf_o):\n",
    "    # Connect to the database\n",
    "    conn = sqlite3.connect(database_path)\n",
    "    \n",
    "    # Creator cursor object\n",
    "    cursor = conn.cursor()\n",
    "    \n",
    "    # Drop the participants table if it exists\n",
    "    cursor.execute(\"DROP TABLE IF EXISTS participants\")\n",
    "    \n",
    "    # Create the participants table\n",
    "    participants_table_query = f'''\n",
    "       CREATE TABLE participants(\n",
    "           iid SMALLINT UNSIGNED PRIMARY KEY,\n",
    "           gender TINYINT,\n",
    "           {', '.join(f'{attr} TINYINT UNSIGNED' for attr in columns_3_1)},\n",
    "           {', '.join(f'{attr} TINYINT UNSIGNED' for attr in columns_pf_o)}\n",
    "           )\n",
    "       '''\n",
    "    \n",
    "    # Execute query\n",
    "    cursor.execute(participants_table_query)\n",
    "    \n",
    "    # Create indexes on iid column in the participants table\n",
    "    cursor.execute('CREATE INDEX idx_participants_iid ON participants (iid)')\n",
    "    \n",
    "    # Insert data into participants table\n",
    "    participants_insert_query = f'''\n",
    "        INSERT INTO participants(iid, gender, {', '.join(columns_3_1)})\n",
    "        SELECT DISTINCT iid, gender, {', '.join(columns_3_1)}\n",
    "        FROM speed_dating;\n",
    "    '''\n",
    "        \n",
    "    # Execute query\n",
    "    cursor.execute(participants_insert_query)\n",
    "        \n",
    "    # Update data in participants table\n",
    "    participants_update_query = f'''\n",
    "        UPDATE participants\n",
    "        SET {', '.join(f'{attr} = s.{attr}' for attr in columns_pf_o)}\n",
    "        FROM\n",
    "            speed_dating AS s\n",
    "        WHERE\n",
    "            participants.iid = s.pid;\n",
    "    '''\n",
    "\n",
    "    # Execute query\n",
    "    cursor.execute(participants_update_query)\n",
    "    \n",
    "    # Commit changes\n",
    "    conn.commit()\n",
    "    \n",
    "    # Close the connection\n",
    "    conn.close()"
   ]
  },
  {
   "cell_type": "code",
   "execution_count": 168,
   "id": "9c86e769",
   "metadata": {},
   "outputs": [],
   "source": [
    "# Creates the dates table\n",
    "\n",
    "# Parameters:\n",
    "#   - database_path (str): the path to your database\n",
    "#   - columns_o (list): list of attributes ending in _o (ratings given)\n",
    "\n",
    "def create_dates_table(database_path, columns_o):\n",
    "    # Connect to the database\n",
    "    conn = sqlite3.connect(database_path)\n",
    "    \n",
    "    # Create cursor object\n",
    "    cursor = conn.cursor()\n",
    "    \n",
    "    # Drop the dates table if it exists\n",
    "    cursor.execute(\"DROP TABLE IF EXISTS dates\")\n",
    "    \n",
    "    # Create the dates table\n",
    "    dates_table_query = f'''\n",
    "        CREATE TABLE dates(\n",
    "            date_id INTEGER PRIMARY KEY AUTOINCREMENT,\n",
    "            iid SMALLINT UNSIGNED,\n",
    "            pid SMALLINT UNSIGNED,\n",
    "            match TINYINT,\n",
    "            dec_o TINYINT,\n",
    "            {', '.join(f'{attr} TINYINT UNSIGNED' for attr in columns_o)},\n",
    "            FOREIGN KEY (iid) REFERENCES participants (iid),\n",
    "            FOREIGN KEY (pid) REFERENCES participants (pid)\n",
    "            )\n",
    "    '''\n",
    "    \n",
    "    # Execute query\n",
    "    cursor.execute(dates_table_query)\n",
    "    \n",
    "    # Create indexes on date_id column in dates table\n",
    "    cursor.execute(\"CREATE INDEX idx_dates_date_id ON dates (date_id)\")\n",
    "    \n",
    "    # Insert data into dates table\n",
    "    dates_insert_query = f'''\n",
    "        INSERT INTO dates (iid, pid, match, dec_o, {', '.join(columns_o)})\n",
    "        SELECT iid, pid, match, dec_o, {', '.join(columns_o)}\n",
    "        FROM speed_dating\n",
    "    '''\n",
    "    \n",
    "    # Execute query\n",
    "    cursor.execute(dates_insert_query)\n",
    "    \n",
    "    # Commit changes\n",
    "    conn.commit()\n",
    "    \n",
    "    # Close connection\n",
    "    conn.close()"
   ]
  },
  {
   "cell_type": "code",
   "execution_count": 169,
   "id": "de1f89fa",
   "metadata": {},
   "outputs": [
    {
     "name": "stdout",
     "output_type": "stream",
     "text": [
      "Table creation complete. It took 0.1434 seconds.\n"
     ]
    }
   ],
   "source": [
    "# Running all the data preprocessing functions with timing.\n",
    "start_time = time.time()\n",
    "\n",
    "create_participants_table(database_path, columns_3_1, columns_pf_o)\n",
    "create_dates_table(database_path, columns_o)\n",
    "\n",
    "end_time = round(time.time() - start_time, 4)\n",
    "\n",
    "print(f'Table creation complete. It took {end_time} seconds.')"
   ]
  },
  {
   "cell_type": "markdown",
   "id": "3f02f86e",
   "metadata": {},
   "source": [
    "## Attribute Importance\n",
    "\n",
    "In this section we first examine and plot the average allocation of preference across the five attributes, sorted by gender.\n",
    "We then train a Random Forest model, based on ratings received on dates and their influence on second date success.\n",
    "\n",
    "The overall goal of this section is to compare how people initially placed their preference compared to which attributes actually drove second-date success.\n",
    "Additionally, it will examine which attribute is the most important in driving second date potential."
   ]
  },
  {
   "cell_type": "markdown",
   "id": "429d2d83",
   "metadata": {},
   "source": [
    "### Initial Preference Allocation\n",
    "\n",
    "As mentioned earlier, before dating began each participant would allocate 100 points across the five attributes representing what they look for in an ideal partner.\n",
    "\n",
    "The below code retrieves the average allocation for each attribute separated by gender and plots the results."
   ]
  },
  {
   "cell_type": "code",
   "execution_count": 170,
   "id": "04de5017",
   "metadata": {},
   "outputs": [],
   "source": [
    "# Fetches the average allocation of each attribute by gender\n",
    "\n",
    "# Parameters:\n",
    "#   - database_path (str): the path to your database\n",
    "#   - columns_pf_o (list): list of attributes in the form\n",
    "#                          pf_o_{attribute} (attribute preferences)\n",
    "#   - gender_labels (list): the genders to be included \n",
    "\n",
    "def fetch_pref_data(database_path, columns_pf_o, gender_labels):\n",
    "    # Connect to the database\n",
    "    conn = sqlite3.connect(database_path)\n",
    "\n",
    "    # Creator cursor object\n",
    "    cursor = conn.cursor()\n",
    "    \n",
    "    # Generate the SELECT statement dynamically\n",
    "    pref_columns = ', '.join([f'AVG({column})' for column in columns_pf_o])\n",
    "    pref_query = f'''\n",
    "        SELECT gender, {pref_columns}\n",
    "        FROM participants\n",
    "        GROUP BY gender\n",
    "        ORDER BY gender\n",
    "    '''\n",
    "    \n",
    "    # Execute query to retrieve the average allocation for each attribute\n",
    "    # by gender\n",
    "    cursor.execute(pref_query)\n",
    "    \n",
    "    rows = cursor.fetchall()\n",
    "\n",
    "    # Commit changes\n",
    "    conn.commit()\n",
    "    \n",
    "    # Close the connection\n",
    "    conn.close()\n",
    "    \n",
    "    pref_data = {}\n",
    "\n",
    "    for i, row in enumerate(rows):\n",
    "        gender = gender_labels[i]\n",
    "        average_pref = row[1:]  # Exclude the first element (gender) from the row\n",
    "        pref_data[gender] = average_pref\n",
    "\n",
    "    return(pref_data)"
   ]
  },
  {
   "cell_type": "code",
   "execution_count": 171,
   "id": "3c96eb8b",
   "metadata": {},
   "outputs": [],
   "source": [
    "# Creates the traces for the plotly bar chart\n",
    "\n",
    "# Parameters:\n",
    "#   - data (dict): the data to be used containing x and y data\n",
    "#                  for each gender\n",
    "#   - x_axis (list): the values to use for x-axis labels\n",
    "#   - colors (list): the colors to use for the male and female bar chart\n",
    "\n",
    "def create_bar_traces(data, x_axis, colors):\n",
    "    \n",
    "    # Create traces for each gender\n",
    "    traces = []\n",
    "    \n",
    "    # Set counter for colors list\n",
    "    i = 0\n",
    "    \n",
    "    for gender, y_data in data.items():\n",
    "        trace = go.Bar(\n",
    "            # The x-axis labels to be used\n",
    "            x=x_axis,\n",
    "            # The y data to be used\n",
    "            y=y_data,\n",
    "            name=gender,\n",
    "            marker_color=colors[i]\n",
    "        )\n",
    "        traces.append(trace)\n",
    "        i = i + 1\n",
    "\n",
    "    return traces"
   ]
  },
  {
   "cell_type": "code",
   "execution_count": 172,
   "id": "5affc848",
   "metadata": {
    "scrolled": true
   },
   "outputs": [
    {
     "data": {
      "application/vnd.plotly.v1+json": {
       "config": {
        "plotlyServerURL": "https://plot.ly"
       },
       "data": [
        {
         "marker": {
          "color": "#ff6361"
         },
         "name": "Female",
         "type": "bar",
         "x": [
          "Attractive",
          "Sincere",
          "Intelligent",
          "Fun",
          "Ambitious"
         ],
         "y": [
          18.031641791044777,
          18.215597014925372,
          20.93731343283582,
          17.28902985074627,
          12.847649253731342
         ]
        },
        {
         "marker": {
          "color": "#003f5c"
         },
         "name": "Male",
         "type": "bar",
         "x": [
          "Attractive",
          "Sincere",
          "Intelligent",
          "Fun",
          "Ambitious"
         ],
         "y": [
          27.027179487179495,
          16.422673992673996,
          19.45252747252747,
          17.653051470588238,
          8.811586715867158
         ]
        }
       ],
       "layout": {
        "barmode": "group",
        "paper_bgcolor": "#dadfe1",
        "plot_bgcolor": "#dadfe1",
        "template": {
         "data": {
          "bar": [
           {
            "error_x": {
             "color": "#2a3f5f"
            },
            "error_y": {
             "color": "#2a3f5f"
            },
            "marker": {
             "line": {
              "color": "#E5ECF6",
              "width": 0.5
             },
             "pattern": {
              "fillmode": "overlay",
              "size": 10,
              "solidity": 0.2
             }
            },
            "type": "bar"
           }
          ],
          "barpolar": [
           {
            "marker": {
             "line": {
              "color": "#E5ECF6",
              "width": 0.5
             },
             "pattern": {
              "fillmode": "overlay",
              "size": 10,
              "solidity": 0.2
             }
            },
            "type": "barpolar"
           }
          ],
          "carpet": [
           {
            "aaxis": {
             "endlinecolor": "#2a3f5f",
             "gridcolor": "white",
             "linecolor": "white",
             "minorgridcolor": "white",
             "startlinecolor": "#2a3f5f"
            },
            "baxis": {
             "endlinecolor": "#2a3f5f",
             "gridcolor": "white",
             "linecolor": "white",
             "minorgridcolor": "white",
             "startlinecolor": "#2a3f5f"
            },
            "type": "carpet"
           }
          ],
          "choropleth": [
           {
            "colorbar": {
             "outlinewidth": 0,
             "ticks": ""
            },
            "type": "choropleth"
           }
          ],
          "contour": [
           {
            "colorbar": {
             "outlinewidth": 0,
             "ticks": ""
            },
            "colorscale": [
             [
              0,
              "#0d0887"
             ],
             [
              0.1111111111111111,
              "#46039f"
             ],
             [
              0.2222222222222222,
              "#7201a8"
             ],
             [
              0.3333333333333333,
              "#9c179e"
             ],
             [
              0.4444444444444444,
              "#bd3786"
             ],
             [
              0.5555555555555556,
              "#d8576b"
             ],
             [
              0.6666666666666666,
              "#ed7953"
             ],
             [
              0.7777777777777778,
              "#fb9f3a"
             ],
             [
              0.8888888888888888,
              "#fdca26"
             ],
             [
              1,
              "#f0f921"
             ]
            ],
            "type": "contour"
           }
          ],
          "contourcarpet": [
           {
            "colorbar": {
             "outlinewidth": 0,
             "ticks": ""
            },
            "type": "contourcarpet"
           }
          ],
          "heatmap": [
           {
            "colorbar": {
             "outlinewidth": 0,
             "ticks": ""
            },
            "colorscale": [
             [
              0,
              "#0d0887"
             ],
             [
              0.1111111111111111,
              "#46039f"
             ],
             [
              0.2222222222222222,
              "#7201a8"
             ],
             [
              0.3333333333333333,
              "#9c179e"
             ],
             [
              0.4444444444444444,
              "#bd3786"
             ],
             [
              0.5555555555555556,
              "#d8576b"
             ],
             [
              0.6666666666666666,
              "#ed7953"
             ],
             [
              0.7777777777777778,
              "#fb9f3a"
             ],
             [
              0.8888888888888888,
              "#fdca26"
             ],
             [
              1,
              "#f0f921"
             ]
            ],
            "type": "heatmap"
           }
          ],
          "heatmapgl": [
           {
            "colorbar": {
             "outlinewidth": 0,
             "ticks": ""
            },
            "colorscale": [
             [
              0,
              "#0d0887"
             ],
             [
              0.1111111111111111,
              "#46039f"
             ],
             [
              0.2222222222222222,
              "#7201a8"
             ],
             [
              0.3333333333333333,
              "#9c179e"
             ],
             [
              0.4444444444444444,
              "#bd3786"
             ],
             [
              0.5555555555555556,
              "#d8576b"
             ],
             [
              0.6666666666666666,
              "#ed7953"
             ],
             [
              0.7777777777777778,
              "#fb9f3a"
             ],
             [
              0.8888888888888888,
              "#fdca26"
             ],
             [
              1,
              "#f0f921"
             ]
            ],
            "type": "heatmapgl"
           }
          ],
          "histogram": [
           {
            "marker": {
             "pattern": {
              "fillmode": "overlay",
              "size": 10,
              "solidity": 0.2
             }
            },
            "type": "histogram"
           }
          ],
          "histogram2d": [
           {
            "colorbar": {
             "outlinewidth": 0,
             "ticks": ""
            },
            "colorscale": [
             [
              0,
              "#0d0887"
             ],
             [
              0.1111111111111111,
              "#46039f"
             ],
             [
              0.2222222222222222,
              "#7201a8"
             ],
             [
              0.3333333333333333,
              "#9c179e"
             ],
             [
              0.4444444444444444,
              "#bd3786"
             ],
             [
              0.5555555555555556,
              "#d8576b"
             ],
             [
              0.6666666666666666,
              "#ed7953"
             ],
             [
              0.7777777777777778,
              "#fb9f3a"
             ],
             [
              0.8888888888888888,
              "#fdca26"
             ],
             [
              1,
              "#f0f921"
             ]
            ],
            "type": "histogram2d"
           }
          ],
          "histogram2dcontour": [
           {
            "colorbar": {
             "outlinewidth": 0,
             "ticks": ""
            },
            "colorscale": [
             [
              0,
              "#0d0887"
             ],
             [
              0.1111111111111111,
              "#46039f"
             ],
             [
              0.2222222222222222,
              "#7201a8"
             ],
             [
              0.3333333333333333,
              "#9c179e"
             ],
             [
              0.4444444444444444,
              "#bd3786"
             ],
             [
              0.5555555555555556,
              "#d8576b"
             ],
             [
              0.6666666666666666,
              "#ed7953"
             ],
             [
              0.7777777777777778,
              "#fb9f3a"
             ],
             [
              0.8888888888888888,
              "#fdca26"
             ],
             [
              1,
              "#f0f921"
             ]
            ],
            "type": "histogram2dcontour"
           }
          ],
          "mesh3d": [
           {
            "colorbar": {
             "outlinewidth": 0,
             "ticks": ""
            },
            "type": "mesh3d"
           }
          ],
          "parcoords": [
           {
            "line": {
             "colorbar": {
              "outlinewidth": 0,
              "ticks": ""
             }
            },
            "type": "parcoords"
           }
          ],
          "pie": [
           {
            "automargin": true,
            "type": "pie"
           }
          ],
          "scatter": [
           {
            "fillpattern": {
             "fillmode": "overlay",
             "size": 10,
             "solidity": 0.2
            },
            "type": "scatter"
           }
          ],
          "scatter3d": [
           {
            "line": {
             "colorbar": {
              "outlinewidth": 0,
              "ticks": ""
             }
            },
            "marker": {
             "colorbar": {
              "outlinewidth": 0,
              "ticks": ""
             }
            },
            "type": "scatter3d"
           }
          ],
          "scattercarpet": [
           {
            "marker": {
             "colorbar": {
              "outlinewidth": 0,
              "ticks": ""
             }
            },
            "type": "scattercarpet"
           }
          ],
          "scattergeo": [
           {
            "marker": {
             "colorbar": {
              "outlinewidth": 0,
              "ticks": ""
             }
            },
            "type": "scattergeo"
           }
          ],
          "scattergl": [
           {
            "marker": {
             "colorbar": {
              "outlinewidth": 0,
              "ticks": ""
             }
            },
            "type": "scattergl"
           }
          ],
          "scattermapbox": [
           {
            "marker": {
             "colorbar": {
              "outlinewidth": 0,
              "ticks": ""
             }
            },
            "type": "scattermapbox"
           }
          ],
          "scatterpolar": [
           {
            "marker": {
             "colorbar": {
              "outlinewidth": 0,
              "ticks": ""
             }
            },
            "type": "scatterpolar"
           }
          ],
          "scatterpolargl": [
           {
            "marker": {
             "colorbar": {
              "outlinewidth": 0,
              "ticks": ""
             }
            },
            "type": "scatterpolargl"
           }
          ],
          "scatterternary": [
           {
            "marker": {
             "colorbar": {
              "outlinewidth": 0,
              "ticks": ""
             }
            },
            "type": "scatterternary"
           }
          ],
          "surface": [
           {
            "colorbar": {
             "outlinewidth": 0,
             "ticks": ""
            },
            "colorscale": [
             [
              0,
              "#0d0887"
             ],
             [
              0.1111111111111111,
              "#46039f"
             ],
             [
              0.2222222222222222,
              "#7201a8"
             ],
             [
              0.3333333333333333,
              "#9c179e"
             ],
             [
              0.4444444444444444,
              "#bd3786"
             ],
             [
              0.5555555555555556,
              "#d8576b"
             ],
             [
              0.6666666666666666,
              "#ed7953"
             ],
             [
              0.7777777777777778,
              "#fb9f3a"
             ],
             [
              0.8888888888888888,
              "#fdca26"
             ],
             [
              1,
              "#f0f921"
             ]
            ],
            "type": "surface"
           }
          ],
          "table": [
           {
            "cells": {
             "fill": {
              "color": "#EBF0F8"
             },
             "line": {
              "color": "white"
             }
            },
            "header": {
             "fill": {
              "color": "#C8D4E3"
             },
             "line": {
              "color": "white"
             }
            },
            "type": "table"
           }
          ]
         },
         "layout": {
          "annotationdefaults": {
           "arrowcolor": "#2a3f5f",
           "arrowhead": 0,
           "arrowwidth": 1
          },
          "autotypenumbers": "strict",
          "coloraxis": {
           "colorbar": {
            "outlinewidth": 0,
            "ticks": ""
           }
          },
          "colorscale": {
           "diverging": [
            [
             0,
             "#8e0152"
            ],
            [
             0.1,
             "#c51b7d"
            ],
            [
             0.2,
             "#de77ae"
            ],
            [
             0.3,
             "#f1b6da"
            ],
            [
             0.4,
             "#fde0ef"
            ],
            [
             0.5,
             "#f7f7f7"
            ],
            [
             0.6,
             "#e6f5d0"
            ],
            [
             0.7,
             "#b8e186"
            ],
            [
             0.8,
             "#7fbc41"
            ],
            [
             0.9,
             "#4d9221"
            ],
            [
             1,
             "#276419"
            ]
           ],
           "sequential": [
            [
             0,
             "#0d0887"
            ],
            [
             0.1111111111111111,
             "#46039f"
            ],
            [
             0.2222222222222222,
             "#7201a8"
            ],
            [
             0.3333333333333333,
             "#9c179e"
            ],
            [
             0.4444444444444444,
             "#bd3786"
            ],
            [
             0.5555555555555556,
             "#d8576b"
            ],
            [
             0.6666666666666666,
             "#ed7953"
            ],
            [
             0.7777777777777778,
             "#fb9f3a"
            ],
            [
             0.8888888888888888,
             "#fdca26"
            ],
            [
             1,
             "#f0f921"
            ]
           ],
           "sequentialminus": [
            [
             0,
             "#0d0887"
            ],
            [
             0.1111111111111111,
             "#46039f"
            ],
            [
             0.2222222222222222,
             "#7201a8"
            ],
            [
             0.3333333333333333,
             "#9c179e"
            ],
            [
             0.4444444444444444,
             "#bd3786"
            ],
            [
             0.5555555555555556,
             "#d8576b"
            ],
            [
             0.6666666666666666,
             "#ed7953"
            ],
            [
             0.7777777777777778,
             "#fb9f3a"
            ],
            [
             0.8888888888888888,
             "#fdca26"
            ],
            [
             1,
             "#f0f921"
            ]
           ]
          },
          "colorway": [
           "#636efa",
           "#EF553B",
           "#00cc96",
           "#ab63fa",
           "#FFA15A",
           "#19d3f3",
           "#FF6692",
           "#B6E880",
           "#FF97FF",
           "#FECB52"
          ],
          "font": {
           "color": "#2a3f5f"
          },
          "geo": {
           "bgcolor": "white",
           "lakecolor": "white",
           "landcolor": "#E5ECF6",
           "showlakes": true,
           "showland": true,
           "subunitcolor": "white"
          },
          "hoverlabel": {
           "align": "left"
          },
          "hovermode": "closest",
          "mapbox": {
           "style": "light"
          },
          "paper_bgcolor": "white",
          "plot_bgcolor": "#E5ECF6",
          "polar": {
           "angularaxis": {
            "gridcolor": "white",
            "linecolor": "white",
            "ticks": ""
           },
           "bgcolor": "#E5ECF6",
           "radialaxis": {
            "gridcolor": "white",
            "linecolor": "white",
            "ticks": ""
           }
          },
          "scene": {
           "xaxis": {
            "backgroundcolor": "#E5ECF6",
            "gridcolor": "white",
            "gridwidth": 2,
            "linecolor": "white",
            "showbackground": true,
            "ticks": "",
            "zerolinecolor": "white"
           },
           "yaxis": {
            "backgroundcolor": "#E5ECF6",
            "gridcolor": "white",
            "gridwidth": 2,
            "linecolor": "white",
            "showbackground": true,
            "ticks": "",
            "zerolinecolor": "white"
           },
           "zaxis": {
            "backgroundcolor": "#E5ECF6",
            "gridcolor": "white",
            "gridwidth": 2,
            "linecolor": "white",
            "showbackground": true,
            "ticks": "",
            "zerolinecolor": "white"
           }
          },
          "shapedefaults": {
           "line": {
            "color": "#2a3f5f"
           }
          },
          "ternary": {
           "aaxis": {
            "gridcolor": "white",
            "linecolor": "white",
            "ticks": ""
           },
           "baxis": {
            "gridcolor": "white",
            "linecolor": "white",
            "ticks": ""
           },
           "bgcolor": "#E5ECF6",
           "caxis": {
            "gridcolor": "white",
            "linecolor": "white",
            "ticks": ""
           }
          },
          "title": {
           "x": 0.05
          },
          "xaxis": {
           "automargin": true,
           "gridcolor": "white",
           "linecolor": "white",
           "ticks": "",
           "title": {
            "standoff": 15
           },
           "zerolinecolor": "white",
           "zerolinewidth": 2
          },
          "yaxis": {
           "automargin": true,
           "gridcolor": "white",
           "linecolor": "white",
           "ticks": "",
           "title": {
            "standoff": 15
           },
           "zerolinecolor": "white",
           "zerolinewidth": 2
          }
         }
        },
        "title": {
         "text": "Average Allocation for Attributes by Gender"
        },
        "xaxis": {
         "title": {
          "text": "Attributes"
         }
        },
        "yaxis": {
         "title": {
          "text": "Average Allocation"
         }
        }
       }
      },
      "text/html": [
       "<div>                            <div id=\"55684889-7a92-4b30-bbde-92402fb1ffcb\" class=\"plotly-graph-div\" style=\"height:525px; width:100%;\"></div>            <script type=\"text/javascript\">                require([\"plotly\"], function(Plotly) {                    window.PLOTLYENV=window.PLOTLYENV || {};                                    if (document.getElementById(\"55684889-7a92-4b30-bbde-92402fb1ffcb\")) {                    Plotly.newPlot(                        \"55684889-7a92-4b30-bbde-92402fb1ffcb\",                        [{\"marker\":{\"color\":\"#ff6361\"},\"name\":\"Female\",\"x\":[\"Attractive\",\"Sincere\",\"Intelligent\",\"Fun\",\"Ambitious\"],\"y\":[18.031641791044777,18.215597014925372,20.93731343283582,17.28902985074627,12.847649253731342],\"type\":\"bar\"},{\"marker\":{\"color\":\"#003f5c\"},\"name\":\"Male\",\"x\":[\"Attractive\",\"Sincere\",\"Intelligent\",\"Fun\",\"Ambitious\"],\"y\":[27.027179487179495,16.422673992673996,19.45252747252747,17.653051470588238,8.811586715867158],\"type\":\"bar\"}],                        {\"barmode\":\"group\",\"paper_bgcolor\":\"#dadfe1\",\"plot_bgcolor\":\"#dadfe1\",\"title\":{\"text\":\"Average Allocation for Attributes by Gender\"},\"xaxis\":{\"title\":{\"text\":\"Attributes\"}},\"yaxis\":{\"title\":{\"text\":\"Average Allocation\"}},\"template\":{\"data\":{\"histogram2dcontour\":[{\"type\":\"histogram2dcontour\",\"colorbar\":{\"outlinewidth\":0,\"ticks\":\"\"},\"colorscale\":[[0.0,\"#0d0887\"],[0.1111111111111111,\"#46039f\"],[0.2222222222222222,\"#7201a8\"],[0.3333333333333333,\"#9c179e\"],[0.4444444444444444,\"#bd3786\"],[0.5555555555555556,\"#d8576b\"],[0.6666666666666666,\"#ed7953\"],[0.7777777777777778,\"#fb9f3a\"],[0.8888888888888888,\"#fdca26\"],[1.0,\"#f0f921\"]]}],\"choropleth\":[{\"type\":\"choropleth\",\"colorbar\":{\"outlinewidth\":0,\"ticks\":\"\"}}],\"histogram2d\":[{\"type\":\"histogram2d\",\"colorbar\":{\"outlinewidth\":0,\"ticks\":\"\"},\"colorscale\":[[0.0,\"#0d0887\"],[0.1111111111111111,\"#46039f\"],[0.2222222222222222,\"#7201a8\"],[0.3333333333333333,\"#9c179e\"],[0.4444444444444444,\"#bd3786\"],[0.5555555555555556,\"#d8576b\"],[0.6666666666666666,\"#ed7953\"],[0.7777777777777778,\"#fb9f3a\"],[0.8888888888888888,\"#fdca26\"],[1.0,\"#f0f921\"]]}],\"heatmap\":[{\"type\":\"heatmap\",\"colorbar\":{\"outlinewidth\":0,\"ticks\":\"\"},\"colorscale\":[[0.0,\"#0d0887\"],[0.1111111111111111,\"#46039f\"],[0.2222222222222222,\"#7201a8\"],[0.3333333333333333,\"#9c179e\"],[0.4444444444444444,\"#bd3786\"],[0.5555555555555556,\"#d8576b\"],[0.6666666666666666,\"#ed7953\"],[0.7777777777777778,\"#fb9f3a\"],[0.8888888888888888,\"#fdca26\"],[1.0,\"#f0f921\"]]}],\"heatmapgl\":[{\"type\":\"heatmapgl\",\"colorbar\":{\"outlinewidth\":0,\"ticks\":\"\"},\"colorscale\":[[0.0,\"#0d0887\"],[0.1111111111111111,\"#46039f\"],[0.2222222222222222,\"#7201a8\"],[0.3333333333333333,\"#9c179e\"],[0.4444444444444444,\"#bd3786\"],[0.5555555555555556,\"#d8576b\"],[0.6666666666666666,\"#ed7953\"],[0.7777777777777778,\"#fb9f3a\"],[0.8888888888888888,\"#fdca26\"],[1.0,\"#f0f921\"]]}],\"contourcarpet\":[{\"type\":\"contourcarpet\",\"colorbar\":{\"outlinewidth\":0,\"ticks\":\"\"}}],\"contour\":[{\"type\":\"contour\",\"colorbar\":{\"outlinewidth\":0,\"ticks\":\"\"},\"colorscale\":[[0.0,\"#0d0887\"],[0.1111111111111111,\"#46039f\"],[0.2222222222222222,\"#7201a8\"],[0.3333333333333333,\"#9c179e\"],[0.4444444444444444,\"#bd3786\"],[0.5555555555555556,\"#d8576b\"],[0.6666666666666666,\"#ed7953\"],[0.7777777777777778,\"#fb9f3a\"],[0.8888888888888888,\"#fdca26\"],[1.0,\"#f0f921\"]]}],\"surface\":[{\"type\":\"surface\",\"colorbar\":{\"outlinewidth\":0,\"ticks\":\"\"},\"colorscale\":[[0.0,\"#0d0887\"],[0.1111111111111111,\"#46039f\"],[0.2222222222222222,\"#7201a8\"],[0.3333333333333333,\"#9c179e\"],[0.4444444444444444,\"#bd3786\"],[0.5555555555555556,\"#d8576b\"],[0.6666666666666666,\"#ed7953\"],[0.7777777777777778,\"#fb9f3a\"],[0.8888888888888888,\"#fdca26\"],[1.0,\"#f0f921\"]]}],\"mesh3d\":[{\"type\":\"mesh3d\",\"colorbar\":{\"outlinewidth\":0,\"ticks\":\"\"}}],\"scatter\":[{\"fillpattern\":{\"fillmode\":\"overlay\",\"size\":10,\"solidity\":0.2},\"type\":\"scatter\"}],\"parcoords\":[{\"type\":\"parcoords\",\"line\":{\"colorbar\":{\"outlinewidth\":0,\"ticks\":\"\"}}}],\"scatterpolargl\":[{\"type\":\"scatterpolargl\",\"marker\":{\"colorbar\":{\"outlinewidth\":0,\"ticks\":\"\"}}}],\"bar\":[{\"error_x\":{\"color\":\"#2a3f5f\"},\"error_y\":{\"color\":\"#2a3f5f\"},\"marker\":{\"line\":{\"color\":\"#E5ECF6\",\"width\":0.5},\"pattern\":{\"fillmode\":\"overlay\",\"size\":10,\"solidity\":0.2}},\"type\":\"bar\"}],\"scattergeo\":[{\"type\":\"scattergeo\",\"marker\":{\"colorbar\":{\"outlinewidth\":0,\"ticks\":\"\"}}}],\"scatterpolar\":[{\"type\":\"scatterpolar\",\"marker\":{\"colorbar\":{\"outlinewidth\":0,\"ticks\":\"\"}}}],\"histogram\":[{\"marker\":{\"pattern\":{\"fillmode\":\"overlay\",\"size\":10,\"solidity\":0.2}},\"type\":\"histogram\"}],\"scattergl\":[{\"type\":\"scattergl\",\"marker\":{\"colorbar\":{\"outlinewidth\":0,\"ticks\":\"\"}}}],\"scatter3d\":[{\"type\":\"scatter3d\",\"line\":{\"colorbar\":{\"outlinewidth\":0,\"ticks\":\"\"}},\"marker\":{\"colorbar\":{\"outlinewidth\":0,\"ticks\":\"\"}}}],\"scattermapbox\":[{\"type\":\"scattermapbox\",\"marker\":{\"colorbar\":{\"outlinewidth\":0,\"ticks\":\"\"}}}],\"scatterternary\":[{\"type\":\"scatterternary\",\"marker\":{\"colorbar\":{\"outlinewidth\":0,\"ticks\":\"\"}}}],\"scattercarpet\":[{\"type\":\"scattercarpet\",\"marker\":{\"colorbar\":{\"outlinewidth\":0,\"ticks\":\"\"}}}],\"carpet\":[{\"aaxis\":{\"endlinecolor\":\"#2a3f5f\",\"gridcolor\":\"white\",\"linecolor\":\"white\",\"minorgridcolor\":\"white\",\"startlinecolor\":\"#2a3f5f\"},\"baxis\":{\"endlinecolor\":\"#2a3f5f\",\"gridcolor\":\"white\",\"linecolor\":\"white\",\"minorgridcolor\":\"white\",\"startlinecolor\":\"#2a3f5f\"},\"type\":\"carpet\"}],\"table\":[{\"cells\":{\"fill\":{\"color\":\"#EBF0F8\"},\"line\":{\"color\":\"white\"}},\"header\":{\"fill\":{\"color\":\"#C8D4E3\"},\"line\":{\"color\":\"white\"}},\"type\":\"table\"}],\"barpolar\":[{\"marker\":{\"line\":{\"color\":\"#E5ECF6\",\"width\":0.5},\"pattern\":{\"fillmode\":\"overlay\",\"size\":10,\"solidity\":0.2}},\"type\":\"barpolar\"}],\"pie\":[{\"automargin\":true,\"type\":\"pie\"}]},\"layout\":{\"autotypenumbers\":\"strict\",\"colorway\":[\"#636efa\",\"#EF553B\",\"#00cc96\",\"#ab63fa\",\"#FFA15A\",\"#19d3f3\",\"#FF6692\",\"#B6E880\",\"#FF97FF\",\"#FECB52\"],\"font\":{\"color\":\"#2a3f5f\"},\"hovermode\":\"closest\",\"hoverlabel\":{\"align\":\"left\"},\"paper_bgcolor\":\"white\",\"plot_bgcolor\":\"#E5ECF6\",\"polar\":{\"bgcolor\":\"#E5ECF6\",\"angularaxis\":{\"gridcolor\":\"white\",\"linecolor\":\"white\",\"ticks\":\"\"},\"radialaxis\":{\"gridcolor\":\"white\",\"linecolor\":\"white\",\"ticks\":\"\"}},\"ternary\":{\"bgcolor\":\"#E5ECF6\",\"aaxis\":{\"gridcolor\":\"white\",\"linecolor\":\"white\",\"ticks\":\"\"},\"baxis\":{\"gridcolor\":\"white\",\"linecolor\":\"white\",\"ticks\":\"\"},\"caxis\":{\"gridcolor\":\"white\",\"linecolor\":\"white\",\"ticks\":\"\"}},\"coloraxis\":{\"colorbar\":{\"outlinewidth\":0,\"ticks\":\"\"}},\"colorscale\":{\"sequential\":[[0.0,\"#0d0887\"],[0.1111111111111111,\"#46039f\"],[0.2222222222222222,\"#7201a8\"],[0.3333333333333333,\"#9c179e\"],[0.4444444444444444,\"#bd3786\"],[0.5555555555555556,\"#d8576b\"],[0.6666666666666666,\"#ed7953\"],[0.7777777777777778,\"#fb9f3a\"],[0.8888888888888888,\"#fdca26\"],[1.0,\"#f0f921\"]],\"sequentialminus\":[[0.0,\"#0d0887\"],[0.1111111111111111,\"#46039f\"],[0.2222222222222222,\"#7201a8\"],[0.3333333333333333,\"#9c179e\"],[0.4444444444444444,\"#bd3786\"],[0.5555555555555556,\"#d8576b\"],[0.6666666666666666,\"#ed7953\"],[0.7777777777777778,\"#fb9f3a\"],[0.8888888888888888,\"#fdca26\"],[1.0,\"#f0f921\"]],\"diverging\":[[0,\"#8e0152\"],[0.1,\"#c51b7d\"],[0.2,\"#de77ae\"],[0.3,\"#f1b6da\"],[0.4,\"#fde0ef\"],[0.5,\"#f7f7f7\"],[0.6,\"#e6f5d0\"],[0.7,\"#b8e186\"],[0.8,\"#7fbc41\"],[0.9,\"#4d9221\"],[1,\"#276419\"]]},\"xaxis\":{\"gridcolor\":\"white\",\"linecolor\":\"white\",\"ticks\":\"\",\"title\":{\"standoff\":15},\"zerolinecolor\":\"white\",\"automargin\":true,\"zerolinewidth\":2},\"yaxis\":{\"gridcolor\":\"white\",\"linecolor\":\"white\",\"ticks\":\"\",\"title\":{\"standoff\":15},\"zerolinecolor\":\"white\",\"automargin\":true,\"zerolinewidth\":2},\"scene\":{\"xaxis\":{\"backgroundcolor\":\"#E5ECF6\",\"gridcolor\":\"white\",\"linecolor\":\"white\",\"showbackground\":true,\"ticks\":\"\",\"zerolinecolor\":\"white\",\"gridwidth\":2},\"yaxis\":{\"backgroundcolor\":\"#E5ECF6\",\"gridcolor\":\"white\",\"linecolor\":\"white\",\"showbackground\":true,\"ticks\":\"\",\"zerolinecolor\":\"white\",\"gridwidth\":2},\"zaxis\":{\"backgroundcolor\":\"#E5ECF6\",\"gridcolor\":\"white\",\"linecolor\":\"white\",\"showbackground\":true,\"ticks\":\"\",\"zerolinecolor\":\"white\",\"gridwidth\":2}},\"shapedefaults\":{\"line\":{\"color\":\"#2a3f5f\"}},\"annotationdefaults\":{\"arrowcolor\":\"#2a3f5f\",\"arrowhead\":0,\"arrowwidth\":1},\"geo\":{\"bgcolor\":\"white\",\"landcolor\":\"#E5ECF6\",\"subunitcolor\":\"white\",\"showland\":true,\"showlakes\":true,\"lakecolor\":\"white\"},\"title\":{\"x\":0.05},\"mapbox\":{\"style\":\"light\"}}}},                        {\"responsive\": true}                    ).then(function(){\n",
       "                            \n",
       "var gd = document.getElementById('55684889-7a92-4b30-bbde-92402fb1ffcb');\n",
       "var x = new MutationObserver(function (mutations, observer) {{\n",
       "        var display = window.getComputedStyle(gd).display;\n",
       "        if (!display || display === 'none') {{\n",
       "            console.log([gd, 'removed!']);\n",
       "            Plotly.purge(gd);\n",
       "            observer.disconnect();\n",
       "        }}\n",
       "}});\n",
       "\n",
       "// Listen for the removal of the full notebook cells\n",
       "var notebookContainer = gd.closest('#notebook-container');\n",
       "if (notebookContainer) {{\n",
       "    x.observe(notebookContainer, {childList: true});\n",
       "}}\n",
       "\n",
       "// Listen for the clearing of the current output cell\n",
       "var outputEl = gd.closest('.output');\n",
       "if (outputEl) {{\n",
       "    x.observe(outputEl, {childList: true});\n",
       "}}\n",
       "\n",
       "                        })                };                });            </script>        </div>"
      ]
     },
     "metadata": {},
     "output_type": "display_data"
    },
    {
     "name": "stdout",
     "output_type": "stream",
     "text": [
      "Initial preference allocation plot completed. It took 0.01 seconds.\n"
     ]
    }
   ],
   "source": [
    "# Running the average initial preference allocation functions with timings\n",
    "start_time = time.time()\n",
    "\n",
    "# Set the plot colours for each gender\n",
    "colors = ['#ff6361', '#003f5c']\n",
    "\n",
    "# Replace 0 and 1 with the corresponding gender\n",
    "gender_labels = ['Female', 'Male']\n",
    "\n",
    "pref_data = fetch_pref_data(database_path, columns_pf_o, gender_labels)\n",
    "traces = create_bar_traces(pref_data, columns_full, colors)\n",
    "\n",
    "# Structuring the layout with titles and colours\n",
    "layout = go.Layout(\n",
    "    title='Average Allocation for Attributes by Gender',\n",
    "    xaxis=dict(title='Attributes'),\n",
    "    yaxis=dict(title='Average Allocation'),\n",
    "    barmode='group',\n",
    "    plot_bgcolor='#dadfe1',\n",
    "    paper_bgcolor='#dadfe1'\n",
    ")\n",
    "\n",
    "# Create figure\n",
    "fig = go.Figure(data=traces, layout=layout)\n",
    "\n",
    "# Show the plot\n",
    "fig.show()\n",
    "\n",
    "end_time = round(time.time() - start_time, 4)\n",
    "\n",
    "print(f'Initial preference allocation plot completed. It took {end_time} seconds.')"
   ]
  },
  {
   "cell_type": "markdown",
   "id": "fd9792db",
   "metadata": {},
   "source": [
    "From this we see that men prioritize attractiveness the most whereas women place a higher importance on intelligence.\n",
    "\n",
    "Sincerity, intelligence and fun hold similar significance whereas ambitions is the least influential of the five attributes"
   ]
  },
  {
   "cell_type": "markdown",
   "id": "ac147112",
   "metadata": {},
   "source": [
    "### Actual Attribute Importance for Second Date Success\n",
    "\n",
    "The below functions fetches the ratings received on a date and whether or not that date was a match (separated by gender). A Random Forest classifier is then trained to determine which attribute was actually most important in driving second date success."
   ]
  },
  {
   "cell_type": "code",
   "execution_count": 173,
   "id": "9391b907",
   "metadata": {},
   "outputs": [],
   "source": [
    "# Fetches the ratings received on each date\n",
    "\n",
    "# Parameters:\n",
    "#   - database_path (str): the path to your database\n",
    "#   - columns_o (list): list of attributes ending in _o (ratings given)\n",
    "\n",
    "def fetch_rating_data(database_path, columns_o):\n",
    "\n",
    "    # Connect to database\n",
    "    conn = sqlite3.connect(database_path)\n",
    "\n",
    "    # Creator cursor object\n",
    "    cursor = conn.cursor()\n",
    "\n",
    "    # Construct the SELECT query\n",
    "    rating_query = f'''\n",
    "        SELECT gender, dec_o, {', '.join(columns_o)}\n",
    "        FROM participants AS p\n",
    "        JOIN dates AS d on p.iid = d.iid\n",
    "        ORDER BY gender\n",
    "    '''\n",
    "\n",
    "    # Execute query to retrieve the ratings received by iid\n",
    "    # on each date\n",
    "    cursor.execute(rating_query)\n",
    "\n",
    "    rows = cursor.fetchall()\n",
    "\n",
    "    # Commit changes\n",
    "    conn.commit()\n",
    "\n",
    "    # Close the connection\n",
    "    conn.close()\n",
    "\n",
    "    # Initialize a dictionary for organizing data separated by gender\n",
    "    rating_data = {0: [[], []], 1: [[], []]}  # Use 0 for Female, 1 for Male\n",
    "\n",
    "    # Separate data for men and women\n",
    "    for row in rows:\n",
    "        gender, dec_o, *attributes = row\n",
    "        # Use gender directly as the key\n",
    "        rating_data[gender][0].append(attributes)\n",
    "        rating_data[gender][1].append(dec_o)\n",
    "            \n",
    "    return rating_data"
   ]
  },
  {
   "cell_type": "code",
   "execution_count": 174,
   "id": "c829c882",
   "metadata": {},
   "outputs": [],
   "source": [
    "# Returns the feature importances on second date success bsaed on rating data\n",
    "\n",
    "# Parameters:\n",
    "#   - rating_data (dict): ratings per date created by fetch_rating_data\n",
    "#   - gender_labels (list): the genders to be included\n",
    "\n",
    "def train_and_evaluate(rating_data, gender_labels):\n",
    "    # Create mean squared error for each gender\n",
    "    mse = []\n",
    "    # Create accuracy for each gender\n",
    "    accuracies = []\n",
    "    # Create feature importance for each gender\n",
    "    feature_importances = {}\n",
    "\n",
    "    for i, gender in enumerate(gender_labels):\n",
    "        # Split data into training and test data\n",
    "        X_train, X_test, y_train, y_test = train_test_split(rating_data[i][0], rating_data[i][1], test_size=0.2, random_state=42)\n",
    "\n",
    "        # Create a random forest regressor model\n",
    "        # 200 gives slightly better accuracy than 100, increasing decreases accuracy\n",
    "        # Naturally random_state is 42\n",
    "        model = RandomForestRegressor(n_estimators=200, random_state=42)\n",
    "\n",
    "        # Fit the model to the training data\n",
    "        model.fit(X_train, y_train)\n",
    "\n",
    "        # Predict on the test data\n",
    "        y_pred = model.predict(X_test)\n",
    "\n",
    "        # Calculate the mean squared error\n",
    "        error = mean_squared_error(y_test, y_pred)\n",
    "        mse.append(error)\n",
    "\n",
    "        # Get the feature importances from the random forest model\n",
    "        feature_importance = model.feature_importances_\n",
    "        feature_importances[gender] = feature_importance.tolist()\n",
    "\n",
    "        # Convert the continuous predictions to binary class labels\n",
    "        y_pred_binary = (y_pred > 0.5).astype(int)\n",
    "\n",
    "        # Calculate accuracy\n",
    "        accuracy = accuracy_score(y_test, y_pred_binary)\n",
    "        accuracies.append(accuracy)\n",
    "        \n",
    "    return mse, accuracies, feature_importances"
   ]
  },
  {
   "cell_type": "code",
   "execution_count": 175,
   "id": "8c44a7bc",
   "metadata": {},
   "outputs": [
    {
     "data": {
      "application/vnd.plotly.v1+json": {
       "config": {
        "plotlyServerURL": "https://plot.ly"
       },
       "data": [
        {
         "marker": {
          "color": "#ff6361"
         },
         "name": "Female",
         "type": "bar",
         "x": [
          "Attractive",
          "Sincere",
          "Intelligent",
          "Fun",
          "Ambitious"
         ],
         "y": [
          0.38813601939699616,
          0.14384564962090382,
          0.13927755715190673,
          0.1587334891767883,
          0.17000728465340503
         ]
        },
        {
         "marker": {
          "color": "#003f5c"
         },
         "name": "Male",
         "type": "bar",
         "x": [
          "Attractive",
          "Sincere",
          "Intelligent",
          "Fun",
          "Ambitious"
         ],
         "y": [
          0.31494102914060845,
          0.1704323478145484,
          0.14961940527107456,
          0.1860334660300803,
          0.17897375174368804
         ]
        }
       ],
       "layout": {
        "barmode": "group",
        "paper_bgcolor": "#dadfe1",
        "plot_bgcolor": "#dadfe1",
        "template": {
         "data": {
          "bar": [
           {
            "error_x": {
             "color": "#2a3f5f"
            },
            "error_y": {
             "color": "#2a3f5f"
            },
            "marker": {
             "line": {
              "color": "#E5ECF6",
              "width": 0.5
             },
             "pattern": {
              "fillmode": "overlay",
              "size": 10,
              "solidity": 0.2
             }
            },
            "type": "bar"
           }
          ],
          "barpolar": [
           {
            "marker": {
             "line": {
              "color": "#E5ECF6",
              "width": 0.5
             },
             "pattern": {
              "fillmode": "overlay",
              "size": 10,
              "solidity": 0.2
             }
            },
            "type": "barpolar"
           }
          ],
          "carpet": [
           {
            "aaxis": {
             "endlinecolor": "#2a3f5f",
             "gridcolor": "white",
             "linecolor": "white",
             "minorgridcolor": "white",
             "startlinecolor": "#2a3f5f"
            },
            "baxis": {
             "endlinecolor": "#2a3f5f",
             "gridcolor": "white",
             "linecolor": "white",
             "minorgridcolor": "white",
             "startlinecolor": "#2a3f5f"
            },
            "type": "carpet"
           }
          ],
          "choropleth": [
           {
            "colorbar": {
             "outlinewidth": 0,
             "ticks": ""
            },
            "type": "choropleth"
           }
          ],
          "contour": [
           {
            "colorbar": {
             "outlinewidth": 0,
             "ticks": ""
            },
            "colorscale": [
             [
              0,
              "#0d0887"
             ],
             [
              0.1111111111111111,
              "#46039f"
             ],
             [
              0.2222222222222222,
              "#7201a8"
             ],
             [
              0.3333333333333333,
              "#9c179e"
             ],
             [
              0.4444444444444444,
              "#bd3786"
             ],
             [
              0.5555555555555556,
              "#d8576b"
             ],
             [
              0.6666666666666666,
              "#ed7953"
             ],
             [
              0.7777777777777778,
              "#fb9f3a"
             ],
             [
              0.8888888888888888,
              "#fdca26"
             ],
             [
              1,
              "#f0f921"
             ]
            ],
            "type": "contour"
           }
          ],
          "contourcarpet": [
           {
            "colorbar": {
             "outlinewidth": 0,
             "ticks": ""
            },
            "type": "contourcarpet"
           }
          ],
          "heatmap": [
           {
            "colorbar": {
             "outlinewidth": 0,
             "ticks": ""
            },
            "colorscale": [
             [
              0,
              "#0d0887"
             ],
             [
              0.1111111111111111,
              "#46039f"
             ],
             [
              0.2222222222222222,
              "#7201a8"
             ],
             [
              0.3333333333333333,
              "#9c179e"
             ],
             [
              0.4444444444444444,
              "#bd3786"
             ],
             [
              0.5555555555555556,
              "#d8576b"
             ],
             [
              0.6666666666666666,
              "#ed7953"
             ],
             [
              0.7777777777777778,
              "#fb9f3a"
             ],
             [
              0.8888888888888888,
              "#fdca26"
             ],
             [
              1,
              "#f0f921"
             ]
            ],
            "type": "heatmap"
           }
          ],
          "heatmapgl": [
           {
            "colorbar": {
             "outlinewidth": 0,
             "ticks": ""
            },
            "colorscale": [
             [
              0,
              "#0d0887"
             ],
             [
              0.1111111111111111,
              "#46039f"
             ],
             [
              0.2222222222222222,
              "#7201a8"
             ],
             [
              0.3333333333333333,
              "#9c179e"
             ],
             [
              0.4444444444444444,
              "#bd3786"
             ],
             [
              0.5555555555555556,
              "#d8576b"
             ],
             [
              0.6666666666666666,
              "#ed7953"
             ],
             [
              0.7777777777777778,
              "#fb9f3a"
             ],
             [
              0.8888888888888888,
              "#fdca26"
             ],
             [
              1,
              "#f0f921"
             ]
            ],
            "type": "heatmapgl"
           }
          ],
          "histogram": [
           {
            "marker": {
             "pattern": {
              "fillmode": "overlay",
              "size": 10,
              "solidity": 0.2
             }
            },
            "type": "histogram"
           }
          ],
          "histogram2d": [
           {
            "colorbar": {
             "outlinewidth": 0,
             "ticks": ""
            },
            "colorscale": [
             [
              0,
              "#0d0887"
             ],
             [
              0.1111111111111111,
              "#46039f"
             ],
             [
              0.2222222222222222,
              "#7201a8"
             ],
             [
              0.3333333333333333,
              "#9c179e"
             ],
             [
              0.4444444444444444,
              "#bd3786"
             ],
             [
              0.5555555555555556,
              "#d8576b"
             ],
             [
              0.6666666666666666,
              "#ed7953"
             ],
             [
              0.7777777777777778,
              "#fb9f3a"
             ],
             [
              0.8888888888888888,
              "#fdca26"
             ],
             [
              1,
              "#f0f921"
             ]
            ],
            "type": "histogram2d"
           }
          ],
          "histogram2dcontour": [
           {
            "colorbar": {
             "outlinewidth": 0,
             "ticks": ""
            },
            "colorscale": [
             [
              0,
              "#0d0887"
             ],
             [
              0.1111111111111111,
              "#46039f"
             ],
             [
              0.2222222222222222,
              "#7201a8"
             ],
             [
              0.3333333333333333,
              "#9c179e"
             ],
             [
              0.4444444444444444,
              "#bd3786"
             ],
             [
              0.5555555555555556,
              "#d8576b"
             ],
             [
              0.6666666666666666,
              "#ed7953"
             ],
             [
              0.7777777777777778,
              "#fb9f3a"
             ],
             [
              0.8888888888888888,
              "#fdca26"
             ],
             [
              1,
              "#f0f921"
             ]
            ],
            "type": "histogram2dcontour"
           }
          ],
          "mesh3d": [
           {
            "colorbar": {
             "outlinewidth": 0,
             "ticks": ""
            },
            "type": "mesh3d"
           }
          ],
          "parcoords": [
           {
            "line": {
             "colorbar": {
              "outlinewidth": 0,
              "ticks": ""
             }
            },
            "type": "parcoords"
           }
          ],
          "pie": [
           {
            "automargin": true,
            "type": "pie"
           }
          ],
          "scatter": [
           {
            "fillpattern": {
             "fillmode": "overlay",
             "size": 10,
             "solidity": 0.2
            },
            "type": "scatter"
           }
          ],
          "scatter3d": [
           {
            "line": {
             "colorbar": {
              "outlinewidth": 0,
              "ticks": ""
             }
            },
            "marker": {
             "colorbar": {
              "outlinewidth": 0,
              "ticks": ""
             }
            },
            "type": "scatter3d"
           }
          ],
          "scattercarpet": [
           {
            "marker": {
             "colorbar": {
              "outlinewidth": 0,
              "ticks": ""
             }
            },
            "type": "scattercarpet"
           }
          ],
          "scattergeo": [
           {
            "marker": {
             "colorbar": {
              "outlinewidth": 0,
              "ticks": ""
             }
            },
            "type": "scattergeo"
           }
          ],
          "scattergl": [
           {
            "marker": {
             "colorbar": {
              "outlinewidth": 0,
              "ticks": ""
             }
            },
            "type": "scattergl"
           }
          ],
          "scattermapbox": [
           {
            "marker": {
             "colorbar": {
              "outlinewidth": 0,
              "ticks": ""
             }
            },
            "type": "scattermapbox"
           }
          ],
          "scatterpolar": [
           {
            "marker": {
             "colorbar": {
              "outlinewidth": 0,
              "ticks": ""
             }
            },
            "type": "scatterpolar"
           }
          ],
          "scatterpolargl": [
           {
            "marker": {
             "colorbar": {
              "outlinewidth": 0,
              "ticks": ""
             }
            },
            "type": "scatterpolargl"
           }
          ],
          "scatterternary": [
           {
            "marker": {
             "colorbar": {
              "outlinewidth": 0,
              "ticks": ""
             }
            },
            "type": "scatterternary"
           }
          ],
          "surface": [
           {
            "colorbar": {
             "outlinewidth": 0,
             "ticks": ""
            },
            "colorscale": [
             [
              0,
              "#0d0887"
             ],
             [
              0.1111111111111111,
              "#46039f"
             ],
             [
              0.2222222222222222,
              "#7201a8"
             ],
             [
              0.3333333333333333,
              "#9c179e"
             ],
             [
              0.4444444444444444,
              "#bd3786"
             ],
             [
              0.5555555555555556,
              "#d8576b"
             ],
             [
              0.6666666666666666,
              "#ed7953"
             ],
             [
              0.7777777777777778,
              "#fb9f3a"
             ],
             [
              0.8888888888888888,
              "#fdca26"
             ],
             [
              1,
              "#f0f921"
             ]
            ],
            "type": "surface"
           }
          ],
          "table": [
           {
            "cells": {
             "fill": {
              "color": "#EBF0F8"
             },
             "line": {
              "color": "white"
             }
            },
            "header": {
             "fill": {
              "color": "#C8D4E3"
             },
             "line": {
              "color": "white"
             }
            },
            "type": "table"
           }
          ]
         },
         "layout": {
          "annotationdefaults": {
           "arrowcolor": "#2a3f5f",
           "arrowhead": 0,
           "arrowwidth": 1
          },
          "autotypenumbers": "strict",
          "coloraxis": {
           "colorbar": {
            "outlinewidth": 0,
            "ticks": ""
           }
          },
          "colorscale": {
           "diverging": [
            [
             0,
             "#8e0152"
            ],
            [
             0.1,
             "#c51b7d"
            ],
            [
             0.2,
             "#de77ae"
            ],
            [
             0.3,
             "#f1b6da"
            ],
            [
             0.4,
             "#fde0ef"
            ],
            [
             0.5,
             "#f7f7f7"
            ],
            [
             0.6,
             "#e6f5d0"
            ],
            [
             0.7,
             "#b8e186"
            ],
            [
             0.8,
             "#7fbc41"
            ],
            [
             0.9,
             "#4d9221"
            ],
            [
             1,
             "#276419"
            ]
           ],
           "sequential": [
            [
             0,
             "#0d0887"
            ],
            [
             0.1111111111111111,
             "#46039f"
            ],
            [
             0.2222222222222222,
             "#7201a8"
            ],
            [
             0.3333333333333333,
             "#9c179e"
            ],
            [
             0.4444444444444444,
             "#bd3786"
            ],
            [
             0.5555555555555556,
             "#d8576b"
            ],
            [
             0.6666666666666666,
             "#ed7953"
            ],
            [
             0.7777777777777778,
             "#fb9f3a"
            ],
            [
             0.8888888888888888,
             "#fdca26"
            ],
            [
             1,
             "#f0f921"
            ]
           ],
           "sequentialminus": [
            [
             0,
             "#0d0887"
            ],
            [
             0.1111111111111111,
             "#46039f"
            ],
            [
             0.2222222222222222,
             "#7201a8"
            ],
            [
             0.3333333333333333,
             "#9c179e"
            ],
            [
             0.4444444444444444,
             "#bd3786"
            ],
            [
             0.5555555555555556,
             "#d8576b"
            ],
            [
             0.6666666666666666,
             "#ed7953"
            ],
            [
             0.7777777777777778,
             "#fb9f3a"
            ],
            [
             0.8888888888888888,
             "#fdca26"
            ],
            [
             1,
             "#f0f921"
            ]
           ]
          },
          "colorway": [
           "#636efa",
           "#EF553B",
           "#00cc96",
           "#ab63fa",
           "#FFA15A",
           "#19d3f3",
           "#FF6692",
           "#B6E880",
           "#FF97FF",
           "#FECB52"
          ],
          "font": {
           "color": "#2a3f5f"
          },
          "geo": {
           "bgcolor": "white",
           "lakecolor": "white",
           "landcolor": "#E5ECF6",
           "showlakes": true,
           "showland": true,
           "subunitcolor": "white"
          },
          "hoverlabel": {
           "align": "left"
          },
          "hovermode": "closest",
          "mapbox": {
           "style": "light"
          },
          "paper_bgcolor": "white",
          "plot_bgcolor": "#E5ECF6",
          "polar": {
           "angularaxis": {
            "gridcolor": "white",
            "linecolor": "white",
            "ticks": ""
           },
           "bgcolor": "#E5ECF6",
           "radialaxis": {
            "gridcolor": "white",
            "linecolor": "white",
            "ticks": ""
           }
          },
          "scene": {
           "xaxis": {
            "backgroundcolor": "#E5ECF6",
            "gridcolor": "white",
            "gridwidth": 2,
            "linecolor": "white",
            "showbackground": true,
            "ticks": "",
            "zerolinecolor": "white"
           },
           "yaxis": {
            "backgroundcolor": "#E5ECF6",
            "gridcolor": "white",
            "gridwidth": 2,
            "linecolor": "white",
            "showbackground": true,
            "ticks": "",
            "zerolinecolor": "white"
           },
           "zaxis": {
            "backgroundcolor": "#E5ECF6",
            "gridcolor": "white",
            "gridwidth": 2,
            "linecolor": "white",
            "showbackground": true,
            "ticks": "",
            "zerolinecolor": "white"
           }
          },
          "shapedefaults": {
           "line": {
            "color": "#2a3f5f"
           }
          },
          "ternary": {
           "aaxis": {
            "gridcolor": "white",
            "linecolor": "white",
            "ticks": ""
           },
           "baxis": {
            "gridcolor": "white",
            "linecolor": "white",
            "ticks": ""
           },
           "bgcolor": "#E5ECF6",
           "caxis": {
            "gridcolor": "white",
            "linecolor": "white",
            "ticks": ""
           }
          },
          "title": {
           "x": 0.05
          },
          "xaxis": {
           "automargin": true,
           "gridcolor": "white",
           "linecolor": "white",
           "ticks": "",
           "title": {
            "standoff": 15
           },
           "zerolinecolor": "white",
           "zerolinewidth": 2
          },
          "yaxis": {
           "automargin": true,
           "gridcolor": "white",
           "linecolor": "white",
           "ticks": "",
           "title": {
            "standoff": 15
           },
           "zerolinecolor": "white",
           "zerolinewidth": 2
          }
         }
        },
        "title": {
         "text": "Feature Importance for Successful Second Date Prediction"
        },
        "xaxis": {
         "title": {
          "text": "Attributes"
         }
        },
        "yaxis": {
         "title": {
          "text": "Relative Feature Importance"
         }
        }
       }
      },
      "text/html": [
       "<div>                            <div id=\"77d8ec56-45a9-4df0-b098-7797ce66a0e5\" class=\"plotly-graph-div\" style=\"height:525px; width:100%;\"></div>            <script type=\"text/javascript\">                require([\"plotly\"], function(Plotly) {                    window.PLOTLYENV=window.PLOTLYENV || {};                                    if (document.getElementById(\"77d8ec56-45a9-4df0-b098-7797ce66a0e5\")) {                    Plotly.newPlot(                        \"77d8ec56-45a9-4df0-b098-7797ce66a0e5\",                        [{\"marker\":{\"color\":\"#ff6361\"},\"name\":\"Female\",\"x\":[\"Attractive\",\"Sincere\",\"Intelligent\",\"Fun\",\"Ambitious\"],\"y\":[0.38813601939699616,0.14384564962090382,0.13927755715190673,0.1587334891767883,0.17000728465340503],\"type\":\"bar\"},{\"marker\":{\"color\":\"#003f5c\"},\"name\":\"Male\",\"x\":[\"Attractive\",\"Sincere\",\"Intelligent\",\"Fun\",\"Ambitious\"],\"y\":[0.31494102914060845,0.1704323478145484,0.14961940527107456,0.1860334660300803,0.17897375174368804],\"type\":\"bar\"}],                        {\"barmode\":\"group\",\"paper_bgcolor\":\"#dadfe1\",\"plot_bgcolor\":\"#dadfe1\",\"title\":{\"text\":\"Feature Importance for Successful Second Date Prediction\"},\"xaxis\":{\"title\":{\"text\":\"Attributes\"}},\"yaxis\":{\"title\":{\"text\":\"Relative Feature Importance\"}},\"template\":{\"data\":{\"histogram2dcontour\":[{\"type\":\"histogram2dcontour\",\"colorbar\":{\"outlinewidth\":0,\"ticks\":\"\"},\"colorscale\":[[0.0,\"#0d0887\"],[0.1111111111111111,\"#46039f\"],[0.2222222222222222,\"#7201a8\"],[0.3333333333333333,\"#9c179e\"],[0.4444444444444444,\"#bd3786\"],[0.5555555555555556,\"#d8576b\"],[0.6666666666666666,\"#ed7953\"],[0.7777777777777778,\"#fb9f3a\"],[0.8888888888888888,\"#fdca26\"],[1.0,\"#f0f921\"]]}],\"choropleth\":[{\"type\":\"choropleth\",\"colorbar\":{\"outlinewidth\":0,\"ticks\":\"\"}}],\"histogram2d\":[{\"type\":\"histogram2d\",\"colorbar\":{\"outlinewidth\":0,\"ticks\":\"\"},\"colorscale\":[[0.0,\"#0d0887\"],[0.1111111111111111,\"#46039f\"],[0.2222222222222222,\"#7201a8\"],[0.3333333333333333,\"#9c179e\"],[0.4444444444444444,\"#bd3786\"],[0.5555555555555556,\"#d8576b\"],[0.6666666666666666,\"#ed7953\"],[0.7777777777777778,\"#fb9f3a\"],[0.8888888888888888,\"#fdca26\"],[1.0,\"#f0f921\"]]}],\"heatmap\":[{\"type\":\"heatmap\",\"colorbar\":{\"outlinewidth\":0,\"ticks\":\"\"},\"colorscale\":[[0.0,\"#0d0887\"],[0.1111111111111111,\"#46039f\"],[0.2222222222222222,\"#7201a8\"],[0.3333333333333333,\"#9c179e\"],[0.4444444444444444,\"#bd3786\"],[0.5555555555555556,\"#d8576b\"],[0.6666666666666666,\"#ed7953\"],[0.7777777777777778,\"#fb9f3a\"],[0.8888888888888888,\"#fdca26\"],[1.0,\"#f0f921\"]]}],\"heatmapgl\":[{\"type\":\"heatmapgl\",\"colorbar\":{\"outlinewidth\":0,\"ticks\":\"\"},\"colorscale\":[[0.0,\"#0d0887\"],[0.1111111111111111,\"#46039f\"],[0.2222222222222222,\"#7201a8\"],[0.3333333333333333,\"#9c179e\"],[0.4444444444444444,\"#bd3786\"],[0.5555555555555556,\"#d8576b\"],[0.6666666666666666,\"#ed7953\"],[0.7777777777777778,\"#fb9f3a\"],[0.8888888888888888,\"#fdca26\"],[1.0,\"#f0f921\"]]}],\"contourcarpet\":[{\"type\":\"contourcarpet\",\"colorbar\":{\"outlinewidth\":0,\"ticks\":\"\"}}],\"contour\":[{\"type\":\"contour\",\"colorbar\":{\"outlinewidth\":0,\"ticks\":\"\"},\"colorscale\":[[0.0,\"#0d0887\"],[0.1111111111111111,\"#46039f\"],[0.2222222222222222,\"#7201a8\"],[0.3333333333333333,\"#9c179e\"],[0.4444444444444444,\"#bd3786\"],[0.5555555555555556,\"#d8576b\"],[0.6666666666666666,\"#ed7953\"],[0.7777777777777778,\"#fb9f3a\"],[0.8888888888888888,\"#fdca26\"],[1.0,\"#f0f921\"]]}],\"surface\":[{\"type\":\"surface\",\"colorbar\":{\"outlinewidth\":0,\"ticks\":\"\"},\"colorscale\":[[0.0,\"#0d0887\"],[0.1111111111111111,\"#46039f\"],[0.2222222222222222,\"#7201a8\"],[0.3333333333333333,\"#9c179e\"],[0.4444444444444444,\"#bd3786\"],[0.5555555555555556,\"#d8576b\"],[0.6666666666666666,\"#ed7953\"],[0.7777777777777778,\"#fb9f3a\"],[0.8888888888888888,\"#fdca26\"],[1.0,\"#f0f921\"]]}],\"mesh3d\":[{\"type\":\"mesh3d\",\"colorbar\":{\"outlinewidth\":0,\"ticks\":\"\"}}],\"scatter\":[{\"fillpattern\":{\"fillmode\":\"overlay\",\"size\":10,\"solidity\":0.2},\"type\":\"scatter\"}],\"parcoords\":[{\"type\":\"parcoords\",\"line\":{\"colorbar\":{\"outlinewidth\":0,\"ticks\":\"\"}}}],\"scatterpolargl\":[{\"type\":\"scatterpolargl\",\"marker\":{\"colorbar\":{\"outlinewidth\":0,\"ticks\":\"\"}}}],\"bar\":[{\"error_x\":{\"color\":\"#2a3f5f\"},\"error_y\":{\"color\":\"#2a3f5f\"},\"marker\":{\"line\":{\"color\":\"#E5ECF6\",\"width\":0.5},\"pattern\":{\"fillmode\":\"overlay\",\"size\":10,\"solidity\":0.2}},\"type\":\"bar\"}],\"scattergeo\":[{\"type\":\"scattergeo\",\"marker\":{\"colorbar\":{\"outlinewidth\":0,\"ticks\":\"\"}}}],\"scatterpolar\":[{\"type\":\"scatterpolar\",\"marker\":{\"colorbar\":{\"outlinewidth\":0,\"ticks\":\"\"}}}],\"histogram\":[{\"marker\":{\"pattern\":{\"fillmode\":\"overlay\",\"size\":10,\"solidity\":0.2}},\"type\":\"histogram\"}],\"scattergl\":[{\"type\":\"scattergl\",\"marker\":{\"colorbar\":{\"outlinewidth\":0,\"ticks\":\"\"}}}],\"scatter3d\":[{\"type\":\"scatter3d\",\"line\":{\"colorbar\":{\"outlinewidth\":0,\"ticks\":\"\"}},\"marker\":{\"colorbar\":{\"outlinewidth\":0,\"ticks\":\"\"}}}],\"scattermapbox\":[{\"type\":\"scattermapbox\",\"marker\":{\"colorbar\":{\"outlinewidth\":0,\"ticks\":\"\"}}}],\"scatterternary\":[{\"type\":\"scatterternary\",\"marker\":{\"colorbar\":{\"outlinewidth\":0,\"ticks\":\"\"}}}],\"scattercarpet\":[{\"type\":\"scattercarpet\",\"marker\":{\"colorbar\":{\"outlinewidth\":0,\"ticks\":\"\"}}}],\"carpet\":[{\"aaxis\":{\"endlinecolor\":\"#2a3f5f\",\"gridcolor\":\"white\",\"linecolor\":\"white\",\"minorgridcolor\":\"white\",\"startlinecolor\":\"#2a3f5f\"},\"baxis\":{\"endlinecolor\":\"#2a3f5f\",\"gridcolor\":\"white\",\"linecolor\":\"white\",\"minorgridcolor\":\"white\",\"startlinecolor\":\"#2a3f5f\"},\"type\":\"carpet\"}],\"table\":[{\"cells\":{\"fill\":{\"color\":\"#EBF0F8\"},\"line\":{\"color\":\"white\"}},\"header\":{\"fill\":{\"color\":\"#C8D4E3\"},\"line\":{\"color\":\"white\"}},\"type\":\"table\"}],\"barpolar\":[{\"marker\":{\"line\":{\"color\":\"#E5ECF6\",\"width\":0.5},\"pattern\":{\"fillmode\":\"overlay\",\"size\":10,\"solidity\":0.2}},\"type\":\"barpolar\"}],\"pie\":[{\"automargin\":true,\"type\":\"pie\"}]},\"layout\":{\"autotypenumbers\":\"strict\",\"colorway\":[\"#636efa\",\"#EF553B\",\"#00cc96\",\"#ab63fa\",\"#FFA15A\",\"#19d3f3\",\"#FF6692\",\"#B6E880\",\"#FF97FF\",\"#FECB52\"],\"font\":{\"color\":\"#2a3f5f\"},\"hovermode\":\"closest\",\"hoverlabel\":{\"align\":\"left\"},\"paper_bgcolor\":\"white\",\"plot_bgcolor\":\"#E5ECF6\",\"polar\":{\"bgcolor\":\"#E5ECF6\",\"angularaxis\":{\"gridcolor\":\"white\",\"linecolor\":\"white\",\"ticks\":\"\"},\"radialaxis\":{\"gridcolor\":\"white\",\"linecolor\":\"white\",\"ticks\":\"\"}},\"ternary\":{\"bgcolor\":\"#E5ECF6\",\"aaxis\":{\"gridcolor\":\"white\",\"linecolor\":\"white\",\"ticks\":\"\"},\"baxis\":{\"gridcolor\":\"white\",\"linecolor\":\"white\",\"ticks\":\"\"},\"caxis\":{\"gridcolor\":\"white\",\"linecolor\":\"white\",\"ticks\":\"\"}},\"coloraxis\":{\"colorbar\":{\"outlinewidth\":0,\"ticks\":\"\"}},\"colorscale\":{\"sequential\":[[0.0,\"#0d0887\"],[0.1111111111111111,\"#46039f\"],[0.2222222222222222,\"#7201a8\"],[0.3333333333333333,\"#9c179e\"],[0.4444444444444444,\"#bd3786\"],[0.5555555555555556,\"#d8576b\"],[0.6666666666666666,\"#ed7953\"],[0.7777777777777778,\"#fb9f3a\"],[0.8888888888888888,\"#fdca26\"],[1.0,\"#f0f921\"]],\"sequentialminus\":[[0.0,\"#0d0887\"],[0.1111111111111111,\"#46039f\"],[0.2222222222222222,\"#7201a8\"],[0.3333333333333333,\"#9c179e\"],[0.4444444444444444,\"#bd3786\"],[0.5555555555555556,\"#d8576b\"],[0.6666666666666666,\"#ed7953\"],[0.7777777777777778,\"#fb9f3a\"],[0.8888888888888888,\"#fdca26\"],[1.0,\"#f0f921\"]],\"diverging\":[[0,\"#8e0152\"],[0.1,\"#c51b7d\"],[0.2,\"#de77ae\"],[0.3,\"#f1b6da\"],[0.4,\"#fde0ef\"],[0.5,\"#f7f7f7\"],[0.6,\"#e6f5d0\"],[0.7,\"#b8e186\"],[0.8,\"#7fbc41\"],[0.9,\"#4d9221\"],[1,\"#276419\"]]},\"xaxis\":{\"gridcolor\":\"white\",\"linecolor\":\"white\",\"ticks\":\"\",\"title\":{\"standoff\":15},\"zerolinecolor\":\"white\",\"automargin\":true,\"zerolinewidth\":2},\"yaxis\":{\"gridcolor\":\"white\",\"linecolor\":\"white\",\"ticks\":\"\",\"title\":{\"standoff\":15},\"zerolinecolor\":\"white\",\"automargin\":true,\"zerolinewidth\":2},\"scene\":{\"xaxis\":{\"backgroundcolor\":\"#E5ECF6\",\"gridcolor\":\"white\",\"linecolor\":\"white\",\"showbackground\":true,\"ticks\":\"\",\"zerolinecolor\":\"white\",\"gridwidth\":2},\"yaxis\":{\"backgroundcolor\":\"#E5ECF6\",\"gridcolor\":\"white\",\"linecolor\":\"white\",\"showbackground\":true,\"ticks\":\"\",\"zerolinecolor\":\"white\",\"gridwidth\":2},\"zaxis\":{\"backgroundcolor\":\"#E5ECF6\",\"gridcolor\":\"white\",\"linecolor\":\"white\",\"showbackground\":true,\"ticks\":\"\",\"zerolinecolor\":\"white\",\"gridwidth\":2}},\"shapedefaults\":{\"line\":{\"color\":\"#2a3f5f\"}},\"annotationdefaults\":{\"arrowcolor\":\"#2a3f5f\",\"arrowhead\":0,\"arrowwidth\":1},\"geo\":{\"bgcolor\":\"white\",\"landcolor\":\"#E5ECF6\",\"subunitcolor\":\"white\",\"showland\":true,\"showlakes\":true,\"lakecolor\":\"white\"},\"title\":{\"x\":0.05},\"mapbox\":{\"style\":\"light\"}}}},                        {\"responsive\": true}                    ).then(function(){\n",
       "                            \n",
       "var gd = document.getElementById('77d8ec56-45a9-4df0-b098-7797ce66a0e5');\n",
       "var x = new MutationObserver(function (mutations, observer) {{\n",
       "        var display = window.getComputedStyle(gd).display;\n",
       "        if (!display || display === 'none') {{\n",
       "            console.log([gd, 'removed!']);\n",
       "            Plotly.purge(gd);\n",
       "            observer.disconnect();\n",
       "        }}\n",
       "}});\n",
       "\n",
       "// Listen for the removal of the full notebook cells\n",
       "var notebookContainer = gd.closest('#notebook-container');\n",
       "if (notebookContainer) {{\n",
       "    x.observe(notebookContainer, {childList: true});\n",
       "}}\n",
       "\n",
       "// Listen for the clearing of the current output cell\n",
       "var outputEl = gd.closest('.output');\n",
       "if (outputEl) {{\n",
       "    x.observe(outputEl, {childList: true});\n",
       "}}\n",
       "\n",
       "                        })                };                });            </script>        </div>"
      ]
     },
     "metadata": {},
     "output_type": "display_data"
    },
    {
     "name": "stdout",
     "output_type": "stream",
     "text": [
      "Female accuracy: 0.7%\n",
      "Female mean squared error: 0.21\n",
      "\n",
      "Male accuracy: 0.71%\n",
      "Male mean squared error: 0.2\n",
      "\n",
      "Feature importance plot completed. It took 1.3414 seconds.\n"
     ]
    }
   ],
   "source": [
    "# Running the feature importance of attributes on second date success with timings\n",
    "start_time = time.time()\n",
    "\n",
    "rating_data = fetch_rating_data(database_path, columns_o)\n",
    "mse, accuracies, feature_importances = train_and_evaluate(rating_data, gender_labels)\n",
    "traces = create_bar_traces(feature_importances, columns_full, colors)\n",
    "\n",
    "# Structuring the layout with titles and colours\n",
    "layout = go.Layout(\n",
    "    title='Feature Importance for Successful Second Date Prediction',\n",
    "    xaxis=dict(title='Attributes'),\n",
    "    yaxis=dict(title='Relative Feature Importance'),\n",
    "    barmode='group',\n",
    "    plot_bgcolor='#dadfe1',\n",
    "    paper_bgcolor='#dadfe1'\n",
    ")\n",
    "\n",
    "# Create figure\n",
    "fig = go.Figure(data=traces, layout=layout)\n",
    "\n",
    "# Show the plot\n",
    "fig.show()\n",
    "\n",
    "for i, gender in enumerate(gender_labels):\n",
    "    print(f\"{gender} accuracy: {round(accuracies[i], 2)}%\")\n",
    "    print(f\"{gender} mean squared error: {round(mse[i], 2)}\\n\")\n",
    "          \n",
    "end_time = round(time.time() - start_time, 4)\n",
    "\n",
    "print(f'Feature importance plot completed. It took {end_time} seconds.')"
   ]
  },
  {
   "cell_type": "markdown",
   "id": "0bd80f22",
   "metadata": {},
   "source": [
    "From this plot, we unveil the mistmatch between initial preferences and real-world dynamics.In reality, attractiveness far outweights all the other attributes and is the most important attribute in driving second date success.\n",
    "\n",
    "Here we observe the interplay between perceived preferences, societal influences and the unpredictable nature of human connections."
   ]
  },
  {
   "cell_type": "markdown",
   "id": "526ad375",
   "metadata": {},
   "source": [
    "## Effect of Attractiveness Rating Received on Second Date Success\n",
    "\n",
    "In this section we explore how a participant's average attractiveness rating received effects their second date success.\n",
    "\n",
    "For each participant we retrieve their percentage of successful second dates based on the **dec_o** column as well as the average attractiveness rating they received. We then compare these two values on a scatter plot for each participant, separated by gender."
   ]
  },
  {
   "cell_type": "code",
   "execution_count": 188,
   "id": "b088a61c",
   "metadata": {},
   "outputs": [
    {
     "name": "stdout",
     "output_type": "stream",
     "text": [
      "{'Female': [[6.7, 7.7, 6.5, 7.0, 5.3, 6.8, 7.9, 8.2, 7.0, 6.36, 5.0625, 4.7875, 5.866666666666666, 6.428571428571429, 7.733333333333333, 7.6, 8.2, 5.733333333333333, 6.066666666666666, 7.875, 6.933333333333334, 6.0, 7.1875, 7.333333333333333, 6.2, 4.8533333333333335, 6.533333333333333, 4.333333333333333, 7.5, 5.3, 4.8, 3.9, 8.3, 4.4, 5.3, 6.5, 6.352941176470588, 6.833333333333333, 6.472222222222222, 5.888888888888889, 6.388888888888889, 7.888888888888889, 6.611111111111111, 7.333333333333333, 6.777777777777778, 6.388888888888889, 7.333333333333333, 7.5, 7.0, 6.944444444444445, 5.888888888888889, 8.38888888888889, 7.888888888888889, 7.138888888888889, 7.9, 6.4, 5.0, 7.222222222222222, 6.7, 7.777777777777778, 7.777777777777778, 7.8, 4.8, 7.8, 5.2, 6.5, 6.125, 7.3125, 4.725, 6.866666666666666, 5.4375, 5.5, 6.75, 7.0625, 7.3125, 7.25, 8.6875, 7.125, 6.3125, 7.75, 7.1875, 7.0, 7.625, 4.777777777777778, 5.8, 7.111111111111111, 5.0, 4.555555555555555, 8.0, 7.625, 7.333333333333333, 5.222222222222222, 6.333333333333333, 4.55, 6.65, 6.35, 6.85, 4.6, 7.3, 7.526315789473684, 6.684210526315789, 5.75, 6.95, 5.75, 6.25, 5.95, 8.45, 7.7, 5.666666666666667, 6.2105263157894735, 7.2, 6.95, 7.1, 5.888888888888889, 7.888888888888889, 5.555555555555555, 5.333333333333333, 6.666666666666667, 5.777777777777778, 6.777777777777778, 6.666666666666667, 8.0, 6.833333333333333, 3.75, 5.809523809523809, 5.714285714285714, 6.571428571428571, 6.85, 6.85, 6.55, 5.55, 5.25, 5.380952380952381, 5.95, 6.0, 4.75, 7.375, 5.95, 8.425, 7.476190476190476, 6.142857142857143, 6.523809523809524, 7.571428571428571, 7.857142857142857, 5.571428571428571, 5.214285714285714, 7.214285714285714, 5.785714285714286, 5.785714285714286, 5.642857142857143, 6.142857142857143, 5.090909090909091, 7.214285714285714, 6.428571428571429, 6.571428571428571, 6.928571428571429, 7.214285714285714, 6.428571428571429, 7.666666666666667, 6.714285714285714, 6.0, 5.142857142857143, 8.285714285714286, 7.285714285714286, 4.857142857142857, 7.857142857142857, 4.428571428571429, 7.0625, 5.9375, 5.25, 6.9375, 6.0, 3.076923076923077, 4.705882352941177, 8.176470588235293, 7.666666666666667, 7.0, 5.888888888888889, 4.9375, 6.882352941176471, 7.2, 7.98888888888889, 7.588235294117647, 7.411764705882353, 6.233333333333333, 5.933333333333334, 6.0625, 5.705882352941177, 6.176470588235294, 6.0, 6.384615384615385, 6.833333333333333, 6.888888888888889, 5.388888888888889, 8.029411764705882, 6.805555555555555, 7.470588235294118, 3.4375, 6.444444444444445, 5.777777777777778, 4.8125, 5.352941176470588, 5.611111111111111, 5.125, 5.25, 6.75, 6.285714285714286, 7.5, 6.875, 6.142857142857143, 5.785714285714286, 6.571428571428571, 5.142857142857143, 7.142857142857143, 5.769230769230769, 7.285714285714286, 5.928571428571429, 6.5, 7.428571428571429, 5.8, 5.8, 7.4, 5.8, 6.4, 7.0, 7.733333333333333, 8.333333333333334, 8.333333333333334, 8.0, 8.066666666666666, 6.266666666666667, 7.2, 5.933333333333334, 7.933333333333334, 7.066666666666666, 7.153846153846154, 6.333333333333333, 7.857142857142857, 7.666666666666667, 7.6923076923076925, 7.0, 6.428571428571429, 6.857142857142857, 5.714285714285714, 5.857142857142857, 6.714285714285714, 5.2631578947368425, 7.65, 6.095238095238095, 7.9411764705882355, 7.85, 4.666666666666667, 7.0, 7.238095238095238, 6.25, 7.045454545454546, 6.111111111111111, 5.052631578947368, 6.15, 6.409090909090909, 4.090909090909091, 7.0, 4.523809523809524, 4.6952380952380945, 4.904761904761905, 5.45, 4.095238095238095, 4.142857142857143], [50.0, 60.0, 50.0, 60.0, 30.0, 50.0, 70.0, 80.0, 70.0, 40.0, 18.75, 18.75, 33.33333333333333, 42.857142857142854, 86.66666666666667, 93.33333333333333, 93.33333333333333, 20.0, 26.666666666666668, 81.25, 53.333333333333336, 25.0, 68.75, 66.66666666666666, 53.333333333333336, 20.0, 40.0, 13.333333333333334, 70.0, 20.0, 20.0, 20.0, 80.0, 10.0, 20.0, 40.0, 52.94117647058824, 44.44444444444444, 27.77777777777778, 50.0, 27.77777777777778, 77.77777777777779, 55.55555555555556, 72.22222222222221, 50.0, 38.88888888888889, 77.77777777777779, 55.55555555555556, 33.33333333333333, 44.44444444444444, 16.666666666666664, 88.88888888888889, 61.111111111111114, 77.77777777777779, 80.0, 40.0, 20.0, 55.55555555555556, 60.0, 55.55555555555556, 77.77777777777779, 70.0, 20.0, 100.0, 40.0, 60.0, 50.0, 56.25, 6.25, 40.0, 31.25, 31.25, 50.0, 68.75, 75.0, 68.75, 87.5, 43.75, 31.25, 81.25, 56.25, 62.5, 75.0, 11.11111111111111, 40.0, 44.44444444444444, 0.0, 33.33333333333333, 80.0, 87.5, 66.66666666666666, 22.22222222222222, 22.22222222222222, 15.0, 80.0, 40.0, 80.0, 15.0, 75.0, 84.21052631578947, 36.84210526315789, 55.00000000000001, 75.0, 40.0, 65.0, 45.0, 95.0, 100.0, 26.666666666666668, 68.42105263157895, 70.0, 75.0, 75.0, 44.44444444444444, 88.88888888888889, 11.11111111111111, 33.33333333333333, 55.55555555555556, 33.33333333333333, 66.66666666666666, 88.88888888888889, 77.77777777777779, 52.38095238095239, 25.0, 42.857142857142854, 33.33333333333333, 76.19047619047619, 55.00000000000001, 65.0, 35.0, 50.0, 40.0, 42.857142857142854, 70.0, 65.0, 30.0, 80.0, 25.0, 95.0, 76.19047619047619, 57.14285714285714, 47.61904761904761, 52.38095238095239, 64.28571428571429, 14.285714285714285, 35.714285714285715, 57.14285714285714, 21.428571428571427, 35.714285714285715, 21.428571428571427, 28.57142857142857, 0.0, 57.14285714285714, 28.57142857142857, 21.428571428571427, 14.285714285714285, 64.28571428571429, 14.285714285714285, 50.0, 42.857142857142854, 28.57142857142857, 28.57142857142857, 100.0, 57.14285714285714, 28.57142857142857, 71.42857142857143, 14.285714285714285, 43.75, 18.75, 18.75, 43.75, 37.5, 0.0, 5.88235294117647, 70.58823529411765, 72.22222222222221, 37.5, 22.22222222222222, 6.25, 52.94117647058824, 53.333333333333336, 44.44444444444444, 64.70588235294117, 58.82352941176471, 33.33333333333333, 26.666666666666668, 56.25, 23.52941176470588, 41.17647058823529, 41.17647058823529, 53.84615384615385, 66.66666666666666, 50.0, 27.77777777777778, 70.58823529411765, 44.44444444444444, 94.11764705882352, 12.5, 50.0, 44.44444444444444, 25.0, 23.52941176470588, 22.22222222222222, 25.0, 12.5, 62.5, 14.285714285714285, 87.5, 50.0, 64.28571428571429, 50.0, 50.0, 42.857142857142854, 78.57142857142857, 30.76923076923077, 50.0, 28.57142857142857, 71.42857142857143, 64.28571428571429, 40.0, 0.0, 100.0, 20.0, 40.0, 60.0, 66.66666666666666, 66.66666666666666, 66.66666666666666, 73.33333333333333, 73.33333333333333, 46.666666666666664, 46.666666666666664, 6.666666666666667, 80.0, 53.333333333333336, 30.76923076923077, 26.666666666666668, 71.42857142857143, 53.333333333333336, 53.84615384615385, 85.71428571428571, 42.857142857142854, 71.42857142857143, 42.857142857142854, 85.71428571428571, 57.14285714285714, 47.368421052631575, 70.0, 19.047619047619047, 52.94117647058824, 75.0, 19.047619047619047, 42.857142857142854, 57.14285714285714, 37.5, 63.63636363636363, 38.88888888888889, 21.052631578947366, 45.0, 54.54545454545454, 9.090909090909092, 66.66666666666666, 0.0, 14.285714285714285, 14.285714285714285, 25.0, 14.285714285714285, 14.285714285714285]], 'Male': [[5.6, 7.1, 4.8, 8.2, 5.7, 5.6, 6.7, 5.1, 7.7, 7.5, 4.166666666666667, 3.7777777777777777, 5.055555555555555, 4.277777777777778, 4.944444444444445, 5.277777777777778, 7.666666666666667, 4.055555555555555, 6.777777777777778, 6.529411764705882, 6.0, 5.388888888888889, 3.8333333333333335, 6.9411764705882355, 4.444444444444445, 6.333333333333333, 5.625, 6.5, 5.75, 7.375, 6.125, 4.875, 6.625, 6.375, 5.875, 5.25, 3.6666666666666665, 4.666666666666667, 4.388888888888889, 7.166666666666667, 5.611111111111111, 7.833333333333333, 4.764705882352941, 4.0, 4.111111111111111, 6.222222222222222, 6.877777777777777, 6.277777777777778, 5.111111111111111, 6.888888888888889, 7.166666666666667, 5.833333333333333, 5.5, 4.777777777777778, 7.777777777777778, 6.266666666666667, 3.7777777777777777, 8.0, 6.111111111111111, 7.333333333333333, 7.875, 6.222222222222222, 7.333333333333333, 4.428571428571429, 7.333333333333333, 7.5, 6.25, 8.0, 5.75, 4.5625, 4.125, 7.375, 7.75, 5.75, 6.875, 6.6875, 7.375, 6.875, 5.9375, 4.875, 8.0625, 4.4, 5.8125, 6.9375, 6.125, 6.2, 5.0, 5.222222222222222, 4.0, 4.4, 5.4, 6.7, 6.5, 6.5, 6.1, 5.7, 6.9, 3.6, 7.8, 5.388888888888889, 7.5, 5.25, 6.05, 3.2, 5.35, 5.95, 6.1, 8.6, 6.95, 5.55, 7.2631578947368425, 5.7, 5.95, 5.0, 5.611111111111111, 5.666666666666667, 6.333333333333333, 4.777777777777778, 4.111111111111111, 4.0, 7.0, 4.222222222222222, 6.777777777777778, 4.777777777777778, 5.857142857142857, 5.619047619047619, 6.25, 5.809523809523809, 6.523809523809524, 4.476190476190476, 7.023809523809524, 4.857142857142857, 5.523809523809524, 6.476190476190476, 5.1, 5.809523809523809, 4.571428571428571, 5.25, 4.35, 6.0, 6.095238095238095, 6.571428571428571, 5.095238095238095, 7.333333333333333, 5.619047619047619, 5.071428571428571, 6.642857142857143, 6.3076923076923075, 7.392857142857143, 6.785714285714286, 7.076923076923077, 5.571428571428571, 6.392857142857143, 7.471428571428571, 7.928571428571429, 5.071428571428571, 4.428571428571429, 5.5, 6.0, 5.1, 7.8, 7.3, 6.222222222222222, 6.1, 5.9, 4.8, 4.1875, 5.352941176470588, 5.111111111111111, 6.421052631578948, 6.8125, 7.555555555555555, 6.411764705882353, 6.2, 6.357142857142857, 7.875, 7.555555555555555, 6.6, 8.466666666666667, 5.625, 8.333333333333334, 6.5, 5.529411764705882, 6.411764705882353, 5.722222222222222, 7.117647058823529, 6.888888888888889, 7.111111111111111, 6.333333333333333, 5.111111111111111, 5.0, 8.305555555555555, 5.4375, 6.0588235294117645, 7.111111111111111, 6.722222222222222, 7.125, 7.222222222222222, 7.027777777777778, 5.722222222222222, 6.888888888888889, 3.9375, 6.6, 6.0, 5.0, 3.5, 3.2, 5.8, 6.2, 7.5, 8.4, 6.6, 6.1, 6.3, 8.4, 6.5, 6.1, 7.1, 7.9, 7.7, 5.6, 2.8, 4.2, 3.888888888888889, 7.0, 4.5, 4.166666666666667, 5.833333333333333, 7.0, 6.4, 5.285714285714286, 5.866666666666666, 4.285714285714286, 4.266666666666667, 5.533333333333333, 3.6666666666666665, 4.857142857142857, 7.466666666666667, 3.8428571428571425, 7.666666666666667, 7.333333333333333, 7.285714285714286, 5.733333333333333, 4.8, 3.8333333333333335, 2.3333333333333335, 6.5, 6.5, 4.666666666666667, 6.0, 5.833333333333333, 4.454545454545454, 3.8, 5.714285714285714, 5.454545454545454, 5.9, 6.6, 6.2, 5.842105263157895, 5.0, 4.2, 4.5, 5.0476190476190474, 5.15, 4.9, 6.0, 7.380952380952381, 6.318181818181818, 6.857142857142857, 6.35, 5.136363636363637, 6.2, 7.3], [40.0, 40.0, 40.0, 80.0, 30.0, 30.0, 80.0, 30.0, 90.0, 90.0, 22.22222222222222, 0.0, 22.22222222222222, 16.666666666666664, 22.22222222222222, 22.22222222222222, 44.44444444444444, 5.555555555555555, 44.44444444444444, 47.05882352941176, 66.66666666666666, 22.22222222222222, 22.22222222222222, 47.05882352941176, 0.0, 33.33333333333333, 37.5, 37.5, 12.5, 75.0, 37.5, 37.5, 25.0, 50.0, 25.0, 25.0, 16.666666666666664, 11.11111111111111, 0.0, 55.55555555555556, 11.11111111111111, 94.44444444444444, 29.411764705882355, 0.0, 11.11111111111111, 27.77777777777778, 50.0, 55.55555555555556, 27.77777777777778, 66.66666666666666, 55.55555555555556, 44.44444444444444, 27.77777777777778, 11.11111111111111, 77.77777777777779, 44.44444444444444, 0.0, 88.88888888888889, 33.33333333333333, 55.55555555555556, 75.0, 33.33333333333333, 77.77777777777779, 14.285714285714285, 33.33333333333333, 50.0, 25.0, 75.0, 25.0, 0.0, 12.5, 25.0, 68.75, 25.0, 50.0, 37.5, 25.0, 25.0, 25.0, 18.75, 81.25, 0.0, 31.25, 50.0, 37.5, 80.0, 20.0, 44.44444444444444, 0.0, 20.0, 40.0, 60.0, 80.0, 60.0, 50.0, 15.0, 40.0, 5.0, 65.0, 16.666666666666664, 50.0, 15.0, 25.0, 5.0, 5.0, 30.0, 25.0, 65.0, 35.0, 5.0, 42.10526315789473, 20.0, 25.0, 10.526315789473683, 27.77777777777778, 77.77777777777779, 66.66666666666666, 33.33333333333333, 11.11111111111111, 0.0, 77.77777777777779, 0.0, 88.88888888888889, 22.22222222222222, 33.33333333333333, 28.57142857142857, 5.0, 33.33333333333333, 57.14285714285714, 0.0, 57.14285714285714, 28.57142857142857, 19.047619047619047, 38.095238095238095, 15.0, 33.33333333333333, 9.523809523809524, 0.0, 0.0, 47.61904761904761, 57.14285714285714, 33.33333333333333, 23.809523809523807, 38.095238095238095, 28.57142857142857, 7.142857142857142, 50.0, 23.076923076923077, 57.14285714285714, 50.0, 69.23076923076923, 7.142857142857142, 35.714285714285715, 64.28571428571429, 64.28571428571429, 7.142857142857142, 21.428571428571427, 0.0, 38.46153846153847, 40.0, 80.0, 50.0, 66.66666666666666, 40.0, 40.0, 30.0, 25.0, 47.05882352941176, 27.77777777777778, 47.368421052631575, 50.0, 94.44444444444444, 64.70588235294117, 66.66666666666666, 71.42857142857143, 81.25, 55.55555555555556, 60.0, 80.0, 37.5, 61.111111111111114, 55.55555555555556, 17.647058823529413, 35.294117647058826, 33.33333333333333, 70.58823529411765, 55.55555555555556, 77.77777777777779, 50.0, 11.11111111111111, 18.75, 61.111111111111114, 25.0, 35.294117647058826, 72.22222222222221, 50.0, 62.5, 72.22222222222221, 50.0, 33.33333333333333, 61.111111111111114, 6.25, 80.0, 20.0, 40.0, 0.0, 0.0, 20.0, 60.0, 25.0, 50.0, 50.0, 40.0, 20.0, 50.0, 40.0, 50.0, 30.0, 60.0, 30.0, 30.0, 0.0, 10.0, 11.11111111111111, 83.33333333333334, 16.666666666666664, 16.666666666666664, 50.0, 66.66666666666666, 13.333333333333334, 57.14285714285714, 33.33333333333333, 14.285714285714285, 13.333333333333334, 40.0, 6.666666666666667, 28.57142857142857, 73.33333333333333, 14.285714285714285, 80.0, 66.66666666666666, 64.28571428571429, 46.666666666666664, 20.0, 0.0, 0.0, 33.33333333333333, 16.666666666666664, 0.0, 66.66666666666666, 16.666666666666664, 31.818181818181817, 20.0, 33.33333333333333, 31.818181818181817, 65.0, 50.0, 60.0, 63.1578947368421, 38.095238095238095, 25.0, 30.0, 28.57142857142857, 30.0, 40.0, 46.15384615384615, 57.14285714285714, 50.0, 47.61904761904761, 50.0, 27.27272727272727, 50.0, 75.0]]}\n"
     ]
    }
   ],
   "source": [
    "# Fetches the ratings received on each date\n",
    "\n",
    "# Parameters:\n",
    "#   - database_path (str): the path to your database\n",
    "\n",
    "def fetch_avg_attr_data(database_path):\n",
    "\n",
    "    # Connect to database\n",
    "    conn = sqlite3.connect(database_path)\n",
    "\n",
    "    # Creator cursor object\n",
    "    cursor = conn.cursor()\n",
    "\n",
    "    # Construct the SELECT query\n",
    "    avg_attr_query = f'''\n",
    "        SELECT gender, AVG(attr_o), ((SUM(dec_o) * 1.0)/COUNT(*)) * 100\n",
    "        FROM dates AS d\n",
    "        JOIN participants AS p on d.iid = p.iid\n",
    "        GROUP BY d.iid\n",
    "        ORDER BY gender\n",
    "    '''\n",
    "\n",
    "    # Execute query to retrieve the average attractiveness rating and\n",
    "    # second date success percentage per participant\n",
    "    cursor.execute(avg_attr_query)\n",
    "\n",
    "    rows = cursor.fetchall()\n",
    "\n",
    "    # Commit changes\n",
    "    conn.commit()\n",
    "\n",
    "    # Close the connection\n",
    "    conn.close()\n",
    "\n",
    "    # Initialize a dictionary for organizing data separated by gender\n",
    "    avg_attr_data = {'Female': [[], []], 'Male': [[], []]}  # Use 0 for Female, 1 for Male\n",
    "\n",
    "    # Separate data for men and women\n",
    "    for row in rows:\n",
    "        gender, avg_attr_o, dec_o_ratio = row\n",
    "        # Map numeric gender to string labels\n",
    "        gender_str = 'Female' if gender == 0 else 'Male'\n",
    "        avg_attr_data[gender_str][0].append(avg_attr_o)\n",
    "        avg_attr_data[gender_str][1].append(dec_o_ratio)\n",
    "            \n",
    "    return avg_attr_data"
   ]
  },
  {
   "cell_type": "code",
   "execution_count": 197,
   "id": "e26e6710",
   "metadata": {},
   "outputs": [
    {
     "name": "stdout",
     "output_type": "stream",
     "text": [
      "[Scatter({\n",
      "    'marker': {'color': '#ff6361'},\n",
      "    'mode': 'markers',\n",
      "    'name': 'Female',\n",
      "    'x': [6.7, 7.7, 6.5, ..., 5.45, 4.095238095238095, 4.142857142857143],\n",
      "    'y': [50.0, 60.0, 50.0, ..., 25.0, 14.285714285714285, 14.285714285714285]\n",
      "}), Scatter({\n",
      "    'marker': {'color': '#003f5c'},\n",
      "    'mode': 'markers',\n",
      "    'name': 'Male',\n",
      "    'x': [5.6, 7.1, 4.8, ..., 5.136363636363637, 6.2, 7.3],\n",
      "    'y': [40.0, 40.0, 40.0, ..., 27.27272727272727, 50.0, 75.0]\n",
      "})]\n"
     ]
    }
   ],
   "source": [
    "# Creates the traces for the plotly scatter chart\n",
    "\n",
    "# Parameters:\n",
    "#   - data (dict): the dictionary containing the x and y data\n",
    "#                  for each gender\n",
    "#   - colors (list): the colors to use for the male and female mar\n",
    "\n",
    "def create_scatter_traces(data):\n",
    "    \n",
    "    # Create traces for each gender\n",
    "    traces = []\n",
    "    \n",
    "    # Set counter for colors list\n",
    "    i = 0\n",
    "    \n",
    "    for gender, (x_data, y_data) in avg_attr_data.items():\n",
    "        trace = go.Scatter(\n",
    "            # The x-axis data to be used\n",
    "            x=x_data,\n",
    "            # The y-axis data to be used\n",
    "            y=y_data,\n",
    "            mode='markers',\n",
    "            name=gender,\n",
    "            marker_color=colors[i]\n",
    "        )\n",
    "        traces.append(trace)\n",
    "        i = i + 1\n",
    "    \n",
    "    return traces"
   ]
  },
  {
   "cell_type": "code",
   "execution_count": 198,
   "id": "32368aee",
   "metadata": {},
   "outputs": [
    {
     "data": {
      "application/vnd.plotly.v1+json": {
       "config": {
        "plotlyServerURL": "https://plot.ly"
       },
       "data": [
        {
         "marker": {
          "color": "#ff6361"
         },
         "mode": "markers",
         "name": "Female",
         "type": "scatter",
         "x": [
          6.7,
          7.7,
          6.5,
          7,
          5.3,
          6.8,
          7.9,
          8.2,
          7,
          6.36,
          5.0625,
          4.7875,
          5.866666666666666,
          6.428571428571429,
          7.733333333333333,
          7.6,
          8.2,
          5.733333333333333,
          6.066666666666666,
          7.875,
          6.933333333333334,
          6,
          7.1875,
          7.333333333333333,
          6.2,
          4.8533333333333335,
          6.533333333333333,
          4.333333333333333,
          7.5,
          5.3,
          4.8,
          3.9,
          8.3,
          4.4,
          5.3,
          6.5,
          6.352941176470588,
          6.833333333333333,
          6.472222222222222,
          5.888888888888889,
          6.388888888888889,
          7.888888888888889,
          6.611111111111111,
          7.333333333333333,
          6.777777777777778,
          6.388888888888889,
          7.333333333333333,
          7.5,
          7,
          6.944444444444445,
          5.888888888888889,
          8.38888888888889,
          7.888888888888889,
          7.138888888888889,
          7.9,
          6.4,
          5,
          7.222222222222222,
          6.7,
          7.777777777777778,
          7.777777777777778,
          7.8,
          4.8,
          7.8,
          5.2,
          6.5,
          6.125,
          7.3125,
          4.725,
          6.866666666666666,
          5.4375,
          5.5,
          6.75,
          7.0625,
          7.3125,
          7.25,
          8.6875,
          7.125,
          6.3125,
          7.75,
          7.1875,
          7,
          7.625,
          4.777777777777778,
          5.8,
          7.111111111111111,
          5,
          4.555555555555555,
          8,
          7.625,
          7.333333333333333,
          5.222222222222222,
          6.333333333333333,
          4.55,
          6.65,
          6.35,
          6.85,
          4.6,
          7.3,
          7.526315789473684,
          6.684210526315789,
          5.75,
          6.95,
          5.75,
          6.25,
          5.95,
          8.45,
          7.7,
          5.666666666666667,
          6.2105263157894735,
          7.2,
          6.95,
          7.1,
          5.888888888888889,
          7.888888888888889,
          5.555555555555555,
          5.333333333333333,
          6.666666666666667,
          5.777777777777778,
          6.777777777777778,
          6.666666666666667,
          8,
          6.833333333333333,
          3.75,
          5.809523809523809,
          5.714285714285714,
          6.571428571428571,
          6.85,
          6.85,
          6.55,
          5.55,
          5.25,
          5.380952380952381,
          5.95,
          6,
          4.75,
          7.375,
          5.95,
          8.425,
          7.476190476190476,
          6.142857142857143,
          6.523809523809524,
          7.571428571428571,
          7.857142857142857,
          5.571428571428571,
          5.214285714285714,
          7.214285714285714,
          5.785714285714286,
          5.785714285714286,
          5.642857142857143,
          6.142857142857143,
          5.090909090909091,
          7.214285714285714,
          6.428571428571429,
          6.571428571428571,
          6.928571428571429,
          7.214285714285714,
          6.428571428571429,
          7.666666666666667,
          6.714285714285714,
          6,
          5.142857142857143,
          8.285714285714286,
          7.285714285714286,
          4.857142857142857,
          7.857142857142857,
          4.428571428571429,
          7.0625,
          5.9375,
          5.25,
          6.9375,
          6,
          3.076923076923077,
          4.705882352941177,
          8.176470588235293,
          7.666666666666667,
          7,
          5.888888888888889,
          4.9375,
          6.882352941176471,
          7.2,
          7.98888888888889,
          7.588235294117647,
          7.411764705882353,
          6.233333333333333,
          5.933333333333334,
          6.0625,
          5.705882352941177,
          6.176470588235294,
          6,
          6.384615384615385,
          6.833333333333333,
          6.888888888888889,
          5.388888888888889,
          8.029411764705882,
          6.805555555555555,
          7.470588235294118,
          3.4375,
          6.444444444444445,
          5.777777777777778,
          4.8125,
          5.352941176470588,
          5.611111111111111,
          5.125,
          5.25,
          6.75,
          6.285714285714286,
          7.5,
          6.875,
          6.142857142857143,
          5.785714285714286,
          6.571428571428571,
          5.142857142857143,
          7.142857142857143,
          5.769230769230769,
          7.285714285714286,
          5.928571428571429,
          6.5,
          7.428571428571429,
          5.8,
          5.8,
          7.4,
          5.8,
          6.4,
          7,
          7.733333333333333,
          8.333333333333334,
          8.333333333333334,
          8,
          8.066666666666666,
          6.266666666666667,
          7.2,
          5.933333333333334,
          7.933333333333334,
          7.066666666666666,
          7.153846153846154,
          6.333333333333333,
          7.857142857142857,
          7.666666666666667,
          7.6923076923076925,
          7,
          6.428571428571429,
          6.857142857142857,
          5.714285714285714,
          5.857142857142857,
          6.714285714285714,
          5.2631578947368425,
          7.65,
          6.095238095238095,
          7.9411764705882355,
          7.85,
          4.666666666666667,
          7,
          7.238095238095238,
          6.25,
          7.045454545454546,
          6.111111111111111,
          5.052631578947368,
          6.15,
          6.409090909090909,
          4.090909090909091,
          7,
          4.523809523809524,
          4.6952380952380945,
          4.904761904761905,
          5.45,
          4.095238095238095,
          4.142857142857143
         ],
         "y": [
          50,
          60,
          50,
          60,
          30,
          50,
          70,
          80,
          70,
          40,
          18.75,
          18.75,
          33.33333333333333,
          42.857142857142854,
          86.66666666666667,
          93.33333333333333,
          93.33333333333333,
          20,
          26.666666666666668,
          81.25,
          53.333333333333336,
          25,
          68.75,
          66.66666666666666,
          53.333333333333336,
          20,
          40,
          13.333333333333334,
          70,
          20,
          20,
          20,
          80,
          10,
          20,
          40,
          52.94117647058824,
          44.44444444444444,
          27.77777777777778,
          50,
          27.77777777777778,
          77.77777777777779,
          55.55555555555556,
          72.22222222222221,
          50,
          38.88888888888889,
          77.77777777777779,
          55.55555555555556,
          33.33333333333333,
          44.44444444444444,
          16.666666666666664,
          88.88888888888889,
          61.111111111111114,
          77.77777777777779,
          80,
          40,
          20,
          55.55555555555556,
          60,
          55.55555555555556,
          77.77777777777779,
          70,
          20,
          100,
          40,
          60,
          50,
          56.25,
          6.25,
          40,
          31.25,
          31.25,
          50,
          68.75,
          75,
          68.75,
          87.5,
          43.75,
          31.25,
          81.25,
          56.25,
          62.5,
          75,
          11.11111111111111,
          40,
          44.44444444444444,
          0,
          33.33333333333333,
          80,
          87.5,
          66.66666666666666,
          22.22222222222222,
          22.22222222222222,
          15,
          80,
          40,
          80,
          15,
          75,
          84.21052631578947,
          36.84210526315789,
          55.00000000000001,
          75,
          40,
          65,
          45,
          95,
          100,
          26.666666666666668,
          68.42105263157895,
          70,
          75,
          75,
          44.44444444444444,
          88.88888888888889,
          11.11111111111111,
          33.33333333333333,
          55.55555555555556,
          33.33333333333333,
          66.66666666666666,
          88.88888888888889,
          77.77777777777779,
          52.38095238095239,
          25,
          42.857142857142854,
          33.33333333333333,
          76.19047619047619,
          55.00000000000001,
          65,
          35,
          50,
          40,
          42.857142857142854,
          70,
          65,
          30,
          80,
          25,
          95,
          76.19047619047619,
          57.14285714285714,
          47.61904761904761,
          52.38095238095239,
          64.28571428571429,
          14.285714285714285,
          35.714285714285715,
          57.14285714285714,
          21.428571428571427,
          35.714285714285715,
          21.428571428571427,
          28.57142857142857,
          0,
          57.14285714285714,
          28.57142857142857,
          21.428571428571427,
          14.285714285714285,
          64.28571428571429,
          14.285714285714285,
          50,
          42.857142857142854,
          28.57142857142857,
          28.57142857142857,
          100,
          57.14285714285714,
          28.57142857142857,
          71.42857142857143,
          14.285714285714285,
          43.75,
          18.75,
          18.75,
          43.75,
          37.5,
          0,
          5.88235294117647,
          70.58823529411765,
          72.22222222222221,
          37.5,
          22.22222222222222,
          6.25,
          52.94117647058824,
          53.333333333333336,
          44.44444444444444,
          64.70588235294117,
          58.82352941176471,
          33.33333333333333,
          26.666666666666668,
          56.25,
          23.52941176470588,
          41.17647058823529,
          41.17647058823529,
          53.84615384615385,
          66.66666666666666,
          50,
          27.77777777777778,
          70.58823529411765,
          44.44444444444444,
          94.11764705882352,
          12.5,
          50,
          44.44444444444444,
          25,
          23.52941176470588,
          22.22222222222222,
          25,
          12.5,
          62.5,
          14.285714285714285,
          87.5,
          50,
          64.28571428571429,
          50,
          50,
          42.857142857142854,
          78.57142857142857,
          30.76923076923077,
          50,
          28.57142857142857,
          71.42857142857143,
          64.28571428571429,
          40,
          0,
          100,
          20,
          40,
          60,
          66.66666666666666,
          66.66666666666666,
          66.66666666666666,
          73.33333333333333,
          73.33333333333333,
          46.666666666666664,
          46.666666666666664,
          6.666666666666667,
          80,
          53.333333333333336,
          30.76923076923077,
          26.666666666666668,
          71.42857142857143,
          53.333333333333336,
          53.84615384615385,
          85.71428571428571,
          42.857142857142854,
          71.42857142857143,
          42.857142857142854,
          85.71428571428571,
          57.14285714285714,
          47.368421052631575,
          70,
          19.047619047619047,
          52.94117647058824,
          75,
          19.047619047619047,
          42.857142857142854,
          57.14285714285714,
          37.5,
          63.63636363636363,
          38.88888888888889,
          21.052631578947366,
          45,
          54.54545454545454,
          9.090909090909092,
          66.66666666666666,
          0,
          14.285714285714285,
          14.285714285714285,
          25,
          14.285714285714285,
          14.285714285714285
         ]
        },
        {
         "marker": {
          "color": "#003f5c"
         },
         "mode": "markers",
         "name": "Male",
         "type": "scatter",
         "x": [
          5.6,
          7.1,
          4.8,
          8.2,
          5.7,
          5.6,
          6.7,
          5.1,
          7.7,
          7.5,
          4.166666666666667,
          3.7777777777777777,
          5.055555555555555,
          4.277777777777778,
          4.944444444444445,
          5.277777777777778,
          7.666666666666667,
          4.055555555555555,
          6.777777777777778,
          6.529411764705882,
          6,
          5.388888888888889,
          3.8333333333333335,
          6.9411764705882355,
          4.444444444444445,
          6.333333333333333,
          5.625,
          6.5,
          5.75,
          7.375,
          6.125,
          4.875,
          6.625,
          6.375,
          5.875,
          5.25,
          3.6666666666666665,
          4.666666666666667,
          4.388888888888889,
          7.166666666666667,
          5.611111111111111,
          7.833333333333333,
          4.764705882352941,
          4,
          4.111111111111111,
          6.222222222222222,
          6.877777777777777,
          6.277777777777778,
          5.111111111111111,
          6.888888888888889,
          7.166666666666667,
          5.833333333333333,
          5.5,
          4.777777777777778,
          7.777777777777778,
          6.266666666666667,
          3.7777777777777777,
          8,
          6.111111111111111,
          7.333333333333333,
          7.875,
          6.222222222222222,
          7.333333333333333,
          4.428571428571429,
          7.333333333333333,
          7.5,
          6.25,
          8,
          5.75,
          4.5625,
          4.125,
          7.375,
          7.75,
          5.75,
          6.875,
          6.6875,
          7.375,
          6.875,
          5.9375,
          4.875,
          8.0625,
          4.4,
          5.8125,
          6.9375,
          6.125,
          6.2,
          5,
          5.222222222222222,
          4,
          4.4,
          5.4,
          6.7,
          6.5,
          6.5,
          6.1,
          5.7,
          6.9,
          3.6,
          7.8,
          5.388888888888889,
          7.5,
          5.25,
          6.05,
          3.2,
          5.35,
          5.95,
          6.1,
          8.6,
          6.95,
          5.55,
          7.2631578947368425,
          5.7,
          5.95,
          5,
          5.611111111111111,
          5.666666666666667,
          6.333333333333333,
          4.777777777777778,
          4.111111111111111,
          4,
          7,
          4.222222222222222,
          6.777777777777778,
          4.777777777777778,
          5.857142857142857,
          5.619047619047619,
          6.25,
          5.809523809523809,
          6.523809523809524,
          4.476190476190476,
          7.023809523809524,
          4.857142857142857,
          5.523809523809524,
          6.476190476190476,
          5.1,
          5.809523809523809,
          4.571428571428571,
          5.25,
          4.35,
          6,
          6.095238095238095,
          6.571428571428571,
          5.095238095238095,
          7.333333333333333,
          5.619047619047619,
          5.071428571428571,
          6.642857142857143,
          6.3076923076923075,
          7.392857142857143,
          6.785714285714286,
          7.076923076923077,
          5.571428571428571,
          6.392857142857143,
          7.471428571428571,
          7.928571428571429,
          5.071428571428571,
          4.428571428571429,
          5.5,
          6,
          5.1,
          7.8,
          7.3,
          6.222222222222222,
          6.1,
          5.9,
          4.8,
          4.1875,
          5.352941176470588,
          5.111111111111111,
          6.421052631578948,
          6.8125,
          7.555555555555555,
          6.411764705882353,
          6.2,
          6.357142857142857,
          7.875,
          7.555555555555555,
          6.6,
          8.466666666666667,
          5.625,
          8.333333333333334,
          6.5,
          5.529411764705882,
          6.411764705882353,
          5.722222222222222,
          7.117647058823529,
          6.888888888888889,
          7.111111111111111,
          6.333333333333333,
          5.111111111111111,
          5,
          8.305555555555555,
          5.4375,
          6.0588235294117645,
          7.111111111111111,
          6.722222222222222,
          7.125,
          7.222222222222222,
          7.027777777777778,
          5.722222222222222,
          6.888888888888889,
          3.9375,
          6.6,
          6,
          5,
          3.5,
          3.2,
          5.8,
          6.2,
          7.5,
          8.4,
          6.6,
          6.1,
          6.3,
          8.4,
          6.5,
          6.1,
          7.1,
          7.9,
          7.7,
          5.6,
          2.8,
          4.2,
          3.888888888888889,
          7,
          4.5,
          4.166666666666667,
          5.833333333333333,
          7,
          6.4,
          5.285714285714286,
          5.866666666666666,
          4.285714285714286,
          4.266666666666667,
          5.533333333333333,
          3.6666666666666665,
          4.857142857142857,
          7.466666666666667,
          3.8428571428571425,
          7.666666666666667,
          7.333333333333333,
          7.285714285714286,
          5.733333333333333,
          4.8,
          3.8333333333333335,
          2.3333333333333335,
          6.5,
          6.5,
          4.666666666666667,
          6,
          5.833333333333333,
          4.454545454545454,
          3.8,
          5.714285714285714,
          5.454545454545454,
          5.9,
          6.6,
          6.2,
          5.842105263157895,
          5,
          4.2,
          4.5,
          5.0476190476190474,
          5.15,
          4.9,
          6,
          7.380952380952381,
          6.318181818181818,
          6.857142857142857,
          6.35,
          5.136363636363637,
          6.2,
          7.3
         ],
         "y": [
          40,
          40,
          40,
          80,
          30,
          30,
          80,
          30,
          90,
          90,
          22.22222222222222,
          0,
          22.22222222222222,
          16.666666666666664,
          22.22222222222222,
          22.22222222222222,
          44.44444444444444,
          5.555555555555555,
          44.44444444444444,
          47.05882352941176,
          66.66666666666666,
          22.22222222222222,
          22.22222222222222,
          47.05882352941176,
          0,
          33.33333333333333,
          37.5,
          37.5,
          12.5,
          75,
          37.5,
          37.5,
          25,
          50,
          25,
          25,
          16.666666666666664,
          11.11111111111111,
          0,
          55.55555555555556,
          11.11111111111111,
          94.44444444444444,
          29.411764705882355,
          0,
          11.11111111111111,
          27.77777777777778,
          50,
          55.55555555555556,
          27.77777777777778,
          66.66666666666666,
          55.55555555555556,
          44.44444444444444,
          27.77777777777778,
          11.11111111111111,
          77.77777777777779,
          44.44444444444444,
          0,
          88.88888888888889,
          33.33333333333333,
          55.55555555555556,
          75,
          33.33333333333333,
          77.77777777777779,
          14.285714285714285,
          33.33333333333333,
          50,
          25,
          75,
          25,
          0,
          12.5,
          25,
          68.75,
          25,
          50,
          37.5,
          25,
          25,
          25,
          18.75,
          81.25,
          0,
          31.25,
          50,
          37.5,
          80,
          20,
          44.44444444444444,
          0,
          20,
          40,
          60,
          80,
          60,
          50,
          15,
          40,
          5,
          65,
          16.666666666666664,
          50,
          15,
          25,
          5,
          5,
          30,
          25,
          65,
          35,
          5,
          42.10526315789473,
          20,
          25,
          10.526315789473683,
          27.77777777777778,
          77.77777777777779,
          66.66666666666666,
          33.33333333333333,
          11.11111111111111,
          0,
          77.77777777777779,
          0,
          88.88888888888889,
          22.22222222222222,
          33.33333333333333,
          28.57142857142857,
          5,
          33.33333333333333,
          57.14285714285714,
          0,
          57.14285714285714,
          28.57142857142857,
          19.047619047619047,
          38.095238095238095,
          15,
          33.33333333333333,
          9.523809523809524,
          0,
          0,
          47.61904761904761,
          57.14285714285714,
          33.33333333333333,
          23.809523809523807,
          38.095238095238095,
          28.57142857142857,
          7.142857142857142,
          50,
          23.076923076923077,
          57.14285714285714,
          50,
          69.23076923076923,
          7.142857142857142,
          35.714285714285715,
          64.28571428571429,
          64.28571428571429,
          7.142857142857142,
          21.428571428571427,
          0,
          38.46153846153847,
          40,
          80,
          50,
          66.66666666666666,
          40,
          40,
          30,
          25,
          47.05882352941176,
          27.77777777777778,
          47.368421052631575,
          50,
          94.44444444444444,
          64.70588235294117,
          66.66666666666666,
          71.42857142857143,
          81.25,
          55.55555555555556,
          60,
          80,
          37.5,
          61.111111111111114,
          55.55555555555556,
          17.647058823529413,
          35.294117647058826,
          33.33333333333333,
          70.58823529411765,
          55.55555555555556,
          77.77777777777779,
          50,
          11.11111111111111,
          18.75,
          61.111111111111114,
          25,
          35.294117647058826,
          72.22222222222221,
          50,
          62.5,
          72.22222222222221,
          50,
          33.33333333333333,
          61.111111111111114,
          6.25,
          80,
          20,
          40,
          0,
          0,
          20,
          60,
          25,
          50,
          50,
          40,
          20,
          50,
          40,
          50,
          30,
          60,
          30,
          30,
          0,
          10,
          11.11111111111111,
          83.33333333333334,
          16.666666666666664,
          16.666666666666664,
          50,
          66.66666666666666,
          13.333333333333334,
          57.14285714285714,
          33.33333333333333,
          14.285714285714285,
          13.333333333333334,
          40,
          6.666666666666667,
          28.57142857142857,
          73.33333333333333,
          14.285714285714285,
          80,
          66.66666666666666,
          64.28571428571429,
          46.666666666666664,
          20,
          0,
          0,
          33.33333333333333,
          16.666666666666664,
          0,
          66.66666666666666,
          16.666666666666664,
          31.818181818181817,
          20,
          33.33333333333333,
          31.818181818181817,
          65,
          50,
          60,
          63.1578947368421,
          38.095238095238095,
          25,
          30,
          28.57142857142857,
          30,
          40,
          46.15384615384615,
          57.14285714285714,
          50,
          47.61904761904761,
          50,
          27.27272727272727,
          50,
          75
         ]
        }
       ],
       "layout": {
        "barmode": "group",
        "paper_bgcolor": "#dadfe1",
        "plot_bgcolor": "#dadfe1",
        "template": {
         "data": {
          "bar": [
           {
            "error_x": {
             "color": "#2a3f5f"
            },
            "error_y": {
             "color": "#2a3f5f"
            },
            "marker": {
             "line": {
              "color": "#E5ECF6",
              "width": 0.5
             },
             "pattern": {
              "fillmode": "overlay",
              "size": 10,
              "solidity": 0.2
             }
            },
            "type": "bar"
           }
          ],
          "barpolar": [
           {
            "marker": {
             "line": {
              "color": "#E5ECF6",
              "width": 0.5
             },
             "pattern": {
              "fillmode": "overlay",
              "size": 10,
              "solidity": 0.2
             }
            },
            "type": "barpolar"
           }
          ],
          "carpet": [
           {
            "aaxis": {
             "endlinecolor": "#2a3f5f",
             "gridcolor": "white",
             "linecolor": "white",
             "minorgridcolor": "white",
             "startlinecolor": "#2a3f5f"
            },
            "baxis": {
             "endlinecolor": "#2a3f5f",
             "gridcolor": "white",
             "linecolor": "white",
             "minorgridcolor": "white",
             "startlinecolor": "#2a3f5f"
            },
            "type": "carpet"
           }
          ],
          "choropleth": [
           {
            "colorbar": {
             "outlinewidth": 0,
             "ticks": ""
            },
            "type": "choropleth"
           }
          ],
          "contour": [
           {
            "colorbar": {
             "outlinewidth": 0,
             "ticks": ""
            },
            "colorscale": [
             [
              0,
              "#0d0887"
             ],
             [
              0.1111111111111111,
              "#46039f"
             ],
             [
              0.2222222222222222,
              "#7201a8"
             ],
             [
              0.3333333333333333,
              "#9c179e"
             ],
             [
              0.4444444444444444,
              "#bd3786"
             ],
             [
              0.5555555555555556,
              "#d8576b"
             ],
             [
              0.6666666666666666,
              "#ed7953"
             ],
             [
              0.7777777777777778,
              "#fb9f3a"
             ],
             [
              0.8888888888888888,
              "#fdca26"
             ],
             [
              1,
              "#f0f921"
             ]
            ],
            "type": "contour"
           }
          ],
          "contourcarpet": [
           {
            "colorbar": {
             "outlinewidth": 0,
             "ticks": ""
            },
            "type": "contourcarpet"
           }
          ],
          "heatmap": [
           {
            "colorbar": {
             "outlinewidth": 0,
             "ticks": ""
            },
            "colorscale": [
             [
              0,
              "#0d0887"
             ],
             [
              0.1111111111111111,
              "#46039f"
             ],
             [
              0.2222222222222222,
              "#7201a8"
             ],
             [
              0.3333333333333333,
              "#9c179e"
             ],
             [
              0.4444444444444444,
              "#bd3786"
             ],
             [
              0.5555555555555556,
              "#d8576b"
             ],
             [
              0.6666666666666666,
              "#ed7953"
             ],
             [
              0.7777777777777778,
              "#fb9f3a"
             ],
             [
              0.8888888888888888,
              "#fdca26"
             ],
             [
              1,
              "#f0f921"
             ]
            ],
            "type": "heatmap"
           }
          ],
          "heatmapgl": [
           {
            "colorbar": {
             "outlinewidth": 0,
             "ticks": ""
            },
            "colorscale": [
             [
              0,
              "#0d0887"
             ],
             [
              0.1111111111111111,
              "#46039f"
             ],
             [
              0.2222222222222222,
              "#7201a8"
             ],
             [
              0.3333333333333333,
              "#9c179e"
             ],
             [
              0.4444444444444444,
              "#bd3786"
             ],
             [
              0.5555555555555556,
              "#d8576b"
             ],
             [
              0.6666666666666666,
              "#ed7953"
             ],
             [
              0.7777777777777778,
              "#fb9f3a"
             ],
             [
              0.8888888888888888,
              "#fdca26"
             ],
             [
              1,
              "#f0f921"
             ]
            ],
            "type": "heatmapgl"
           }
          ],
          "histogram": [
           {
            "marker": {
             "pattern": {
              "fillmode": "overlay",
              "size": 10,
              "solidity": 0.2
             }
            },
            "type": "histogram"
           }
          ],
          "histogram2d": [
           {
            "colorbar": {
             "outlinewidth": 0,
             "ticks": ""
            },
            "colorscale": [
             [
              0,
              "#0d0887"
             ],
             [
              0.1111111111111111,
              "#46039f"
             ],
             [
              0.2222222222222222,
              "#7201a8"
             ],
             [
              0.3333333333333333,
              "#9c179e"
             ],
             [
              0.4444444444444444,
              "#bd3786"
             ],
             [
              0.5555555555555556,
              "#d8576b"
             ],
             [
              0.6666666666666666,
              "#ed7953"
             ],
             [
              0.7777777777777778,
              "#fb9f3a"
             ],
             [
              0.8888888888888888,
              "#fdca26"
             ],
             [
              1,
              "#f0f921"
             ]
            ],
            "type": "histogram2d"
           }
          ],
          "histogram2dcontour": [
           {
            "colorbar": {
             "outlinewidth": 0,
             "ticks": ""
            },
            "colorscale": [
             [
              0,
              "#0d0887"
             ],
             [
              0.1111111111111111,
              "#46039f"
             ],
             [
              0.2222222222222222,
              "#7201a8"
             ],
             [
              0.3333333333333333,
              "#9c179e"
             ],
             [
              0.4444444444444444,
              "#bd3786"
             ],
             [
              0.5555555555555556,
              "#d8576b"
             ],
             [
              0.6666666666666666,
              "#ed7953"
             ],
             [
              0.7777777777777778,
              "#fb9f3a"
             ],
             [
              0.8888888888888888,
              "#fdca26"
             ],
             [
              1,
              "#f0f921"
             ]
            ],
            "type": "histogram2dcontour"
           }
          ],
          "mesh3d": [
           {
            "colorbar": {
             "outlinewidth": 0,
             "ticks": ""
            },
            "type": "mesh3d"
           }
          ],
          "parcoords": [
           {
            "line": {
             "colorbar": {
              "outlinewidth": 0,
              "ticks": ""
             }
            },
            "type": "parcoords"
           }
          ],
          "pie": [
           {
            "automargin": true,
            "type": "pie"
           }
          ],
          "scatter": [
           {
            "fillpattern": {
             "fillmode": "overlay",
             "size": 10,
             "solidity": 0.2
            },
            "type": "scatter"
           }
          ],
          "scatter3d": [
           {
            "line": {
             "colorbar": {
              "outlinewidth": 0,
              "ticks": ""
             }
            },
            "marker": {
             "colorbar": {
              "outlinewidth": 0,
              "ticks": ""
             }
            },
            "type": "scatter3d"
           }
          ],
          "scattercarpet": [
           {
            "marker": {
             "colorbar": {
              "outlinewidth": 0,
              "ticks": ""
             }
            },
            "type": "scattercarpet"
           }
          ],
          "scattergeo": [
           {
            "marker": {
             "colorbar": {
              "outlinewidth": 0,
              "ticks": ""
             }
            },
            "type": "scattergeo"
           }
          ],
          "scattergl": [
           {
            "marker": {
             "colorbar": {
              "outlinewidth": 0,
              "ticks": ""
             }
            },
            "type": "scattergl"
           }
          ],
          "scattermapbox": [
           {
            "marker": {
             "colorbar": {
              "outlinewidth": 0,
              "ticks": ""
             }
            },
            "type": "scattermapbox"
           }
          ],
          "scatterpolar": [
           {
            "marker": {
             "colorbar": {
              "outlinewidth": 0,
              "ticks": ""
             }
            },
            "type": "scatterpolar"
           }
          ],
          "scatterpolargl": [
           {
            "marker": {
             "colorbar": {
              "outlinewidth": 0,
              "ticks": ""
             }
            },
            "type": "scatterpolargl"
           }
          ],
          "scatterternary": [
           {
            "marker": {
             "colorbar": {
              "outlinewidth": 0,
              "ticks": ""
             }
            },
            "type": "scatterternary"
           }
          ],
          "surface": [
           {
            "colorbar": {
             "outlinewidth": 0,
             "ticks": ""
            },
            "colorscale": [
             [
              0,
              "#0d0887"
             ],
             [
              0.1111111111111111,
              "#46039f"
             ],
             [
              0.2222222222222222,
              "#7201a8"
             ],
             [
              0.3333333333333333,
              "#9c179e"
             ],
             [
              0.4444444444444444,
              "#bd3786"
             ],
             [
              0.5555555555555556,
              "#d8576b"
             ],
             [
              0.6666666666666666,
              "#ed7953"
             ],
             [
              0.7777777777777778,
              "#fb9f3a"
             ],
             [
              0.8888888888888888,
              "#fdca26"
             ],
             [
              1,
              "#f0f921"
             ]
            ],
            "type": "surface"
           }
          ],
          "table": [
           {
            "cells": {
             "fill": {
              "color": "#EBF0F8"
             },
             "line": {
              "color": "white"
             }
            },
            "header": {
             "fill": {
              "color": "#C8D4E3"
             },
             "line": {
              "color": "white"
             }
            },
            "type": "table"
           }
          ]
         },
         "layout": {
          "annotationdefaults": {
           "arrowcolor": "#2a3f5f",
           "arrowhead": 0,
           "arrowwidth": 1
          },
          "autotypenumbers": "strict",
          "coloraxis": {
           "colorbar": {
            "outlinewidth": 0,
            "ticks": ""
           }
          },
          "colorscale": {
           "diverging": [
            [
             0,
             "#8e0152"
            ],
            [
             0.1,
             "#c51b7d"
            ],
            [
             0.2,
             "#de77ae"
            ],
            [
             0.3,
             "#f1b6da"
            ],
            [
             0.4,
             "#fde0ef"
            ],
            [
             0.5,
             "#f7f7f7"
            ],
            [
             0.6,
             "#e6f5d0"
            ],
            [
             0.7,
             "#b8e186"
            ],
            [
             0.8,
             "#7fbc41"
            ],
            [
             0.9,
             "#4d9221"
            ],
            [
             1,
             "#276419"
            ]
           ],
           "sequential": [
            [
             0,
             "#0d0887"
            ],
            [
             0.1111111111111111,
             "#46039f"
            ],
            [
             0.2222222222222222,
             "#7201a8"
            ],
            [
             0.3333333333333333,
             "#9c179e"
            ],
            [
             0.4444444444444444,
             "#bd3786"
            ],
            [
             0.5555555555555556,
             "#d8576b"
            ],
            [
             0.6666666666666666,
             "#ed7953"
            ],
            [
             0.7777777777777778,
             "#fb9f3a"
            ],
            [
             0.8888888888888888,
             "#fdca26"
            ],
            [
             1,
             "#f0f921"
            ]
           ],
           "sequentialminus": [
            [
             0,
             "#0d0887"
            ],
            [
             0.1111111111111111,
             "#46039f"
            ],
            [
             0.2222222222222222,
             "#7201a8"
            ],
            [
             0.3333333333333333,
             "#9c179e"
            ],
            [
             0.4444444444444444,
             "#bd3786"
            ],
            [
             0.5555555555555556,
             "#d8576b"
            ],
            [
             0.6666666666666666,
             "#ed7953"
            ],
            [
             0.7777777777777778,
             "#fb9f3a"
            ],
            [
             0.8888888888888888,
             "#fdca26"
            ],
            [
             1,
             "#f0f921"
            ]
           ]
          },
          "colorway": [
           "#636efa",
           "#EF553B",
           "#00cc96",
           "#ab63fa",
           "#FFA15A",
           "#19d3f3",
           "#FF6692",
           "#B6E880",
           "#FF97FF",
           "#FECB52"
          ],
          "font": {
           "color": "#2a3f5f"
          },
          "geo": {
           "bgcolor": "white",
           "lakecolor": "white",
           "landcolor": "#E5ECF6",
           "showlakes": true,
           "showland": true,
           "subunitcolor": "white"
          },
          "hoverlabel": {
           "align": "left"
          },
          "hovermode": "closest",
          "mapbox": {
           "style": "light"
          },
          "paper_bgcolor": "white",
          "plot_bgcolor": "#E5ECF6",
          "polar": {
           "angularaxis": {
            "gridcolor": "white",
            "linecolor": "white",
            "ticks": ""
           },
           "bgcolor": "#E5ECF6",
           "radialaxis": {
            "gridcolor": "white",
            "linecolor": "white",
            "ticks": ""
           }
          },
          "scene": {
           "xaxis": {
            "backgroundcolor": "#E5ECF6",
            "gridcolor": "white",
            "gridwidth": 2,
            "linecolor": "white",
            "showbackground": true,
            "ticks": "",
            "zerolinecolor": "white"
           },
           "yaxis": {
            "backgroundcolor": "#E5ECF6",
            "gridcolor": "white",
            "gridwidth": 2,
            "linecolor": "white",
            "showbackground": true,
            "ticks": "",
            "zerolinecolor": "white"
           },
           "zaxis": {
            "backgroundcolor": "#E5ECF6",
            "gridcolor": "white",
            "gridwidth": 2,
            "linecolor": "white",
            "showbackground": true,
            "ticks": "",
            "zerolinecolor": "white"
           }
          },
          "shapedefaults": {
           "line": {
            "color": "#2a3f5f"
           }
          },
          "ternary": {
           "aaxis": {
            "gridcolor": "white",
            "linecolor": "white",
            "ticks": ""
           },
           "baxis": {
            "gridcolor": "white",
            "linecolor": "white",
            "ticks": ""
           },
           "bgcolor": "#E5ECF6",
           "caxis": {
            "gridcolor": "white",
            "linecolor": "white",
            "ticks": ""
           }
          },
          "title": {
           "x": 0.05
          },
          "xaxis": {
           "automargin": true,
           "gridcolor": "white",
           "linecolor": "white",
           "ticks": "",
           "title": {
            "standoff": 15
           },
           "zerolinecolor": "white",
           "zerolinewidth": 2
          },
          "yaxis": {
           "automargin": true,
           "gridcolor": "white",
           "linecolor": "white",
           "ticks": "",
           "title": {
            "standoff": 15
           },
           "zerolinecolor": "white",
           "zerolinewidth": 2
          }
         }
        },
        "title": {
         "text": "Influence of Average Attractiveness Rating Received on Second Date Success"
        },
        "xaxis": {
         "title": {
          "text": "Average Attractiveness Rating Received"
         }
        },
        "yaxis": {
         "title": {
          "text": "Perecentage of Successful Second Dates"
         }
        }
       }
      },
      "text/html": [
       "<div>                            <div id=\"b440f3ea-ed0a-4edf-b146-a2164a060b99\" class=\"plotly-graph-div\" style=\"height:525px; width:100%;\"></div>            <script type=\"text/javascript\">                require([\"plotly\"], function(Plotly) {                    window.PLOTLYENV=window.PLOTLYENV || {};                                    if (document.getElementById(\"b440f3ea-ed0a-4edf-b146-a2164a060b99\")) {                    Plotly.newPlot(                        \"b440f3ea-ed0a-4edf-b146-a2164a060b99\",                        [{\"marker\":{\"color\":\"#ff6361\"},\"mode\":\"markers\",\"name\":\"Female\",\"x\":[6.7,7.7,6.5,7.0,5.3,6.8,7.9,8.2,7.0,6.36,5.0625,4.7875,5.866666666666666,6.428571428571429,7.733333333333333,7.6,8.2,5.733333333333333,6.066666666666666,7.875,6.933333333333334,6.0,7.1875,7.333333333333333,6.2,4.8533333333333335,6.533333333333333,4.333333333333333,7.5,5.3,4.8,3.9,8.3,4.4,5.3,6.5,6.352941176470588,6.833333333333333,6.472222222222222,5.888888888888889,6.388888888888889,7.888888888888889,6.611111111111111,7.333333333333333,6.777777777777778,6.388888888888889,7.333333333333333,7.5,7.0,6.944444444444445,5.888888888888889,8.38888888888889,7.888888888888889,7.138888888888889,7.9,6.4,5.0,7.222222222222222,6.7,7.777777777777778,7.777777777777778,7.8,4.8,7.8,5.2,6.5,6.125,7.3125,4.725,6.866666666666666,5.4375,5.5,6.75,7.0625,7.3125,7.25,8.6875,7.125,6.3125,7.75,7.1875,7.0,7.625,4.777777777777778,5.8,7.111111111111111,5.0,4.555555555555555,8.0,7.625,7.333333333333333,5.222222222222222,6.333333333333333,4.55,6.65,6.35,6.85,4.6,7.3,7.526315789473684,6.684210526315789,5.75,6.95,5.75,6.25,5.95,8.45,7.7,5.666666666666667,6.2105263157894735,7.2,6.95,7.1,5.888888888888889,7.888888888888889,5.555555555555555,5.333333333333333,6.666666666666667,5.777777777777778,6.777777777777778,6.666666666666667,8.0,6.833333333333333,3.75,5.809523809523809,5.714285714285714,6.571428571428571,6.85,6.85,6.55,5.55,5.25,5.380952380952381,5.95,6.0,4.75,7.375,5.95,8.425,7.476190476190476,6.142857142857143,6.523809523809524,7.571428571428571,7.857142857142857,5.571428571428571,5.214285714285714,7.214285714285714,5.785714285714286,5.785714285714286,5.642857142857143,6.142857142857143,5.090909090909091,7.214285714285714,6.428571428571429,6.571428571428571,6.928571428571429,7.214285714285714,6.428571428571429,7.666666666666667,6.714285714285714,6.0,5.142857142857143,8.285714285714286,7.285714285714286,4.857142857142857,7.857142857142857,4.428571428571429,7.0625,5.9375,5.25,6.9375,6.0,3.076923076923077,4.705882352941177,8.176470588235293,7.666666666666667,7.0,5.888888888888889,4.9375,6.882352941176471,7.2,7.98888888888889,7.588235294117647,7.411764705882353,6.233333333333333,5.933333333333334,6.0625,5.705882352941177,6.176470588235294,6.0,6.384615384615385,6.833333333333333,6.888888888888889,5.388888888888889,8.029411764705882,6.805555555555555,7.470588235294118,3.4375,6.444444444444445,5.777777777777778,4.8125,5.352941176470588,5.611111111111111,5.125,5.25,6.75,6.285714285714286,7.5,6.875,6.142857142857143,5.785714285714286,6.571428571428571,5.142857142857143,7.142857142857143,5.769230769230769,7.285714285714286,5.928571428571429,6.5,7.428571428571429,5.8,5.8,7.4,5.8,6.4,7.0,7.733333333333333,8.333333333333334,8.333333333333334,8.0,8.066666666666666,6.266666666666667,7.2,5.933333333333334,7.933333333333334,7.066666666666666,7.153846153846154,6.333333333333333,7.857142857142857,7.666666666666667,7.6923076923076925,7.0,6.428571428571429,6.857142857142857,5.714285714285714,5.857142857142857,6.714285714285714,5.2631578947368425,7.65,6.095238095238095,7.9411764705882355,7.85,4.666666666666667,7.0,7.238095238095238,6.25,7.045454545454546,6.111111111111111,5.052631578947368,6.15,6.409090909090909,4.090909090909091,7.0,4.523809523809524,4.6952380952380945,4.904761904761905,5.45,4.095238095238095,4.142857142857143],\"y\":[50.0,60.0,50.0,60.0,30.0,50.0,70.0,80.0,70.0,40.0,18.75,18.75,33.33333333333333,42.857142857142854,86.66666666666667,93.33333333333333,93.33333333333333,20.0,26.666666666666668,81.25,53.333333333333336,25.0,68.75,66.66666666666666,53.333333333333336,20.0,40.0,13.333333333333334,70.0,20.0,20.0,20.0,80.0,10.0,20.0,40.0,52.94117647058824,44.44444444444444,27.77777777777778,50.0,27.77777777777778,77.77777777777779,55.55555555555556,72.22222222222221,50.0,38.88888888888889,77.77777777777779,55.55555555555556,33.33333333333333,44.44444444444444,16.666666666666664,88.88888888888889,61.111111111111114,77.77777777777779,80.0,40.0,20.0,55.55555555555556,60.0,55.55555555555556,77.77777777777779,70.0,20.0,100.0,40.0,60.0,50.0,56.25,6.25,40.0,31.25,31.25,50.0,68.75,75.0,68.75,87.5,43.75,31.25,81.25,56.25,62.5,75.0,11.11111111111111,40.0,44.44444444444444,0.0,33.33333333333333,80.0,87.5,66.66666666666666,22.22222222222222,22.22222222222222,15.0,80.0,40.0,80.0,15.0,75.0,84.21052631578947,36.84210526315789,55.00000000000001,75.0,40.0,65.0,45.0,95.0,100.0,26.666666666666668,68.42105263157895,70.0,75.0,75.0,44.44444444444444,88.88888888888889,11.11111111111111,33.33333333333333,55.55555555555556,33.33333333333333,66.66666666666666,88.88888888888889,77.77777777777779,52.38095238095239,25.0,42.857142857142854,33.33333333333333,76.19047619047619,55.00000000000001,65.0,35.0,50.0,40.0,42.857142857142854,70.0,65.0,30.0,80.0,25.0,95.0,76.19047619047619,57.14285714285714,47.61904761904761,52.38095238095239,64.28571428571429,14.285714285714285,35.714285714285715,57.14285714285714,21.428571428571427,35.714285714285715,21.428571428571427,28.57142857142857,0.0,57.14285714285714,28.57142857142857,21.428571428571427,14.285714285714285,64.28571428571429,14.285714285714285,50.0,42.857142857142854,28.57142857142857,28.57142857142857,100.0,57.14285714285714,28.57142857142857,71.42857142857143,14.285714285714285,43.75,18.75,18.75,43.75,37.5,0.0,5.88235294117647,70.58823529411765,72.22222222222221,37.5,22.22222222222222,6.25,52.94117647058824,53.333333333333336,44.44444444444444,64.70588235294117,58.82352941176471,33.33333333333333,26.666666666666668,56.25,23.52941176470588,41.17647058823529,41.17647058823529,53.84615384615385,66.66666666666666,50.0,27.77777777777778,70.58823529411765,44.44444444444444,94.11764705882352,12.5,50.0,44.44444444444444,25.0,23.52941176470588,22.22222222222222,25.0,12.5,62.5,14.285714285714285,87.5,50.0,64.28571428571429,50.0,50.0,42.857142857142854,78.57142857142857,30.76923076923077,50.0,28.57142857142857,71.42857142857143,64.28571428571429,40.0,0.0,100.0,20.0,40.0,60.0,66.66666666666666,66.66666666666666,66.66666666666666,73.33333333333333,73.33333333333333,46.666666666666664,46.666666666666664,6.666666666666667,80.0,53.333333333333336,30.76923076923077,26.666666666666668,71.42857142857143,53.333333333333336,53.84615384615385,85.71428571428571,42.857142857142854,71.42857142857143,42.857142857142854,85.71428571428571,57.14285714285714,47.368421052631575,70.0,19.047619047619047,52.94117647058824,75.0,19.047619047619047,42.857142857142854,57.14285714285714,37.5,63.63636363636363,38.88888888888889,21.052631578947366,45.0,54.54545454545454,9.090909090909092,66.66666666666666,0.0,14.285714285714285,14.285714285714285,25.0,14.285714285714285,14.285714285714285],\"type\":\"scatter\"},{\"marker\":{\"color\":\"#003f5c\"},\"mode\":\"markers\",\"name\":\"Male\",\"x\":[5.6,7.1,4.8,8.2,5.7,5.6,6.7,5.1,7.7,7.5,4.166666666666667,3.7777777777777777,5.055555555555555,4.277777777777778,4.944444444444445,5.277777777777778,7.666666666666667,4.055555555555555,6.777777777777778,6.529411764705882,6.0,5.388888888888889,3.8333333333333335,6.9411764705882355,4.444444444444445,6.333333333333333,5.625,6.5,5.75,7.375,6.125,4.875,6.625,6.375,5.875,5.25,3.6666666666666665,4.666666666666667,4.388888888888889,7.166666666666667,5.611111111111111,7.833333333333333,4.764705882352941,4.0,4.111111111111111,6.222222222222222,6.877777777777777,6.277777777777778,5.111111111111111,6.888888888888889,7.166666666666667,5.833333333333333,5.5,4.777777777777778,7.777777777777778,6.266666666666667,3.7777777777777777,8.0,6.111111111111111,7.333333333333333,7.875,6.222222222222222,7.333333333333333,4.428571428571429,7.333333333333333,7.5,6.25,8.0,5.75,4.5625,4.125,7.375,7.75,5.75,6.875,6.6875,7.375,6.875,5.9375,4.875,8.0625,4.4,5.8125,6.9375,6.125,6.2,5.0,5.222222222222222,4.0,4.4,5.4,6.7,6.5,6.5,6.1,5.7,6.9,3.6,7.8,5.388888888888889,7.5,5.25,6.05,3.2,5.35,5.95,6.1,8.6,6.95,5.55,7.2631578947368425,5.7,5.95,5.0,5.611111111111111,5.666666666666667,6.333333333333333,4.777777777777778,4.111111111111111,4.0,7.0,4.222222222222222,6.777777777777778,4.777777777777778,5.857142857142857,5.619047619047619,6.25,5.809523809523809,6.523809523809524,4.476190476190476,7.023809523809524,4.857142857142857,5.523809523809524,6.476190476190476,5.1,5.809523809523809,4.571428571428571,5.25,4.35,6.0,6.095238095238095,6.571428571428571,5.095238095238095,7.333333333333333,5.619047619047619,5.071428571428571,6.642857142857143,6.3076923076923075,7.392857142857143,6.785714285714286,7.076923076923077,5.571428571428571,6.392857142857143,7.471428571428571,7.928571428571429,5.071428571428571,4.428571428571429,5.5,6.0,5.1,7.8,7.3,6.222222222222222,6.1,5.9,4.8,4.1875,5.352941176470588,5.111111111111111,6.421052631578948,6.8125,7.555555555555555,6.411764705882353,6.2,6.357142857142857,7.875,7.555555555555555,6.6,8.466666666666667,5.625,8.333333333333334,6.5,5.529411764705882,6.411764705882353,5.722222222222222,7.117647058823529,6.888888888888889,7.111111111111111,6.333333333333333,5.111111111111111,5.0,8.305555555555555,5.4375,6.0588235294117645,7.111111111111111,6.722222222222222,7.125,7.222222222222222,7.027777777777778,5.722222222222222,6.888888888888889,3.9375,6.6,6.0,5.0,3.5,3.2,5.8,6.2,7.5,8.4,6.6,6.1,6.3,8.4,6.5,6.1,7.1,7.9,7.7,5.6,2.8,4.2,3.888888888888889,7.0,4.5,4.166666666666667,5.833333333333333,7.0,6.4,5.285714285714286,5.866666666666666,4.285714285714286,4.266666666666667,5.533333333333333,3.6666666666666665,4.857142857142857,7.466666666666667,3.8428571428571425,7.666666666666667,7.333333333333333,7.285714285714286,5.733333333333333,4.8,3.8333333333333335,2.3333333333333335,6.5,6.5,4.666666666666667,6.0,5.833333333333333,4.454545454545454,3.8,5.714285714285714,5.454545454545454,5.9,6.6,6.2,5.842105263157895,5.0,4.2,4.5,5.0476190476190474,5.15,4.9,6.0,7.380952380952381,6.318181818181818,6.857142857142857,6.35,5.136363636363637,6.2,7.3],\"y\":[40.0,40.0,40.0,80.0,30.0,30.0,80.0,30.0,90.0,90.0,22.22222222222222,0.0,22.22222222222222,16.666666666666664,22.22222222222222,22.22222222222222,44.44444444444444,5.555555555555555,44.44444444444444,47.05882352941176,66.66666666666666,22.22222222222222,22.22222222222222,47.05882352941176,0.0,33.33333333333333,37.5,37.5,12.5,75.0,37.5,37.5,25.0,50.0,25.0,25.0,16.666666666666664,11.11111111111111,0.0,55.55555555555556,11.11111111111111,94.44444444444444,29.411764705882355,0.0,11.11111111111111,27.77777777777778,50.0,55.55555555555556,27.77777777777778,66.66666666666666,55.55555555555556,44.44444444444444,27.77777777777778,11.11111111111111,77.77777777777779,44.44444444444444,0.0,88.88888888888889,33.33333333333333,55.55555555555556,75.0,33.33333333333333,77.77777777777779,14.285714285714285,33.33333333333333,50.0,25.0,75.0,25.0,0.0,12.5,25.0,68.75,25.0,50.0,37.5,25.0,25.0,25.0,18.75,81.25,0.0,31.25,50.0,37.5,80.0,20.0,44.44444444444444,0.0,20.0,40.0,60.0,80.0,60.0,50.0,15.0,40.0,5.0,65.0,16.666666666666664,50.0,15.0,25.0,5.0,5.0,30.0,25.0,65.0,35.0,5.0,42.10526315789473,20.0,25.0,10.526315789473683,27.77777777777778,77.77777777777779,66.66666666666666,33.33333333333333,11.11111111111111,0.0,77.77777777777779,0.0,88.88888888888889,22.22222222222222,33.33333333333333,28.57142857142857,5.0,33.33333333333333,57.14285714285714,0.0,57.14285714285714,28.57142857142857,19.047619047619047,38.095238095238095,15.0,33.33333333333333,9.523809523809524,0.0,0.0,47.61904761904761,57.14285714285714,33.33333333333333,23.809523809523807,38.095238095238095,28.57142857142857,7.142857142857142,50.0,23.076923076923077,57.14285714285714,50.0,69.23076923076923,7.142857142857142,35.714285714285715,64.28571428571429,64.28571428571429,7.142857142857142,21.428571428571427,0.0,38.46153846153847,40.0,80.0,50.0,66.66666666666666,40.0,40.0,30.0,25.0,47.05882352941176,27.77777777777778,47.368421052631575,50.0,94.44444444444444,64.70588235294117,66.66666666666666,71.42857142857143,81.25,55.55555555555556,60.0,80.0,37.5,61.111111111111114,55.55555555555556,17.647058823529413,35.294117647058826,33.33333333333333,70.58823529411765,55.55555555555556,77.77777777777779,50.0,11.11111111111111,18.75,61.111111111111114,25.0,35.294117647058826,72.22222222222221,50.0,62.5,72.22222222222221,50.0,33.33333333333333,61.111111111111114,6.25,80.0,20.0,40.0,0.0,0.0,20.0,60.0,25.0,50.0,50.0,40.0,20.0,50.0,40.0,50.0,30.0,60.0,30.0,30.0,0.0,10.0,11.11111111111111,83.33333333333334,16.666666666666664,16.666666666666664,50.0,66.66666666666666,13.333333333333334,57.14285714285714,33.33333333333333,14.285714285714285,13.333333333333334,40.0,6.666666666666667,28.57142857142857,73.33333333333333,14.285714285714285,80.0,66.66666666666666,64.28571428571429,46.666666666666664,20.0,0.0,0.0,33.33333333333333,16.666666666666664,0.0,66.66666666666666,16.666666666666664,31.818181818181817,20.0,33.33333333333333,31.818181818181817,65.0,50.0,60.0,63.1578947368421,38.095238095238095,25.0,30.0,28.57142857142857,30.0,40.0,46.15384615384615,57.14285714285714,50.0,47.61904761904761,50.0,27.27272727272727,50.0,75.0],\"type\":\"scatter\"}],                        {\"barmode\":\"group\",\"paper_bgcolor\":\"#dadfe1\",\"plot_bgcolor\":\"#dadfe1\",\"title\":{\"text\":\"Influence of Average Attractiveness Rating Received on Second Date Success\"},\"xaxis\":{\"title\":{\"text\":\"Average Attractiveness Rating Received\"}},\"yaxis\":{\"title\":{\"text\":\"Perecentage of Successful Second Dates\"}},\"template\":{\"data\":{\"histogram2dcontour\":[{\"type\":\"histogram2dcontour\",\"colorbar\":{\"outlinewidth\":0,\"ticks\":\"\"},\"colorscale\":[[0.0,\"#0d0887\"],[0.1111111111111111,\"#46039f\"],[0.2222222222222222,\"#7201a8\"],[0.3333333333333333,\"#9c179e\"],[0.4444444444444444,\"#bd3786\"],[0.5555555555555556,\"#d8576b\"],[0.6666666666666666,\"#ed7953\"],[0.7777777777777778,\"#fb9f3a\"],[0.8888888888888888,\"#fdca26\"],[1.0,\"#f0f921\"]]}],\"choropleth\":[{\"type\":\"choropleth\",\"colorbar\":{\"outlinewidth\":0,\"ticks\":\"\"}}],\"histogram2d\":[{\"type\":\"histogram2d\",\"colorbar\":{\"outlinewidth\":0,\"ticks\":\"\"},\"colorscale\":[[0.0,\"#0d0887\"],[0.1111111111111111,\"#46039f\"],[0.2222222222222222,\"#7201a8\"],[0.3333333333333333,\"#9c179e\"],[0.4444444444444444,\"#bd3786\"],[0.5555555555555556,\"#d8576b\"],[0.6666666666666666,\"#ed7953\"],[0.7777777777777778,\"#fb9f3a\"],[0.8888888888888888,\"#fdca26\"],[1.0,\"#f0f921\"]]}],\"heatmap\":[{\"type\":\"heatmap\",\"colorbar\":{\"outlinewidth\":0,\"ticks\":\"\"},\"colorscale\":[[0.0,\"#0d0887\"],[0.1111111111111111,\"#46039f\"],[0.2222222222222222,\"#7201a8\"],[0.3333333333333333,\"#9c179e\"],[0.4444444444444444,\"#bd3786\"],[0.5555555555555556,\"#d8576b\"],[0.6666666666666666,\"#ed7953\"],[0.7777777777777778,\"#fb9f3a\"],[0.8888888888888888,\"#fdca26\"],[1.0,\"#f0f921\"]]}],\"heatmapgl\":[{\"type\":\"heatmapgl\",\"colorbar\":{\"outlinewidth\":0,\"ticks\":\"\"},\"colorscale\":[[0.0,\"#0d0887\"],[0.1111111111111111,\"#46039f\"],[0.2222222222222222,\"#7201a8\"],[0.3333333333333333,\"#9c179e\"],[0.4444444444444444,\"#bd3786\"],[0.5555555555555556,\"#d8576b\"],[0.6666666666666666,\"#ed7953\"],[0.7777777777777778,\"#fb9f3a\"],[0.8888888888888888,\"#fdca26\"],[1.0,\"#f0f921\"]]}],\"contourcarpet\":[{\"type\":\"contourcarpet\",\"colorbar\":{\"outlinewidth\":0,\"ticks\":\"\"}}],\"contour\":[{\"type\":\"contour\",\"colorbar\":{\"outlinewidth\":0,\"ticks\":\"\"},\"colorscale\":[[0.0,\"#0d0887\"],[0.1111111111111111,\"#46039f\"],[0.2222222222222222,\"#7201a8\"],[0.3333333333333333,\"#9c179e\"],[0.4444444444444444,\"#bd3786\"],[0.5555555555555556,\"#d8576b\"],[0.6666666666666666,\"#ed7953\"],[0.7777777777777778,\"#fb9f3a\"],[0.8888888888888888,\"#fdca26\"],[1.0,\"#f0f921\"]]}],\"surface\":[{\"type\":\"surface\",\"colorbar\":{\"outlinewidth\":0,\"ticks\":\"\"},\"colorscale\":[[0.0,\"#0d0887\"],[0.1111111111111111,\"#46039f\"],[0.2222222222222222,\"#7201a8\"],[0.3333333333333333,\"#9c179e\"],[0.4444444444444444,\"#bd3786\"],[0.5555555555555556,\"#d8576b\"],[0.6666666666666666,\"#ed7953\"],[0.7777777777777778,\"#fb9f3a\"],[0.8888888888888888,\"#fdca26\"],[1.0,\"#f0f921\"]]}],\"mesh3d\":[{\"type\":\"mesh3d\",\"colorbar\":{\"outlinewidth\":0,\"ticks\":\"\"}}],\"scatter\":[{\"fillpattern\":{\"fillmode\":\"overlay\",\"size\":10,\"solidity\":0.2},\"type\":\"scatter\"}],\"parcoords\":[{\"type\":\"parcoords\",\"line\":{\"colorbar\":{\"outlinewidth\":0,\"ticks\":\"\"}}}],\"scatterpolargl\":[{\"type\":\"scatterpolargl\",\"marker\":{\"colorbar\":{\"outlinewidth\":0,\"ticks\":\"\"}}}],\"bar\":[{\"error_x\":{\"color\":\"#2a3f5f\"},\"error_y\":{\"color\":\"#2a3f5f\"},\"marker\":{\"line\":{\"color\":\"#E5ECF6\",\"width\":0.5},\"pattern\":{\"fillmode\":\"overlay\",\"size\":10,\"solidity\":0.2}},\"type\":\"bar\"}],\"scattergeo\":[{\"type\":\"scattergeo\",\"marker\":{\"colorbar\":{\"outlinewidth\":0,\"ticks\":\"\"}}}],\"scatterpolar\":[{\"type\":\"scatterpolar\",\"marker\":{\"colorbar\":{\"outlinewidth\":0,\"ticks\":\"\"}}}],\"histogram\":[{\"marker\":{\"pattern\":{\"fillmode\":\"overlay\",\"size\":10,\"solidity\":0.2}},\"type\":\"histogram\"}],\"scattergl\":[{\"type\":\"scattergl\",\"marker\":{\"colorbar\":{\"outlinewidth\":0,\"ticks\":\"\"}}}],\"scatter3d\":[{\"type\":\"scatter3d\",\"line\":{\"colorbar\":{\"outlinewidth\":0,\"ticks\":\"\"}},\"marker\":{\"colorbar\":{\"outlinewidth\":0,\"ticks\":\"\"}}}],\"scattermapbox\":[{\"type\":\"scattermapbox\",\"marker\":{\"colorbar\":{\"outlinewidth\":0,\"ticks\":\"\"}}}],\"scatterternary\":[{\"type\":\"scatterternary\",\"marker\":{\"colorbar\":{\"outlinewidth\":0,\"ticks\":\"\"}}}],\"scattercarpet\":[{\"type\":\"scattercarpet\",\"marker\":{\"colorbar\":{\"outlinewidth\":0,\"ticks\":\"\"}}}],\"carpet\":[{\"aaxis\":{\"endlinecolor\":\"#2a3f5f\",\"gridcolor\":\"white\",\"linecolor\":\"white\",\"minorgridcolor\":\"white\",\"startlinecolor\":\"#2a3f5f\"},\"baxis\":{\"endlinecolor\":\"#2a3f5f\",\"gridcolor\":\"white\",\"linecolor\":\"white\",\"minorgridcolor\":\"white\",\"startlinecolor\":\"#2a3f5f\"},\"type\":\"carpet\"}],\"table\":[{\"cells\":{\"fill\":{\"color\":\"#EBF0F8\"},\"line\":{\"color\":\"white\"}},\"header\":{\"fill\":{\"color\":\"#C8D4E3\"},\"line\":{\"color\":\"white\"}},\"type\":\"table\"}],\"barpolar\":[{\"marker\":{\"line\":{\"color\":\"#E5ECF6\",\"width\":0.5},\"pattern\":{\"fillmode\":\"overlay\",\"size\":10,\"solidity\":0.2}},\"type\":\"barpolar\"}],\"pie\":[{\"automargin\":true,\"type\":\"pie\"}]},\"layout\":{\"autotypenumbers\":\"strict\",\"colorway\":[\"#636efa\",\"#EF553B\",\"#00cc96\",\"#ab63fa\",\"#FFA15A\",\"#19d3f3\",\"#FF6692\",\"#B6E880\",\"#FF97FF\",\"#FECB52\"],\"font\":{\"color\":\"#2a3f5f\"},\"hovermode\":\"closest\",\"hoverlabel\":{\"align\":\"left\"},\"paper_bgcolor\":\"white\",\"plot_bgcolor\":\"#E5ECF6\",\"polar\":{\"bgcolor\":\"#E5ECF6\",\"angularaxis\":{\"gridcolor\":\"white\",\"linecolor\":\"white\",\"ticks\":\"\"},\"radialaxis\":{\"gridcolor\":\"white\",\"linecolor\":\"white\",\"ticks\":\"\"}},\"ternary\":{\"bgcolor\":\"#E5ECF6\",\"aaxis\":{\"gridcolor\":\"white\",\"linecolor\":\"white\",\"ticks\":\"\"},\"baxis\":{\"gridcolor\":\"white\",\"linecolor\":\"white\",\"ticks\":\"\"},\"caxis\":{\"gridcolor\":\"white\",\"linecolor\":\"white\",\"ticks\":\"\"}},\"coloraxis\":{\"colorbar\":{\"outlinewidth\":0,\"ticks\":\"\"}},\"colorscale\":{\"sequential\":[[0.0,\"#0d0887\"],[0.1111111111111111,\"#46039f\"],[0.2222222222222222,\"#7201a8\"],[0.3333333333333333,\"#9c179e\"],[0.4444444444444444,\"#bd3786\"],[0.5555555555555556,\"#d8576b\"],[0.6666666666666666,\"#ed7953\"],[0.7777777777777778,\"#fb9f3a\"],[0.8888888888888888,\"#fdca26\"],[1.0,\"#f0f921\"]],\"sequentialminus\":[[0.0,\"#0d0887\"],[0.1111111111111111,\"#46039f\"],[0.2222222222222222,\"#7201a8\"],[0.3333333333333333,\"#9c179e\"],[0.4444444444444444,\"#bd3786\"],[0.5555555555555556,\"#d8576b\"],[0.6666666666666666,\"#ed7953\"],[0.7777777777777778,\"#fb9f3a\"],[0.8888888888888888,\"#fdca26\"],[1.0,\"#f0f921\"]],\"diverging\":[[0,\"#8e0152\"],[0.1,\"#c51b7d\"],[0.2,\"#de77ae\"],[0.3,\"#f1b6da\"],[0.4,\"#fde0ef\"],[0.5,\"#f7f7f7\"],[0.6,\"#e6f5d0\"],[0.7,\"#b8e186\"],[0.8,\"#7fbc41\"],[0.9,\"#4d9221\"],[1,\"#276419\"]]},\"xaxis\":{\"gridcolor\":\"white\",\"linecolor\":\"white\",\"ticks\":\"\",\"title\":{\"standoff\":15},\"zerolinecolor\":\"white\",\"automargin\":true,\"zerolinewidth\":2},\"yaxis\":{\"gridcolor\":\"white\",\"linecolor\":\"white\",\"ticks\":\"\",\"title\":{\"standoff\":15},\"zerolinecolor\":\"white\",\"automargin\":true,\"zerolinewidth\":2},\"scene\":{\"xaxis\":{\"backgroundcolor\":\"#E5ECF6\",\"gridcolor\":\"white\",\"linecolor\":\"white\",\"showbackground\":true,\"ticks\":\"\",\"zerolinecolor\":\"white\",\"gridwidth\":2},\"yaxis\":{\"backgroundcolor\":\"#E5ECF6\",\"gridcolor\":\"white\",\"linecolor\":\"white\",\"showbackground\":true,\"ticks\":\"\",\"zerolinecolor\":\"white\",\"gridwidth\":2},\"zaxis\":{\"backgroundcolor\":\"#E5ECF6\",\"gridcolor\":\"white\",\"linecolor\":\"white\",\"showbackground\":true,\"ticks\":\"\",\"zerolinecolor\":\"white\",\"gridwidth\":2}},\"shapedefaults\":{\"line\":{\"color\":\"#2a3f5f\"}},\"annotationdefaults\":{\"arrowcolor\":\"#2a3f5f\",\"arrowhead\":0,\"arrowwidth\":1},\"geo\":{\"bgcolor\":\"white\",\"landcolor\":\"#E5ECF6\",\"subunitcolor\":\"white\",\"showland\":true,\"showlakes\":true,\"lakecolor\":\"white\"},\"title\":{\"x\":0.05},\"mapbox\":{\"style\":\"light\"}}}},                        {\"responsive\": true}                    ).then(function(){\n",
       "                            \n",
       "var gd = document.getElementById('b440f3ea-ed0a-4edf-b146-a2164a060b99');\n",
       "var x = new MutationObserver(function (mutations, observer) {{\n",
       "        var display = window.getComputedStyle(gd).display;\n",
       "        if (!display || display === 'none') {{\n",
       "            console.log([gd, 'removed!']);\n",
       "            Plotly.purge(gd);\n",
       "            observer.disconnect();\n",
       "        }}\n",
       "}});\n",
       "\n",
       "// Listen for the removal of the full notebook cells\n",
       "var notebookContainer = gd.closest('#notebook-container');\n",
       "if (notebookContainer) {{\n",
       "    x.observe(notebookContainer, {childList: true});\n",
       "}}\n",
       "\n",
       "// Listen for the clearing of the current output cell\n",
       "var outputEl = gd.closest('.output');\n",
       "if (outputEl) {{\n",
       "    x.observe(outputEl, {childList: true});\n",
       "}}\n",
       "\n",
       "                        })                };                });            </script>        </div>"
      ]
     },
     "metadata": {},
     "output_type": "display_data"
    },
    {
     "name": "stdout",
     "output_type": "stream",
     "text": [
      "Average attractiveness plot completed. It took 0.0239 seconds.\n"
     ]
    }
   ],
   "source": [
    "# Running the feature importance of attributes on second date success with timings\n",
    "start_time = time.time()\n",
    "\n",
    "avg_attr_data = fetch_avg_attr_data(database_path)\n",
    "traces = create_scatter_traces(avg_attr_data)\n",
    "\n",
    "# Structuring the layout with titles and colours\n",
    "layout = go.Layout(\n",
    "    title='Influence of Average Attractiveness Rating Received on Second Date Success',\n",
    "    xaxis=dict(title='Average Attractiveness Rating Received'),\n",
    "    yaxis=dict(title='Perecentage of Successful Second Dates'),\n",
    "    barmode='group',\n",
    "    plot_bgcolor='#dadfe1',\n",
    "    paper_bgcolor='#dadfe1'\n",
    ")\n",
    "\n",
    "# Create figure\n",
    "fig = go.Figure(data=traces, layout=layout)\n",
    "\n",
    "# Show the plot\n",
    "fig.show()\n",
    "          \n",
    "end_time = round(time.time() - start_time, 4)\n",
    "\n",
    "print(f'Average attractiveness plot completed. It took {end_time} seconds.')"
   ]
  },
  {
   "cell_type": "markdown",
   "id": "5f6dc36f",
   "metadata": {},
   "source": [
    "In the above plot we see a compelling correlation between a high attractiveness rating and second date success. An attractiveness rating of 5.5 - 6.5 exhibited 50% success.\n",
    "\n",
    "Additionally, we see a difference in attractiveness ratings received by gender. Lower attractivenes ratings are predominantly made up by men where as the higher attractiveness ratings are primarily women.\n",
    "\n",
    "This scatter plot does indeed highlight the importance of attractiveness in second date success. However, is second date success based solely on the attractiveness rating you receive?"
   ]
  }
 ],
 "metadata": {
  "kernelspec": {
   "display_name": "Python 3 (ipykernel)",
   "language": "python",
   "name": "python3"
  },
  "language_info": {
   "codemirror_mode": {
    "name": "ipython",
    "version": 3
   },
   "file_extension": ".py",
   "mimetype": "text/x-python",
   "name": "python",
   "nbconvert_exporter": "python",
   "pygments_lexer": "ipython3",
   "version": "3.9.13"
  }
 },
 "nbformat": 4,
 "nbformat_minor": 5
}
